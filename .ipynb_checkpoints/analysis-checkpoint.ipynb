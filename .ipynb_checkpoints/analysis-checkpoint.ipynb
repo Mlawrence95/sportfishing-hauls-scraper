{
 "cells": [
  {
   "cell_type": "code",
   "execution_count": 1,
   "metadata": {},
   "outputs": [],
   "source": [
    "import datetime\n",
    "import os\n",
    "\n",
    "import pandas as pd\n",
    "import numpy as np\n",
    "import matplotlib.pyplot as plt\n",
    "\n",
    "# from db_utils.db_queries import sql_all_reports_with_weather\n",
    "# from db_utils.mysql_db_connection import get_mysql_connection\n",
    "\n",
    "from webscraping.scrape_fishing_data import clean_string"
   ]
  },
  {
   "cell_type": "markdown",
   "metadata": {},
   "source": [
    "## Read and format the data"
   ]
  },
  {
   "cell_type": "code",
   "execution_count": 2,
   "metadata": {},
   "outputs": [],
   "source": [
    "fishing_data = pd.read_csv(\"./raw_fishing_data.csv\")"
   ]
  },
  {
   "cell_type": "code",
   "execution_count": 3,
   "metadata": {},
   "outputs": [
    {
     "data": {
      "text/html": [
       "<div>\n",
       "<style scoped>\n",
       "    .dataframe tbody tr th:only-of-type {\n",
       "        vertical-align: middle;\n",
       "    }\n",
       "\n",
       "    .dataframe tbody tr th {\n",
       "        vertical-align: top;\n",
       "    }\n",
       "\n",
       "    .dataframe thead th {\n",
       "        text-align: right;\n",
       "    }\n",
       "</style>\n",
       "<table border=\"1\" class=\"dataframe\">\n",
       "  <thead>\n",
       "    <tr style=\"text-align: right;\">\n",
       "      <th></th>\n",
       "      <th>date_posted</th>\n",
       "      <th>headline</th>\n",
       "      <th>post_body</th>\n",
       "      <th>low_temp</th>\n",
       "      <th>avg_temp</th>\n",
       "      <th>high_temp</th>\n",
       "      <th>inches_precip</th>\n",
       "      <th>miles_visible</th>\n",
       "      <th>max_wind</th>\n",
       "      <th>sea_pressure</th>\n",
       "    </tr>\n",
       "  </thead>\n",
       "  <tbody>\n",
       "    <tr>\n",
       "      <th>0</th>\n",
       "      <td>2020-12-17</td>\n",
       "      <td>ON THE HUNT</td>\n",
       "      <td>We were on the hunt for Yellowtail today but n...</td>\n",
       "      <td>46.0</td>\n",
       "      <td>57.34</td>\n",
       "      <td>64.0</td>\n",
       "      <td>0.0</td>\n",
       "      <td>10.0</td>\n",
       "      <td>10.0</td>\n",
       "      <td>30.08</td>\n",
       "    </tr>\n",
       "    <tr>\n",
       "      <th>1</th>\n",
       "      <td>2020-12-18</td>\n",
       "      <td>SCRATCHING AWAY</td>\n",
       "      <td>Searched for Yellowtail again today to find no...</td>\n",
       "      <td>52.0</td>\n",
       "      <td>58.04</td>\n",
       "      <td>66.0</td>\n",
       "      <td>0.0</td>\n",
       "      <td>10.0</td>\n",
       "      <td>9.0</td>\n",
       "      <td>30.23</td>\n",
       "    </tr>\n",
       "  </tbody>\n",
       "</table>\n",
       "</div>"
      ],
      "text/plain": [
       "  date_posted         headline  \\\n",
       "0  2020-12-17      ON THE HUNT   \n",
       "1  2020-12-18  SCRATCHING AWAY   \n",
       "\n",
       "                                           post_body  low_temp  avg_temp  \\\n",
       "0  We were on the hunt for Yellowtail today but n...      46.0     57.34   \n",
       "1  Searched for Yellowtail again today to find no...      52.0     58.04   \n",
       "\n",
       "   high_temp  inches_precip  miles_visible  max_wind  sea_pressure  \n",
       "0       64.0            0.0           10.0      10.0         30.08  \n",
       "1       66.0            0.0           10.0       9.0         30.23  "
      ]
     },
     "execution_count": 3,
     "metadata": {},
     "output_type": "execute_result"
    }
   ],
   "source": [
    "fishing_data.head(2)"
   ]
  },
  {
   "cell_type": "code",
   "execution_count": 4,
   "metadata": {},
   "outputs": [],
   "source": [
    "# convert the date to a date object for consistency in our analysis + make pandas happy\n",
    "fishing_data.loc[:, 'date_posted'] = pd.to_datetime(fishing_data.loc[:, 'date_posted'], format=\"%Y-%m-%d\", cache=True)\n",
    "\n",
    "# clean punctuation from the post bodies. makes our lives harder and doesnt contribute much\n",
    "fishing_data.loc[:, 'post_body'] = fishing_data.loc[:, 'post_body'].astype(str).apply(clean_string)"
   ]
  },
  {
   "cell_type": "markdown",
   "metadata": {},
   "source": [
    "## Check for duplicate rows "
   ]
  },
  {
   "cell_type": "code",
   "execution_count": 5,
   "metadata": {
    "scrolled": true
   },
   "outputs": [
    {
     "data": {
      "text/html": [
       "<div>\n",
       "<style scoped>\n",
       "    .dataframe tbody tr th:only-of-type {\n",
       "        vertical-align: middle;\n",
       "    }\n",
       "\n",
       "    .dataframe tbody tr th {\n",
       "        vertical-align: top;\n",
       "    }\n",
       "\n",
       "    .dataframe thead th {\n",
       "        text-align: right;\n",
       "    }\n",
       "</style>\n",
       "<table border=\"1\" class=\"dataframe\">\n",
       "  <thead>\n",
       "    <tr style=\"text-align: right;\">\n",
       "      <th></th>\n",
       "      <th>date_posted</th>\n",
       "      <th>headline</th>\n",
       "      <th>post_body</th>\n",
       "      <th>low_temp</th>\n",
       "      <th>avg_temp</th>\n",
       "      <th>high_temp</th>\n",
       "      <th>inches_precip</th>\n",
       "      <th>miles_visible</th>\n",
       "      <th>max_wind</th>\n",
       "      <th>sea_pressure</th>\n",
       "    </tr>\n",
       "  </thead>\n",
       "  <tbody>\n",
       "    <tr>\n",
       "      <th>2548</th>\n",
       "      <td>2007-08-30</td>\n",
       "      <td>Indy Sportfishing Fish Report 08-30-07</td>\n",
       "      <td>Here is the report for today We fished for alb...</td>\n",
       "      <td>71.0</td>\n",
       "      <td>74.35</td>\n",
       "      <td>80.0</td>\n",
       "      <td>0.0</td>\n",
       "      <td>10.0</td>\n",
       "      <td>9.0</td>\n",
       "      <td>29.87</td>\n",
       "    </tr>\n",
       "    <tr>\n",
       "      <th>2547</th>\n",
       "      <td>2007-08-30</td>\n",
       "      <td>Indy Sportfishing Fish Report 08-30-07</td>\n",
       "      <td>Here is the report for today We fished for alb...</td>\n",
       "      <td>71.0</td>\n",
       "      <td>74.35</td>\n",
       "      <td>80.0</td>\n",
       "      <td>0.0</td>\n",
       "      <td>10.0</td>\n",
       "      <td>9.0</td>\n",
       "      <td>29.87</td>\n",
       "    </tr>\n",
       "    <tr>\n",
       "      <th>2478</th>\n",
       "      <td>2007-12-02</td>\n",
       "      <td>Indy Sportfishing Fish Report 12-02-07</td>\n",
       "      <td>Good evening we had another great day at the b...</td>\n",
       "      <td>48.0</td>\n",
       "      <td>54.43</td>\n",
       "      <td>60.0</td>\n",
       "      <td>0.0</td>\n",
       "      <td>10.0</td>\n",
       "      <td>12.0</td>\n",
       "      <td>30.41</td>\n",
       "    </tr>\n",
       "    <tr>\n",
       "      <th>2477</th>\n",
       "      <td>2007-12-02</td>\n",
       "      <td>Indy Sportfishing Fish Report 12-02-07</td>\n",
       "      <td>Good evening we had another great day at the b...</td>\n",
       "      <td>48.0</td>\n",
       "      <td>54.43</td>\n",
       "      <td>60.0</td>\n",
       "      <td>0.0</td>\n",
       "      <td>10.0</td>\n",
       "      <td>12.0</td>\n",
       "      <td>30.41</td>\n",
       "    </tr>\n",
       "    <tr>\n",
       "      <th>2354</th>\n",
       "      <td>2008-08-26</td>\n",
       "      <td>Independence Sportfishing Fish Report</td>\n",
       "      <td>Good day heres an update from our trip so far ...</td>\n",
       "      <td>69.0</td>\n",
       "      <td>71.16</td>\n",
       "      <td>75.0</td>\n",
       "      <td>0.0</td>\n",
       "      <td>10.0</td>\n",
       "      <td>9.0</td>\n",
       "      <td>29.81</td>\n",
       "    </tr>\n",
       "    <tr>\n",
       "      <th>2353</th>\n",
       "      <td>2008-08-26</td>\n",
       "      <td>Independence Sportfishing Fish Report</td>\n",
       "      <td>Good day heres an update from our trip so far ...</td>\n",
       "      <td>69.0</td>\n",
       "      <td>71.16</td>\n",
       "      <td>75.0</td>\n",
       "      <td>0.0</td>\n",
       "      <td>10.0</td>\n",
       "      <td>9.0</td>\n",
       "      <td>29.81</td>\n",
       "    </tr>\n",
       "    <tr>\n",
       "      <th>2336</th>\n",
       "      <td>2008-10-03</td>\n",
       "      <td>Independence Fish Report for Oct. 3, 2008</td>\n",
       "      <td>Well today we continued our hunt down into the...</td>\n",
       "      <td>66.0</td>\n",
       "      <td>68.45</td>\n",
       "      <td>70.0</td>\n",
       "      <td>0.0</td>\n",
       "      <td>10.0</td>\n",
       "      <td>12.0</td>\n",
       "      <td>29.90</td>\n",
       "    </tr>\n",
       "    <tr>\n",
       "      <th>2335</th>\n",
       "      <td>2008-10-03</td>\n",
       "      <td>Independence Fish Report for Oct. 3, 2008</td>\n",
       "      <td>Well today we continued our hunt down into the...</td>\n",
       "      <td>66.0</td>\n",
       "      <td>68.45</td>\n",
       "      <td>70.0</td>\n",
       "      <td>0.0</td>\n",
       "      <td>10.0</td>\n",
       "      <td>12.0</td>\n",
       "      <td>29.90</td>\n",
       "    </tr>\n",
       "    <tr>\n",
       "      <th>2332</th>\n",
       "      <td>2008-10-06</td>\n",
       "      <td>Independence Fish Report for Oct. 06, 2008</td>\n",
       "      <td>Hello Here is the final report for our trip To...</td>\n",
       "      <td>62.0</td>\n",
       "      <td>69.52</td>\n",
       "      <td>79.0</td>\n",
       "      <td>0.0</td>\n",
       "      <td>10.0</td>\n",
       "      <td>13.0</td>\n",
       "      <td>29.96</td>\n",
       "    </tr>\n",
       "    <tr>\n",
       "      <th>2331</th>\n",
       "      <td>2008-10-06</td>\n",
       "      <td>Independence Fish Report for Oct. 06, 2008</td>\n",
       "      <td>Hello Here is the final report for our trip To...</td>\n",
       "      <td>62.0</td>\n",
       "      <td>69.52</td>\n",
       "      <td>79.0</td>\n",
       "      <td>0.0</td>\n",
       "      <td>10.0</td>\n",
       "      <td>13.0</td>\n",
       "      <td>29.96</td>\n",
       "    </tr>\n",
       "    <tr>\n",
       "      <th>2283</th>\n",
       "      <td>2008-12-05</td>\n",
       "      <td>Independence Fish Report for Dec. 05, 2008</td>\n",
       "      <td>Hello again Today was well today was not good ...</td>\n",
       "      <td>54.0</td>\n",
       "      <td>61.09</td>\n",
       "      <td>70.0</td>\n",
       "      <td>0.0</td>\n",
       "      <td>10.0</td>\n",
       "      <td>8.0</td>\n",
       "      <td>30.15</td>\n",
       "    </tr>\n",
       "    <tr>\n",
       "      <th>2282</th>\n",
       "      <td>2008-12-05</td>\n",
       "      <td>Independence Fish Report for Dec. 05, 2008</td>\n",
       "      <td>Hello again Today was well today was not good ...</td>\n",
       "      <td>54.0</td>\n",
       "      <td>61.09</td>\n",
       "      <td>70.0</td>\n",
       "      <td>0.0</td>\n",
       "      <td>10.0</td>\n",
       "      <td>8.0</td>\n",
       "      <td>30.15</td>\n",
       "    </tr>\n",
       "    <tr>\n",
       "      <th>1827</th>\n",
       "      <td>2011-09-09</td>\n",
       "      <td>Indy Arrives</td>\n",
       "      <td>The Indy will dock at Point Loma Sportfishing ...</td>\n",
       "      <td>63.0</td>\n",
       "      <td>65.50</td>\n",
       "      <td>68.0</td>\n",
       "      <td>0.0</td>\n",
       "      <td>10.0</td>\n",
       "      <td>12.0</td>\n",
       "      <td>29.86</td>\n",
       "    </tr>\n",
       "    <tr>\n",
       "      <th>1826</th>\n",
       "      <td>2011-09-09</td>\n",
       "      <td>Indy Arrives</td>\n",
       "      <td>The Indy will dock at Point Loma Sportfishing ...</td>\n",
       "      <td>63.0</td>\n",
       "      <td>65.50</td>\n",
       "      <td>68.0</td>\n",
       "      <td>0.0</td>\n",
       "      <td>10.0</td>\n",
       "      <td>12.0</td>\n",
       "      <td>29.86</td>\n",
       "    </tr>\n",
       "    <tr>\n",
       "      <th>1738</th>\n",
       "      <td>2012-04-17</td>\n",
       "      <td>ANOTHER BANNER DAY!</td>\n",
       "      <td>ANOTHER BANNER DAY Things are going well down ...</td>\n",
       "      <td>54.0</td>\n",
       "      <td>61.00</td>\n",
       "      <td>71.0</td>\n",
       "      <td>0.0</td>\n",
       "      <td>10.0</td>\n",
       "      <td>13.0</td>\n",
       "      <td>30.08</td>\n",
       "    </tr>\n",
       "    <tr>\n",
       "      <th>1737</th>\n",
       "      <td>2012-04-17</td>\n",
       "      <td>ANOTHER BANNER DAY!</td>\n",
       "      <td>ANOTHER BANNER DAY Things are going well down ...</td>\n",
       "      <td>54.0</td>\n",
       "      <td>61.00</td>\n",
       "      <td>71.0</td>\n",
       "      <td>0.0</td>\n",
       "      <td>10.0</td>\n",
       "      <td>13.0</td>\n",
       "      <td>30.08</td>\n",
       "    </tr>\n",
       "    <tr>\n",
       "      <th>1345</th>\n",
       "      <td>2013-11-14</td>\n",
       "      <td>ANOTHER QUICK TURNAROUND...</td>\n",
       "      <td>The Indy returned this morning with a beautifu...</td>\n",
       "      <td>60.0</td>\n",
       "      <td>65.24</td>\n",
       "      <td>78.0</td>\n",
       "      <td>0.0</td>\n",
       "      <td>10.0</td>\n",
       "      <td>14.0</td>\n",
       "      <td>29.90</td>\n",
       "    </tr>\n",
       "    <tr>\n",
       "      <th>1344</th>\n",
       "      <td>2013-11-14</td>\n",
       "      <td>ANOTHER QUICK TURNAROUND...</td>\n",
       "      <td>The Indy returned this morning with a beautifu...</td>\n",
       "      <td>60.0</td>\n",
       "      <td>65.24</td>\n",
       "      <td>78.0</td>\n",
       "      <td>0.0</td>\n",
       "      <td>10.0</td>\n",
       "      <td>14.0</td>\n",
       "      <td>29.90</td>\n",
       "    </tr>\n",
       "    <tr>\n",
       "      <th>1342</th>\n",
       "      <td>2013-11-17</td>\n",
       "      <td>UPDATE....</td>\n",
       "      <td>We have had a very pleasant ride down to the f...</td>\n",
       "      <td>58.0</td>\n",
       "      <td>62.63</td>\n",
       "      <td>66.0</td>\n",
       "      <td>0.0</td>\n",
       "      <td>10.0</td>\n",
       "      <td>12.0</td>\n",
       "      <td>30.07</td>\n",
       "    </tr>\n",
       "    <tr>\n",
       "      <th>1341</th>\n",
       "      <td>2013-11-17</td>\n",
       "      <td>UPDATE....</td>\n",
       "      <td>We have had a very pleasant ride down to the f...</td>\n",
       "      <td>58.0</td>\n",
       "      <td>62.63</td>\n",
       "      <td>66.0</td>\n",
       "      <td>0.0</td>\n",
       "      <td>10.0</td>\n",
       "      <td>12.0</td>\n",
       "      <td>30.07</td>\n",
       "    </tr>\n",
       "    <tr>\n",
       "      <th>1080</th>\n",
       "      <td>2015-06-15</td>\n",
       "      <td>CHECKING IN.........</td>\n",
       "      <td>Good day to all from the independence we depar...</td>\n",
       "      <td>64.0</td>\n",
       "      <td>67.30</td>\n",
       "      <td>72.0</td>\n",
       "      <td>0.0</td>\n",
       "      <td>10.0</td>\n",
       "      <td>9.0</td>\n",
       "      <td>29.87</td>\n",
       "    </tr>\n",
       "    <tr>\n",
       "      <th>1079</th>\n",
       "      <td>2015-06-15</td>\n",
       "      <td>CHECKING IN.........</td>\n",
       "      <td>Good day to all from the independence we depar...</td>\n",
       "      <td>64.0</td>\n",
       "      <td>67.30</td>\n",
       "      <td>72.0</td>\n",
       "      <td>0.0</td>\n",
       "      <td>10.0</td>\n",
       "      <td>9.0</td>\n",
       "      <td>29.87</td>\n",
       "    </tr>\n",
       "    <tr>\n",
       "      <th>967</th>\n",
       "      <td>2015-10-23</td>\n",
       "      <td>Tunaholics are out.....</td>\n",
       "      <td>Yesterday we departed on our annual 10 day tun...</td>\n",
       "      <td>65.0</td>\n",
       "      <td>70.92</td>\n",
       "      <td>78.0</td>\n",
       "      <td>0.0</td>\n",
       "      <td>10.0</td>\n",
       "      <td>13.0</td>\n",
       "      <td>29.97</td>\n",
       "    </tr>\n",
       "    <tr>\n",
       "      <th>966</th>\n",
       "      <td>2015-10-23</td>\n",
       "      <td>Tunaholics are out.....</td>\n",
       "      <td>Yesterday we departed on our annual 10 day tun...</td>\n",
       "      <td>65.0</td>\n",
       "      <td>70.92</td>\n",
       "      <td>78.0</td>\n",
       "      <td>0.0</td>\n",
       "      <td>10.0</td>\n",
       "      <td>13.0</td>\n",
       "      <td>29.97</td>\n",
       "    </tr>\n",
       "  </tbody>\n",
       "</table>\n",
       "</div>"
      ],
      "text/plain": [
       "     date_posted                                    headline  \\\n",
       "2548  2007-08-30      Indy Sportfishing Fish Report 08-30-07   \n",
       "2547  2007-08-30      Indy Sportfishing Fish Report 08-30-07   \n",
       "2478  2007-12-02      Indy Sportfishing Fish Report 12-02-07   \n",
       "2477  2007-12-02      Indy Sportfishing Fish Report 12-02-07   \n",
       "2354  2008-08-26       Independence Sportfishing Fish Report   \n",
       "2353  2008-08-26       Independence Sportfishing Fish Report   \n",
       "2336  2008-10-03   Independence Fish Report for Oct. 3, 2008   \n",
       "2335  2008-10-03   Independence Fish Report for Oct. 3, 2008   \n",
       "2332  2008-10-06  Independence Fish Report for Oct. 06, 2008   \n",
       "2331  2008-10-06  Independence Fish Report for Oct. 06, 2008   \n",
       "2283  2008-12-05  Independence Fish Report for Dec. 05, 2008   \n",
       "2282  2008-12-05  Independence Fish Report for Dec. 05, 2008   \n",
       "1827  2011-09-09                                Indy Arrives   \n",
       "1826  2011-09-09                                Indy Arrives   \n",
       "1738  2012-04-17                        ANOTHER BANNER DAY!    \n",
       "1737  2012-04-17                        ANOTHER BANNER DAY!    \n",
       "1345  2013-11-14                 ANOTHER QUICK TURNAROUND...   \n",
       "1344  2013-11-14                 ANOTHER QUICK TURNAROUND...   \n",
       "1342  2013-11-17                                  UPDATE....   \n",
       "1341  2013-11-17                                  UPDATE....   \n",
       "1080  2015-06-15                        CHECKING IN.........   \n",
       "1079  2015-06-15                        CHECKING IN.........   \n",
       "967   2015-10-23                     Tunaholics are out.....   \n",
       "966   2015-10-23                     Tunaholics are out.....   \n",
       "\n",
       "                                              post_body  low_temp  avg_temp  \\\n",
       "2548  Here is the report for today We fished for alb...      71.0     74.35   \n",
       "2547  Here is the report for today We fished for alb...      71.0     74.35   \n",
       "2478  Good evening we had another great day at the b...      48.0     54.43   \n",
       "2477  Good evening we had another great day at the b...      48.0     54.43   \n",
       "2354  Good day heres an update from our trip so far ...      69.0     71.16   \n",
       "2353  Good day heres an update from our trip so far ...      69.0     71.16   \n",
       "2336  Well today we continued our hunt down into the...      66.0     68.45   \n",
       "2335  Well today we continued our hunt down into the...      66.0     68.45   \n",
       "2332  Hello Here is the final report for our trip To...      62.0     69.52   \n",
       "2331  Hello Here is the final report for our trip To...      62.0     69.52   \n",
       "2283  Hello again Today was well today was not good ...      54.0     61.09   \n",
       "2282  Hello again Today was well today was not good ...      54.0     61.09   \n",
       "1827  The Indy will dock at Point Loma Sportfishing ...      63.0     65.50   \n",
       "1826  The Indy will dock at Point Loma Sportfishing ...      63.0     65.50   \n",
       "1738  ANOTHER BANNER DAY Things are going well down ...      54.0     61.00   \n",
       "1737  ANOTHER BANNER DAY Things are going well down ...      54.0     61.00   \n",
       "1345  The Indy returned this morning with a beautifu...      60.0     65.24   \n",
       "1344  The Indy returned this morning with a beautifu...      60.0     65.24   \n",
       "1342  We have had a very pleasant ride down to the f...      58.0     62.63   \n",
       "1341  We have had a very pleasant ride down to the f...      58.0     62.63   \n",
       "1080  Good day to all from the independence we depar...      64.0     67.30   \n",
       "1079  Good day to all from the independence we depar...      64.0     67.30   \n",
       "967   Yesterday we departed on our annual 10 day tun...      65.0     70.92   \n",
       "966   Yesterday we departed on our annual 10 day tun...      65.0     70.92   \n",
       "\n",
       "      high_temp  inches_precip  miles_visible  max_wind  sea_pressure  \n",
       "2548       80.0            0.0           10.0       9.0         29.87  \n",
       "2547       80.0            0.0           10.0       9.0         29.87  \n",
       "2478       60.0            0.0           10.0      12.0         30.41  \n",
       "2477       60.0            0.0           10.0      12.0         30.41  \n",
       "2354       75.0            0.0           10.0       9.0         29.81  \n",
       "2353       75.0            0.0           10.0       9.0         29.81  \n",
       "2336       70.0            0.0           10.0      12.0         29.90  \n",
       "2335       70.0            0.0           10.0      12.0         29.90  \n",
       "2332       79.0            0.0           10.0      13.0         29.96  \n",
       "2331       79.0            0.0           10.0      13.0         29.96  \n",
       "2283       70.0            0.0           10.0       8.0         30.15  \n",
       "2282       70.0            0.0           10.0       8.0         30.15  \n",
       "1827       68.0            0.0           10.0      12.0         29.86  \n",
       "1826       68.0            0.0           10.0      12.0         29.86  \n",
       "1738       71.0            0.0           10.0      13.0         30.08  \n",
       "1737       71.0            0.0           10.0      13.0         30.08  \n",
       "1345       78.0            0.0           10.0      14.0         29.90  \n",
       "1344       78.0            0.0           10.0      14.0         29.90  \n",
       "1342       66.0            0.0           10.0      12.0         30.07  \n",
       "1341       66.0            0.0           10.0      12.0         30.07  \n",
       "1080       72.0            0.0           10.0       9.0         29.87  \n",
       "1079       72.0            0.0           10.0       9.0         29.87  \n",
       "967        78.0            0.0           10.0      13.0         29.97  \n",
       "966        78.0            0.0           10.0      13.0         29.97  "
      ]
     },
     "execution_count": 5,
     "metadata": {},
     "output_type": "execute_result"
    }
   ],
   "source": [
    "fishing_data.loc[fishing_data.duplicated(subset=['headline', 'post_body', 'date_posted'], keep=False)].sort_values(\"date_posted\")"
   ]
  },
  {
   "cell_type": "markdown",
   "metadata": {},
   "source": [
    "There are 13 duplicate posts that leaked into the data. We'll get rid of these so they don't skew any of our analysis."
   ]
  },
  {
   "cell_type": "code",
   "execution_count": 6,
   "metadata": {},
   "outputs": [
    {
     "data": {
      "text/html": [
       "<div>\n",
       "<style scoped>\n",
       "    .dataframe tbody tr th:only-of-type {\n",
       "        vertical-align: middle;\n",
       "    }\n",
       "\n",
       "    .dataframe tbody tr th {\n",
       "        vertical-align: top;\n",
       "    }\n",
       "\n",
       "    .dataframe thead th {\n",
       "        text-align: right;\n",
       "    }\n",
       "</style>\n",
       "<table border=\"1\" class=\"dataframe\">\n",
       "  <thead>\n",
       "    <tr style=\"text-align: right;\">\n",
       "      <th></th>\n",
       "      <th>date_posted</th>\n",
       "      <th>headline</th>\n",
       "      <th>post_body</th>\n",
       "      <th>low_temp</th>\n",
       "      <th>avg_temp</th>\n",
       "      <th>high_temp</th>\n",
       "      <th>inches_precip</th>\n",
       "      <th>miles_visible</th>\n",
       "      <th>max_wind</th>\n",
       "      <th>sea_pressure</th>\n",
       "    </tr>\n",
       "  </thead>\n",
       "  <tbody>\n",
       "    <tr>\n",
       "      <th>0</th>\n",
       "      <td>2020-12-17</td>\n",
       "      <td>ON THE HUNT</td>\n",
       "      <td>We were on the hunt for Yellowtail today but n...</td>\n",
       "      <td>46.0</td>\n",
       "      <td>57.34</td>\n",
       "      <td>64.0</td>\n",
       "      <td>0.0</td>\n",
       "      <td>10.0</td>\n",
       "      <td>10.0</td>\n",
       "      <td>30.08</td>\n",
       "    </tr>\n",
       "    <tr>\n",
       "      <th>1</th>\n",
       "      <td>2020-12-18</td>\n",
       "      <td>SCRATCHING AWAY</td>\n",
       "      <td>Searched for Yellowtail again today to find no...</td>\n",
       "      <td>52.0</td>\n",
       "      <td>58.04</td>\n",
       "      <td>66.0</td>\n",
       "      <td>0.0</td>\n",
       "      <td>10.0</td>\n",
       "      <td>9.0</td>\n",
       "      <td>30.23</td>\n",
       "    </tr>\n",
       "  </tbody>\n",
       "</table>\n",
       "</div>"
      ],
      "text/plain": [
       "  date_posted         headline  \\\n",
       "0  2020-12-17      ON THE HUNT   \n",
       "1  2020-12-18  SCRATCHING AWAY   \n",
       "\n",
       "                                           post_body  low_temp  avg_temp  \\\n",
       "0  We were on the hunt for Yellowtail today but n...      46.0     57.34   \n",
       "1  Searched for Yellowtail again today to find no...      52.0     58.04   \n",
       "\n",
       "   high_temp  inches_precip  miles_visible  max_wind  sea_pressure  \n",
       "0       64.0            0.0           10.0      10.0         30.08  \n",
       "1       66.0            0.0           10.0       9.0         30.23  "
      ]
     },
     "execution_count": 6,
     "metadata": {},
     "output_type": "execute_result"
    }
   ],
   "source": [
    "fishing_data = fishing_data.drop_duplicates().reset_index(drop=True)\n",
    "fishing_data.head(2)"
   ]
  },
  {
   "cell_type": "markdown",
   "metadata": {},
   "source": [
    "## Duplicate dates"
   ]
  },
  {
   "cell_type": "code",
   "execution_count": 7,
   "metadata": {},
   "outputs": [
    {
     "data": {
      "text/plain": [
       "2017-09-26    9\n",
       "2017-04-30    9\n",
       "2018-04-21    7\n",
       "2017-04-28    7\n",
       "2017-12-05    7\n",
       "             ..\n",
       "2014-07-10    2\n",
       "2019-07-10    2\n",
       "2014-07-13    2\n",
       "2013-08-15    2\n",
       "2007-07-29    2\n",
       "Name: date_posted, Length: 410, dtype: int64"
      ]
     },
     "execution_count": 7,
     "metadata": {},
     "output_type": "execute_result"
    }
   ],
   "source": [
    "# are there multiple posts for any days?\n",
    "post_counts = fishing_data.date_posted.value_counts()\n",
    "post_counts[post_counts >= 2]"
   ]
  },
  {
   "cell_type": "markdown",
   "metadata": {},
   "source": [
    "Is it concerning that dates are duplicated? Let's check one of the dates that has 9 posts."
   ]
  },
  {
   "cell_type": "code",
   "execution_count": 8,
   "metadata": {},
   "outputs": [
    {
     "data": {
      "text/html": [
       "<div>\n",
       "<style scoped>\n",
       "    .dataframe tbody tr th:only-of-type {\n",
       "        vertical-align: middle;\n",
       "    }\n",
       "\n",
       "    .dataframe tbody tr th {\n",
       "        vertical-align: top;\n",
       "    }\n",
       "\n",
       "    .dataframe thead th {\n",
       "        text-align: right;\n",
       "    }\n",
       "</style>\n",
       "<table border=\"1\" class=\"dataframe\">\n",
       "  <thead>\n",
       "    <tr style=\"text-align: right;\">\n",
       "      <th></th>\n",
       "      <th>date_posted</th>\n",
       "      <th>headline</th>\n",
       "      <th>post_body</th>\n",
       "      <th>low_temp</th>\n",
       "      <th>avg_temp</th>\n",
       "      <th>high_temp</th>\n",
       "      <th>inches_precip</th>\n",
       "      <th>miles_visible</th>\n",
       "      <th>max_wind</th>\n",
       "      <th>sea_pressure</th>\n",
       "    </tr>\n",
       "  </thead>\n",
       "  <tbody>\n",
       "    <tr>\n",
       "      <th>498</th>\n",
       "      <td>2017-09-26</td>\n",
       "      <td>Excellent Start Kimura 8 Day</td>\n",
       "      <td>We departed Sunday on our annual Gary Kimura 8...</td>\n",
       "      <td>63.0</td>\n",
       "      <td>69.92</td>\n",
       "      <td>78.0</td>\n",
       "      <td>0.0</td>\n",
       "      <td>10.0</td>\n",
       "      <td>10.0</td>\n",
       "      <td>29.82</td>\n",
       "    </tr>\n",
       "    <tr>\n",
       "      <th>499</th>\n",
       "      <td>2017-09-26</td>\n",
       "      <td>beautiful dorados today</td>\n",
       "      <td>nan</td>\n",
       "      <td>63.0</td>\n",
       "      <td>69.92</td>\n",
       "      <td>78.0</td>\n",
       "      <td>0.0</td>\n",
       "      <td>10.0</td>\n",
       "      <td>10.0</td>\n",
       "      <td>29.82</td>\n",
       "    </tr>\n",
       "    <tr>\n",
       "      <th>500</th>\n",
       "      <td>2017-09-26</td>\n",
       "      <td>beautiful yellowtail</td>\n",
       "      <td>nan</td>\n",
       "      <td>63.0</td>\n",
       "      <td>69.92</td>\n",
       "      <td>78.0</td>\n",
       "      <td>0.0</td>\n",
       "      <td>10.0</td>\n",
       "      <td>10.0</td>\n",
       "      <td>29.82</td>\n",
       "    </tr>\n",
       "    <tr>\n",
       "      <th>501</th>\n",
       "      <td>2017-09-26</td>\n",
       "      <td>happy camper</td>\n",
       "      <td>nan</td>\n",
       "      <td>63.0</td>\n",
       "      <td>69.92</td>\n",
       "      <td>78.0</td>\n",
       "      <td>0.0</td>\n",
       "      <td>10.0</td>\n",
       "      <td>10.0</td>\n",
       "      <td>29.82</td>\n",
       "    </tr>\n",
       "    <tr>\n",
       "      <th>502</th>\n",
       "      <td>2017-09-26</td>\n",
       "      <td>YELLOWTAIL BONANZA</td>\n",
       "      <td>nan</td>\n",
       "      <td>63.0</td>\n",
       "      <td>69.92</td>\n",
       "      <td>78.0</td>\n",
       "      <td>0.0</td>\n",
       "      <td>10.0</td>\n",
       "      <td>10.0</td>\n",
       "      <td>29.82</td>\n",
       "    </tr>\n",
       "    <tr>\n",
       "      <th>503</th>\n",
       "      <td>2017-09-26</td>\n",
       "      <td>Matt</td>\n",
       "      <td>Matt brings in a beautiful Yellowtail</td>\n",
       "      <td>63.0</td>\n",
       "      <td>69.92</td>\n",
       "      <td>78.0</td>\n",
       "      <td>0.0</td>\n",
       "      <td>10.0</td>\n",
       "      <td>10.0</td>\n",
       "      <td>29.82</td>\n",
       "    </tr>\n",
       "    <tr>\n",
       "      <th>504</th>\n",
       "      <td>2017-09-26</td>\n",
       "      <td>Alex</td>\n",
       "      <td>Nice yellow today</td>\n",
       "      <td>63.0</td>\n",
       "      <td>69.92</td>\n",
       "      <td>78.0</td>\n",
       "      <td>0.0</td>\n",
       "      <td>10.0</td>\n",
       "      <td>10.0</td>\n",
       "      <td>29.82</td>\n",
       "    </tr>\n",
       "    <tr>\n",
       "      <th>505</th>\n",
       "      <td>2017-09-26</td>\n",
       "      <td>Robert</td>\n",
       "      <td>Robert says Hello to all my friends</td>\n",
       "      <td>63.0</td>\n",
       "      <td>69.92</td>\n",
       "      <td>78.0</td>\n",
       "      <td>0.0</td>\n",
       "      <td>10.0</td>\n",
       "      <td>10.0</td>\n",
       "      <td>29.82</td>\n",
       "    </tr>\n",
       "    <tr>\n",
       "      <th>506</th>\n",
       "      <td>2017-09-26</td>\n",
       "      <td>trip 1722 Jackpot winners</td>\n",
       "      <td>First place Tim Brown 57 8 Second place Vince ...</td>\n",
       "      <td>63.0</td>\n",
       "      <td>69.92</td>\n",
       "      <td>78.0</td>\n",
       "      <td>0.0</td>\n",
       "      <td>10.0</td>\n",
       "      <td>10.0</td>\n",
       "      <td>29.82</td>\n",
       "    </tr>\n",
       "  </tbody>\n",
       "</table>\n",
       "</div>"
      ],
      "text/plain": [
       "    date_posted                      headline  \\\n",
       "498  2017-09-26  Excellent Start Kimura 8 Day   \n",
       "499  2017-09-26       beautiful dorados today   \n",
       "500  2017-09-26          beautiful yellowtail   \n",
       "501  2017-09-26                  happy camper   \n",
       "502  2017-09-26            YELLOWTAIL BONANZA   \n",
       "503  2017-09-26                          Matt   \n",
       "504  2017-09-26                          Alex   \n",
       "505  2017-09-26                        Robert   \n",
       "506  2017-09-26     trip 1722 Jackpot winners   \n",
       "\n",
       "                                             post_body  low_temp  avg_temp  \\\n",
       "498  We departed Sunday on our annual Gary Kimura 8...      63.0     69.92   \n",
       "499                                                nan      63.0     69.92   \n",
       "500                                                nan      63.0     69.92   \n",
       "501                                                nan      63.0     69.92   \n",
       "502                                                nan      63.0     69.92   \n",
       "503              Matt brings in a beautiful Yellowtail      63.0     69.92   \n",
       "504                                  Nice yellow today      63.0     69.92   \n",
       "505                Robert says Hello to all my friends      63.0     69.92   \n",
       "506  First place Tim Brown 57 8 Second place Vince ...      63.0     69.92   \n",
       "\n",
       "     high_temp  inches_precip  miles_visible  max_wind  sea_pressure  \n",
       "498       78.0            0.0           10.0      10.0         29.82  \n",
       "499       78.0            0.0           10.0      10.0         29.82  \n",
       "500       78.0            0.0           10.0      10.0         29.82  \n",
       "501       78.0            0.0           10.0      10.0         29.82  \n",
       "502       78.0            0.0           10.0      10.0         29.82  \n",
       "503       78.0            0.0           10.0      10.0         29.82  \n",
       "504       78.0            0.0           10.0      10.0         29.82  \n",
       "505       78.0            0.0           10.0      10.0         29.82  \n",
       "506       78.0            0.0           10.0      10.0         29.82  "
      ]
     },
     "execution_count": 8,
     "metadata": {},
     "output_type": "execute_result"
    }
   ],
   "source": [
    "sample_date = pd.Timestamp(datetime.date(2017, 9, 26))\n",
    "duplicate_date_example = fishing_data.loc[fishing_data.date_posted == sample_date]\n",
    "duplicate_date_example"
   ]
  },
  {
   "cell_type": "markdown",
   "metadata": {},
   "source": [
    "There seem to be days where the crew posts many times, sometimes without a post body. It's likely that these are accompanied by pictures on the actual site since the headlines are things like, `Matt brings in a beautiful Yellowtail`, though we didn't webscrape photos. More posts in a day may be an indicator of good fishing conditions. "
   ]
  },
  {
   "cell_type": "markdown",
   "metadata": {},
   "source": [
    "## When do posts happen?"
   ]
  },
  {
   "cell_type": "markdown",
   "metadata": {},
   "source": [
    "#### Let's see how posts are distributed by year"
   ]
  },
  {
   "cell_type": "code",
   "execution_count": 9,
   "metadata": {},
   "outputs": [
    {
     "data": {
      "text/plain": [
       "(Timestamp('2005-06-19 00:00:00'), Timestamp('2020-12-19 00:00:00'))"
      ]
     },
     "execution_count": 9,
     "metadata": {},
     "output_type": "execute_result"
    }
   ],
   "source": [
    "# What is the earliest post and the most recent post by date?\n",
    "sorted_dates = fishing_data.date_posted.sort_values()\n",
    "sorted_dates.iloc[0], sorted_dates.iloc[-1]"
   ]
  },
  {
   "cell_type": "code",
   "execution_count": 10,
   "metadata": {},
   "outputs": [],
   "source": [
    "# uncomment this to see just the numbers per year \n",
    "# (useful for spotchecking the bar plot since more plot options = room for error)\n",
    "\n",
    "# fishing_data.date_posted.dt.year.value_counts()"
   ]
  },
  {
   "cell_type": "code",
   "execution_count": 16,
   "metadata": {},
   "outputs": [
    {
     "data": {
      "image/png": "[encoded data removed]",
      "text/plain": [
       "<Figure size 432x288 with 1 Axes>"
      ]
     },
     "metadata": {
      "needs_background": "light"
     },
     "output_type": "display_data"
    }
   ],
   "source": [
    "time_hist_options = {\n",
    "    \"alpha\":  0.5,\n",
    "    \"rwidth\": 0.8,\n",
    "    \"bins\":   np.arange(2005, 2020 + 2),\n",
    "    \"align\":  \"left\"\n",
    "}\n",
    "plt.hist(fishing_data.date_posted.dt.year, **time_hist_options)\n",
    "plt.ylabel(\"Post Count\")\n",
    "plt.xticks(time_hist_options['bins'], rotation=45)\n",
    "plt.xlim([2004.5, 2020.5]);"
   ]
  },
  {
   "cell_type": "markdown",
   "metadata": {},
   "source": [
    "Posts were fairly consistent in the late 2000s and 2010s, though this is clear dropoff in recent years. Drops in 2020 were almost certainly correlated with covid though there was an existing downward trend.\n",
    "\n",
    "Note: The average post per day is less than 1 for every year in the dataset. Because the crew didn't post every day, it's likely that good days are overrepresented."
   ]
  },
  {
   "cell_type": "markdown",
   "metadata": {},
   "source": [
    "#### What about the distribution by month? Is there seasonality to the posts?"
   ]
  },
  {
   "cell_type": "code",
   "execution_count": 43,
   "metadata": {},
   "outputs": [
    {
     "data": {
      "image/png": "[encoded data removed]",
      "text/plain": [
       "<Figure size 864x576 with 1 Axes>"
      ]
     },
     "metadata": {
      "needs_background": "light"
     },
     "output_type": "display_data"
    }
   ],
   "source": [
    "plt.figure(figsize=(12, 8))\n",
    "month_labels = [\"January\", \"February\", \"March\", \"April\", \"May\", \"June\", \n",
    "                \"July\", \"August\", \"September\", \"October\", \"November\", \"December\"]\n",
    "\n",
    "month_hist_options = {\n",
    "    \"alpha\":  0.5,\n",
    "    \"color\":  \"orange\"\n",
    "}\n",
    "\n",
    "month_counts = fishing_data.date_posted.dt.month.value_counts().sort_index()\n",
    "\n",
    "plt.bar(month_counts.index, month_counts.values, **month_hist_options)\n",
    "plt.ylabel(\"Post Count\")\n",
    "plt.xticks(month_counts.index, labels=month_labels, rotation=45);\n",
    "\n",
    "\n",
    "# Custom fill patterns to emphasize seasons\n",
    "plt.fill_between([2.5, 5.49], 500,  alpha=0.1, color='green',  label='Spring')\n",
    "plt.fill_between([5.5, 8.49], 500,  alpha=0.1, color='red',    label='Summer')\n",
    "plt.fill_between([8.5, 11.49], 500, alpha=0.1, color='orange', label='Fall')\n",
    "plt.fill_between([0, 2.49], 500,    alpha=0.1, color='blue',   label='Winter')\n",
    "plt.fill_between([11.5, 12.5], 500, alpha=0.1, color='blue')\n",
    "\n",
    "plt.annotate(\"Winter\", [1, 410])\n",
    "plt.annotate(\"Spring\", [3, 410])\n",
    "plt.annotate(\"Summer\", [6, 410])\n",
    "plt.annotate(\"Fall\",   [9, 410])\n",
    "\n",
    "plt.title(\"Seasonality of Fishing Reports (2005 - 2020)\");\n",
    "plt.ylim([0, 425])\n",
    "plt.xlim([0.5, 12.5]);\n",
    "\n",
    "plt.savefig(\"post_seasonality.png\", dpi=500);"
   ]
  },
  {
   "cell_type": "markdown",
   "metadata": {},
   "source": [
    "Though posts aren't necessarily equivalent to business activity, this plot suggests that the fishing business may be more active in hotter months. This makes intuitive sense since we wouldn't expect people to be out in the rain or cold to catch fish, especially when the waters may be choppy or otherwise le."
   ]
  },
  {
   "cell_type": "markdown",
   "metadata": {},
   "source": [
    "### Rain patterns over the years"
   ]
  },
  {
   "cell_type": "code",
   "execution_count": 41,
   "metadata": {},
   "outputs": [
    {
     "data": {
      "image/png": "[encoded data removed]",
      "text/plain": [
       "<Figure size 432x288 with 1 Axes>"
      ]
     },
     "metadata": {
      "needs_background": "light"
     },
     "output_type": "display_data"
    }
   ],
   "source": [
    "plt.scatter(fishing_data.date_posted.dt.year, fishing_data.inches_precip, alpha=0.3)\n",
    "plt.ylabel(\"Inches of precipitation\");"
   ]
  },
  {
   "cell_type": "markdown",
   "metadata": {},
   "source": [
    "Before 2014 there is no rain data. Either the site we scraped weather data from didn't have correct measurements of the rain or we got unlucky and none of the posts occurred on days where there was rain. Given that there aren't many posts during rainy months, the latter is possible. We shouldn't use rain for anything serious in our analysis."
   ]
  },
  {
   "cell_type": "markdown",
   "metadata": {},
   "source": [
    "## Daily Temperatures"
   ]
  },
  {
   "cell_type": "code",
   "execution_count": 44,
   "metadata": {},
   "outputs": [
    {
     "data": {
      "image/png": "[encoded data removed]",
      "text/plain": [
       "<Figure size 864x576 with 3 Axes>"
      ]
     },
     "metadata": {
      "needs_background": "light"
     },
     "output_type": "display_data"
    }
   ],
   "source": [
    "# thanks for the grid help: \n",
    "# https://stackoverflow.com/questions/37360568/python-organisation-of-3-subplots-with-matplotlib\n",
    "import matplotlib.gridspec as gridspec\n",
    "\n",
    "temp_plot_options = {\n",
    "    \"alpha\":  0.5,\n",
    "    \"rwidth\": 0.97\n",
    "}\n",
    "\n",
    "# Create 2x2 sub plots\n",
    "gs = gridspec.GridSpec(2, 2)\n",
    "\n",
    "plt.figure(figsize=(12, 8))\n",
    "ax = plt.subplot(gs[0, 0]) # row 0, col 0\n",
    "plt.suptitle(\"Daily Temperature Counts (Fahrenheit)\")\n",
    "\n",
    "plt.hist(fishing_data.low_temp, **temp_plot_options)\n",
    "plt.xlabel(\"Low Temperature (F)\")\n",
    "\n",
    "ax = plt.subplot(gs[0, 1]) # row 0, col 1\n",
    "plt.hist(fishing_data.high_temp, **temp_plot_options)\n",
    "plt.xlabel(\"High Temperature (F)\")\n",
    "\n",
    "ax = plt.subplot(gs[1, :]) # row 1, span all columns\n",
    "plt.hist(fishing_data.avg_temp, **temp_plot_options)\n",
    "plt.xlabel(\"Average Temperature (F)\");"
   ]
  },
  {
   "cell_type": "markdown",
   "metadata": {},
   "source": [
    "The daily low temperatures have outlier values near 0. San Diego doesn't randomly hit sub-freezing temperatures, skipping everything from 32 down to 0, so we can be sure these are errors in the weather site's data.\n",
    "\n",
    "As for the rest of the temperatures, the average and high look well-behaved. It may be worth looking for relationships between temperature and post content."
   ]
  },
  {
   "cell_type": "markdown",
   "metadata": {},
   "source": [
    "## What are the posts about?\n",
    "\n",
    "For a first pass, we can simply look at the top words used (ignoring filler words)"
   ]
  },
  {
   "cell_type": "code",
   "execution_count": 45,
   "metadata": {},
   "outputs": [],
   "source": [
    "# We'll ignore these words. They're too common to be useful\n",
    "stopwords = ['i', 'me', 'my', 'myself', 'we', 'our', 'ours', 'ourselves', 'you',\n",
    "       'your', 'yours', 'yourself', 'yourselves', 'he', 'him', 'his',\n",
    "       'himself', 'she', 'her', 'hers', 'herself', 'it', 'its', 'itself',\n",
    "       'they', 'them', 'their', 'theirs', 'themselves', 'what', 'which',\n",
    "       'who', 'whom', 'this', 'that', 'these', 'those', 'am', 'is', 'are',\n",
    "       'was', 'were', 'be', 'been', 'being', 'have', 'has', 'had',\n",
    "       'having', 'do', 'does', 'did', 'doing', 'a', 'an', 'the', 'and',\n",
    "       'but', 'if', 'or', 'because', 'as', 'until', 'while', 'of', 'at',\n",
    "       'by', 'for', 'with', 'about', 'against', 'between', 'into',\n",
    "       'through', 'during', 'before', 'after', 'above', 'below', 'to',\n",
    "       'from', 'up', 'down', 'in', 'out', 'on', 'off', 'over', 'under',\n",
    "       'again', 'further', 'then', 'once', 'here', 'there', 'when',\n",
    "       'where', 'why', 'how', 'all', 'any', 'both', 'each', 'few', 'more',\n",
    "       'most', 'other', 'some', 'such', 'no', 'nor', 'not', 'only', 'own',\n",
    "       'same', 'so', 'than', 'too', 'very', 's', 't', 'can', 'will',\n",
    "       'just', 'don', 'should', 'now']\n",
    "\n",
    "stopwords = set(stopwords)"
   ]
  },
  {
   "cell_type": "code",
   "execution_count": 46,
   "metadata": {},
   "outputs": [],
   "source": [
    "all_posts = \" \".join(fishing_data.post_body.values)\n",
    "\n",
    "tokens = all_posts.lower().split()\n",
    "tokens = [t for t in tokens if t not in stopwords]"
   ]
  },
  {
   "cell_type": "code",
   "execution_count": 47,
   "metadata": {},
   "outputs": [
    {
     "data": {
      "image/png": "[encoded data removed]",
      "text/plain": [
       "<Figure size 864x576 with 1 Axes>"
      ]
     },
     "metadata": {
      "needs_background": "light"
     },
     "output_type": "display_data"
    }
   ],
   "source": [
    "n = 20\n",
    "top_n_words = pd.Series(tokens).value_counts().iloc[:n]\n",
    "\n",
    "plt.figure(figsize=(12, 8))\n",
    "\n",
    "plt.bar(top_n_words.index, top_n_words.values, alpha=0.6, color='orange')\n",
    "plt.xticks(rotation=30)\n",
    "\n",
    "plt.title(f\"Top {n} Words by Appearance in Posts\")\n",
    "plt.ylabel(\"Word Count\");"
   ]
  },
  {
   "cell_type": "markdown",
   "metadata": {},
   "source": [
    "## Top Words in Fishing Reports\n",
    "\n",
    "With the stopwords removed, we get mostly unique words with distinct meanings. It's a good sign that `tuna`, `yellowtail`, and `yellowfin` appear in the top words since we are more likely to be able to extract something interesting from the text. Additionally, `pound` and `lb` appearing are indicators that some posts are likely discussing the size of their catches. \n",
    "\n",
    "Given the top words look interesting, it may be worth looking for common phrases as well. We'll use a package called `gensim` to find these, but let's take a look at some of the math that's used under the hood to extract phrases. One way to think about phrase extraction is to think about common phrases as a collection of words that appear with each other by more than random chance. For example, the phrase \"fishing is cool\" is much less distinct than the phrase, \"yellowfin tuna\". \n",
    "\n",
    "\"Yellowfin tuna\" is a distinct phrase since the two words appear together frequently and they form a set of words that has a specific meaning together than individually. We'd like a sytematic way to find such phrases. But how? A mathematical way to approach this problem is to look at the *Pointwise Mutual Information* of word pairs.\n",
    "\n",
    "### Beyond Single Words: Phrase Finding with Pointwise Mutual Information (PMI)\n",
    "\n",
    "Roughly, PMI in the context of phrase finding can be thought of as measuring how associated two words are. It takes into account how often they appear altogether and compares this value to how often they appear together.\n",
    "\n",
    "We define PMI as,\n",
    "\n",
    "$$PMI(i, j) = log_2\\frac{p(w_i, w_j)}{p(w_i)p(w_j)}$$\n",
    "\n",
    "Where $i$ and $j$ are the indices of two words of interest, $p(w_i, w_j)$ is the probability of the two words occurring together, and $p(w_i)$ and $p(w_j)$ are the overall probabilities of the words occurring on any document (sometimes called the word frequency).\n",
    "\n",
    "\n",
    "#### Limiting cases: two words are independent (not phrases)\n",
    "\n",
    "We can expand the PMI formula using Bayes' rule like,\n",
    "\n",
    "$$PMI(i, j) = log_2\\frac{p(w_i|w_j)p(w_j)}{p(w_i)p(w_j)} = log_2\\frac{p(w_i|w_j)}{p(w_i)}$$\n",
    "\n",
    "This is interesting because if $w_i$ and $w_j$ are independent, then $p(w_i|w_j) = p(w_i)$, so the calculation is simple,\n",
    "\n",
    "$$PMI(i, j) = log_2\\frac{p(w_i|w_j)}{p(w_i)} = log_2\\frac{p(w_i)}{p(w_i)} = log_2 1 = 0$$\n",
    "\n",
    "#### Limiting cases: two words always cooccur (extreme case of phrases)\n",
    "\n",
    "If the words always occur together, say 99% of the time, then $p(w_i|w_j) \\approx 0.99 $. Let's imagine the words themselves are relatively uncommon, so their individual frequency may be something like, $p(w_i) \\approx \\frac{1}{10,000}$. \n",
    "\n",
    "Expanding the PMI calculation,\n",
    "\n",
    "$$PMI(i, j) = log_2\\frac{p(w_i|w_j)}{p(w_i)} = log_2\\frac{0.99}{\\frac{1}{10,000}} \\approx log_2 10,000 \\approx 13.3 $$\n",
    "\n",
    "\n",
    "\n",
    "\n",
    "#### High PMI -> likely to be a phrase, low PMI -> words probably aren't phrases \n",
    "\n",
    "In the two extreme cases, we see that independent words have a PMI of 0, while words that occur together all the time have a large PMI (13.3 in our example). This idea underpins a common strategy to find phrases. We will avoid reinventing the wheel, but keep this in mind as we move forward - there is no magic to the calculations we do. \n",
    "\n",
    "\n",
    "## Let's see if Gensim can find any interesting phrases"
   ]
  },
  {
   "cell_type": "markdown",
   "metadata": {},
   "source": [
    "Referencing this thorough article on [topic modeling with Gensim](https://www.machinelearningplus.com/nlp/topic-modeling-gensim-python/#9createbigramandtrigrammodels), we can get phrases from our text fairly simply. We'll start by dropping empty posts and doing light processing on the posts to make them into lists of words."
   ]
  },
  {
   "cell_type": "code",
   "execution_count": 48,
   "metadata": {},
   "outputs": [],
   "source": [
    "minimum_chars = 5\n",
    "non_empty_posts = fishing_data.loc[fishing_data.loc[:, \"post_body\"].apply(lambda x: len(x.strip())) > minimum_chars]"
   ]
  },
  {
   "cell_type": "code",
   "execution_count": 49,
   "metadata": {
    "scrolled": true
   },
   "outputs": [
    {
     "name": "stdout",
     "output_type": "stream",
     "text": [
      "Example documents: \n",
      " [['we', 'were', 'on', 'the', 'hunt', 'for', 'yellowtail', 'today', 'but', 'never', 'able', 'to', 'connect', 'we', 'covered', 'a', 'lot', 'of', 'water', 'for', 'a', 'handful', 'of', 'fish', 'were', 'not', 'giving', 'up', 'on', 'yellowtail', 'tomorrow', 'is', 'a', 'new', 'day', 'wish', 'us', 'luck', 'brian', 'indy', 'crew'], ['searched', 'for', 'yellowtail', 'again', 'today', 'to', 'find', 'non', 'biters', 'good', 'action', 'on', 'bass', 'barracuda', 'and', 'bonito', 'for', 'our', 'efforts', 'well', 'be', 'traveling', 'up', 'to', 'be', 'home', 'on', 'sunday', 'nice', 'weather', 'for', 'our', 'travels', 'brian', 'indy', 'crew']]\n"
     ]
    }
   ],
   "source": [
    "split_docs = list(fishing_data.post_body.apply(lambda post: post.lower().split()).values)\n",
    "print(\"Example documents: \\n\", split_docs[:2])"
   ]
  },
  {
   "cell_type": "markdown",
   "metadata": {},
   "source": [
    "Here we set up the code to find phrases in our documents. Notice that scoring parameter is [`npmi`](https://en.wikipedia.org/wiki/Pointwise_mutual_information#Normalized_pointwise_mutual_information_(npmi)). It's basically the same as the PMI we talked about before, though normalized to have scores in the range [-1, 1]. A higher threshold means that it takes more for words to get merged into phrases, thus there will be less of them. This can be tuned for your problem, but I'll run with 0.5."
   ]
  },
  {
   "cell_type": "code",
   "execution_count": 50,
   "metadata": {},
   "outputs": [],
   "source": [
    "import gensim"
   ]
  },
  {
   "cell_type": "code",
   "execution_count": 51,
   "metadata": {},
   "outputs": [],
   "source": [
    "phrase_options = {\n",
    "    \"scoring\": \"npmi\",\n",
    "    \"threshold\": 0.5,\n",
    "    \"common_terms\": stopwords\n",
    "}\n",
    "\n",
    "# Build the bigram and trigram models\n",
    "bigram  = gensim.models.Phrases(split_docs, min_count=5, **phrase_options) # higher threshold fewer phrases.\n",
    "trigram = gensim.models.Phrases(bigram[split_docs], **phrase_options)  \n",
    "\n",
    "# Faster way to get a sentence clubbed as a trigram/bigram\n",
    "bigram_mod  = gensim.models.phrases.Phraser(bigram)\n",
    "trigram_mod = gensim.models.phrases.Phraser(trigram)"
   ]
  },
  {
   "cell_type": "code",
   "execution_count": 52,
   "metadata": {},
   "outputs": [],
   "source": [
    "def apply_phraser_to_doc(doc):\n",
    "    \"\"\"\n",
    "    given a list of strings like,\n",
    "    \n",
    "    ['hi', 'how', 'are', 'you']\n",
    "    \n",
    "    returns the same list with any phrases merged together via a \"_\" character (gensim default).\n",
    "    \n",
    "    PS: will combine up to ~4 words together, though it can go higher depending on stopword usage\n",
    "    \"\"\"\n",
    "    return trigram_mod[bigram_mod[doc]]"
   ]
  },
  {
   "cell_type": "code",
   "execution_count": 53,
   "metadata": {},
   "outputs": [
    {
     "data": {
      "text/plain": [
       "['covered_a_lot_of_water', 'wish_us_luck', 'indy_crew']"
      ]
     },
     "execution_count": 53,
     "metadata": {},
     "output_type": "execute_result"
    }
   ],
   "source": [
    "# what phrases are in the first post?\n",
    "[word for word in apply_phraser_to_doc(split_docs[0]) if \"_\" in word]"
   ]
  },
  {
   "cell_type": "markdown",
   "metadata": {},
   "source": [
    "## Inspecting the phrases \n",
    "\n",
    "Now that we have a way to extract common phrases, let's count all of the phrases that showed up."
   ]
  },
  {
   "cell_type": "code",
   "execution_count": 54,
   "metadata": {},
   "outputs": [],
   "source": [
    "split_phrased_docs = [apply_phraser_to_doc(doc) for doc in split_docs]"
   ]
  },
  {
   "cell_type": "code",
   "execution_count": 55,
   "metadata": {},
   "outputs": [],
   "source": [
    "joined_phrased_docs = [\" \".join(doc) for doc in split_phrased_docs]"
   ]
  },
  {
   "cell_type": "code",
   "execution_count": 56,
   "metadata": {},
   "outputs": [],
   "source": [
    "# combine every post into one, split it into words, then keep the phrases\n",
    "all_tokens = \" \".join(joined_phrased_docs).split()\n",
    "\n",
    "all_phrases = [word for word in all_tokens if \"_\" in word]"
   ]
  },
  {
   "cell_type": "code",
   "execution_count": 57,
   "metadata": {},
   "outputs": [
    {
     "data": {
      "image/png": "[encoded data removed]",
      "text/plain": [
       "<Figure size 1008x720 with 1 Axes>"
      ]
     },
     "metadata": {
      "needs_background": "light"
     },
     "output_type": "display_data"
    }
   ],
   "source": [
    "n = 40\n",
    "top_n_phrases = pd.Series(all_phrases).value_counts().iloc[:n]\n",
    "\n",
    "plt.figure(figsize=(14, 10))\n",
    "\n",
    "plt.barh(top_n_phrases.index, top_n_phrases.values, color='yellowgreen')\n",
    "plt.gca().invert_yaxis() # prefer decreasing order of the bars\n",
    "\n",
    "plt.title(f\"Top {n} Phrases (from {len(non_empty_posts)} posts)\")\n",
    "plt.xlabel(\"Phrase Count\")\n",
    "\n",
    "plt.grid(axis='x');"
   ]
  },
  {
   "cell_type": "markdown",
   "metadata": {},
   "source": [
    "## What do these phrases mean?\n",
    "\n",
    "For some phrases, the meaning is clear. `bluefin_tuna` and `yellowfin_tuna` at the top are clear indications of \n",
    "San Diego's reputation as a hotbed for tuna fishing holding true. For others, it may be useful to read a few posts and understand the context of the phrase.\n",
    "\n",
    "We'll define a helper function to print a few examples of the more mysterious phrases in their original context."
   ]
  },
  {
   "cell_type": "code",
   "execution_count": 58,
   "metadata": {},
   "outputs": [],
   "source": [
    "def print_phrase_with_context(phrase, num_docs):\n",
    "    \"\"\"\n",
    "    prints the first `num_docs` documents with the phrase highlighted\n",
    "    \n",
    "    phrase: str, \"_\" delimiter removed\n",
    "    \"\"\"\n",
    "    containing_posts = non_empty_posts.loc[non_empty_posts.post_body.apply(lambda post: phrase in post.lower()), \"post_body\"].values\n",
    "    \n",
    "    color_code = \"\\x1b[43;1m\" # ANSI highlight background with yellow. ugly but draws the eye well\n",
    "    for i, post in enumerate(containing_posts[:num_docs]):\n",
    "        print(f\"Example {i + 1}:\")\n",
    "        print(post.lower().replace(phrase, f\"{color_code}{phrase}\\x1b[0m\"), \"\\n\")"
   ]
  },
  {
   "cell_type": "markdown",
   "metadata": {},
   "source": [
    "#### Phrase analysis: `indy_crew`\n",
    "\n",
    "Seems to simply be part of the signature of the crew when they create a post. One of the boats is called the Independence, so this is shorthand."
   ]
  },
  {
   "cell_type": "code",
   "execution_count": 59,
   "metadata": {},
   "outputs": [
    {
     "name": "stdout",
     "output_type": "stream",
     "text": [
      "Example 1:\n",
      "we were on the hunt for yellowtail today but never able to connect we covered a lot of water for a handful of fish were not giving up on yellowtail tomorrow is a new day wish us luck brian \u001b[43;1mindy crew\u001b[0m \n",
      "\n",
      "Example 2:\n",
      "searched for yellowtail again today to find non biters good action on bass barracuda and bonito for our efforts well be traveling up to be home on sunday nice weather for our travels brian \u001b[43;1mindy crew\u001b[0m \n",
      "\n",
      "Example 3:\n",
      "another good day of fishing for the guys it was slow in the morning but we went looking and it paid off had great action of yellowfin tuna and some yellowtail again well be heading up the coast hunting for yellowtail tomorrow brian \u001b[43;1mindy crew\u001b[0m \n",
      "\n"
     ]
    }
   ],
   "source": [
    "print_phrase_with_context(\"indy crew\", 3)"
   ]
  },
  {
   "cell_type": "markdown",
   "metadata": {},
   "source": [
    "#### Phrase analysis: `2nd_place`\n",
    "looks like a phrase that comes up in discussing the results of fishing trips, where an individual's haul gives them a placement in a trip-wide fishing contest. Neat!\n",
    "\n",
    "Note: we stripped all punctuation in an early step to make processing steps easier. This likely explains why some of the sentences are hard to read at times. This is a choice that can be experimented with, but I'll hold my ground for now."
   ]
  },
  {
   "cell_type": "code",
   "execution_count": 60,
   "metadata": {},
   "outputs": [
    {
     "name": "stdout",
     "output_type": "stream",
     "text": [
      "Example 1:\n",
      "trip 20 6 jp winners the john collins 8 day returned this morning with a beautiful catch of yellowtail and tuna a great bunch of anglers and a good time was had by all jackpot winners are 1st place mike haddock 123lb bft \u001b[43;1m2nd place\u001b[0m jim mitchell 119lb bft 3rd place craig carlson 69 4lb bft \n",
      "\n",
      "Example 2:\n",
      "thank again roger for getting the gang back together see you guys soon 1st place bret mccoy 62 4 yft \u001b[43;1m2nd place\u001b[0m micheal hakala 58 3 yft 3rd place joe russo 55 1 yft \n",
      "\n",
      "Example 3:\n",
      "1st place art ng 84 2 \u001b[43;1m2nd place\u001b[0m danny mun 80 4 3rd place ramon diaz 80 1 thanks again guys see you soon \n",
      "\n"
     ]
    }
   ],
   "source": [
    "print_phrase_with_context(\"2nd place\", 3)"
   ]
  },
  {
   "cell_type": "markdown",
   "metadata": {},
   "source": [
    "#### Phrase analysis: `pound_range`\n",
    "\n",
    "A common part of the fishing reports is the sizes of fish that were being caught. These types of posts may be a useful way to extract fishing conditions in later analysis."
   ]
  },
  {
   "cell_type": "code",
   "execution_count": 61,
   "metadata": {},
   "outputs": [
    {
     "name": "stdout",
     "output_type": "stream",
     "text": [
      "Example 1:\n",
      "we started out bright and early this morning catching yellowfin tuna and yellowtail long before the sun came up after daybreak we scratched away on wahoo and there were some real trophies brought on board i m the 50 60 \u001b[43;1mpound range\u001b[0m the plan for tomorrow is more of the same and focusing on the elusive skinny we have a little more breeze now but no complaints wish us all luck tomorrow matt and independence crew \n",
      "\n",
      "Example 2:\n",
      "captain mark pisano called in with an update from the independence we have good fishing for bluefin tuna we have 36 bluefin tuna and 3 yellowfin tuna i just spoke with the boat and they are stopping on another school we have been seeing good action on 25 to 40 pound bluefin tuna there is also a good chance on fish in the 60 to 80 \u001b[43;1mpound range\u001b[0m plus you always have a shot the big fish that don t seem to bite too well current schedule monday night 6 00 pm departure book now wednesday night 6 00 pm departure book now meals are included come enjoy a relaxing day on the independence \n",
      "\n",
      "Example 3:\n",
      "we are back online down here after a few days out of the coverage area we have had very consistent fishing down here for yellowfin tuna anywhere from 60 160 pounds with a few bigger we couldn t ask for much more as this very landable fish have kept us busy we had good fishing today on the 100 160 \u001b[43;1mpound range\u001b[0m and we have some nice and calm weather for a change all is well here on the independence and we have one more full day of fishing we really hope to end on a bang but satisfaction is amongst us \n",
      "\n"
     ]
    }
   ],
   "source": [
    "print_phrase_with_context(\"pound range\", 3)"
   ]
  },
  {
   "cell_type": "markdown",
   "metadata": {},
   "source": [
    "## Phrases are good...\n",
    "\n",
    "...but they don't provide the whole picture. Perhaps what would be better is to explore how the phrases and other words are used to understand the types of conversations that happen in a more systematic way. One option for doing this is to run a topic model on the posts. \n",
    "\n",
    "## Topic Modeling\n",
    "Topic models are a class of generative language models where you suppose that each post is a mixture of topics. A topic is a distribution over words, thus allowing you to quantify questions like, \"What words are likely to be spoken given that the topic of conversation is \"weather conditions at sea\". There are many topic models out there, but the original was Latent Dirichlet Allocation (LDA). \n",
    "\n",
    "LDA has a rich history and is still being developed into derivative models to this day, but let's keep it simple with this approximate idea: LDA is matrix factorization that takes a matrix of words counts on all of our posts and return 2 matrices: a topic distribution for each post, and a word distribution for each topic. \n",
    "\n",
    "\n",
    "\n",
    "## Cleaning the Data \n",
    "\n",
    "To get the most out of topic models when you're using them to explore some texts, it helps to clean the input to emphasize patterns of language that you're interested in observing. For example, there are many words in the English language that act as a glue to piece together the words we really care about. Many of these words are in our previous stopword list. We can remove them from our topic model so that the patterns that are found can be among words and phrases that have more meaning than the uninteresting `and`, `of`, and `but`-type of words."
   ]
  },
  {
   "cell_type": "code",
   "execution_count": 63,
   "metadata": {},
   "outputs": [],
   "source": [
    "dataset = split_phrased_docs"
   ]
  },
  {
   "cell_type": "code",
   "execution_count": 67,
   "metadata": {},
   "outputs": [
    {
     "data": {
      "text/plain": [
       "['hello', 'world']"
      ]
     },
     "execution_count": 67,
     "metadata": {},
     "output_type": "execute_result"
    }
   ],
   "source": [
    "def remove_stopwords(split_text):\n",
    "    return list(filter(lambda word: word not in stopwords, split_text))\n",
    "\n",
    "# remove_stopwords does exactly what it sounds like\n",
    "remove_stopwords(['hello', 'and', 'but', 'of', 'world'])"
   ]
  },
  {
   "cell_type": "code",
   "execution_count": 93,
   "metadata": {},
   "outputs": [],
   "source": [
    "# clean stopwords\n",
    "# apply the function to every post\n",
    "clean_dataset = list(map(remove_stopwords, dataset))\n",
    "\n",
    "# remove empty or short posts\n",
    "# filter removes short posts\n",
    "minimum_words = 5\n",
    "clean_dataset = list(filter(lambda split_post: len(split_post) > minimum_words, clean_dataset))"
   ]
  },
  {
   "cell_type": "code",
   "execution_count": 114,
   "metadata": {},
   "outputs": [
    {
     "data": {
      "image/png": "[encoded data removed]",
      "text/plain": [
       "<Figure size 864x576 with 1 Axes>"
      ]
     },
     "metadata": {
      "needs_background": "light"
     },
     "output_type": "display_data"
    }
   ],
   "source": [
    "original_sizes = np.array(list(map(len, dataset)))\n",
    "clean_sizes    = np.array(list(map(len, clean_dataset)))\n",
    "\n",
    "plt.figure(figsize=(12, 8))\n",
    "\n",
    "count_plot_config = {\n",
    "    \"alpha\": 0.3,\n",
    "    \"bins\": 20,\n",
    "    \"density\": True\n",
    "}\n",
    "\n",
    "# necessary to avoid taking the log of 0 if there are empty posts\n",
    "# spoiler: there are empty posts\n",
    "smoothing_factor = 1\n",
    "\n",
    "plt.hist(np.log10(original_sizes + smoothing_factor), label=\"Original\", **count_plot_config);\n",
    "plt.hist(np.log10(clean_sizes    + smoothing_factor), label=\"No stopwords\", **count_plot_config);\n",
    "\n",
    "plt.xlim([0, 3.5])\n",
    "plt.xlabel(\"Word Count (Log10)\")\n",
    "plt.ylabel(\"Density\")\n",
    "plt.title(\"Distribution of Post Sizes Before and After Cleaning\")\n",
    "plt.legend();"
   ]
  },
  {
   "cell_type": "markdown",
   "metadata": {},
   "source": [
    "### TODO: There should be a note here explaining why this is useful"
   ]
  },
  {
   "cell_type": "code",
   "execution_count": 115,
   "metadata": {},
   "outputs": [
    {
     "data": {
      "text/plain": [
       "['hunt',\n",
       " 'yellowtail',\n",
       " 'today',\n",
       " 'never',\n",
       " 'able',\n",
       " 'connect',\n",
       " 'covered_a_lot_of_water',\n",
       " 'handful',\n",
       " 'fish',\n",
       " 'giving',\n",
       " 'yellowtail',\n",
       " 'tomorrow',\n",
       " 'new',\n",
       " 'day',\n",
       " 'wish_us_luck',\n",
       " 'brian',\n",
       " 'indy_crew']"
      ]
     },
     "execution_count": 115,
     "metadata": {},
     "output_type": "execute_result"
    }
   ],
   "source": [
    "clean_dataset[0]"
   ]
  },
  {
   "cell_type": "markdown",
   "metadata": {},
   "source": [
    "## Setting up the Topic Model \n"
   ]
  },
  {
   "cell_type": "code",
   "execution_count": 116,
   "metadata": {},
   "outputs": [],
   "source": [
    "import gensim\n",
    "import gensim.corpora as corpora"
   ]
  },
  {
   "cell_type": "code",
   "execution_count": 117,
   "metadata": {},
   "outputs": [],
   "source": [
    "# Create Dictionary\n",
    "id2word = corpora.Dictionary(clean_dataset)\n",
    "\n",
    "# Term Document Frequency\n",
    "corpus = [id2word.doc2bow(text) for text in clean_dataset]"
   ]
  },
  {
   "cell_type": "code",
   "execution_count": 118,
   "metadata": {},
   "outputs": [],
   "source": [
    "n_topics = 20"
   ]
  },
  {
   "cell_type": "code",
   "execution_count": 119,
   "metadata": {},
   "outputs": [],
   "source": [
    "lda_model = gensim.models.ldamodel.LdaModel(corpus=corpus,\n",
    "                                           id2word=id2word,\n",
    "                                           num_topics=n_topics, \n",
    "                                           random_state=12321,\n",
    "                                           update_every=1,\n",
    "                                           chunksize=100,\n",
    "                                           passes=20,\n",
    "                                           alpha='auto',\n",
    "                                           per_word_topics=True)"
   ]
  },
  {
   "cell_type": "markdown",
   "metadata": {},
   "source": [
    "## TODO: Explain this plot and give context. Is this learned or is it set? Provide interpretation"
   ]
  },
  {
   "cell_type": "code",
   "execution_count": 120,
   "metadata": {},
   "outputs": [
    {
     "data": {
      "image/png": "[encoded data removed]",
      "text/plain": [
       "<Figure size 432x288 with 1 Axes>"
      ]
     },
     "metadata": {
      "needs_background": "light"
     },
     "output_type": "display_data"
    }
   ],
   "source": [
    "topic_prior = lda_model.alpha\n",
    "topic_prior /= topic_prior.sum()\n",
    "\n",
    "plt.bar(np.arange(n_topics), topic_prior)\n",
    "plt.xlabel(\"Topic\")\n",
    "plt.ylabel(\"Mixture weight\")\n",
    "\n",
    "plt.title(\"Prior on Topic Mixture Per Post\");"
   ]
  },
  {
   "cell_type": "code",
   "execution_count": 121,
   "metadata": {},
   "outputs": [],
   "source": [
    "vocab = [word for key, word in id2word.items()]"
   ]
  },
  {
   "cell_type": "code",
   "execution_count": 122,
   "metadata": {},
   "outputs": [
    {
     "data": {
      "text/html": [
       "<div>\n",
       "<style scoped>\n",
       "    .dataframe tbody tr th:only-of-type {\n",
       "        vertical-align: middle;\n",
       "    }\n",
       "\n",
       "    .dataframe tbody tr th {\n",
       "        vertical-align: top;\n",
       "    }\n",
       "\n",
       "    .dataframe thead th {\n",
       "        text-align: right;\n",
       "    }\n",
       "</style>\n",
       "<table border=\"1\" class=\"dataframe\">\n",
       "  <thead>\n",
       "    <tr style=\"text-align: right;\">\n",
       "      <th></th>\n",
       "      <th>able</th>\n",
       "      <th>brian</th>\n",
       "      <th>connect</th>\n",
       "      <th>covered_a_lot_of_water</th>\n",
       "      <th>day</th>\n",
       "      <th>fish</th>\n",
       "      <th>giving</th>\n",
       "      <th>handful</th>\n",
       "      <th>hunt</th>\n",
       "      <th>indy_crew</th>\n",
       "      <th>...</th>\n",
       "      <th>caps</th>\n",
       "      <th>generated</th>\n",
       "      <th>holders</th>\n",
       "      <th>liberty</th>\n",
       "      <th>masks</th>\n",
       "      <th>realize</th>\n",
       "      <th>rollos</th>\n",
       "      <th>worthwhile</th>\n",
       "      <th>applies</th>\n",
       "      <th>behold</th>\n",
       "    </tr>\n",
       "  </thead>\n",
       "  <tbody>\n",
       "    <tr>\n",
       "      <th>0</th>\n",
       "      <td>0.000057</td>\n",
       "      <td>0.000057</td>\n",
       "      <td>0.000057</td>\n",
       "      <td>0.000057</td>\n",
       "      <td>0.000057</td>\n",
       "      <td>0.000057</td>\n",
       "      <td>0.000057</td>\n",
       "      <td>0.000057</td>\n",
       "      <td>0.000057</td>\n",
       "      <td>0.000057</td>\n",
       "      <td>...</td>\n",
       "      <td>0.000057</td>\n",
       "      <td>0.000057</td>\n",
       "      <td>0.000057</td>\n",
       "      <td>0.000057</td>\n",
       "      <td>0.000057</td>\n",
       "      <td>0.000057</td>\n",
       "      <td>0.000057</td>\n",
       "      <td>0.000057</td>\n",
       "      <td>0.000057</td>\n",
       "      <td>0.000057</td>\n",
       "    </tr>\n",
       "    <tr>\n",
       "      <th>1</th>\n",
       "      <td>0.000035</td>\n",
       "      <td>0.000035</td>\n",
       "      <td>0.000035</td>\n",
       "      <td>0.000035</td>\n",
       "      <td>0.000035</td>\n",
       "      <td>0.000035</td>\n",
       "      <td>0.000035</td>\n",
       "      <td>0.000035</td>\n",
       "      <td>0.000035</td>\n",
       "      <td>0.000035</td>\n",
       "      <td>...</td>\n",
       "      <td>0.000035</td>\n",
       "      <td>0.000035</td>\n",
       "      <td>0.000035</td>\n",
       "      <td>0.000035</td>\n",
       "      <td>0.000035</td>\n",
       "      <td>0.000035</td>\n",
       "      <td>0.000035</td>\n",
       "      <td>0.000035</td>\n",
       "      <td>0.000035</td>\n",
       "      <td>0.000035</td>\n",
       "    </tr>\n",
       "  </tbody>\n",
       "</table>\n",
       "<p>2 rows × 8748 columns</p>\n",
       "</div>"
      ],
      "text/plain": [
       "       able     brian   connect  covered_a_lot_of_water       day      fish  \\\n",
       "0  0.000057  0.000057  0.000057                0.000057  0.000057  0.000057   \n",
       "1  0.000035  0.000035  0.000035                0.000035  0.000035  0.000035   \n",
       "\n",
       "     giving   handful      hunt  indy_crew  ...      caps  generated  \\\n",
       "0  0.000057  0.000057  0.000057   0.000057  ...  0.000057   0.000057   \n",
       "1  0.000035  0.000035  0.000035   0.000035  ...  0.000035   0.000035   \n",
       "\n",
       "    holders   liberty     masks   realize    rollos  worthwhile   applies  \\\n",
       "0  0.000057  0.000057  0.000057  0.000057  0.000057    0.000057  0.000057   \n",
       "1  0.000035  0.000035  0.000035  0.000035  0.000035    0.000035  0.000035   \n",
       "\n",
       "     behold  \n",
       "0  0.000057  \n",
       "1  0.000035  \n",
       "\n",
       "[2 rows x 8748 columns]"
      ]
     },
     "execution_count": 122,
     "metadata": {},
     "output_type": "execute_result"
    }
   ],
   "source": [
    "topic_df = pd.DataFrame(lda_model.get_topics())\n",
    "topic_df.columns = vocab\n",
    "topic_df.head(2)"
   ]
  },
  {
   "cell_type": "code",
   "execution_count": 123,
   "metadata": {},
   "outputs": [],
   "source": [
    "import pyLDAvis\n",
    "import pyLDAvis.gensim\n",
    "\n",
    "pyLDAvis.enable_notebook()"
   ]
  },
  {
   "cell_type": "code",
   "execution_count": 124,
   "metadata": {},
   "outputs": [
    {
     "name": "stderr",
     "output_type": "stream",
     "text": [
      "/usr/local/anaconda3/envs/data-science-environment/lib/python3.7/site-packages/ipykernel/ipkernel.py:287: DeprecationWarning: `should_run_async` will not call `transform_cell` automatically in the future. Please pass the result to `transformed_cell` argument and any exception that happen during thetransform in `preprocessing_exc_tuple` in IPython 7.17 and above.\n",
      "  and should_run_async(code)\n",
      "/usr/local/anaconda3/envs/data-science-environment/lib/python3.7/site-packages/pyLDAvis/_prepare.py:257: FutureWarning: Sorting because non-concatenation axis is not aligned. A future version\n",
      "of pandas will change to not sort by default.\n",
      "\n",
      "To accept the future behavior, pass 'sort=False'.\n",
      "\n",
      "To retain the current behavior and silence the warning, pass 'sort=True'.\n",
      "\n",
      "  return pd.concat([default_term_info] + list(topic_dfs))\n"
     ]
    },
    {
     "data": {
      "text/html": [
       "\n",
       "<link rel=\"stylesheet\" type=\"text/css\" href=\"https://cdn.rawgit.com/bmabey/pyLDAvis/files/ldavis.v1.0.0.css\">\n",
       "\n",
       "\n",
       "<div id=\"ldavis_el345631407036369556009279333877\"></div>\n",
       "<script type=\"text/javascript\">\n",
       "\n",
       "var ldavis_el345631407036369556009279333877_data = {\"mdsDat\": {\"x\": [-0.39137320317506163, -0.3828755898460096, -0.2291259448505675, -0.041839598300463215, -0.037652023495846954, -0.00867746486914541, 0.022281707759569974, 0.061463080778569906, 0.022136810958234738, 0.04180918412978705, 0.03922722394618163, 0.07118102235486241, 0.07229607849038105, 0.07045726291838735, 0.08398924685852024, 0.08556893821824244, 0.11538400967187608, 0.1357633507654214, 0.1351706316574572, 0.13481527602960217], \"y\": [-0.16353926067414368, -0.1622997484887691, 0.4129375553481236, 0.05982073147400264, 0.055761144989843, 0.031019712273596043, 0.00952387356527996, -0.011792504967736303, 0.009637559156980769, -0.0018310942592252215, -0.0012009575535032538, -0.016199357060078558, -0.016632957392592716, -0.015865432622278523, -0.021493649514789097, -0.022147398401010113, -0.03237922678151071, -0.03789542806762735, -0.03775310799455299, -0.03767045303001034], \"topics\": [1, 2, 3, 4, 5, 6, 7, 8, 9, 10, 11, 12, 13, 14, 15, 16, 17, 18, 19, 20], \"cluster\": [1, 1, 1, 1, 1, 1, 1, 1, 1, 1, 1, 1, 1, 1, 1, 1, 1, 1, 1, 1], \"Freq\": [34.806732177734375, 32.35707092285156, 9.833982467651367, 3.4058303833007812, 2.590912342071533, 2.1884405612945557, 1.8768055438995361, 1.8273863792419434, 1.5994768142700195, 1.5778197050094604, 1.5474375486373901, 1.1572672128677368, 1.1454484462738037, 1.1174352169036865, 1.019970178604126, 0.880558431148529, 0.541226863861084, 0.22279594838619232, 0.15398196876049042, 0.14942553639411926]}, \"tinfo\": {\"Category\": [\"Default\", \"Default\", \"Default\", \"Default\", \"Default\", \"Default\", \"Default\", \"Default\", \"Default\", \"Default\", \"Default\", \"Default\", \"Default\", \"Default\", \"Default\", \"Default\", \"Default\", \"Default\", \"Default\", \"Default\", \"Default\", \"Default\", \"Default\", \"Default\", \"Default\", \"Default\", \"Default\", \"Default\", \"Default\", \"Default\", \"Topic1\", \"Topic1\", \"Topic1\", \"Topic1\", \"Topic1\", \"Topic1\", \"Topic1\", \"Topic1\", \"Topic1\", \"Topic1\", \"Topic1\", \"Topic1\", \"Topic1\", \"Topic1\", \"Topic1\", \"Topic1\", \"Topic1\", \"Topic1\", \"Topic1\", \"Topic1\", \"Topic1\", \"Topic1\", \"Topic1\", \"Topic1\", \"Topic1\", \"Topic1\", \"Topic1\", \"Topic1\", \"Topic1\", \"Topic1\", \"Topic1\", \"Topic1\", \"Topic1\", \"Topic1\", \"Topic1\", \"Topic1\", \"Topic1\", \"Topic1\", \"Topic1\", \"Topic1\", \"Topic1\", \"Topic2\", \"Topic2\", \"Topic2\", \"Topic2\", \"Topic2\", \"Topic2\", \"Topic2\", \"Topic2\", \"Topic2\", \"Topic2\", \"Topic2\", \"Topic2\", \"Topic2\", \"Topic2\", \"Topic2\", \"Topic2\", \"Topic2\", \"Topic2\", \"Topic2\", \"Topic2\", \"Topic2\", \"Topic2\", \"Topic2\", \"Topic2\", \"Topic2\", \"Topic2\", \"Topic2\", \"Topic2\", \"Topic2\", \"Topic2\", \"Topic2\", \"Topic2\", \"Topic2\", \"Topic2\", \"Topic2\", \"Topic2\", \"Topic2\", \"Topic2\", \"Topic2\", \"Topic2\", \"Topic3\", \"Topic3\", \"Topic3\", \"Topic3\", \"Topic3\", \"Topic3\", \"Topic3\", \"Topic3\", \"Topic3\", \"Topic3\", \"Topic3\", \"Topic3\", \"Topic3\", \"Topic3\", \"Topic3\", \"Topic3\", \"Topic3\", \"Topic3\", \"Topic3\", \"Topic3\", \"Topic3\", \"Topic3\", \"Topic3\", \"Topic3\", \"Topic3\", \"Topic3\", \"Topic3\", \"Topic3\", \"Topic3\", \"Topic3\", \"Topic3\", \"Topic4\", \"Topic4\", \"Topic4\", \"Topic4\", \"Topic4\", \"Topic4\", \"Topic4\", \"Topic4\", \"Topic4\", \"Topic4\", \"Topic4\", \"Topic4\", \"Topic4\", \"Topic4\", \"Topic4\", \"Topic4\", \"Topic4\", \"Topic4\", \"Topic4\", \"Topic4\", \"Topic4\", \"Topic4\", \"Topic4\", \"Topic4\", \"Topic4\", \"Topic4\", \"Topic4\", \"Topic4\", \"Topic4\", \"Topic4\", \"Topic5\", \"Topic5\", \"Topic5\", \"Topic5\", \"Topic5\", \"Topic5\", \"Topic5\", \"Topic5\", \"Topic5\", \"Topic5\", \"Topic5\", \"Topic5\", \"Topic5\", \"Topic5\", \"Topic5\", \"Topic5\", \"Topic5\", \"Topic5\", \"Topic5\", \"Topic5\", \"Topic5\", \"Topic5\", \"Topic5\", \"Topic5\", \"Topic5\", \"Topic5\", \"Topic5\", \"Topic5\", \"Topic5\", \"Topic5\", \"Topic5\", \"Topic5\", \"Topic6\", \"Topic6\", \"Topic6\", \"Topic6\", \"Topic6\", \"Topic6\", \"Topic6\", \"Topic6\", \"Topic6\", \"Topic6\", \"Topic6\", \"Topic6\", \"Topic6\", \"Topic6\", \"Topic6\", \"Topic6\", \"Topic6\", \"Topic6\", \"Topic6\", \"Topic6\", \"Topic6\", \"Topic6\", \"Topic6\", \"Topic6\", \"Topic6\", \"Topic6\", \"Topic6\", \"Topic6\", \"Topic6\", \"Topic6\", \"Topic6\", \"Topic7\", \"Topic7\", \"Topic7\", \"Topic7\", \"Topic7\", \"Topic7\", \"Topic7\", \"Topic7\", \"Topic7\", \"Topic7\", \"Topic7\", \"Topic7\", \"Topic7\", \"Topic7\", \"Topic7\", \"Topic7\", \"Topic7\", \"Topic7\", \"Topic7\", \"Topic7\", \"Topic7\", \"Topic7\", \"Topic7\", \"Topic7\", \"Topic7\", \"Topic7\", \"Topic7\", \"Topic7\", \"Topic7\", \"Topic7\", \"Topic8\", \"Topic8\", \"Topic8\", \"Topic8\", \"Topic8\", \"Topic8\", \"Topic8\", \"Topic8\", \"Topic8\", \"Topic8\", \"Topic8\", \"Topic8\", \"Topic8\", \"Topic8\", \"Topic8\", \"Topic8\", \"Topic8\", \"Topic8\", \"Topic8\", \"Topic8\", \"Topic8\", \"Topic8\", \"Topic8\", \"Topic8\", \"Topic8\", \"Topic8\", \"Topic8\", \"Topic8\", \"Topic8\", \"Topic8\", \"Topic8\", \"Topic8\", \"Topic8\", \"Topic8\", \"Topic8\", \"Topic8\", \"Topic8\", \"Topic8\", \"Topic8\", \"Topic8\", \"Topic8\", \"Topic8\", \"Topic8\", \"Topic8\", \"Topic8\", \"Topic9\", \"Topic9\", \"Topic9\", \"Topic9\", \"Topic9\", \"Topic9\", \"Topic9\", \"Topic9\", \"Topic9\", \"Topic9\", \"Topic9\", \"Topic9\", \"Topic9\", \"Topic9\", \"Topic9\", \"Topic9\", \"Topic9\", \"Topic9\", \"Topic9\", \"Topic9\", \"Topic9\", \"Topic9\", \"Topic9\", \"Topic9\", \"Topic9\", \"Topic9\", \"Topic9\", \"Topic9\", \"Topic9\", \"Topic9\", \"Topic10\", \"Topic10\", \"Topic10\", \"Topic10\", \"Topic10\", \"Topic10\", \"Topic10\", \"Topic10\", \"Topic10\", \"Topic10\", \"Topic10\", \"Topic10\", \"Topic10\", \"Topic10\", \"Topic10\", \"Topic10\", \"Topic10\", \"Topic10\", \"Topic10\", \"Topic10\", \"Topic10\", \"Topic10\", \"Topic10\", \"Topic10\", \"Topic10\", \"Topic10\", \"Topic10\", \"Topic10\", \"Topic10\", \"Topic10\", \"Topic11\", \"Topic11\", \"Topic11\", \"Topic11\", \"Topic11\", \"Topic11\", \"Topic11\", \"Topic11\", \"Topic11\", \"Topic11\", \"Topic11\", \"Topic11\", \"Topic11\", \"Topic11\", \"Topic11\", \"Topic11\", \"Topic11\", \"Topic11\", \"Topic11\", \"Topic11\", \"Topic11\", \"Topic11\", \"Topic11\", \"Topic11\", \"Topic11\", \"Topic11\", \"Topic11\", \"Topic11\", \"Topic11\", \"Topic11\", \"Topic12\", \"Topic12\", \"Topic12\", \"Topic12\", \"Topic12\", \"Topic12\", \"Topic12\", \"Topic12\", \"Topic12\", \"Topic12\", \"Topic12\", \"Topic12\", \"Topic12\", \"Topic12\", \"Topic12\", \"Topic12\", \"Topic12\", \"Topic12\", \"Topic12\", \"Topic12\", \"Topic12\", \"Topic12\", \"Topic12\", \"Topic12\", \"Topic12\", \"Topic12\", \"Topic12\", \"Topic12\", \"Topic12\", \"Topic12\", \"Topic12\", \"Topic12\", \"Topic12\", \"Topic12\", \"Topic12\", \"Topic12\", \"Topic12\", \"Topic12\", \"Topic12\", \"Topic12\", \"Topic12\", \"Topic12\", \"Topic12\", \"Topic12\", \"Topic12\", \"Topic12\", \"Topic13\", \"Topic13\", \"Topic13\", \"Topic13\", \"Topic13\", \"Topic13\", \"Topic13\", \"Topic13\", \"Topic13\", \"Topic13\", \"Topic13\", \"Topic13\", \"Topic13\", \"Topic13\", \"Topic13\", \"Topic13\", \"Topic13\", \"Topic13\", \"Topic13\", \"Topic13\", \"Topic13\", \"Topic13\", \"Topic13\", \"Topic13\", \"Topic13\", \"Topic13\", \"Topic13\", \"Topic13\", \"Topic13\", \"Topic13\", \"Topic14\", \"Topic14\", \"Topic14\", \"Topic14\", \"Topic14\", \"Topic14\", \"Topic14\", \"Topic14\", \"Topic14\", \"Topic14\", \"Topic14\", \"Topic14\", \"Topic14\", \"Topic14\", \"Topic14\", \"Topic14\", \"Topic14\", \"Topic14\", \"Topic14\", \"Topic14\", \"Topic14\", \"Topic14\", \"Topic14\", \"Topic14\", \"Topic14\", \"Topic14\", \"Topic14\", \"Topic14\", \"Topic14\", \"Topic14\", \"Topic14\", \"Topic14\", \"Topic15\", \"Topic15\", \"Topic15\", \"Topic15\", \"Topic15\", \"Topic15\", \"Topic15\", \"Topic15\", \"Topic15\", \"Topic15\", \"Topic15\", \"Topic15\", \"Topic15\", \"Topic15\", \"Topic15\", \"Topic15\", \"Topic15\", \"Topic15\", \"Topic15\", \"Topic15\", \"Topic15\", \"Topic15\", \"Topic15\", \"Topic15\", \"Topic15\", \"Topic15\", \"Topic15\", \"Topic15\", \"Topic15\", \"Topic15\", \"Topic15\", \"Topic15\", \"Topic15\", \"Topic16\", \"Topic16\", \"Topic16\", \"Topic16\", \"Topic16\", \"Topic16\", \"Topic16\", \"Topic16\", \"Topic16\", \"Topic16\", \"Topic16\", \"Topic16\", \"Topic16\", \"Topic16\", \"Topic16\", \"Topic16\", \"Topic16\", \"Topic16\", \"Topic16\", \"Topic16\", \"Topic16\", \"Topic16\", \"Topic16\", \"Topic16\", \"Topic16\", \"Topic16\", \"Topic16\", \"Topic16\", \"Topic16\", \"Topic16\", \"Topic16\", \"Topic16\", \"Topic16\", \"Topic16\", \"Topic16\", \"Topic16\", \"Topic16\", \"Topic16\", \"Topic16\", \"Topic16\", \"Topic16\", \"Topic16\", \"Topic16\", \"Topic16\", \"Topic16\", \"Topic16\", \"Topic16\", \"Topic16\", \"Topic16\", \"Topic17\", \"Topic17\", \"Topic17\", \"Topic17\", \"Topic17\", \"Topic17\", \"Topic17\", \"Topic17\", \"Topic17\", \"Topic17\", \"Topic17\", \"Topic17\", \"Topic17\", \"Topic17\", \"Topic17\", \"Topic17\", \"Topic17\", \"Topic17\", \"Topic17\", \"Topic17\", \"Topic17\", \"Topic17\", \"Topic17\", \"Topic17\", \"Topic17\", \"Topic17\", \"Topic17\", \"Topic17\", \"Topic17\", \"Topic17\", \"Topic17\", \"Topic17\", \"Topic17\", \"Topic17\", \"Topic17\", \"Topic17\", \"Topic17\", \"Topic17\", \"Topic17\", \"Topic17\", \"Topic17\", \"Topic17\", \"Topic17\", \"Topic17\", \"Topic17\", \"Topic17\", \"Topic17\", \"Topic17\", \"Topic17\", \"Topic17\", \"Topic17\", \"Topic17\", \"Topic17\", \"Topic17\", \"Topic17\", \"Topic17\", \"Topic18\", \"Topic18\", \"Topic18\", \"Topic18\", \"Topic18\", \"Topic18\", \"Topic18\", \"Topic18\", \"Topic18\", \"Topic18\", \"Topic18\", \"Topic18\", \"Topic18\", \"Topic18\", \"Topic18\", \"Topic18\", \"Topic18\", \"Topic18\", \"Topic18\", \"Topic18\", \"Topic18\", \"Topic18\", \"Topic18\", \"Topic18\", \"Topic18\", \"Topic18\", \"Topic18\", \"Topic18\", \"Topic18\", \"Topic18\", \"Topic18\", \"Topic18\", \"Topic18\", \"Topic18\", \"Topic18\", \"Topic18\", \"Topic18\", \"Topic18\", \"Topic18\", \"Topic18\", \"Topic18\", \"Topic18\", \"Topic18\", \"Topic18\", \"Topic18\", \"Topic18\", \"Topic18\", \"Topic18\", \"Topic18\", \"Topic18\", \"Topic18\", \"Topic18\", \"Topic18\", \"Topic18\", \"Topic18\", \"Topic18\", \"Topic18\", \"Topic18\", \"Topic18\", \"Topic18\", \"Topic18\", \"Topic18\", \"Topic18\", \"Topic18\", \"Topic18\", \"Topic18\", \"Topic18\", \"Topic19\", \"Topic19\", \"Topic19\", \"Topic19\", \"Topic19\", \"Topic19\", \"Topic19\", \"Topic19\", \"Topic19\", \"Topic19\", \"Topic19\", \"Topic19\", \"Topic19\", \"Topic19\", \"Topic19\", \"Topic19\", \"Topic19\", \"Topic19\", \"Topic19\", \"Topic19\", \"Topic19\", \"Topic19\", \"Topic19\", \"Topic19\", \"Topic19\", \"Topic19\", \"Topic19\", \"Topic19\", \"Topic19\", \"Topic19\", \"Topic19\", \"Topic19\", \"Topic19\", \"Topic19\", \"Topic19\", \"Topic19\", \"Topic19\", \"Topic19\", \"Topic19\", \"Topic19\", \"Topic19\", \"Topic19\", \"Topic19\", \"Topic19\", \"Topic19\", \"Topic19\", \"Topic19\", \"Topic19\", \"Topic19\", \"Topic19\", \"Topic19\", \"Topic19\", \"Topic19\", \"Topic19\", \"Topic19\", \"Topic19\", \"Topic19\", \"Topic19\", \"Topic19\", \"Topic19\", \"Topic19\", \"Topic19\", \"Topic19\", \"Topic19\", \"Topic19\", \"Topic19\", \"Topic19\", \"Topic19\", \"Topic19\", \"Topic19\", \"Topic19\", \"Topic19\", \"Topic20\", \"Topic20\", \"Topic20\", \"Topic20\", \"Topic20\", \"Topic20\", \"Topic20\", \"Topic20\", \"Topic20\", \"Topic20\", \"Topic20\", \"Topic20\", \"Topic20\", \"Topic20\", \"Topic20\", \"Topic20\", \"Topic20\", \"Topic20\", \"Topic20\", \"Topic20\", \"Topic20\", \"Topic20\", \"Topic20\", \"Topic20\", \"Topic20\", \"Topic20\", \"Topic20\", \"Topic20\", \"Topic20\", \"Topic20\", \"Topic20\", \"Topic20\", \"Topic20\", \"Topic20\", \"Topic20\", \"Topic20\", \"Topic20\", \"Topic20\", \"Topic20\", \"Topic20\", \"Topic20\", \"Topic20\", \"Topic20\", \"Topic20\", \"Topic20\", \"Topic20\", \"Topic20\", \"Topic20\", \"Topic20\", \"Topic20\", \"Topic20\", \"Topic20\", \"Topic20\", \"Topic20\", \"Topic20\", \"Topic20\", \"Topic20\", \"Topic20\", \"Topic20\", \"Topic20\", \"Topic20\", \"Topic20\", \"Topic20\", \"Topic20\", \"Topic20\", \"Topic20\", \"Topic20\", \"Topic20\", \"Topic20\", \"Topic20\", \"Topic20\", \"Topic20\", \"Topic20\", \"Topic20\", \"Topic20\", \"Topic20\", \"Topic20\", \"Topic20\", \"Topic20\", \"Topic20\", \"Topic20\", \"Topic20\", \"Topic20\", \"Topic20\", \"Topic20\", \"Topic20\"], \"Freq\": [2701.0, 1834.0, 2800.0, 3683.0, 3087.0, 765.0, 715.0, 612.0, 1026.0, 2027.0, 1991.0, 476.0, 449.0, 490.0, 508.0, 432.0, 514.0, 2650.0, 370.0, 489.0, 687.0, 679.0, 2809.0, 304.0, 306.0, 1145.0, 270.0, 1241.0, 262.0, 1009.0, 1990.4537353515625, 2025.748291015625, 1144.886962890625, 1009.0164184570312, 790.7885131835938, 720.689697265625, 623.9829711914062, 560.9248657226562, 554.39892578125, 543.343017578125, 720.6204833984375, 458.5974426269531, 445.9330749511719, 444.4016418457031, 399.76068115234375, 398.39703369140625, 366.6009521484375, 364.66845703125, 355.2522277832031, 350.8780822753906, 312.2276306152344, 307.929443359375, 306.30804443359375, 295.6645812988281, 294.15997314453125, 288.78900146484375, 271.114501953125, 246.15065002441406, 238.5449981689453, 235.49575805664062, 3025.05615234375, 442.1260681152344, 488.0723571777344, 2306.4443359375, 564.3776245117188, 1087.0706787109375, 744.0919189453125, 2072.233154296875, 729.4552001953125, 401.9501647949219, 1522.3543701171875, 852.007568359375, 751.4230346679688, 725.7005615234375, 715.3342895507812, 689.8805541992188, 669.5399169921875, 655.1712646484375, 651.7026977539062, 591.6234741210938, 563.830078125, 533.5463256835938, 533.6007690429688, 500.6155700683594, 483.333984375, 472.52783203125, 471.6417236328125, 442.0251159667969, 418.8649597167969, 378.7320861816406, 368.023193359375, 341.7837219238281, 339.1263427734375, 335.3937072753906, 315.9544677734375, 304.71649169921875, 303.92279052734375, 302.31201171875, 269.37841796875, 257.9637145996094, 235.90830993652344, 2781.39306640625, 720.9330444335938, 3330.025634765625, 1157.8558349609375, 517.6008911132812, 358.7633972167969, 372.17926025390625, 971.9619140625, 736.4317016601562, 343.47833251953125, 2700.43994140625, 1833.560546875, 686.9065551757812, 678.4620361328125, 401.8552551269531, 355.55865478515625, 351.84588623046875, 243.26205444335938, 230.7669219970703, 206.7955322265625, 193.11196899414062, 193.076171875, 175.4643096923828, 149.36634826660156, 133.74090576171875, 112.10572814941406, 101.28836059570312, 96.47610473632812, 94.01321411132812, 90.7115707397461, 89.83465576171875, 88.01860046386719, 82.16535949707031, 79.04292297363281, 73.72356414794922, 56.29997253417969, 52.269596099853516, 50.11107635498047, 48.90902328491211, 48.10004806518555, 971.4713745117188, 513.9193725585938, 488.135986328125, 266.9510498046875, 226.34925842285156, 215.67831420898438, 201.76368713378906, 157.61595153808594, 148.77488708496094, 101.45955657958984, 100.62367248535156, 90.45662689208984, 84.7535171508789, 81.06147003173828, 70.52873992919922, 64.97132110595703, 61.0885124206543, 57.672298431396484, 52.0678596496582, 49.95522689819336, 49.301544189453125, 39.987491607666016, 38.612056732177734, 35.66733932495117, 29.124893188476562, 28.836286544799805, 28.441471099853516, 24.736082077026367, 24.25409507751465, 20.672147750854492, 20.161762237548828, 764.5701904296875, 714.65185546875, 507.48297119140625, 142.28469848632812, 51.87575149536133, 50.43006134033203, 49.00083923339844, 48.94140625, 44.265804290771484, 42.17484664916992, 38.96992874145508, 29.84417152404785, 29.032384872436523, 23.324106216430664, 19.47698211669922, 15.887761116027832, 15.403441429138184, 11.80296802520752, 11.057177543640137, 10.788700103759766, 8.047611236572266, 7.077602863311768, 2.9709317684173584, 1.4361188411712646, 0.05053600296378136, 0.0504426471889019, 0.05044477805495262, 0.050446346402168274, 0.05043463036417961, 0.05043468251824379, 0.05046779289841652, 0.05044284090399742, 489.8392028808594, 261.95306396484375, 227.833740234375, 173.6368408203125, 160.9847412109375, 105.80648040771484, 97.44597625732422, 93.11811828613281, 76.36432647705078, 76.35626983642578, 70.76200103759766, 63.6793098449707, 39.057987213134766, 37.215858459472656, 35.17380142211914, 28.616474151611328, 25.019725799560547, 24.047361373901367, 17.47559928894043, 16.889942169189453, 9.771700859069824, 8.10302734375, 7.271470546722412, 6.13100528717041, 5.3099164962768555, 2.290436267852783, 0.5700814723968506, 0.05075465142726898, 0.05067088454961777, 0.05063920095562935, 0.05064219981431961, 305.5514221191406, 180.04885864257812, 142.7925262451172, 138.12368774414062, 97.79293823242188, 92.9774398803711, 87.22760772705078, 64.704833984375, 64.36087799072266, 61.34123229980469, 52.55228805541992, 45.21572494506836, 39.78034210205078, 39.26038360595703, 37.505149841308594, 36.79203414916992, 31.58087921142578, 26.99778938293457, 25.704288482666016, 25.539440155029297, 22.476289749145508, 22.372764587402344, 19.78248405456543, 19.473405838012695, 17.81602668762207, 16.835691452026367, 16.43125343322754, 13.522286415100098, 8.349081993103027, 5.336164474487305, 611.6151123046875, 269.4745788574219, 98.83816528320312, 96.4486312866211, 80.9158706665039, 56.92500305175781, 53.92845153808594, 47.2237663269043, 45.35382843017578, 37.8215446472168, 35.616607666015625, 31.177640914916992, 25.767078399658203, 24.32234764099121, 23.5651798248291, 11.431596755981445, 4.924394607543945, 4.0815534591674805, 4.078929901123047, 1.0380514860153198, 0.0696900263428688, 0.06968098133802414, 0.06968086212873459, 0.06968040764331818, 0.06968119740486145, 0.06968043744564056, 0.0696856826543808, 0.06970204412937164, 0.06968475878238678, 0.06967980414628983, 0.06968599557876587, 0.06970993429422379, 0.06968899816274643, 0.0696902796626091, 0.06969206035137177, 0.069696344435215, 0.06969734281301498, 0.06972989439964294, 0.06969843804836273, 0.06976853311061859, 0.06970439851284027, 0.06970121711492538, 0.06970296055078506, 0.06969936937093735, 0.06969863176345825, 475.82135009765625, 303.3712158203125, 202.3219757080078, 79.61517333984375, 60.5246467590332, 59.975860595703125, 51.780906677246094, 36.97505569458008, 28.811511993408203, 28.591899871826172, 26.376998901367188, 22.250213623046875, 19.915279388427734, 18.487394332885742, 16.31441879272461, 11.157151222229004, 9.98892593383789, 8.577620506286621, 8.145648002624512, 6.831977844238281, 5.900028705596924, 5.297983646392822, 4.33957052230835, 3.902946710586548, 3.8924214839935303, 3.7848896980285645, 1.2941696643829346, 1.170594334602356, 1.0565850734710693, 0.7584197521209717, 431.3226623535156, 124.18150329589844, 95.9798355102539, 74.9234619140625, 74.32990264892578, 73.63713073730469, 69.59565734863281, 48.47734832763672, 40.3885498046875, 36.8436393737793, 34.10523986816406, 33.41078186035156, 33.30058288574219, 31.542322158813477, 30.78821563720703, 29.92607879638672, 29.349916458129883, 26.392698287963867, 15.73559856414795, 13.480796813964844, 12.693763732910156, 12.669205665588379, 10.486837387084961, 7.384277820587158, 7.104776382446289, 6.989968299865723, 6.107193470001221, 5.604406356811523, 5.5551252365112305, 4.764547348022461, 448.9093933105469, 185.9478302001953, 123.59632110595703, 112.96955108642578, 59.929691314697266, 58.02131271362305, 46.02088928222656, 41.29222106933594, 40.73871612548828, 39.31812286376953, 31.96566390991211, 23.913358688354492, 20.69808578491211, 20.179515838623047, 18.986570358276367, 17.927167892456055, 17.14365577697754, 17.09003448486328, 16.473291397094727, 14.334125518798828, 12.520671844482422, 11.276788711547852, 8.442411422729492, 6.68802547454834, 6.392584323883057, 2.4854111671447754, 1.322109341621399, 0.8744869232177734, 0.8212443590164185, 2.941657781600952, 369.5870666503906, 205.71923828125, 100.47893524169922, 51.11335754394531, 49.12241744995117, 34.47925567626953, 32.1491584777832, 21.906394958496094, 20.53728485107422, 11.531078338623047, 11.472213745117188, 9.774048805236816, 9.281906127929688, 8.066865921020508, 6.815384387969971, 5.234223365783691, 4.243195056915283, 3.3291819095611572, 1.479158878326416, 1.1447535753250122, 0.7374972701072693, 0.04787082225084305, 0.04787200316786766, 0.04786962270736694, 0.047869838774204254, 0.04787018150091171, 0.04786991328001022, 0.04787059128284454, 0.04787038266658783, 0.04787769913673401, 0.0478743277490139, 0.047886092215776443, 0.04788418486714363, 0.04788745194673538, 0.0478731170296669, 0.04787400737404823, 0.047888875007629395, 0.04787615314126015, 0.04787773638963699, 0.047888386994600296, 0.047881681472063065, 0.04794302582740784, 0.04789267107844353, 0.04788801819086075, 0.04789826273918152, 0.04788801446557045, 134.9215087890625, 127.05335235595703, 82.99732971191406, 71.1412124633789, 63.11064147949219, 39.67021560668945, 38.031593322753906, 33.849063873291016, 33.84068298339844, 32.05548858642578, 30.29116439819336, 27.07539939880371, 22.696802139282227, 18.320087432861328, 17.28849983215332, 16.91150665283203, 16.111248016357422, 13.068689346313477, 12.918136596679688, 11.714125633239746, 10.710494995117188, 9.727828025817871, 8.979846954345703, 8.600393295288086, 8.46052360534668, 7.705328941345215, 6.443255424499512, 6.346529960632324, 5.467275619506836, 4.668146133422852, 211.2995147705078, 122.3122329711914, 85.16484069824219, 84.79774475097656, 60.368934631347656, 35.42582321166992, 28.083106994628906, 27.507190704345703, 26.949207305908203, 26.218652725219727, 24.778533935546875, 24.14543342590332, 23.146312713623047, 22.797374725341797, 22.06642723083496, 16.891944885253906, 16.250957489013672, 14.714101791381836, 14.268892288208008, 12.486100196838379, 7.631692409515381, 6.532543659210205, 4.885642051696777, 4.228048801422119, 3.8769376277923584, 3.647272825241089, 1.2054182291030884, 0.48083359003067017, 0.04547177627682686, 0.045470476150512695, 0.04550531134009361, 0.04553182050585747, 128.06103515625, 86.51361846923828, 73.00672912597656, 60.38039016723633, 52.5437126159668, 49.79670333862305, 48.59722137451172, 47.50485610961914, 41.88907241821289, 36.09111404418945, 33.660614013671875, 24.550561904907227, 22.664636611938477, 17.306720733642578, 14.09883975982666, 12.253032684326172, 10.694202423095703, 9.343962669372559, 6.755993843078613, 6.50114631652832, 4.004942417144775, 3.8174073696136475, 3.779348373413086, 2.8912456035614014, 2.4557275772094727, 2.153975248336792, 1.4721403121948242, 0.7461481690406799, 0.04693359509110451, 0.04693342745304108, 0.04693792760372162, 0.04696301743388176, 0.04698042571544647, 194.23959350585938, 68.40299987792969, 58.27980422973633, 51.7722053527832, 50.76702117919922, 41.836212158203125, 41.517147064208984, 38.327423095703125, 30.857250213623047, 20.051952362060547, 19.911836624145508, 18.67864990234375, 18.443702697753906, 10.388843536376953, 6.864941596984863, 6.754647254943848, 3.4433438777923584, 3.2615773677825928, 0.8527135848999023, 0.041509222239255905, 0.041509706526994705, 0.04150921478867531, 0.041507232934236526, 0.04150750860571861, 0.041507940739393234, 0.04150725528597832, 0.041507236659526825, 0.04150771722197533, 0.04150865972042084, 0.04150926321744919, 0.0415155403316021, 0.04151330143213272, 0.041510701179504395, 0.04151014983654022, 0.04151005670428276, 0.04150913655757904, 0.04151728376746178, 0.041522905230522156, 0.04152585193514824, 0.04156728461384773, 0.041537169367074966, 0.04152226075530052, 0.04151356220245361, 0.04151947796344757, 0.041515011340379715, 0.041515838354825974, 0.04152097553014755, 0.04151906818151474, 0.04151570796966553, 105.80826568603516, 92.60045623779297, 56.849735260009766, 38.54515838623047, 13.852402687072754, 9.655084609985352, 4.528082847595215, 0.6438673138618469, 0.03673647716641426, 0.036732129752635956, 0.03673253953456879, 0.036732468754053116, 0.03673160821199417, 0.03673160821199417, 0.03673207759857178, 0.03673161566257477, 0.03673068806529045, 0.036730505526065826, 0.036730505526065826, 0.036730505526065826, 0.036730509251356125, 0.03673117980360985, 0.036730892956256866, 0.036730509251356125, 0.0367305688560009, 0.0367305763065815, 0.03673085197806358, 0.03673088178038597, 0.036730870604515076, 0.036730699241161346, 0.036732930690050125, 0.03673418238759041, 0.03673192858695984, 0.03673221543431282, 0.03673367202281952, 0.03673447296023369, 0.03673185780644417, 0.03673718869686127, 0.03673345223069191, 0.036732468754053116, 0.03673187270760536, 0.036731693893671036, 0.03673625737428665, 0.036733370274305344, 0.036736853420734406, 0.0367337167263031, 0.03673546016216278, 0.036734648048877716, 0.036732278764247894, 0.03674383461475372, 0.03673460707068443, 0.036735787987709045, 0.03673253208398819, 0.03673245757818222, 0.036732569336891174, 0.03673256188631058, 22.337974548339844, 19.2043399810791, 10.036521911621094, 7.202279567718506, 2.7849435806274414, 2.1669416427612305, 0.8387195467948914, 0.7692986130714417, 0.3549121916294098, 0.022795354947447777, 0.022794827818870544, 0.022794827818870544, 0.022794827818870544, 0.02279471792280674, 0.02279471792280674, 0.02279471792280674, 0.02279462106525898, 0.02279471792280674, 0.022794529795646667, 0.022794529795646667, 0.02279462106525898, 0.02279471792280674, 0.022794542834162712, 0.022794505581259727, 0.02279449626803398, 0.02279471792280674, 0.022794527933001518, 0.022794527933001518, 0.022794527933001518, 0.022794827818870544, 0.02279483713209629, 0.022794824093580246, 0.02279513143002987, 0.022794626653194427, 0.02279500849545002, 0.022794783115386963, 0.0227949321269989, 0.02279503270983696, 0.022794773802161217, 0.022795937955379486, 0.022795621305704117, 0.022795356810092926, 0.022795218974351883, 0.02279558777809143, 0.02279524691402912, 0.02279525250196457, 0.0227951742708683, 0.02279483899474144, 0.02279486693441868, 0.022794874384999275, 0.02279522642493248, 0.0227952990680933, 0.022795280441641808, 0.02279520407319069, 0.022795984521508217, 0.022795703262090683, 0.02279515005648136, 0.02279525436460972, 0.02279847115278244, 0.02279537543654442, 0.022795872762799263, 0.02279525436460972, 0.02279534377157688, 0.02279556915163994, 0.022795282304286957, 0.022795556113123894, 0.022795313969254494, 18.818496704101562, 9.292951583862305, 8.358466148376465, 5.205612659454346, 2.8342134952545166, 2.789414882659912, 0.01553221046924591, 0.015532455407083035, 0.015532093122601509, 0.015532094053924084, 0.015532094053924084, 0.015532112680375576, 0.015532112680375576, 0.015532128512859344, 0.015532121062278748, 0.015532054007053375, 0.015532054007053375, 0.015532054007053375, 0.015532054007053375, 0.015532054007053375, 0.015532054007053375, 0.015532094053924084, 0.01553221046924591, 0.015532054007053375, 0.015532486140727997, 0.015532216988503933, 0.015532027930021286, 0.015532022342085838, 0.015531987883150578, 0.015532054007053375, 0.015532121062278748, 0.01553229708224535, 0.01553221046924591, 0.015532542951405048, 0.015532167628407478, 0.015532304532825947, 0.015532377175986767, 0.015532094053924084, 0.01553230918943882, 0.015532353892922401, 0.015532161109149456, 0.01553272269666195, 0.015532700344920158, 0.015532386489212513, 0.015532315708696842, 0.015532402321696281, 0.015532287769019604, 0.015532533638179302, 0.01553231943398714, 0.015532350167632103, 0.01553258765488863, 0.01553251687437296, 0.015532335266470909, 0.015533055178821087, 0.015532619319856167, 0.015533220954239368, 0.015533222816884518, 0.01553356647491455, 0.01553584635257721, 0.015532496385276318, 0.01553280744701624, 0.015532482415437698, 0.015533028170466423, 0.015532965771853924, 0.01553240604698658, 0.015533216297626495, 0.015532542020082474, 0.015532678924500942, 0.015532567165791988, 0.015532560646533966, 0.015532544814050198, 0.01553250476717949, 21.644987106323242, 13.006523132324219, 8.49125862121582, 2.724656105041504, 1.0761466026306152, 0.014951645396649837, 0.01495142001658678, 0.014951362274587154, 0.014951362274587154, 0.014951362274587154, 0.014951362274587154, 0.014951362274587154, 0.014951362274587154, 0.014951362274587154, 0.014951362274587154, 0.014951476827263832, 0.014951375313103199, 0.01495135948061943, 0.014951279386878014, 0.014951873570680618, 0.014951376244425774, 0.014951487071812153, 0.014951227232813835, 0.014951245859265327, 0.014951209537684917, 0.01495121605694294, 0.014951360411942005, 0.014951174147427082, 0.014951174147427082, 0.014951174147427082, 0.014951192773878574, 0.014951192773878574, 0.014951192773878574, 0.014951174147427082, 0.014951174147427082, 0.014951192773878574, 0.014951449818909168, 0.014951566234230995, 0.014951192773878574, 0.01495135948061943, 0.014951398596167564, 0.014951455406844616, 0.014951403252780437, 0.014951475895941257, 0.014951476827263832, 0.014951548539102077, 0.014951583929359913, 0.014951476827263832, 0.014951580204069614, 0.014951583929359913, 0.014951645396649837, 0.014951633289456367, 0.014951540157198906, 0.014951611869037151, 0.014951562508940697, 0.01495183166116476, 0.01495165191590786, 0.014951693825423717, 0.014951527118682861, 0.014951543882489204, 0.014951442368328571, 0.014951619319617748, 0.014951685443520546, 0.014952083118259907, 0.014951702207326889, 0.014951801858842373, 0.014951645396649837, 0.01495364774018526, 0.014952313154935837, 0.014955440536141396, 0.014952698722481728, 0.01495260838419199, 0.014951788820326328, 0.014952059835195541, 0.014952189289033413, 0.014951769262552261, 0.014951689168810844, 0.014951798133552074, 0.01495212223380804, 0.014951658435165882, 0.014951825141906738, 0.014951798133552074, 0.014951853081583977, 0.01495178509503603, 0.014951726421713829, 0.014951690100133419], \"Term\": [\"trip\", \"pound\", \"fish\", \"day\", \"good\", \"2\", \"8\", \"lb\", \"independence\", \"weather\", \"today\", \"took\", \"rod\", \"jeff\", \"4\", \"best\", \"yellowfin\", \"tuna\", \"first\", \"5\", \"30\", \"6\", \"fishing\", \"aboard\", \"two\", \"tomorrow\", \"cows\", \"got\", \"came\", \"well\", \"today\", \"weather\", \"tomorrow\", \"well\", \"wahoo\", \"sardine\", \"indy_crew\", \"hook\", \"dorado\", \"going\", \"morning\", \"20\", \"see\", \"40\", \"sign\", \"action\", \"saw\", \"excellent\", \"things\", \"really\", \"started\", \"couple\", \"afternoon\", \"crew\", \"try\", \"early\", \"charter\", \"area\", \"yesterday\", \"arrived\", \"good\", \"around\", \"way\", \"tuna\", \"get\", \"great\", \"us\", \"fishing\", \"everyone\", \"bite\", \"yellowtail\", \"one\", \"caught\", \"big\", \"pounds\", \"yellowfin_tuna\", \"report\", \"another\", \"boat\", \"anglers\", \"also\", \"bit\", \"line\", \"back\", \"bluefin\", \"offshore\", \"days\", \"catch\", \"went\", \"still\", \"3\", \"25\", \"last\", \"made\", \"san_diego\", \"night\", \"bluefin_tuna\", \"15\", \"group\", \"plan\", \"1\", \"fish\", \"fished\", \"day\", \"got\", \"time\", \"nice\", \"50\", \"yellowtail\", \"fishing\", \"tuna\", \"trip\", \"pound\", \"30\", \"6\", \"7\", \"indy\", \"10\", \"thanks_for_checking\", \"mark\", \"yellows\", \"home\", \"kite\", \"45\", \"call\", \"halibut\", \"ed\", \"bigger\", \"spots\", \"flat_calm\", \"130\", \"perfect\", \"coast\", \"success\", \"good_evening_everyone\", \"fantastic\", \"away\", \"giant\", \"tuesday\", \"load_of_bait\", \"large\", \"independence\", \"yellowfin\", \"5\", \"returned\", \"thanks\", \"jackpot\", \"mike\", \"2nd_place\", \"3rd_place\", \"wasnt\", \"jackpot_winners\", \"brian\", \"picked\", \"next_year\", \"1st_place\", \"thought\", \"size\", \"dave\", \"wow\", \"jim\", \"species\", \"job\", \"past_few_days\", \"stay\", \"hurricane\", \"203\", \"followed\", \"thomas\", \"69\", \"jp_winners\", \"look_forward\", \"2\", \"8\", \"4\", \"11\", \"37\", \"39\", \"beauties\", \"fair\", \"chance\", \"spring\", \"seeker\", \"richard\", \"42\", \"people\", \"daily_limits\", \"dane_barriault\", \"business\", \"18_to_35\", \"yoyo_jig\", \"tim\", \"charlie\", \"company\", \"slide\", \"rogers\", \"said\", \"won_first_place\", \"five\", \"albacore\", \"won_second_place\", \"pound_yellowfin\", \"pounder\", \"used\", \"jeff\", \"came\", \"long\", \"along\", \"0\", \"stop\", \"quality\", \"32\", \"33\", \"making\", \"bank\", \"43\", \"weather_continues\", \"watching\", \"handful\", \"never\", \"continue\", \"nice_grade\", \"giving\", \"hope_to_see\", \"finishing\", \"mean\", \"mahi_mahi\", \"connect\", \"cold\", \"daily_limit\", \"grey\", \"said\", \"pounder\", \"won_first_place\", \"albacore\", \"two\", \"200\", \"like\", \"rest\", \"top\", \"passengers\", \"cow\", \"thank\", \"added\", \"boats\", \"huge\", \"epic\", \"several\", \"monday\", \"included\", \"office\", \"next_few_days\", \"meals\", \"great_job\", \"order\", \"opted\", \"website\", \"add\", \"info\", \"wait\", \"calling\", \"tune\", \"understanding\", \"believe\", \"seemed\", \"lb\", \"cows\", \"47\", \"thing\", \"everything\", \"im\", \"2nd\", \"pictures\", \"last_couple\", \"3rd\", \"wish_us\", \"1st\", \"name\", \"heartbreaks\", \"74\", \"timing\", \"mac\", \"brett\", \"scratched_away\", \"keep_you_posted_wish_us\", \"place_went\", \"graf_tech_rod\", \"gift_certificate\", \"yellow_who_won\", \"white_sea_bass\", \"100_gift_cert\", \"215\", \"jeff_and_the_indy_crew\", \"240\", \"indy_jacket\", \"won\", \"lbs\", \"70\", \"good_evening\", \"please_wish_us_luck\", \"hello\", \"year\", \"pounder\", \"many\", \"said\", \"five\", \"reel\", \"used\", \"won_first_place\", \"albacore\", \"took\", \"aboard\", \"better\", \"hit\", \"eta\", \"different\", \"wrapped\", \"roger\", \"mode\", \"turned\", \"6am\", \"battle\", \"together\", \"sal_proetto\", \"position\", \"happen\", \"5am\", \"reds\", \"sundays\", \"icing_on_the_cake\", \"main\", \"waiting\", \"barn\", \"joe_solomon\", \"self\", \"looking_forward_to_seeing\", \"jim_bowman\", \"lots_of_smiles\", \"lori\", \"heat\", \"best\", \"saturday\", \"200_pounds\", \"kelps\", \"coming\", \"take\", \"arrive\", \"always\", \"though\", \"rail\", \"finish\", \"stuff\", \"note\", \"trophy\", \"fresh\", \"successful\", \"christmas\", \"gorgeous\", \"give_aways\", \"topped\", \"country\", \"strong\", \"handed\", \"aftco\", \"personal_bests\", \"enjoyable\", \"chasing\", \"lower_zone\", \"hats\", \"scenery\", \"rod\", \"tackle\", \"new\", \"gear\", \"youngs_tackle\", \"sponsors\", \"headed_south\", \"rods\", \"calstar\", \"raffle\", \"daiwa\", \"izorline\", \"shimano\", \"baits\", \"owner_hooks\", \"salas\", \"lures\", \"would_like_to_thank\", \"lifetime\", \"great_giveaways\", \"swag\", \"travels\", \"trophies\", \"around_noon\", \"give_away\", \"promar\", \"walked_away\", \"getting_rigged\", \"balmy\", \"kevin\", \"first\", \"right\", \"mixed\", \"charter_master\", \"good_as_it_gets\", \"real\", \"premium\", \"eager\", \"surface_iron\", \"friend\", \"share\", \"hey\", \"results\", \"phenix_rods\", \"serious\", \"tap\", \"rolling_right_along\", \"fly_line\", \"yo_yo_jigs\", \"sorts\", \"keep_you_posted\", \"bud\", \"boats_kite_rig\", \"dutcher\", \"hit_the_deck\", \"hrs\", \"reel_and_a_super_seeker_6463\", \"56\", \"victor\", \"squid\", \"grouper\", \"many\", \"second\", \"pound_yellowfin\", \"smith\", \"hand\", \"lbs\", \"owner\", \"please_wish_us_luck\", \"reel\", \"jeff_and_the_indy_crew\", \"said\", \"albacore\", \"five\", \"pounder\", \"used\", \"jigs\", \"dock\", \"36\", \"june\", \"move\", \"reels\", \"bring\", \"lucky\", \"quick\", \"fast\", \"posted\", \"slower\", \"tired\", \"stories\", \"scheduled\", \"till\", \"looks_like\", \"departure\", \"boy\", \"lately\", \"breaking\", \"shots\", \"word\", \"test\", \"feeling\", \"sharing\", \"nights\", \"opportunities\", \"tour\", \"hot_and_heavy\", \"trips\", \"john\", \"bob\", \"brought\", \"sportfishing\", \"schedule\", \"wish\", \"openings\", \"ken\", \"andy\", \"221\", \"m\", \"book\", \"49\", \"234\", \"204\", \"pair\", \"yt\", \"213\", \"expected\", \"270\", \"elusive\", \"quickly\", \"196\", \"sun_came\", \"look_forward_to_seeing\", \"00pm\", \"ronnie\", \"201\", \"217\", \"pounder\", \"said\", \"season\", \"rick_ozaki\", \"avet_reels\", \"paul_strasser\", \"bow\", \"updates\", \"open\", \"last_few_days\", \"17\", \"safe\", \"port\", \"take_care\", \"shirts\", \"traveled\", \"drifts\", \"graftech_rods\", \"anxious\", \"productive\", \"feel\", \"brian_porter\", \"meet\", \"happening\", \"ole\", \"whats\", \"mahi\", \"getting_ready\", \"wifi\", \"lots_of_familiar_faces\", \"donated\", \"west_coast_marketing\", \"16\", \"pounder\", \"said\", \"12\", \"14\", \"skipper\", \"150\", \"land\", \"big_ones\", \"let\", \"sun\", \"family\", \"life\", \"friends\", \"reported\", \"ones\", \"5_30am\", \"indy_will_arrive_at_approximately\", \"sunset\", \"stuck\", \"matthew\", \"downer\", \"beans\", \"130_pound_spectra_backing\", \"larry\", \"viejo\", \"big_game\", \"285\", \"mission\", \"drogin\", \"english\", \"130_pound_soft_steel\", \"skipjack\", \"sardines\", \"penn\", \"chunk\", \"jeff_debuys\", \"dubuys\", \"6_0_hayabusa\", \"130_pound\", \"reel\", \"used\", \"said\", \"pounder\", \"five\", \"third\", \"lbs\", \"mackerel\", \"second\", \"albacore\", \"won_first_place\", \"pound_yellowfin\", \"every\", \"check\", \"make\", \"decided\", \"great_way_to_end\", \"chop\", \"cant_wait\", \"concentrate\", \"per\", \"dollars\", \"fuel\", \"passport\", \"pricing\", \"gallon\", \"charge\", \"person\", \"357\", \"counts\", \"paper\", \"union\", \"proof\", \"fred_hall_show\", \"nov\", \"correction\", \"earned\", \"dollers\", \"surcharge\", \"near_future\", \"actually\", \"resting\", \"moment\", \"angler\", \"2010\", \"price\", \"captain_jeff\", \"would_like\", \"dont\", \"year\", \"grounds\", \"entire\", \"set\", \"return\", \"many\", \"hello_everyone\", \"albacore\", \"jeff_and_the_indy_crew\", \"five\", \"lbs\", \"26\", \"said\", \"used\", \"pounder\", \"hello\", \"three\", \"pound_yellowfin\", \"reel\", \"travel\", \"story\", \"bites\", \"calm\", \"sent\", \"spirits\", \"annual_tahoe\", \"advantage\", \"gonna_try\", \"peterson\", \"caleb\", \"mom\", \"heaven\", \"straits\", \"charest\", \"woolrich\", \"ample\", \"bratton\", \"mistake\", \"hospitallity\", \"going_to_switch_gears\", \"escondido\", \"rested\", \"bowl\", \"trading\", \"94150\", \"dice\", \"bonderson\", \"anybodys\", \"miss\", \"recent\", \"click\", \"6470_rod\", \"describe\", \"bridge\", \"doesnt\", \"top_shots\", \"hi\", \"diameter\", \"captain_jeff\", \"smaller\", \"category\", \"48\", \"late\", \"two_speed\", \"color\", \"short\", \"read\", \"drag\", \"absolutely\", \"fluorocarbon\", \"guadalupe_island\", \"reports\", \"small\", \"many\", \"jeff_and_the_indy_crew\", \"point_loma\", \"good_evening\", \"said\", \"16\", \"used\", \"third\", \"reel_and_a_calstar\", \"five\", \"year\", \"pounder\", \"albacore\", \"23\", \"taking\", \"amount\", \"impressive\", \"jump\", \"space\", \"villanueva\", \"deckhand\", \"kicks\", \"nearest\", \"reality\", \"emergency\", \"medical\", \"wrapping\", \"lobato\", \"deere\", \"installed\", \"countless\", \"cosmetic\", \"upgrades\", \"generators\", \"scenario\", \"frink\", \"covered_lots\", \"brandon\", \"54\", \"clarence\", \"bigfish\", \"offloaded\", \"session\", \"mcfarlane\", \"mexican\", \"mako\", \"kyle_rooster_karcher\", \"limited\", \"record\", \"passport\", \"highly\", \"accurate_reels\", \"program\", \"spots_available\", \"posed\", \"mark_pisano\", \"blue_izorline\", \"stern\", \"mark_paul\", \"upcoming\", \"dubuys\", \"theres\", \"beans\", \"long_range\", \"seen\", \"marlin\", \"sardines\", \"islands\", \"year\", \"many\", \"five\", \"said\", \"guadalupe_island\", \"chartermaster\", \"tied\", \"used\", \"albacore\", \"entire\", \"pounder\", \"weighed\", \"lbs\", \"pound_yellowfin\", \"won_second_place\", \"reel\", \"16\", \"run\", \"anything\", \"class\", \"spread\", \"seems_like\", \"seiner\", \"might_encounter\", \"concha\", \"corey\", \"durham\", \"earl\", \"margarita\", \"steaming\", \"circled\", \"stoney\", \"skipper_kyle_rooster\", \"wrapping\", \"john_tommy\", \"steaks\", \"karcher\", \"else\", \"nagao\", \"285lb\", \"reporting\", \"bowl\", \"extreme\", \"pacific\", \"liking\", \"gratin\", \"explored\", \"ichinokuchi\", \"freezer\", \"izoreline\", \"au\", \"wtih\", \"improvements\", \"116\", \"ml\", \"subtle\", \"robin_joo\", \"vacation\", \"reel_and_a_super_seeker_6463\", \"major\", \"165\", \"vista\", \"bud\", \"claw_hook\", \"docked_independence\", \"near_limits\", \"7_0_eagle\", \"brent\", \"might\", \"tied_to_130\", \"larry\", \"indys\", \"continued\", \"strasser\", \"short\", \"100_pound_izorline\", \"140\", \"worth\", \"november\", \"yards\", \"hello_everyone\", \"0_super_mutu\", \"100_pound\", \"dubuys\", \"pounder\", \"pound_yellowfin\", \"said\", \"albacore\", \"five\", \"squid\", \"130_pound\", \"won_second_place\", \"bagged\", \"h_rod\", \"line_one_spectra\", \"used\", \"fluorocarbon\", \"won_third_place\", \"debuys\", \"won_first_place\", \"reel\", \"lbs\", \"many\"], \"Total\": [2701.0, 1834.0, 2800.0, 3683.0, 3087.0, 765.0, 715.0, 612.0, 1026.0, 2027.0, 1991.0, 476.0, 449.0, 490.0, 508.0, 432.0, 514.0, 2650.0, 370.0, 489.0, 687.0, 679.0, 2809.0, 304.0, 306.0, 1145.0, 270.0, 1241.0, 262.0, 1009.0, 1991.3173828125, 2027.19287109375, 1145.7506103515625, 1009.9296264648438, 791.65234375, 721.5535278320312, 624.8468017578125, 561.7886962890625, 555.2627563476562, 544.2068481445312, 721.8663330078125, 459.4613037109375, 446.79742431640625, 445.2655029296875, 400.6245422363281, 399.2608947753906, 367.4648132324219, 365.5323181152344, 356.1160888671875, 351.741943359375, 313.09149169921875, 308.7933044433594, 307.1719055175781, 296.5284423828125, 295.0238342285156, 289.6528625488281, 271.9783630371094, 247.01441955566406, 239.4087677001953, 236.35952758789062, 3087.69482421875, 444.649658203125, 492.2081604003906, 2650.725830078125, 596.5382690429688, 1245.69580078125, 826.7201538085938, 2809.468017578125, 858.8724365234375, 429.1567687988281, 2495.11962890625, 852.8817138671875, 752.2971801757812, 726.57470703125, 716.2084350585938, 690.7546997070312, 670.4140625, 656.04541015625, 652.5768432617188, 592.4976196289062, 564.7042236328125, 534.4204711914062, 534.4749145507812, 501.4897766113281, 484.20819091796875, 473.40203857421875, 472.51593017578125, 442.9419860839844, 419.7391662597656, 379.6062927246094, 368.89739990234375, 342.6579284667969, 340.00054931640625, 336.2679138183594, 316.82867431640625, 305.5906982421875, 304.7969970703125, 303.18621826171875, 270.25262451171875, 258.8379211425781, 236.7824249267578, 2800.765625, 731.0211181640625, 3683.203125, 1241.626708984375, 576.1456298828125, 377.9794921875, 413.24407958984375, 2495.11962890625, 2809.468017578125, 2650.725830078125, 2701.319091796875, 1834.440185546875, 687.7874755859375, 679.341796875, 402.735107421875, 356.4385070800781, 352.7257385253906, 244.14183044433594, 231.64669799804688, 207.67530822753906, 193.99176025390625, 193.95594787597656, 176.34408569335938, 150.24612426757812, 134.6206817626953, 112.98552703857422, 102.16815948486328, 97.35590362548828, 94.89301300048828, 91.59136962890625, 90.7144546508789, 88.89839935302734, 83.04515838623047, 79.92272186279297, 74.60336303710938, 57.17974853515625, 53.14937210083008, 50.99085235595703, 49.78879928588867, 48.97982406616211, 1026.134521484375, 514.7908325195312, 489.007568359375, 267.8226318359375, 227.22073364257812, 216.54978942871094, 202.63516235351562, 158.4874267578125, 149.6463623046875, 102.3310546875, 101.49517059326172, 91.328125, 85.62501525878906, 81.93296813964844, 71.40023803710938, 65.84281921386719, 61.95999526977539, 58.54378128051758, 52.9393424987793, 50.82670974731445, 50.17302703857422, 40.85897445678711, 39.48353958129883, 36.538822174072266, 29.99638557434082, 29.707778930664062, 29.312963485717773, 25.607574462890625, 25.125587463378906, 21.54364013671875, 21.033254623413086, 765.4537353515625, 715.535400390625, 508.36663818359375, 143.1682586669922, 52.75931930541992, 51.313629150390625, 49.88440704345703, 49.824974060058594, 45.14937210083008, 43.058414459228516, 39.85349655151367, 30.727746963500977, 29.91596031188965, 24.20768165588379, 20.360557556152344, 16.771337509155273, 16.287019729614258, 12.686543464660645, 11.940752983093262, 11.67227554321289, 8.93118667602539, 7.961178779602051, 3.8545074462890625, 2.3196942806243896, 0.9359501600265503, 0.9344874620437622, 0.9345479607582092, 0.9345878958702087, 0.9343867301940918, 0.9343957304954529, 0.9350228309631348, 0.9345821142196655, 490.7226867675781, 262.8365478515625, 228.71710205078125, 174.52020263671875, 161.86810302734375, 106.68986511230469, 98.32936096191406, 94.00150299072266, 77.24771118164062, 77.23965454101562, 71.6453857421875, 64.56269836425781, 39.94136047363281, 38.0992317199707, 36.05717468261719, 29.499855041503906, 25.903106689453125, 24.930742263793945, 18.358980178833008, 17.77332305908203, 10.655080795288086, 8.986407279968262, 8.154850006103516, 7.014386177062988, 6.193297386169434, 3.173816680908203, 1.453461766242981, 0.9359501600265503, 0.9350228309631348, 0.9344874620437622, 0.9345878958702087, 306.4329528808594, 180.93031311035156, 143.67398071289062, 139.00514221191406, 98.6744155883789, 93.85891723632812, 88.10908508300781, 65.58631134033203, 65.24235534667969, 62.222694396972656, 53.43375015258789, 46.09718704223633, 40.66180419921875, 40.141845703125, 38.38661193847656, 37.67349624633789, 32.46234130859375, 27.879261016845703, 26.58576011657715, 26.42091178894043, 23.35776138305664, 23.254236221313477, 20.663955688476562, 20.354877471923828, 18.697498321533203, 17.7171630859375, 17.312725067138672, 14.403754234313965, 9.230549812316895, 6.217634201049805, 612.4793701171875, 270.3389587402344, 99.70246887207031, 97.31293487548828, 81.7801742553711, 57.7892951965332, 54.79274368286133, 48.08805847167969, 46.21812057495117, 38.68583679199219, 36.480899810791016, 32.04193878173828, 26.631378173828125, 25.186647415161133, 24.429479598999023, 12.295894622802734, 5.788694381713867, 4.945853233337402, 4.943229675292969, 1.9023500680923462, 0.9340479373931885, 0.9339927434921265, 0.9339962601661682, 0.9339942336082458, 0.9340059757232666, 0.9339959025382996, 0.9340673089027405, 0.9342904686927795, 0.9340591430664062, 0.9339933395385742, 0.9340792894363403, 0.9344480633735657, 0.934126615524292, 0.9341554045677185, 0.9341862201690674, 0.9342716336250305, 0.9343048930168152, 0.9350228309631348, 0.9343500733375549, 0.9359501600265503, 0.9345479607582092, 0.9344661235809326, 0.9345821142196655, 0.9344874620437622, 0.9345878958702087, 476.71014404296875, 304.260009765625, 203.210693359375, 80.50390625, 61.41336441040039, 60.86457824707031, 52.66962432861328, 37.863773345947266, 29.700241088867188, 29.480628967285156, 27.265727996826172, 23.13894271850586, 20.80400848388672, 19.376123428344727, 17.203147888183594, 12.045877456665039, 10.877652168273926, 9.466346740722656, 9.034374237060547, 7.720705509185791, 6.788756370544434, 6.186711311340332, 5.228298187255859, 4.791674613952637, 4.781149387359619, 4.673617362976074, 2.182896137237549, 2.0593209266662598, 1.9453117847442627, 1.647146463394165, 432.2057800292969, 125.06453704833984, 96.86286926269531, 75.8064956665039, 75.21293640136719, 74.5201644897461, 70.47869110107422, 49.360374450683594, 41.271575927734375, 37.72666549682617, 34.98826599121094, 34.29380798339844, 34.18360900878906, 32.42534637451172, 31.67125129699707, 30.809114456176758, 30.232952117919922, 27.275733947753906, 16.618633270263672, 14.363829612731934, 13.576796531677246, 13.552237510681152, 11.36987018585205, 8.26731014251709, 7.987810134887695, 7.873002052307129, 6.990227222442627, 6.48744010925293, 6.438158988952637, 5.647581100463867, 449.7940368652344, 186.8323974609375, 124.48091125488281, 113.85414123535156, 60.814266204833984, 58.905887603759766, 46.90546417236328, 42.176795959472656, 41.623291015625, 40.20269775390625, 32.85023880004883, 24.797941207885742, 21.58266830444336, 21.064098358154297, 19.871152877807617, 18.811750411987305, 18.02823829650879, 17.97461700439453, 17.357873916625977, 15.218706130981445, 13.405252456665039, 12.161369323730469, 9.32699203491211, 7.57260799407959, 7.277166843414307, 3.36999249458313, 2.206690549850464, 1.7590683698654175, 1.7058258056640625, 23.66492462158203, 370.4732360839844, 206.60533142089844, 101.36505126953125, 51.99945831298828, 50.00851821899414, 35.3653564453125, 33.03525924682617, 22.792505264282227, 21.42339515686035, 12.41718578338623, 12.358321189880371, 10.660155296325684, 10.168013572692871, 8.952973365783691, 7.701493263244629, 6.12033224105835, 5.129303932189941, 4.215290546417236, 2.3652665615081787, 2.0308613777160645, 1.6236052513122559, 0.9340097904205322, 0.9340367317199707, 0.9339905977249146, 0.933995246887207, 0.9340032339096069, 0.9339984059333801, 0.934012234210968, 0.9340094923973083, 0.9341529607772827, 0.9340876936912537, 0.9343500733375549, 0.9343101978302002, 0.9343957304954529, 0.9340716600418091, 0.9340935945510864, 0.9344480633735657, 0.9341453909873962, 0.9341862201690674, 0.9344661235809326, 0.9342904686927795, 0.9359501600265503, 0.9345878958702087, 0.9345479607582092, 0.9350228309631348, 0.9345821142196655, 135.80873107910156, 127.94058990478516, 83.88456726074219, 72.02845001220703, 63.997867584228516, 40.55744171142578, 38.918819427490234, 34.736289978027344, 34.727909088134766, 32.94271469116211, 31.178396224975586, 27.962631225585938, 23.584033966064453, 19.207319259643555, 18.175731658935547, 17.798738479614258, 16.99847984313965, 13.95591926574707, 13.805366516113281, 12.60135555267334, 11.597724914550781, 10.615057945251465, 9.867076873779297, 9.48762321472168, 9.347753524780273, 8.592558860778809, 7.33048677444458, 7.233761310577393, 6.354506969451904, 5.55537748336792, 212.1880340576172, 123.20075225830078, 86.05335998535156, 85.68626403808594, 61.257442474365234, 36.3143310546875, 28.971622467041016, 28.395706176757812, 27.837722778320312, 27.107168197631836, 25.667049407958984, 25.03394889831543, 24.034828186035156, 23.685890197753906, 22.95494270324707, 17.780460357666016, 17.13947296142578, 15.602615356445312, 15.157405853271484, 13.374613761901855, 8.520206451416016, 7.421058654785156, 5.7741570472717285, 5.11656379699707, 4.7654523849487305, 4.535787582397461, 2.0939321517944336, 1.3693478107452393, 0.9340627193450928, 0.9340605139732361, 0.9350228309631348, 0.9359501600265503, 128.94808959960938, 87.40067291259766, 73.89378356933594, 61.26744079589844, 53.430763244628906, 50.683753967285156, 49.48427200317383, 48.39190673828125, 42.776123046875, 36.97816467285156, 34.547664642333984, 25.43761444091797, 23.55168914794922, 18.19377326965332, 14.985892295837402, 13.140085220336914, 11.581254959106445, 10.2310152053833, 7.643047332763672, 7.388199806213379, 4.891995906829834, 4.704461097717285, 4.6664018630981445, 3.7782979011535645, 3.3427798748016357, 3.041027545928955, 2.3591926097869873, 1.633200764656067, 0.9340543150901794, 0.9341031908988953, 0.9342285394668579, 0.9350228309631348, 0.9359501600265503, 195.13206481933594, 69.29547882080078, 59.172271728515625, 52.6646728515625, 51.659488677978516, 42.72867965698242, 42.40961456298828, 39.21989059448242, 31.74972152709961, 20.94442367553711, 20.80430793762207, 19.571121215820312, 19.33617401123047, 11.2813138961792, 7.757412910461426, 7.64711856842041, 4.335814952850342, 4.154048442840576, 1.7451841831207275, 0.9340355396270752, 0.9340466260910034, 0.934036374092102, 0.933998703956604, 0.9340054988861084, 0.9340178370475769, 0.9340025782585144, 0.9340036511421204, 0.9340150356292725, 0.9340362548828125, 0.9340501427650452, 0.9342069029808044, 0.9341549277305603, 0.9340898990631104, 0.9340768456459045, 0.9340749979019165, 0.9340508580207825, 0.9342915415763855, 0.9344661235809326, 0.9345821142196655, 0.9359501600265503, 0.9350228309631348, 0.9345479607582092, 0.9342066049575806, 0.9344480633735657, 0.934272050857544, 0.9343101978302002, 0.9345878958702087, 0.9344874620437622, 0.9343957304954529, 106.70552062988281, 93.49771118164062, 57.746978759765625, 39.44240188598633, 14.749648094177246, 10.55233097076416, 5.425329208374023, 1.541113257408142, 0.9340579509735107, 0.9340133666992188, 0.9340239763259888, 0.9340223670005798, 0.9340010285377502, 0.9340022802352905, 0.9340142607688904, 0.9340030550956726, 0.9339858293533325, 0.9339818954467773, 0.9339818954467773, 0.9339818954467773, 0.9339820742607117, 0.9339994788169861, 0.9339931607246399, 0.9339843988418579, 0.9339866042137146, 0.9339868426322937, 0.9339942336082458, 0.9339953660964966, 0.9339969158172607, 0.933992862701416, 0.934053361415863, 0.9340899586677551, 0.9340274333953857, 0.9340381622314453, 0.9340987801551819, 0.9341341853141785, 0.9340444803237915, 0.9343048930168152, 0.9341240525245667, 0.9340850114822388, 0.9340537786483765, 0.9340435862541199, 0.9343500733375549, 0.9342090487480164, 0.9345878958702087, 0.9342904686927795, 0.9345479607582092, 0.9344480633735657, 0.9341091513633728, 0.9359501600265503, 0.9345821142196655, 0.9350228309631348, 0.9342716336250305, 0.9342215061187744, 0.9343957304954529, 0.9344661235809326, 23.249155044555664, 20.115520477294922, 10.947702407836914, 8.113459587097168, 3.696124315261841, 3.07812237739563, 1.749900460243225, 1.6804795265197754, 1.266093134880066, 0.9339960813522339, 0.9339832663536072, 0.9339832663536072, 0.9339873194694519, 0.9339836239814758, 0.9339836239814758, 0.9339836239814758, 0.9339810013771057, 0.9339858293533325, 0.933978259563446, 0.933978259563446, 0.9339823126792908, 0.9339865446090698, 0.933979868888855, 0.9339792132377625, 0.9339789152145386, 0.9339880347251892, 0.9339806437492371, 0.9339806437492371, 0.9339806437492371, 0.9339927434921265, 0.9339942336082458, 0.933995246887207, 0.9340103268623352, 0.9339859485626221, 0.9340065121650696, 0.933994710445404, 0.9340032935142517, 0.9340088963508606, 0.9339962005615234, 0.9340987801551819, 0.9340800046920776, 0.9340542554855347, 0.9340457320213318, 0.9340924024581909, 0.9340510368347168, 0.934054970741272, 0.9340627193450928, 0.9340070486068726, 0.9340135455131531, 0.9340143203735352, 0.934096097946167, 0.9341221451759338, 0.9341186881065369, 0.9341059327125549, 0.9343500733375549, 0.9342904686927795, 0.9341046214103699, 0.9341554045677185, 0.9359501600265503, 0.9342285394668579, 0.9345821142196655, 0.9342066049575806, 0.9342667460441589, 0.9345479607582092, 0.9343048930168152, 0.9350228309631348, 0.9345878958702087, 19.736940383911133, 10.211394309997559, 9.276908874511719, 6.124056339263916, 3.7526566982269287, 3.7078583240509033, 0.9339850544929504, 0.9340010285377502, 0.9339793920516968, 0.9339820742607117, 0.9339821338653564, 0.933983325958252, 0.9339839220046997, 0.9339855313301086, 0.9339856505393982, 0.9339821934700012, 0.9339821934700012, 0.9339821934700012, 0.9339821934700012, 0.9339821934700012, 0.9339821934700012, 0.93398517370224, 0.9339929819107056, 0.9339835047721863, 0.9340097904205322, 0.9339935779571533, 0.9339825510978699, 0.9339821934700012, 0.9339801669120789, 0.9339842200279236, 0.9339890480041504, 0.9340006709098816, 0.9339962005615234, 0.9340241551399231, 0.9339949488639832, 0.9340119361877441, 0.9340223670005798, 0.9339882731437683, 0.9340157508850098, 0.9340215921401978, 0.9339970350265503, 0.9340770244598389, 0.9340749979019165, 0.9340289235115051, 0.934024453163147, 0.9340390563011169, 0.9340200424194336, 0.9340749979019165, 0.9340312480926514, 0.9340355396270752, 0.9340929388999939, 0.934074342250824, 0.9340326189994812, 0.9342069029808044, 0.9341108202934265, 0.9343048930168152, 0.9343500733375549, 0.9345479607582092, 0.9359501600265503, 0.9341221451759338, 0.9342942237854004, 0.9341273903846741, 0.9345821142196655, 0.9345878958702087, 0.9340850114822388, 0.9350228309631348, 0.9342332482337952, 0.9344480633735657, 0.9343957304954529, 0.9343867301940918, 0.9344661235809326, 0.9342285394668579, 22.564010620117188, 13.92554759979248, 9.410283088684082, 3.6436803340911865, 1.9951708316802979, 0.933990478515625, 0.9339847564697266, 0.9339828491210938, 0.9339828491210938, 0.9339828491210938, 0.9339828491210938, 0.9339828491210938, 0.9339828491210938, 0.9339828491210938, 0.9339828491210938, 0.9339916110038757, 0.9339855313301086, 0.9339849352836609, 0.9339805245399475, 0.9340177774429321, 0.933987021446228, 0.9339950084686279, 0.9339792728424072, 0.9339803457260132, 0.9339792132377625, 0.9339798092842102, 0.9339889287948608, 0.9339776039123535, 0.9339776039123535, 0.9339776039123535, 0.9339785575866699, 0.9339785575866699, 0.9339785575866699, 0.9339776039123535, 0.9339776039123535, 0.9339785575866699, 0.9339955449104309, 0.9340032935142517, 0.9339785575866699, 0.9339902400970459, 0.9339936971664429, 0.9339984059333801, 0.9339943528175354, 0.9340010285377502, 0.9340022206306458, 0.9340097904205322, 0.9340153932571411, 0.934005618095398, 0.9340184926986694, 0.9340221285820007, 0.9340348243713379, 0.9340388774871826, 0.9340206980705261, 0.934036374092102, 0.9340263605117798, 0.934084415435791, 0.9340500831604004, 0.9340627193450928, 0.9340229034423828, 0.9340284466743469, 0.9340019226074219, 0.93404620885849, 0.9340691566467285, 0.9342090487480164, 0.9340863823890686, 0.9341370463371277, 0.9340749979019165, 0.9350228309631348, 0.9343957304954529, 0.9359501600265503, 0.9345878958702087, 0.9345479607582092, 0.9341529607772827, 0.9342915415763855, 0.9343867301940918, 0.9341451525688171, 0.934114933013916, 0.934231698513031, 0.9345821142196655, 0.934096097946167, 0.9342883825302124, 0.9343000650405884, 0.9344874620437622, 0.9344661235809326, 0.9344480633735657, 0.9343500733375549], \"loglift\": [30.0, 29.0, 28.0, 27.0, 26.0, 25.0, 24.0, 23.0, 22.0, 21.0, 20.0, 19.0, 18.0, 17.0, 16.0, 15.0, 14.0, 13.0, 12.0, 11.0, 10.0, 9.0, 8.0, 7.0, 6.0, 5.0, 4.0, 3.0, 2.0, 1.0, 1.054900050163269, 1.0546000003814697, 1.0546000003814697, 1.0544999837875366, 1.0542999505996704, 1.0542000532150269, 1.0540000200271606, 1.0537999868392944, 1.0537999868392944, 1.0537999868392944, 1.0535999536514282, 1.0535000562667847, 1.0534000396728516, 1.0534000396728516, 1.0532000064849854, 1.0532000064849854, 1.0529999732971191, 1.0529999732971191, 1.052899956703186, 1.052899956703186, 1.0526000261306763, 1.0526000261306763, 1.0525000095367432, 1.05239999294281, 1.05239999294281, 1.05239999294281, 1.0521999597549438, 1.051900029182434, 1.0516999959945679, 1.0516999959945679, 1.0348999500274658, 1.0497000217437744, 1.0469000339508057, 0.9161999821662903, 0.9998999834060669, 0.9192000031471252, 0.9501000046730042, 0.7509999871253967, 0.8920000195503235, 0.9898999929428101, 0.5612999796867371, 1.1273000240325928, 1.1272000074386597, 1.1270999908447266, 1.1270999908447266, 1.1270999908447266, 1.1269999742507935, 1.1269999742507935, 1.1269999742507935, 1.1268999576568604, 1.1267999410629272, 1.1267000436782837, 1.1267000436782837, 1.1266000270843506, 1.1265000104904175, 1.1265000104904175, 1.1265000104904175, 1.1262999773025513, 1.1262999773025513, 1.1260000467300415, 1.1260000467300415, 1.1258000135421753, 1.1258000135421753, 1.1256999969482422, 1.125599980354309, 1.125499963760376, 1.125499963760376, 1.1253999471664429, 1.125100016593933, 1.125, 1.1246000528335571, 1.121399998664856, 1.114400029182434, 1.027500033378601, 1.058500051498413, 1.0211999416351318, 1.076200008392334, 1.0236999988555908, 0.18559999763965607, -0.21060000360012054, -0.9150999784469604, 2.319000005722046, 2.3187999725341797, 2.318000078201294, 2.318000078201294, 2.3171000480651855, 2.3169000148773193, 2.316800117492676, 2.315700054168701, 2.315500020980835, 2.3150999546051025, 2.3148000240325928, 2.3148000240325928, 2.314300060272217, 2.313499927520752, 2.3127999305725098, 2.311500072479248, 2.310699939727783, 2.3101999759674072, 2.309999942779541, 2.3097000122070312, 2.3096001148223877, 2.3094000816345215, 2.3087000846862793, 2.308300018310547, 2.307499885559082, 2.303800106048584, 2.3025999069213867, 2.3018999099731445, 2.301500082015991, 2.3011999130249023, 2.2646000385284424, 3.378000020980835, 3.3778998851776123, 3.3763999938964844, 3.3757998943328857, 3.3756000995635986, 3.3754000663757324, 3.3742001056671143, 3.373800039291382, 3.3710999488830566, 3.3710999488830566, 3.3701000213623047, 3.369499921798706, 3.36899995803833, 3.3673999309539795, 3.3664000034332275, 3.365499973297119, 3.3647000789642334, 3.363100051879883, 3.3624000549316406, 3.3622000217437744, 3.358099937438965, 3.3573999404907227, 3.3554999828338623, 3.3501999378204346, 3.349900007247925, 3.3494999408721924, 3.345099925994873, 3.344399929046631, 3.338399887084961, 3.337399959564209, 3.6519999504089355, 3.651900053024292, 3.651400089263916, 3.6470000743865967, 3.6363000869750977, 3.6357998847961426, 3.6352999210357666, 3.6352999210357666, 3.6333999633789062, 3.6324000358581543, 3.63070011138916, 3.624000072479248, 3.623199939727783, 3.615999937057495, 3.608799934387207, 3.5989999771118164, 3.597399950027466, 3.5810000896453857, 3.5762999057769775, 3.574399948120117, 3.5490000247955322, 3.5355000495910645, 3.3928000926971436, 3.1737000942230225, 0.7343000173568726, 0.734000027179718, 0.734000027179718, 0.734000027179718, 0.7339000105857849, 0.7339000105857849, 0.7339000105857849, 0.7339000105857849, 3.820199966430664, 3.8185999393463135, 3.8180999755859375, 3.8169000148773193, 3.816499948501587, 3.813699960708618, 3.812999963760376, 3.8125, 3.810499906539917, 3.810499906539917, 3.8096001148223877, 3.808199882507324, 3.7995998859405518, 3.7985000610351562, 3.7971999645233154, 3.791599988937378, 3.7873001098632812, 3.785900115966797, 3.772700071334839, 3.7709999084472656, 3.7353999614715576, 3.7184998989105225, 3.7072999477386475, 3.6874001026153564, 3.668100118637085, 3.495800018310547, 2.8861000537872314, 0.9074000120162964, 0.9067999720573425, 0.9067000150680542, 0.9067000150680542, 3.9727001190185547, 3.9707000255584717, 3.969399929046631, 3.9691998958587646, 3.966599941253662, 3.966200113296509, 3.9655001163482666, 3.962100028991699, 3.9619998931884766, 3.9612998962402344, 3.9590001106262207, 3.9563000202178955, 3.953700065612793, 3.953399896621704, 3.952399969100952, 3.951900005340576, 3.9481000900268555, 3.94350004196167, 3.9419000148773193, 3.941699981689453, 3.9370999336242676, 3.937000036239624, 3.931999921798706, 3.931299924850464, 3.927299976348877, 3.9245998859405518, 3.92330002784729, 3.912400007247925, 3.875200033187866, 3.822700023651123, 4.000899791717529, 3.9990999698638916, 3.9935998916625977, 3.9934000968933105, 3.9916999340057373, 3.9872000217437744, 3.9863998889923096, 3.984100103378296, 3.9834001064300537, 3.9797000885009766, 3.978300094604492, 3.974900007247925, 3.9693000316619873, 3.967400074005127, 3.9663000106811523, 3.9293999671936035, 3.84060001373291, 3.8101999759674072, 3.8101000785827637, 3.3965001106262207, 1.4068000316619873, 1.4067000150680542, 1.4067000150680542, 1.4067000150680542, 1.4067000150680542, 1.4067000150680542, 1.4067000150680542, 1.4067000150680542, 1.4067000150680542, 1.4067000150680542, 1.4067000150680542, 1.4067000150680542, 1.4067000150680542, 1.4067000150680542, 1.4067000150680542, 1.4067000150680542, 1.406599998474121, 1.4062999486923218, 1.406599998474121, 1.405900001525879, 1.406499981880188, 1.406499981880188, 1.4063999652862549, 1.406499981880188, 1.4063999652862549, 4.133600234985352, 4.132599830627441, 4.131100177764893, 4.1244001388549805, 4.1209001541137695, 4.120800018310547, 4.118500232696533, 4.111700057983398, 4.105100154876709, 4.104899883270264, 4.102399826049805, 4.09630012512207, 4.091800212860107, 4.088500022888184, 4.082499980926514, 4.058899879455566, 4.050300121307373, 4.036900043487549, 4.031899929046631, 4.013199806213379, 3.9951999187469482, 3.9804000854492188, 3.949199914932251, 3.930299997329712, 3.929800033569336, 3.9245998859405518, 3.6126999855041504, 3.5706000328063965, 3.525099992752075, 3.3598999977111816, 4.14709997177124, 4.142000198364258, 4.139999866485596, 4.137400150299072, 4.13730001449585, 4.137199878692627, 4.136499881744385, 4.131100177764893, 4.127500057220459, 4.125400066375732, 4.123600006103516, 4.123000144958496, 4.123000144958496, 4.121500015258789, 4.120800018310547, 4.119999885559082, 4.119500160217285, 4.116199970245361, 4.0945000648498535, 4.085700035095215, 4.081900119781494, 4.081699848175049, 4.068299770355225, 4.036200046539307, 4.0320000648498535, 4.030200004577637, 4.014100074768066, 4.002799987792969, 4.0015997886657715, 3.979099988937378, 4.166600227355957, 4.16379976272583, 4.161399841308594, 4.160799980163574, 4.153900146484375, 4.15339994430542, 4.149499893188477, 4.14739990234375, 4.14709997177124, 4.146299839019775, 4.141300201416016, 4.132199764251709, 4.126699924468994, 4.125699996948242, 4.123000144958496, 4.1203999519348145, 4.118299961090088, 4.118100166320801, 4.116300106048584, 4.108699798583984, 4.100299835205078, 4.093100070953369, 4.068900108337402, 4.044400215148926, 4.039000034332275, 3.8640999794006348, 3.6563000679016113, 3.4697000980377197, 3.4375998973846436, 2.0834999084472656, 4.456699848175049, 4.454800128936768, 4.450300216674805, 4.44189977645874, 4.441199779510498, 4.433700084686279, 4.4319000244140625, 4.41949987411499, 4.416900157928467, 4.3850998878479, 4.384699821472168, 4.372300148010254, 4.3678998947143555, 4.354899883270264, 4.336900234222412, 4.302700042724609, 4.269499778747559, 4.223100185394287, 3.9897000789642334, 3.8857998847961426, 3.6700000762939453, 1.4881000518798828, 1.4881000518798828, 1.4881000518798828, 1.4881000518798828, 1.4881000518798828, 1.4881000518798828, 1.4881000518798828, 1.4881000518798828, 1.4881000518798828, 1.4881000518798828, 1.4881000518798828, 1.4881000518798828, 1.4881000518798828, 1.4881000518798828, 1.4881000518798828, 1.4880000352859497, 1.4881000518798828, 1.4881000518798828, 1.4880000352859497, 1.4881000518798828, 1.4875999689102173, 1.4880000352859497, 1.4879000186920166, 1.4875999689102173, 1.4879000186920166, 4.462800025939941, 4.462399959564209, 4.458700180053711, 4.456999778747559, 4.455399990081787, 4.447299957275391, 4.446300029754639, 4.44350004196167, 4.44350004196167, 4.4421000480651855, 4.440499782562256, 4.437099933624268, 4.431000232696533, 4.422100067138672, 4.419300079345703, 4.4182000160217285, 4.415800094604492, 4.40369987487793, 4.402900218963623, 4.396399974822998, 4.389800071716309, 4.3821001052856445, 4.375199794769287, 4.371200084686279, 4.36959981918335, 4.360400199890137, 4.340400218963623, 4.338500022888184, 4.318999767303467, 4.295400142669678, 4.4899001121521, 4.4868998527526855, 4.483799934387207, 4.483699798583984, 4.479499816894531, 4.469399929046631, 4.4629998207092285, 4.462299823760986, 4.461699962615967, 4.4608001708984375, 4.458899974822998, 4.458000183105469, 4.456500053405762, 4.455900192260742, 4.454699993133545, 4.44290018081665, 4.440899848937988, 4.435500144958496, 4.433700084686279, 4.4253997802734375, 4.383999824523926, 4.366600036621094, 4.327000141143799, 4.303400039672852, 4.287799835205078, 4.276100158691406, 3.9419000148773193, 3.4475998878479004, 1.4716999530792236, 1.4716999530792236, 1.4714000225067139, 1.4709999561309814, 4.578499794006348, 4.575200080871582, 4.573299884796143, 4.570799827575684, 4.568699836730957, 4.567699909210205, 4.567299842834473, 4.56689977645874, 4.5644001960754395, 4.561100006103516, 4.5594000816345215, 4.549900054931641, 4.546999931335449, 4.535399913787842, 4.524400234222412, 4.515500068664551, 4.50570011138916, 4.494699954986572, 4.461999893188477, 4.457499980926514, 4.385300159454346, 4.376500129699707, 4.374599933624268, 4.317800045013428, 4.2769999504089355, 4.240499973297119, 4.113800048828125, 3.802000045776367, 1.594599962234497, 1.594499945640564, 1.594499945640564, 1.5942000150680542, 1.5936000347137451, 4.727799892425537, 4.719399929046631, 4.717199802398682, 4.7153000831604, 4.714900016784668, 4.711299896240234, 4.711100101470947, 4.709400177001953, 4.70389986038208, 4.688799858093262, 4.688499927520752, 4.685699939727783, 4.685100078582764, 4.650000095367432, 4.610099792480469, 4.60830020904541, 4.5019001960754395, 4.490499973297119, 4.016200065612793, 1.6188000440597534, 1.6188000440597534, 1.6188000440597534, 1.6188000440597534, 1.6188000440597534, 1.6188000440597534, 1.6188000440597534, 1.6188000440597534, 1.6188000440597534, 1.6188000440597534, 1.6188000440597534, 1.6187000274658203, 1.6187000274658203, 1.6187000274658203, 1.6187000274658203, 1.6187000274658203, 1.6188000440597534, 1.6187000274658203, 1.6186000108718872, 1.6186000108718872, 1.6181000471115112, 1.618399977684021, 1.618499994277954, 1.6187000274658203, 1.6186000108718872, 1.6187000274658203, 1.6186000108718872, 1.618499994277954, 1.618499994277954, 1.618499994277954, 5.210599899291992, 5.209400177001953, 5.203400135040283, 5.196100234985352, 5.156300067901611, 5.130199909210205, 5.038300037384033, 4.34630012512207, 1.983299970626831, 1.983199954032898, 1.983199954032898, 1.983199954032898, 1.983199954032898, 1.983199954032898, 1.983199954032898, 1.983199954032898, 1.983199954032898, 1.983199954032898, 1.983199954032898, 1.983199954032898, 1.983199954032898, 1.983199954032898, 1.983199954032898, 1.983199954032898, 1.983199954032898, 1.983199954032898, 1.983199954032898, 1.983199954032898, 1.983199954032898, 1.983199954032898, 1.983199954032898, 1.983199954032898, 1.983199954032898, 1.983199954032898, 1.983199954032898, 1.983199954032898, 1.983199954032898, 1.9831000566482544, 1.983199954032898, 1.983199954032898, 1.983199954032898, 1.983199954032898, 1.9830000400543213, 1.9831000566482544, 1.982800006866455, 1.9830000400543213, 1.982800006866455, 1.9829000234603882, 1.9831000566482544, 1.9815000295639038, 1.982699990272522, 1.982300043106079, 1.9830000400543213, 1.9830000400543213, 1.9829000234603882, 1.982800006866455, 6.066699981689453, 6.060299873352051, 6.019800186157227, 5.987500190734863, 5.823599815368652, 5.75570011138916, 5.371200084686279, 5.325300216674805, 4.834799766540527, 2.3938000202178955, 2.393699884414673, 2.393699884414673, 2.393699884414673, 2.393699884414673, 2.393699884414673, 2.393699884414673, 2.393699884414673, 2.393699884414673, 2.393699884414673, 2.393699884414673, 2.393699884414673, 2.393699884414673, 2.393699884414673, 2.393699884414673, 2.393699884414673, 2.393699884414673, 2.393699884414673, 2.393699884414673, 2.393699884414673, 2.393699884414673, 2.393699884414673, 2.393699884414673, 2.393699884414673, 2.393699884414673, 2.393699884414673, 2.393699884414673, 2.393699884414673, 2.393699884414673, 2.393699884414673, 2.393699884414673, 2.393699884414673, 2.393699884414673, 2.393699884414673, 2.393699884414673, 2.393699884414673, 2.393699884414673, 2.393699884414673, 2.393699884414673, 2.393699884414673, 2.393699884414673, 2.3935999870300293, 2.3935999870300293, 2.3935999870300293, 2.3935999870300293, 2.393399953842163, 2.3935000896453857, 2.3935999870300293, 2.3935999870300293, 2.3917999267578125, 2.3935000896453857, 2.3931000232696533, 2.3935000896453857, 2.3935000896453857, 2.393199920654297, 2.393399953842163, 2.392699956893921, 2.3931000232696533, 6.428400039672852, 6.381800174713135, 6.371799945831299, 6.313600063323975, 6.195400238037109, 6.191500186920166, 2.379499912261963, 2.379499912261963, 2.379499912261963, 2.379499912261963, 2.379499912261963, 2.379499912261963, 2.379499912261963, 2.379499912261963, 2.379499912261963, 2.379499912261963, 2.379499912261963, 2.379499912261963, 2.379499912261963, 2.379499912261963, 2.379499912261963, 2.379499912261963, 2.379499912261963, 2.379499912261963, 2.379499912261963, 2.379499912261963, 2.379499912261963, 2.379499912261963, 2.379499912261963, 2.379499912261963, 2.379499912261963, 2.379499912261963, 2.379499912261963, 2.379499912261963, 2.379499912261963, 2.379499912261963, 2.379499912261963, 2.379499912261963, 2.379499912261963, 2.379499912261963, 2.379499912261963, 2.379499912261963, 2.379499912261963, 2.379499912261963, 2.379499912261963, 2.379499912261963, 2.379499912261963, 2.379499912261963, 2.379499912261963, 2.379499912261963, 2.379499912261963, 2.379499912261963, 2.379499912261963, 2.3794000148773193, 2.3794000148773193, 2.379300117492676, 2.379199981689453, 2.378999948501587, 2.377700090408325, 2.3794000148773193, 2.379300117492676, 2.3794000148773193, 2.378999948501587, 2.3789000511169434, 2.379499912261963, 2.378499984741211, 2.379300117492676, 2.3791000843048096, 2.3791000843048096, 2.3791000843048096, 2.3791000843048096, 2.379300117492676, 6.4644999504089355, 6.437900066375732, 6.40339994430542, 6.2154998779296875, 5.888800144195557, 2.371500015258789, 2.371500015258789, 2.371500015258789, 2.371500015258789, 2.371500015258789, 2.371500015258789, 2.371500015258789, 2.371500015258789, 2.371500015258789, 2.371500015258789, 2.371500015258789, 2.371500015258789, 2.371500015258789, 2.371500015258789, 2.371500015258789, 2.371500015258789, 2.371500015258789, 2.371500015258789, 2.371500015258789, 2.371500015258789, 2.371500015258789, 2.371500015258789, 2.371500015258789, 2.371500015258789, 2.371500015258789, 2.371500015258789, 2.371500015258789, 2.371500015258789, 2.371500015258789, 2.371500015258789, 2.371500015258789, 2.371500015258789, 2.371500015258789, 2.371500015258789, 2.371500015258789, 2.371500015258789, 2.371500015258789, 2.371500015258789, 2.371500015258789, 2.371500015258789, 2.371500015258789, 2.371500015258789, 2.371500015258789, 2.3714001178741455, 2.3714001178741455, 2.3714001178741455, 2.3714001178741455, 2.3714001178741455, 2.3714001178741455, 2.3714001178741455, 2.3714001178741455, 2.3714001178741455, 2.3714001178741455, 2.3714001178741455, 2.3714001178741455, 2.371500015258789, 2.3714001178741455, 2.3714001178741455, 2.371299982070923, 2.3714001178741455, 2.371299982070923, 2.3714001178741455, 2.370500087738037, 2.3710999488830566, 2.3696000576019287, 2.3708999156951904, 2.371000051498413, 2.371299982070923, 2.3712000846862793, 2.3710999488830566, 2.371299982070923, 2.3714001178741455, 2.3712000846862793, 2.3708999156951904, 2.3714001178741455, 2.3712000846862793, 2.3712000846862793, 2.371000051498413, 2.371000051498413, 2.371000051498413, 2.3710999488830566], \"logprob\": [30.0, 29.0, 28.0, 27.0, 26.0, 25.0, 24.0, 23.0, 22.0, 21.0, 20.0, 19.0, 18.0, 17.0, 16.0, 15.0, 14.0, 13.0, 12.0, 11.0, 10.0, 9.0, 8.0, 7.0, 6.0, 5.0, 4.0, 3.0, 2.0, 1.0, -3.0344998836517334, -3.0169999599456787, -3.587599992752075, -3.713900089263916, -3.9576001167297363, -4.0503997802734375, -4.194499969482422, -4.30109977722168, -4.31279993057251, -4.332900047302246, -4.05049991607666, -4.502500057220459, -4.5304999351501465, -4.533899784088135, -4.639800071716309, -4.643199920654297, -4.726399898529053, -4.7316999435424805, -4.757800102233887, -4.770199775695801, -4.886899948120117, -4.9008002281188965, -4.906099796295166, -4.941400051116943, -4.946499824523926, -4.964900016784668, -5.02810001373291, -5.12470006942749, -5.156099796295166, -5.169000148773193, -2.615999937057495, -4.539100170135498, -4.440199851989746, -2.887200117111206, -4.294899940490723, -3.639400005340576, -4.018499851226807, -2.99429988861084, -4.038300037384033, -4.634300231933594, -3.3025999069213867, -3.8101000785827637, -3.935699939727783, -3.9704999923706055, -3.9848999977111816, -4.021100044250488, -4.05109977722168, -4.072800159454346, -4.078100204467773, -4.174799919128418, -4.222899913787842, -4.27810001373291, -4.2779998779296875, -4.341800212860107, -4.376999855041504, -4.399600028991699, -4.401400089263916, -4.466300010681152, -4.520100116729736, -4.620800018310547, -4.649499893188477, -4.723499774932861, -4.731299877166748, -4.742400169372559, -4.80210018157959, -4.8383002281188965, -4.84089994430542, -4.846199989318848, -4.961599826812744, -5.004799842834473, -5.094200134277344, -2.627000093460083, -3.977099895477295, -2.446899890899658, -3.5032999515533447, -4.308499813079834, -4.675000190734863, -4.638299942016602, -3.6784000396728516, -3.955899953842163, -4.718500137329102, -1.465499997138977, -1.8526999950408936, -2.8345000743865967, -2.84689998626709, -3.3705999851226807, -3.493000030517578, -3.503499984741211, -3.872499942779541, -3.925299882888794, -4.034900188446045, -4.103400230407715, -4.103600025177002, -4.19920015335083, -4.360300064086914, -4.470799922943115, -4.647200107574463, -4.748700141906738, -4.797399997711182, -4.823200225830078, -4.859000205993652, -4.86870002746582, -4.889100074768066, -4.957900047302246, -4.996699810028076, -5.066400051116943, -5.335999965667725, -5.410299777984619, -5.452400207519531, -5.4766998291015625, -5.4934000968933105, -2.4879000186920166, -2.064300060272217, -2.1157000064849854, -2.7193000316619873, -2.884200096130371, -2.932499885559082, -2.9992001056671143, -3.2462000846862793, -3.3039000034332275, -3.6867001056671143, -3.6949000358581543, -3.801500082015991, -3.8666000366210938, -3.911099910736084, -4.050300121307373, -4.132400035858154, -4.193999767303467, -4.251500129699707, -4.353799819946289, -4.395199775695801, -4.408400058746338, -4.617800235748291, -4.6528000831604, -4.732100009918213, -4.934700012207031, -4.944699764251709, -4.958499908447266, -5.098100185394287, -5.117700099945068, -5.277500152587891, -5.302499771118164, -1.3934999704360962, -1.4609999656677246, -1.8034000396728516, -3.075000047683716, -4.084000110626221, -4.112299919128418, -4.140999794006348, -4.142199993133545, -4.242599964141846, -4.290999889373779, -4.370100021362305, -4.636899948120117, -4.664400100708008, -4.883399963378906, -5.063600063323975, -5.267300128936768, -5.298299789428711, -5.564499855041504, -5.629799842834473, -5.654300212860107, -5.947500228881836, -6.075900077819824, -6.943999767303467, -7.670899868011475, -11.017900466918945, -11.019800186157227, -11.019700050354004, -11.019700050354004, -11.01990032196045, -11.01990032196045, -11.01930046081543, -11.019800186157227, -1.6698999404907227, -2.2959001064300537, -2.4354000091552734, -2.7070999145507812, -2.7827000617980957, -3.202399969100952, -3.2846999168395996, -3.330199956893921, -3.5285000801086426, -3.528599977493286, -3.6047000885009766, -3.710200071334839, -4.198999881744385, -4.247300148010254, -4.303699970245361, -4.510000228881836, -4.644400119781494, -4.684000015258789, -5.003200054168701, -5.037300109863281, -5.584499835968018, -5.7718000411987305, -5.880099773406982, -6.0507001876831055, -6.194399833679199, -7.035299777984619, -8.425999641418457, -10.844799995422363, -10.846400260925293, -10.847100257873535, -10.847000122070312, -1.9882999658584595, -2.517199993133545, -2.749000072479248, -2.7822999954223633, -3.1275999546051025, -3.177999973297119, -3.2418999671936035, -3.540600061416626, -3.5459001064300537, -3.5940001010894775, -3.7486000061035156, -3.8989999294281006, -4.0269999504089355, -4.040200233459473, -4.085899829864502, -4.105100154876709, -4.257900238037109, -4.414700031280518, -4.463699817657471, -4.470200061798096, -4.597899913787842, -4.60260009765625, -4.725599765777588, -4.741399765014648, -4.8302998542785645, -4.886899948120117, -4.911200046539307, -5.106100082397461, -5.5883002281188965, -6.035900115966797, -1.2676000595092773, -2.0871999263763428, -3.0901999473571777, -3.1147000789642334, -3.290299892425537, -3.6419999599456787, -3.6960999965667725, -3.8287999629974365, -3.8691999912261963, -4.05079984664917, -4.110899925231934, -4.24399995803833, -4.434599876403809, -4.492300033569336, -4.52400016784668, -5.247300148010254, -6.0894999504089355, -6.277200222015381, -6.277900218963623, -7.646399974822998, -10.347399711608887, -10.34749984741211, -10.347599983215332, -10.347599983215332, -10.34749984741211, -10.347599983215332, -10.34749984741211, -10.347200393676758, -10.34749984741211, -10.347599983215332, -10.34749984741211, -10.347100257873535, -10.347399711608887, -10.347399711608887, -10.347399711608887, -10.347299575805664, -10.347299575805664, -10.346799850463867, -10.347299575805664, -10.34630012512207, -10.347200393676758, -10.347299575805664, -10.347200393676758, -10.347299575805664, -10.347299575805664, -1.3854999542236328, -1.8356000185012817, -2.2407000064849854, -3.17330002784729, -3.447499990463257, -3.4565999507904053, -3.6034998893737793, -3.9402999877929688, -4.189700126647949, -4.197400093078613, -4.2779998779296875, -4.448200225830078, -4.559000015258789, -4.633399963378906, -4.758500099182129, -5.138400077819824, -5.249000072479248, -5.401400089263916, -5.453000068664551, -5.628900051116943, -5.775599956512451, -5.883200168609619, -6.082699775695801, -6.188799858093262, -6.191500186920166, -6.2195000648498535, -7.292600154876709, -7.39300012588501, -7.495500087738037, -7.827000141143799, -1.4700000286102295, -2.715100049972534, -2.9727001190185547, -3.220400094985962, -3.2283999919891357, -3.2376999855041504, -3.2941999435424805, -3.6558001041412354, -3.8382999897003174, -3.9302000999450684, -4.007400035858154, -4.0279998779296875, -4.031300067901611, -4.0854997634887695, -4.1097002029418945, -4.1381001472473145, -4.157599925994873, -4.263800144195557, -4.781000137329102, -4.9355998039245605, -4.995800018310547, -4.997700214385986, -5.186800003051758, -5.537499904632568, -5.576099872589111, -5.592400074005127, -5.727399826049805, -5.813300132751465, -5.822199821472168, -5.9756999015808105, -1.410599946975708, -2.2920000553131104, -2.7004001140594482, -2.790299892425537, -3.424299955368042, -3.4565999507904053, -3.6882998943328857, -3.796799898147583, -3.81030011177063, -3.8457000255584717, -4.052800178527832, -4.3429999351501465, -4.487400054931641, -4.512800216674805, -4.573699951171875, -4.631100177764893, -4.67579984664917, -4.678899765014648, -4.715700149536133, -4.854800224304199, -4.990099906921387, -5.094699859619141, -5.384200096130371, -5.617099761962891, -5.662300109863281, -6.60699987411499, -7.2382001876831055, -7.651599884033203, -7.714399814605713, -6.438499927520752, -1.3144999742507935, -1.9004000425338745, -2.6168999671936035, -3.2929000854492188, -3.3326001167297363, -3.686500072479248, -3.756500005722046, -4.140100002288818, -4.204699993133545, -4.781899929046631, -4.7870001792907715, -4.947199821472168, -4.998799800872803, -5.139100074768066, -5.307700157165527, -5.571700096130371, -5.781599998474121, -6.024199962615967, -6.835400104522705, -7.091700077056885, -7.531400203704834, -10.26609992980957, -10.26609992980957, -10.266200065612793, -10.266200065612793, -10.266200065612793, -10.266200065612793, -10.266200065612793, -10.266200065612793, -10.265999794006348, -10.26609992980957, -10.265800476074219, -10.265899658203125, -10.265800476074219, -10.26609992980957, -10.26609992980957, -10.265800476074219, -10.265999794006348, -10.265999794006348, -10.265800476074219, -10.265899658203125, -10.264599800109863, -10.265700340270996, -10.265800476074219, -10.265600204467773, -10.265800476074219, -2.3118999004364014, -2.371999979019165, -2.797800064086914, -2.9519999027252197, -3.071700096130371, -3.5360000133514404, -3.578200101852417, -3.694700002670288, -3.694999933242798, -3.7492001056671143, -3.805799961090088, -3.9179999828338623, -4.094399929046631, -4.308599948883057, -4.366600036621094, -4.388599872589111, -4.437099933624268, -4.646399974822998, -4.6579999923706055, -4.755799770355225, -4.845399856567383, -4.9415998458862305, -5.021599769592285, -5.064799785614014, -5.081200122833252, -5.174699783325195, -5.353600025177002, -5.36870002746582, -5.517899990081787, -5.675899982452393, -1.8386000394821167, -2.3852999210357666, -2.747299909591675, -2.7516000270843506, -3.091399908065796, -3.6243999004364014, -3.8566999435424805, -3.8773999214172363, -3.897900104522705, -3.9254000186920166, -3.9818999767303467, -4.007800102233887, -4.050000190734863, -4.065199851989746, -4.097799777984619, -4.364999771118164, -4.40369987487793, -4.5030999183654785, -4.53380012512207, -4.667300224304199, -5.159599781036377, -5.315100193023682, -5.605599880218506, -5.750100135803223, -5.8368000984191895, -5.897900104522705, -7.005000114440918, -7.924099922180176, -10.282500267028809, -10.282600402832031, -10.281800270080566, -10.281200408935547, -2.2481000423431396, -2.6403000354766846, -2.8101000785827637, -2.9999001026153564, -3.1389999389648438, -3.192699909210205, -3.2170000076293945, -3.239799976348877, -3.365600109100342, -3.5146000385284424, -3.5843000411987305, -3.899899959564209, -3.97979998588562, -4.249499797821045, -4.454500198364258, -4.594799995422363, -4.730899810791016, -4.865900039672852, -5.190199851989746, -5.228600025177002, -5.713099956512451, -5.761000156402588, -5.771100044250488, -6.038899898529053, -6.202199935913086, -6.3333001136779785, -6.713900089263916, -7.393400192260742, -10.159600257873535, -10.159600257873535, -10.159500122070312, -10.159000396728516, -10.158599853515625, -1.684499979019165, -2.7281999588012695, -2.888400077819824, -3.0067999362945557, -3.026400089263916, -3.219899892807007, -3.2274999618530273, -3.307499885559082, -3.5243000984191895, -3.9553000926971436, -3.9623000621795654, -4.026299953460693, -4.038899898529053, -4.6128997802734375, -5.027200222015381, -5.043399810791016, -5.717199802398682, -5.771399974822998, -7.11299991607666, -10.135499954223633, -10.135499954223633, -10.135499954223633, -10.135499954223633, -10.135499954223633, -10.135499954223633, -10.135499954223633, -10.135499954223633, -10.135499954223633, -10.135499954223633, -10.135499954223633, -10.135299682617188, -10.13539981842041, -10.13539981842041, -10.135499954223633, -10.135499954223633, -10.135499954223633, -10.135299682617188, -10.135100364685059, -10.135100364685059, -10.134099960327148, -10.13479995727539, -10.135199546813965, -10.13539981842041, -10.135199546813965, -10.135299682617188, -10.135299682617188, -10.135199546813965, -10.135199546813965, -10.135299682617188, -1.805299997329712, -1.938599944114685, -2.426500082015991, -2.8150999546051025, -3.8385000228881836, -4.199399948120117, -4.956600189208984, -6.907199859619141, -9.770899772644043, -9.770999908447266, -9.770999908447266, -9.770999908447266, -9.770999908447266, -9.770999908447266, -9.770999908447266, -9.770999908447266, -9.771100044250488, -9.771100044250488, -9.771100044250488, -9.771100044250488, -9.771100044250488, -9.770999908447266, -9.771100044250488, -9.771100044250488, -9.771100044250488, -9.771100044250488, -9.771100044250488, -9.771100044250488, -9.771100044250488, -9.771100044250488, -9.770999908447266, -9.770999908447266, -9.770999908447266, -9.770999908447266, -9.770999908447266, -9.770999908447266, -9.770999908447266, -9.770899772644043, -9.770999908447266, -9.770999908447266, -9.770999908447266, -9.770999908447266, -9.770899772644043, -9.770999908447266, -9.770899772644043, -9.770999908447266, -9.770899772644043, -9.770999908447266, -9.770999908447266, -9.770700454711914, -9.770999908447266, -9.770899772644043, -9.770999908447266, -9.770999908447266, -9.770999908447266, -9.770999908447266, -2.4730000495910645, -2.6242001056671143, -3.273099899291992, -3.6048998832702637, -4.555099964141846, -4.806000232696533, -5.755199909210205, -5.841599941253662, -6.615200042724609, -9.36050033569336, -9.360600471496582, -9.360600471496582, -9.360600471496582, -9.360600471496582, -9.360600471496582, -9.360600471496582, -9.360600471496582, -9.360600471496582, -9.360600471496582, -9.360600471496582, -9.360600471496582, -9.360600471496582, -9.360600471496582, -9.360600471496582, -9.360600471496582, -9.360600471496582, -9.360600471496582, -9.360600471496582, -9.360600471496582, -9.360600471496582, -9.360600471496582, -9.360600471496582, -9.36050033569336, -9.360600471496582, -9.360600471496582, -9.360600471496582, -9.360600471496582, -9.36050033569336, -9.360600471496582, -9.36050033569336, -9.36050033569336, -9.36050033569336, -9.36050033569336, -9.36050033569336, -9.36050033569336, -9.36050033569336, -9.36050033569336, -9.360600471496582, -9.360600471496582, -9.360600471496582, -9.36050033569336, -9.36050033569336, -9.36050033569336, -9.36050033569336, -9.36050033569336, -9.36050033569336, -9.36050033569336, -9.36050033569336, -9.360400199890137, -9.36050033569336, -9.36050033569336, -9.36050033569336, -9.36050033569336, -9.36050033569336, -9.36050033569336, -9.36050033569336, -9.36050033569336, -2.275099992752075, -2.9807000160217285, -3.0866000652313232, -3.5601999759674072, -4.1682000160217285, -4.184100151062012, -9.374799728393555, -9.374699592590332, -9.374799728393555, -9.374799728393555, -9.374799728393555, -9.374799728393555, -9.374799728393555, -9.374799728393555, -9.374799728393555, -9.374799728393555, -9.374799728393555, -9.374799728393555, -9.374799728393555, -9.374799728393555, -9.374799728393555, -9.374799728393555, -9.374799728393555, -9.374799728393555, -9.374699592590332, -9.374799728393555, -9.374799728393555, -9.374799728393555, -9.374799728393555, -9.374799728393555, -9.374799728393555, -9.374699592590332, -9.374799728393555, -9.374699592590332, -9.374799728393555, -9.374699592590332, -9.374699592590332, -9.374799728393555, -9.374699592590332, -9.374699592590332, -9.374799728393555, -9.374699592590332, -9.374699592590332, -9.374699592590332, -9.374699592590332, -9.374699592590332, -9.374699592590332, -9.374699592590332, -9.374699592590332, -9.374699592590332, -9.374699592590332, -9.374699592590332, -9.374699592590332, -9.374699592590332, -9.374699592590332, -9.374699592590332, -9.374699592590332, -9.374699592590332, -9.374500274658203, -9.374699592590332, -9.374699592590332, -9.374699592590332, -9.374699592590332, -9.374699592590332, -9.374699592590332, -9.374699592590332, -9.374699592590332, -9.374699592590332, -9.374699592590332, -9.374699592590332, -9.374699592590332, -9.374699592590332, -2.10509991645813, -2.6143999099731445, -3.040800094604492, -4.177499771118164, -5.106500148773193, -9.382800102233887, -9.382800102233887, -9.382800102233887, -9.382800102233887, -9.382800102233887, -9.382800102233887, -9.382800102233887, -9.382800102233887, -9.382800102233887, -9.382800102233887, -9.382800102233887, -9.382800102233887, -9.382800102233887, -9.382800102233887, -9.382800102233887, -9.382800102233887, -9.382800102233887, -9.382800102233887, -9.382800102233887, -9.382800102233887, -9.382800102233887, -9.382800102233887, -9.382800102233887, -9.382800102233887, -9.382800102233887, -9.382800102233887, -9.382800102233887, -9.382800102233887, -9.382800102233887, -9.382800102233887, -9.382800102233887, -9.382800102233887, -9.382800102233887, -9.382800102233887, -9.382800102233887, -9.382800102233887, -9.382800102233887, -9.382800102233887, -9.382800102233887, -9.382800102233887, -9.382800102233887, -9.382800102233887, -9.382800102233887, -9.382800102233887, -9.382800102233887, -9.382800102233887, -9.382800102233887, -9.382800102233887, -9.382800102233887, -9.382800102233887, -9.382800102233887, -9.382800102233887, -9.382800102233887, -9.382800102233887, -9.382800102233887, -9.382800102233887, -9.382800102233887, -9.382800102233887, -9.382800102233887, -9.382800102233887, -9.382800102233887, -9.382800102233887, -9.382699966430664, -9.382800102233887, -9.382599830627441, -9.382699966430664, -9.382699966430664, -9.382800102233887, -9.382800102233887, -9.382800102233887, -9.382800102233887, -9.382800102233887, -9.382800102233887, -9.382800102233887, -9.382800102233887, -9.382800102233887, -9.382800102233887, -9.382800102233887, -9.382800102233887, -9.382800102233887, -9.382800102233887]}, \"token.table\": {\"Topic\": [6, 14, 2, 3, 5, 16, 3, 16, 2, 16, 15, 5, 14, 8, 4, 5, 1, 7, 10, 4, 14, 14, 14, 19, 14, 2, 14, 8, 4, 2, 3, 6, 6, 13, 5, 5, 8, 4, 5, 1, 5, 6, 3, 8, 14, 4, 1, 2, 16, 9, 3, 4, 9, 3, 8, 5, 9, 1, 7, 7, 18, 10, 1, 6, 2, 10, 19, 14, 2, 18, 2, 15, 20, 1, 1, 2, 11, 10, 1, 15, 3, 2, 11, 11, 6, 9, 9, 5, 7, 10, 9, 2, 16, 3, 2, 1, 2, 18, 2, 2, 2, 7, 14, 14, 15, 13, 13, 8, 4, 15, 13, 14, 5, 3, 7, 18, 11, 6, 17, 2, 2, 5, 5, 1, 12, 10, 17, 17, 10, 20, 3, 6, 10, 5, 17, 6, 6, 10, 1, 7, 8, 1, 6, 5, 11, 5, 4, 1, 2, 2, 17, 13, 9, 13, 1, 16, 15, 12, 1, 3, 14, 10, 7, 9, 17, 1, 2, 8, 1, 14, 5, 16, 3, 13, 15, 13, 10, 6, 12, 1, 2, 2, 3, 1, 2, 3, 12, 4, 10, 12, 16, 11, 1, 2, 15, 11, 3, 11, 10, 6, 1, 1, 2, 12, 3, 10, 1, 2, 15, 1, 2, 11, 7, 17, 6, 2, 3, 10, 6, 9, 15, 10, 11, 8, 9, 12, 9, 3, 1, 6, 13, 7, 4, 9, 8, 19, 7, 2, 3, 3, 1, 16, 7, 11, 4, 4, 6, 13, 4, 9, 4, 9, 14, 4, 19, 13, 12, 8, 10, 14, 2, 11, 3, 16, 3, 2, 8, 15, 13, 8, 16, 16, 11, 7, 2, 3, 6, 4, 14, 9, 13, 9, 15, 9, 10, 13, 11, 14, 8, 2, 15, 6, 9, 17, 6, 3, 16, 7, 6, 15, 4, 12, 9, 7, 1, 13, 8, 6, 11, 7, 4, 1, 2, 6, 2, 13, 10, 7, 2, 15, 2, 16, 15, 14, 13, 7, 7, 11, 14, 7, 4, 15, 5, 3, 10, 12, 4, 8, 2, 15, 9, 13, 3, 2, 12, 15, 11, 6, 13, 14, 11, 10, 12, 1, 9, 13, 2, 16, 7, 12, 4, 5, 15, 12, 11, 11, 9, 5, 12, 20, 15, 9, 11, 2, 1, 10, 1, 10, 14, 13, 8, 15, 1, 5, 7, 20, 9, 18, 12, 7, 12, 13, 11, 15, 13, 1, 4, 16, 5, 13, 12, 19, 4, 18, 11, 14, 3, 20, 5, 1, 4, 2, 6, 13, 18, 10, 16, 10, 3, 10, 16, 14, 9, 16, 12, 11, 11, 10, 15, 19, 12, 13, 7, 4, 3, 8, 1, 4, 10, 4, 13, 5, 1, 2, 8, 13, 1, 9, 1, 9, 7, 10, 13, 18, 15, 11, 3, 14, 11, 10, 1, 3, 1, 2, 7, 9, 7, 7, 15, 1, 2, 1, 7, 9, 11, 4, 6, 1, 2, 1, 2, 6, 7, 1, 2, 15, 15, 14, 8, 13, 11, 4, 9, 4, 2, 3, 1, 2, 1, 12, 11, 5, 14], \"Freq\": [0.9946369528770447, 0.47757038474082947, 0.9966955780982971, 0.9979425072669983, 0.9918399453163147, 0.9941984415054321, 0.9935433864593506, 0.9813050031661987, 0.9960874915122986, 0.9873791337013245, 0.9818561673164368, 0.945884108543396, 0.7817746996879578, 0.9674820303916931, 0.9943944215774536, 0.9994072318077087, 0.9989960193634033, 0.9948581457138062, 0.9910918474197388, 0.9761753082275391, 0.9561057090759277, 0.9236409068107605, 0.9740114212036133, 0.962661862373352, 0.95839923620224, 0.9980799555778503, 0.938944399356842, 0.9855319857597351, 0.9969245195388794, 0.997567355632782, 0.9988550543785095, 0.989345908164978, 0.9838479161262512, 0.9894549250602722, 0.9856078624725342, 0.974399983882904, 0.9822716116905212, 0.9956807494163513, 0.9973117113113403, 0.997157871723175, 0.9693822264671326, 0.9912844896316528, 0.9923780560493469, 0.9929543733596802, 0.9710422158241272, 0.9979395866394043, 0.09679509699344635, 0.9001944065093994, 0.8864215612411499, 0.9193160533905029, 0.9980248808860779, 0.9552015662193298, 0.9535780549049377, 0.9981747269630432, 0.9824196100234985, 0.9992517232894897, 0.9958587884902954, 0.9968419075012207, 0.9678689241409302, 0.9809578657150269, 0.5950682163238525, 0.8467082977294922, 0.9961848258972168, 0.9970192313194275, 0.9987529516220093, 0.9724399447441101, 0.8623561859130859, 0.9591559171676636, 0.99916011095047, 0.5714610815048218, 0.9984064698219299, 0.9498106837272644, 0.9335359930992126, 0.9958932995796204, 0.9940410256385803, 0.004497922956943512, 0.9243842959403992, 0.9932079911231995, 0.9942480325698853, 0.9879044890403748, 0.979367733001709, 0.9990233778953552, 0.9494828581809998, 0.5862263441085815, 0.9909919500350952, 0.7650672793388367, 0.9507781267166138, 0.9822708964347839, 0.8666872978210449, 0.9972101449966431, 0.994042158126831, 0.9992090463638306, 0.9829463362693787, 0.9885662794113159, 0.9992132186889648, 0.936720609664917, 0.060583923012018204, 0.9134336709976196, 0.9975048303604126, 0.9973851442337036, 0.999116063117981, 0.9803497195243835, 0.9877592325210571, 0.9569446444511414, 0.9919379353523254, 0.9416627883911133, 0.9484618902206421, 0.8087583184242249, 0.9854576587677002, 0.9474567770957947, 0.9763913750648499, 0.9919909834861755, 0.9209787845611572, 0.991706132888794, 0.9595215916633606, 0.8627638816833496, 0.9850254058837891, 0.9968172311782837, 0.9216030836105347, 0.9978733658790588, 0.9982756972312927, 0.9745429158210754, 0.8957376480102539, 0.9964028000831604, 0.9807794690132141, 0.8583412170410156, 0.9946767687797546, 0.9476579427719116, 0.9592182636260986, 0.8501338362693787, 0.9898940920829773, 0.8073244094848633, 0.9838733077049255, 0.8792667984962463, 0.6488815546035767, 0.855384886264801, 0.9651352167129517, 0.9575160145759583, 0.9974309802055359, 0.9874123930931091, 0.9950470924377441, 0.9982178807258606, 0.6301560997962952, 0.9331768155097961, 0.9741177558898926, 0.9540085792541504, 0.9907115697860718, 0.09556899219751358, 0.9041043519973755, 0.9989081025123596, 0.988783597946167, 0.9315043687820435, 0.9857950210571289, 0.9926482439041138, 0.9977258443832397, 0.5730054378509521, 0.9342119693756104, 0.9652295708656311, 0.9977460503578186, 0.9912773966789246, 0.9432616233825684, 0.8891144394874573, 0.9761983752250671, 0.993269145488739, 0.9933881759643555, 0.8487873077392578, 0.15019692480564117, 0.9904600977897644, 0.9985437393188477, 0.8972221612930298, 0.9834425449371338, 0.9763864874839783, 0.9919123649597168, 0.9713832139968872, 0.9158650636672974, 0.8558205962181091, 0.9717543721199036, 0.9385194182395935, 0.9987226128578186, 0.006783859338611364, 0.992942750453949, 0.9862915873527527, 0.012311546131968498, 0.7375061511993408, 0.26197129487991333, 0.9905892610549927, 0.7116947174072266, 0.9552087783813477, 0.978805661201477, 0.966402530670166, 0.9613393545150757, 0.9924979209899902, 0.9454548358917236, 0.05196648836135864, 0.6576724648475647, 0.5684827566146851, 0.9783746600151062, 0.8244966864585876, 0.9627746939659119, 0.925977349281311, 0.9977823495864868, 0.9796952605247498, 0.020079704001545906, 0.9798330664634705, 0.9884548187255859, 0.953228235244751, 0.0668477863073349, 0.9326474666595459, 0.9132360816001892, 0.8726046681404114, 0.12683674693107605, 0.9199205040931702, 0.9779671430587769, 0.9491751790046692, 0.6880125999450684, 0.9953649640083313, 0.9953894019126892, 0.8795174956321716, 0.9706805944442749, 0.9131754636764526, 0.8502568006515503, 0.931943416595459, 0.9806959629058838, 0.9528858661651611, 0.6071105599403381, 0.9380726218223572, 0.9937406182289124, 0.9948875904083252, 0.9985960721969604, 0.9564896821975708, 0.9000288248062134, 0.9918824434280396, 0.9667831659317017, 0.9066528677940369, 0.9863418340682983, 0.8164523243904114, 0.9899284839630127, 0.05262468010187149, 0.946269690990448, 0.9987697601318359, 0.9986447691917419, 0.9023627042770386, 0.9334372282028198, 0.967822253704071, 0.9974611401557922, 0.9951212406158447, 0.9985272884368896, 0.994045078754425, 0.9837347269058228, 0.45810699462890625, 0.9789770841598511, 0.8347812294960022, 0.9902536869049072, 0.9747656583786011, 0.7994336485862732, 0.9857215881347656, 0.6159132719039917, 0.5256655812263489, 0.9893611073493958, 0.9699069261550903, 0.8451326489448547, 0.12676990032196045, 0.995071291923523, 0.9872339367866516, 0.9799953699111938, 0.9970571994781494, 0.9736440777778625, 0.9919013977050781, 0.9522784948348999, 0.9992173314094543, 0.9903414845466614, 0.9549081325531006, 0.9217718839645386, 0.9953089356422424, 0.9991114139556885, 0.9841570854187012, 0.9968646764755249, 0.9508751630783081, 0.8818755149841309, 0.8558681011199951, 0.9412606358528137, 0.514056384563446, 0.612294614315033, 0.4855969548225403, 0.9248640537261963, 0.9788034558296204, 0.9429651498794556, 0.9586981534957886, 0.8637526035308838, 0.9962294697761536, 0.5983044505119324, 0.858384907245636, 0.8838143348693848, 0.9870645999908447, 0.9839505553245544, 0.9972082376480103, 0.7221870422363281, 0.968461811542511, 0.8902333974838257, 0.8176621794700623, 0.9968655109405518, 0.9865333437919617, 0.9764230251312256, 0.9715547561645508, 0.9987998604774475, 0.9844077825546265, 0.9762919545173645, 0.9830556511878967, 0.9961366653442383, 0.98575758934021, 0.9886130094528198, 0.047621630132198334, 0.9497869610786438, 0.9626668691635132, 0.9980670213699341, 0.8184995055198669, 0.9653749465942383, 0.9821228384971619, 0.9991507530212402, 0.8571915030479431, 0.9989662170410156, 0.9308977127075195, 0.9902136325836182, 0.9860645532608032, 0.8294439911842346, 0.9418711066246033, 0.9840689897537231, 0.9561599493026733, 0.9335176348686218, 0.9908488392829895, 0.9877533912658691, 0.9793129563331604, 0.9501116275787354, 0.9921241402626038, 0.8763353228569031, 0.8935579061508179, 0.9927005767822266, 0.9773736000061035, 0.996762752532959, 0.9841475486755371, 0.9300623536109924, 0.9622046947479248, 0.9997600317001343, 0.9983127117156982, 0.9686619639396667, 0.8796780705451965, 0.5934731364250183, 0.9864805340766907, 0.9790396690368652, 0.8659272789955139, 0.9700841307640076, 0.9807386994361877, 0.9613928198814392, 0.9978906512260437, 0.9507363438606262, 0.9862555265426636, 0.9993823766708374, 0.9708181619644165, 0.9927690029144287, 0.8851286172866821, 0.9969284534454346, 0.9763162732124329, 0.9954156875610352, 0.9970701336860657, 0.9982346892356873, 0.9720984697341919, 0.9771873354911804, 0.4310912787914276, 0.7798328995704651, 0.9750039577484131, 0.9735475182533264, 0.9289783835411072, 0.9568487405776978, 0.9973844885826111, 0.9992328882217407, 0.9914880990982056, 0.9987350702285767, 0.8853347897529602, 0.9638068079948425, 0.9353131055831909, 0.8091875910758972, 0.9926475286483765, 0.9982152581214905, 0.9785841703414917, 0.8041644096374512, 0.5012102127075195, 0.8366189002990723, 0.8116610050201416, 0.9089146256446838, 0.9837241768836975, 0.8900885581970215, 0.9310381412506104, 0.9730029702186584, 0.9765753746032715, 0.9420579671859741, 0.9984411001205444, 0.9845061898231506, 0.9801888465881348, 0.7783095836639404, 0.9655743837356567, 0.4924018979072571, 0.8090924024581909, 0.9766203761100769, 0.6497467756271362, 0.9846214652061462, 0.979472815990448, 0.9860727190971375, 0.8233433365821838, 0.9754191040992737, 0.996513843536377, 0.9852534532546997, 0.9984028339385986, 0.9935339093208313, 0.9371427297592163, 0.9445443153381348, 0.9592511653900146, 0.6919114589691162, 0.9622728228569031, 0.9874145984649658, 0.9737378358840942, 0.9688961505889893, 0.8393746614456177, 0.885506808757782, 0.9153774380683899, 0.9802367687225342, 0.9697691202163696, 0.9955446720123291, 0.9930198192596436, 0.9827965497970581, 0.8813683986663818, 0.8169491291046143, 0.9486042857170105, 0.9910604357719421, 0.9946275353431702, 0.9953230619430542, 0.9865081310272217, 0.9968659281730652, 0.9762736558914185, 0.9691900610923767, 0.9871995449066162, 0.9551238417625427, 0.9424040913581848, 0.10066898912191391, 0.8990782499313354, 0.8946075439453125, 0.9752360582351685, 0.9993384480476379, 0.9613531827926636, 0.9993448853492737, 0.9985103011131287, 0.9931652545928955, 0.9050511121749878, 0.7868431210517883, 0.9462709426879883, 0.9343855977058411, 0.9045034050941467, 0.9995116591453552, 0.9944010376930237, 0.8577256202697754, 0.9868822693824768, 0.9965296387672424, 0.9805680513381958, 0.8699504137039185, 0.12939852476119995, 0.9241757392883301, 0.9836967587471008, 0.9985871315002441, 0.9719688296318054, 0.986509382724762, 0.8999417424201965, 0.09918712824583054, 0.9991759657859802, 0.9626956582069397, 0.8081838488578796, 0.45316728949546814, 0.9869926571846008, 0.9711481928825378, 0.9914504289627075, 0.006094982381910086, 0.9994115829467773, 0.0004932929878123105, 0.9764314293861389, 0.9460641741752625, 0.9990795254707336, 0.9982389807701111, 0.7940083146095276, 0.4238738417625427, 0.9664629697799683, 0.9868177771568298, 0.9121242165565491, 0.9457781314849854, 0.9822562336921692, 0.9872863292694092, 0.9984637498855591, 0.9989074468612671, 0.9967482686042786, 0.6099907755851746, 0.3895604908466339, 0.9982925653457642, 0.42278534173965454, 0.9866105914115906, 0.9212149381637573, 0.9613772630691528], \"Term\": [\"0\", \"00pm\", \"1\", \"10\", \"11\", \"12\", \"130\", \"14\", \"15\", \"150\", \"17\", \"18_to_35\", \"196\", \"1st\", \"1st_place\", \"2\", \"20\", \"200\", \"200_pounds\", \"203\", \"204\", \"213\", \"221\", \"23\", \"234\", \"25\", \"270\", \"2nd\", \"2nd_place\", \"3\", \"30\", \"32\", \"33\", \"36\", \"37\", \"39\", \"3rd\", \"3rd_place\", \"4\", \"40\", \"42\", \"43\", \"45\", \"47\", \"49\", \"5\", \"50\", \"50\", \"5_30am\", \"5am\", \"6\", \"69\", \"6am\", \"7\", \"74\", \"8\", \"aboard\", \"action\", \"add\", \"added\", \"advantage\", \"aftco\", \"afternoon\", \"along\", \"also\", \"always\", \"amount\", \"andy\", \"anglers\", \"annual_tahoe\", \"another\", \"anxious\", \"anything\", \"area\", \"around\", \"around\", \"around_noon\", \"arrive\", \"arrived\", \"avet_reels\", \"away\", \"back\", \"baits\", \"balmy\", \"bank\", \"barn\", \"battle\", \"beauties\", \"believe\", \"best\", \"better\", \"big\", \"big_ones\", \"bigger\", \"bit\", \"bite\", \"bite\", \"bites\", \"bluefin\", \"bluefin_tuna\", \"boat\", \"boats\", \"bob\", \"book\", \"bow\", \"boy\", \"breaking\", \"brett\", \"brian\", \"brian_porter\", \"bring\", \"brought\", \"business\", \"call\", \"calling\", \"calm\", \"calstar\", \"came\", \"cant_wait\", \"catch\", \"caught\", \"chance\", \"charlie\", \"charter\", \"charter_master\", \"chasing\", \"check\", \"chop\", \"christmas\", \"class\", \"coast\", \"cold\", \"coming\", \"company\", \"concentrate\", \"connect\", \"continue\", \"country\", \"couple\", \"cow\", \"cows\", \"crew\", \"daily_limit\", \"daily_limits\", \"daiwa\", \"dane_barriault\", \"dave\", \"day\", \"day\", \"days\", \"decided\", \"departure\", \"different\", \"dock\", \"dorado\", \"downer\", \"drifts\", \"eager\", \"early\", \"ed\", \"elusive\", \"enjoyable\", \"epic\", \"eta\", \"every\", \"everyone\", \"everyone\", \"everything\", \"excellent\", \"expected\", \"fair\", \"family\", \"fantastic\", \"fast\", \"feel\", \"feeling\", \"finish\", \"finishing\", \"first\", \"fish\", \"fish\", \"fished\", \"fished\", \"fishing\", \"fishing\", \"flat_calm\", \"fly_line\", \"followed\", \"fresh\", \"friend\", \"friends\", \"gear\", \"get\", \"get\", \"getting_ready\", \"getting_rigged\", \"giant\", \"give_away\", \"give_aways\", \"giving\", \"going\", \"good\", \"good\", \"good_as_it_gets\", \"good_evening_everyone\", \"gorgeous\", \"got\", \"got\", \"graftech_rods\", \"great\", \"great\", \"great_giveaways\", \"great_job\", \"great_way_to_end\", \"grey\", \"group\", \"halibut\", \"handed\", \"handful\", \"happen\", \"happening\", \"hats\", \"headed_south\", \"heartbreaks\", \"heat\", \"hey\", \"hit\", \"home\", \"hook\", \"hope_to_see\", \"hot_and_heavy\", \"huge\", \"hurricane\", \"icing_on_the_cake\", \"im\", \"impressive\", \"included\", \"independence\", \"independence\", \"indy\", \"indy_crew\", \"indy_will_arrive_at_approximately\", \"info\", \"izorline\", \"jackpot\", \"jackpot_winners\", \"jeff\", \"jigs\", \"jim\", \"jim_bowman\", \"job\", \"joe_solomon\", \"john\", \"jp_winners\", \"jump\", \"june\", \"keep_you_posted\", \"keep_you_posted_wish_us\", \"kelps\", \"ken\", \"kevin\", \"kevin\", \"kite\", \"land\", \"large\", \"last\", \"last_couple\", \"last_few_days\", \"lately\", \"lb\", \"let\", \"life\", \"lifetime\", \"like\", \"line\", \"load_of_bait\", \"long\", \"look_forward\", \"look_forward_to_seeing\", \"looking_forward_to_seeing\", \"looks_like\", \"lori\", \"lots_of_familiar_faces\", \"lots_of_smiles\", \"lower_zone\", \"lucky\", \"lures\", \"m\", \"mac\", \"made\", \"mahi\", \"mahi_mahi\", \"main\", \"make\", \"making\", \"mark\", \"matthew\", \"meals\", \"mean\", \"meet\", \"mike\", \"mixed\", \"mode\", \"monday\", \"morning\", \"move\", \"name\", \"never\", \"new\", \"next_few_days\", \"next_year\", \"nice\", \"nice\", \"nice_grade\", \"night\", \"nights\", \"note\", \"office\", \"offshore\", \"ole\", \"one\", \"ones\", \"open\", \"openings\", \"opportunities\", \"opted\", \"order\", \"owner_hooks\", \"pair\", \"passengers\", \"past_few_days\", \"paul_strasser\", \"people\", \"perfect\", \"personal_bests\", \"phenix_rods\", \"picked\", \"pictures\", \"plan\", \"port\", \"position\", \"posted\", \"pound\", \"pounds\", \"premium\", \"productive\", \"promar\", \"quality\", \"quick\", \"quickly\", \"raffle\", \"rail\", \"real\", \"really\", \"reds\", \"reels\", \"report\", \"reported\", \"rest\", \"results\", \"returned\", \"richard\", \"rick_ozaki\", \"right\", \"rod\", \"rods\", \"roger\", \"rogers\", \"rolling_right_along\", \"run\", \"safe\", \"sal_proetto\", \"salas\", \"san_diego\", \"sardine\", \"saturday\", \"saw\", \"scenery\", \"schedule\", \"scheduled\", \"scratched_away\", \"season\", \"see\", \"seeker\", \"seemed\", \"seems_like\", \"self\", \"sent\", \"serious\", \"several\", \"share\", \"sharing\", \"shimano\", \"shirts\", \"shots\", \"sign\", \"size\", \"skipper\", \"slide\", \"slower\", \"sorts\", \"space\", \"species\", \"spirits\", \"sponsors\", \"sportfishing\", \"spots\", \"spread\", \"spring\", \"started\", \"stay\", \"still\", \"stop\", \"stories\", \"story\", \"strong\", \"stuck\", \"stuff\", \"success\", \"successful\", \"sun\", \"sun_came\", \"sundays\", \"sunset\", \"surface_iron\", \"swag\", \"tackle\", \"take\", \"take_care\", \"taking\", \"tap\", \"test\", \"thank\", \"thanks\", \"thanks_for_checking\", \"thing\", \"things\", \"thomas\", \"though\", \"thought\", \"till\", \"tim\", \"time\", \"time\", \"timing\", \"tired\", \"today\", \"together\", \"tomorrow\", \"took\", \"top\", \"topped\", \"tour\", \"travel\", \"traveled\", \"travels\", \"trip\", \"trips\", \"trophies\", \"trophy\", \"try\", \"tuesday\", \"tuna\", \"tuna\", \"tune\", \"turned\", \"two\", \"understanding\", \"updates\", \"us\", \"us\", \"wahoo\", \"wait\", \"waiting\", \"walked_away\", \"wasnt\", \"watching\", \"way\", \"way\", \"weather\", \"weather\", \"weather_continues\", \"website\", \"well\", \"went\", \"whats\", \"wifi\", \"wish\", \"wish_us\", \"word\", \"would_like_to_thank\", \"wow\", \"wrapped\", \"yellowfin\", \"yellowfin_tuna\", \"yellows\", \"yellowtail\", \"yellowtail\", \"yesterday\", \"yo_yo_jigs\", \"youngs_tackle\", \"yoyo_jig\", \"yt\"]}, \"R\": 30, \"lambda.step\": 0.01, \"plot.opts\": {\"xlab\": \"PC1\", \"ylab\": \"PC2\"}, \"topic.order\": [7, 17, 6, 13, 9, 20, 10, 18, 5, 4, 15, 2, 3, 19, 16, 12, 1, 8, 14, 11]};\n",
       "\n",
       "function LDAvis_load_lib(url, callback){\n",
       "  var s = document.createElement('script');\n",
       "  s.src = url;\n",
       "  s.async = true;\n",
       "  s.onreadystatechange = s.onload = callback;\n",
       "  s.onerror = function(){console.warn(\"failed to load library \" + url);};\n",
       "  document.getElementsByTagName(\"head\")[0].appendChild(s);\n",
       "}\n",
       "\n",
       "if(typeof(LDAvis) !== \"undefined\"){\n",
       "   // already loaded: just create the visualization\n",
       "   !function(LDAvis){\n",
       "       new LDAvis(\"#\" + \"ldavis_el345631407036369556009279333877\", ldavis_el345631407036369556009279333877_data);\n",
       "   }(LDAvis);\n",
       "}else if(typeof define === \"function\" && define.amd){\n",
       "   // require.js is available: use it to load d3/LDAvis\n",
       "   require.config({paths: {d3: \"https://cdnjs.cloudflare.com/ajax/libs/d3/3.5.5/d3.min\"}});\n",
       "   require([\"d3\"], function(d3){\n",
       "      window.d3 = d3;\n",
       "      LDAvis_load_lib(\"https://cdn.rawgit.com/bmabey/pyLDAvis/files/ldavis.v1.0.0.js\", function(){\n",
       "        new LDAvis(\"#\" + \"ldavis_el345631407036369556009279333877\", ldavis_el345631407036369556009279333877_data);\n",
       "      });\n",
       "    });\n",
       "}else{\n",
       "    // require.js not available: dynamically load d3 & LDAvis\n",
       "    LDAvis_load_lib(\"https://cdnjs.cloudflare.com/ajax/libs/d3/3.5.5/d3.min.js\", function(){\n",
       "         LDAvis_load_lib(\"https://cdn.rawgit.com/bmabey/pyLDAvis/files/ldavis.v1.0.0.js\", function(){\n",
       "                 new LDAvis(\"#\" + \"ldavis_el345631407036369556009279333877\", ldavis_el345631407036369556009279333877_data);\n",
       "            })\n",
       "         });\n",
       "}\n",
       "</script>"
      ],
      "text/plain": [
       "PreparedData(topic_coordinates=              x         y  topics  cluster       Freq\n",
       "topic                                                \n",
       "6     -0.391373 -0.163539       1        1  34.806732\n",
       "16    -0.382876 -0.162300       2        1  32.357071\n",
       "5     -0.229126  0.412938       3        1   9.833982\n",
       "12    -0.041840  0.059821       4        1   3.405830\n",
       "8     -0.037652  0.055761       5        1   2.590912\n",
       "19    -0.008677  0.031020       6        1   2.188441\n",
       "9      0.022282  0.009524       7        1   1.876806\n",
       "17     0.061463 -0.011793       8        1   1.827386\n",
       "4      0.022137  0.009638       9        1   1.599477\n",
       "3      0.041809 -0.001831      10        1   1.577820\n",
       "14     0.039227 -0.001201      11        1   1.547438\n",
       "1      0.071181 -0.016199      12        1   1.157267\n",
       "2      0.072296 -0.016633      13        1   1.145448\n",
       "18     0.070457 -0.015865      14        1   1.117435\n",
       "15     0.083989 -0.021494      15        1   1.019970\n",
       "11     0.085569 -0.022147      16        1   0.880558\n",
       "0      0.115384 -0.032379      17        1   0.541227\n",
       "7      0.135763 -0.037895      18        1   0.222796\n",
       "13     0.135171 -0.037753      19        1   0.153982\n",
       "10     0.134815 -0.037670      20        1   0.149426, topic_info=     Category         Freq             Term        Total  loglift  logprob\n",
       "128   Default  2701.000000             trip  2701.000000  30.0000  30.0000\n",
       "87    Default  1834.000000            pound  1834.000000  29.0000  29.0000\n",
       "5     Default  2800.000000             fish  2800.000000  28.0000  28.0000\n",
       "4     Default  3683.000000              day  3683.000000  27.0000  27.0000\n",
       "23    Default  3087.000000             good  3087.000000  26.0000  26.0000\n",
       "...       ...          ...              ...          ...      ...      ...\n",
       "2715  Topic20     0.014952           debuys     0.934300   2.3712  -9.3828\n",
       "4544  Topic20     0.014952  won_first_place     0.934487   2.3710  -9.3828\n",
       "1868  Topic20     0.014952             reel     0.934466   2.3710  -9.3828\n",
       "1273  Topic20     0.014952              lbs     0.934448   2.3710  -9.3828\n",
       "1243  Topic20     0.014952             many     0.934350   2.3711  -9.3828\n",
       "\n",
       "[871 rows x 6 columns], token_table=      Topic      Freq           Term\n",
       "term                                \n",
       "554       6  0.994637              0\n",
       "940      14  0.477570           00pm\n",
       "328       2  0.996696              1\n",
       "367       3  0.997943             10\n",
       "143       5  0.991840             11\n",
       "...     ...       ...            ...\n",
       "231       1  0.998293      yesterday\n",
       "607      12  0.422785     yo_yo_jigs\n",
       "613      11  0.986611  youngs_tackle\n",
       "939       5  0.921215       yoyo_jig\n",
       "167      14  0.961377             yt\n",
       "\n",
       "[503 rows x 3 columns], R=30, lambda_step=0.01, plot_opts={'xlab': 'PC1', 'ylab': 'PC2'}, topic_order=[7, 17, 6, 13, 9, 20, 10, 18, 5, 4, 15, 2, 3, 19, 16, 12, 1, 8, 14, 11])"
      ]
     },
     "execution_count": 124,
     "metadata": {},
     "output_type": "execute_result"
    }
   ],
   "source": [
    "vis = pyLDAvis.gensim.prepare(lda_model, corpus, id2word)\n",
    "vis"
   ]
  },
  {
   "cell_type": "code",
   "execution_count": 125,
   "metadata": {},
   "outputs": [
    {
     "name": "stderr",
     "output_type": "stream",
     "text": [
      "/usr/local/anaconda3/envs/data-science-environment/lib/python3.7/site-packages/ipykernel/ipkernel.py:287: DeprecationWarning: `should_run_async` will not call `transform_cell` automatically in the future. Please pass the result to `transformed_cell` argument and any exception that happen during thetransform in `preprocessing_exc_tuple` in IPython 7.17 and above.\n",
      "  and should_run_async(code)\n"
     ]
    }
   ],
   "source": [
    "# from pyLDAvis import save_html\n",
    "\n",
    "# save_html(vis, \"lda_viz.html\")"
   ]
  },
  {
   "cell_type": "markdown",
   "metadata": {},
   "source": [
    "# TODO: Use topic matrix like word vectors. Use word similarity to find fish names?\n",
    "# TODO: documents that have high theta values for interesting topics?\n",
    "# TODO: find a way to extract fish species and measure mentions\n",
    "# TODO: weather vs post content\n",
    "# TODO: import el nino data"
   ]
  },
  {
   "cell_type": "code",
   "execution_count": null,
   "metadata": {},
   "outputs": [],
   "source": []
  }
 ],
 "metadata": {
  "kernelspec": {
   "display_name": "Machine learning sandbox",
   "language": "python",
   "name": "data-science-environment"
  },
  "language_info": {
   "codemirror_mode": {
    "name": "ipython",
    "version": 3
   },
   "file_extension": ".py",
   "mimetype": "text/x-python",
   "name": "python",
   "nbconvert_exporter": "python",
   "pygments_lexer": "ipython3",
   "version": "3.7.6"
  }
 },
 "nbformat": 4,
 "nbformat_minor": 2
}
