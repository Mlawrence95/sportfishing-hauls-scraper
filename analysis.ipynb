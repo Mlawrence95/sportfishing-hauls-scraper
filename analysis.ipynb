{
 "cells": [
  {
   "cell_type": "code",
   "execution_count": 1,
   "metadata": {},
   "outputs": [],
   "source": [
    "import datetime\n",
    "import os\n",
    "import re\n",
    "import warnings\n",
    "\n",
    "import pandas as pd\n",
    "import numpy as np\n",
    "import matplotlib.pyplot as plt\n",
    "\n",
    "# from db_utils.db_queries import sql_all_reports_with_weather\n",
    "# from db_utils.mysql_db_connection import get_mysql_connection\n",
    "\n",
    "from webscraping.scrape_fishing_data import clean_string\n",
    "\n",
    "warnings.filterwarnings(\"ignore\")"
   ]
  },
  {
   "cell_type": "markdown",
   "metadata": {},
   "source": [
    "## Read and format the data"
   ]
  },
  {
   "cell_type": "code",
   "execution_count": 2,
   "metadata": {},
   "outputs": [],
   "source": [
    "fishing_data = pd.read_csv(\"./raw_fishing_data.csv\")"
   ]
  },
  {
   "cell_type": "code",
   "execution_count": 3,
   "metadata": {},
   "outputs": [
    {
     "data": {
      "text/html": [
       "<div>\n",
       "<style scoped>\n",
       "    .dataframe tbody tr th:only-of-type {\n",
       "        vertical-align: middle;\n",
       "    }\n",
       "\n",
       "    .dataframe tbody tr th {\n",
       "        vertical-align: top;\n",
       "    }\n",
       "\n",
       "    .dataframe thead th {\n",
       "        text-align: right;\n",
       "    }\n",
       "</style>\n",
       "<table border=\"1\" class=\"dataframe\">\n",
       "  <thead>\n",
       "    <tr style=\"text-align: right;\">\n",
       "      <th></th>\n",
       "      <th>date_posted</th>\n",
       "      <th>headline</th>\n",
       "      <th>post_body</th>\n",
       "      <th>low_temp</th>\n",
       "      <th>avg_temp</th>\n",
       "      <th>high_temp</th>\n",
       "      <th>inches_precip</th>\n",
       "      <th>miles_visible</th>\n",
       "      <th>max_wind</th>\n",
       "      <th>sea_pressure</th>\n",
       "    </tr>\n",
       "  </thead>\n",
       "  <tbody>\n",
       "    <tr>\n",
       "      <th>0</th>\n",
       "      <td>2020-12-17</td>\n",
       "      <td>ON THE HUNT</td>\n",
       "      <td>We were on the hunt for Yellowtail today but n...</td>\n",
       "      <td>46.0</td>\n",
       "      <td>57.34</td>\n",
       "      <td>64.0</td>\n",
       "      <td>0.0</td>\n",
       "      <td>10.0</td>\n",
       "      <td>10.0</td>\n",
       "      <td>30.08</td>\n",
       "    </tr>\n",
       "    <tr>\n",
       "      <th>1</th>\n",
       "      <td>2020-12-18</td>\n",
       "      <td>SCRATCHING AWAY</td>\n",
       "      <td>Searched for Yellowtail again today to find no...</td>\n",
       "      <td>52.0</td>\n",
       "      <td>58.04</td>\n",
       "      <td>66.0</td>\n",
       "      <td>0.0</td>\n",
       "      <td>10.0</td>\n",
       "      <td>9.0</td>\n",
       "      <td>30.23</td>\n",
       "    </tr>\n",
       "  </tbody>\n",
       "</table>\n",
       "</div>"
      ],
      "text/plain": [
       "  date_posted         headline  \\\n",
       "0  2020-12-17      ON THE HUNT   \n",
       "1  2020-12-18  SCRATCHING AWAY   \n",
       "\n",
       "                                           post_body  low_temp  avg_temp  \\\n",
       "0  We were on the hunt for Yellowtail today but n...      46.0     57.34   \n",
       "1  Searched for Yellowtail again today to find no...      52.0     58.04   \n",
       "\n",
       "   high_temp  inches_precip  miles_visible  max_wind  sea_pressure  \n",
       "0       64.0            0.0           10.0      10.0         30.08  \n",
       "1       66.0            0.0           10.0       9.0         30.23  "
      ]
     },
     "execution_count": 3,
     "metadata": {},
     "output_type": "execute_result"
    }
   ],
   "source": [
    "fishing_data.head(2)"
   ]
  },
  {
   "cell_type": "code",
   "execution_count": 4,
   "metadata": {},
   "outputs": [],
   "source": [
    "DATE_PATTERN = re.compile(r\"\\d+/\\d+/\\d+\")\n",
    "\n",
    "# match times like 3:30pm or 3:40 am\n",
    "TIME_PATTERN = re.compile(r\"\\d+:\\d+\\s*(pm|am)\", re.IGNORECASE)"
   ]
  },
  {
   "cell_type": "code",
   "execution_count": 5,
   "metadata": {},
   "outputs": [],
   "source": [
    "def replace_dates(post):\n",
    "    return DATE_PATTERN.sub(\"DATE__STAMP\", post)\n",
    "\n",
    "def replace_times(post):\n",
    "    return TIME_PATTERN.sub(\"TIME__STAMP\", post)"
   ]
  },
  {
   "cell_type": "code",
   "execution_count": 6,
   "metadata": {},
   "outputs": [
    {
     "data": {
      "text/plain": [
       "'does DATE__STAMP sound right? how about DATE__STAMP?'"
      ]
     },
     "execution_count": 6,
     "metadata": {},
     "output_type": "execute_result"
    }
   ],
   "source": [
    "replace_dates(\"does 3/10/2020 sound right? how about 2020/10/3?\")"
   ]
  },
  {
   "cell_type": "code",
   "execution_count": 7,
   "metadata": {},
   "outputs": [
    {
     "data": {
      "text/plain": [
       "'lets meet around TIME__STAMP. Wait, does TIME__STAMP work?'"
      ]
     },
     "execution_count": 7,
     "metadata": {},
     "output_type": "execute_result"
    }
   ],
   "source": [
    "replace_times(\"lets meet around 12:40PM. Wait, does 1:45 Am work?\")"
   ]
  },
  {
   "cell_type": "code",
   "execution_count": 8,
   "metadata": {},
   "outputs": [],
   "source": [
    "# convert the date to a date object for consistency in our analysis + make pandas happy\n",
    "fishing_data.loc[:, 'date_posted'] = pd.to_datetime(fishing_data.loc[:, 'date_posted'], format=\"%Y-%m-%d\", cache=True)\n",
    "\n",
    "# convert times and dates to a common value to reduce vocabulary size.\n",
    "fishing_data.loc[:, 'post_body'] = fishing_data.loc[:, 'post_body'].astype(str).apply(replace_dates)\n",
    "fishing_data.loc[:, 'post_body'] = fishing_data.loc[:, 'post_body'].astype(str).apply(replace_times)\n",
    "\n",
    "# clean punctuation from the post bodies. makes our lives harder and doesnt contribute much\n",
    "fishing_data.loc[:, 'post_body'] = fishing_data.loc[:, 'post_body'].astype(str).apply(clean_string)\n"
   ]
  },
  {
   "cell_type": "code",
   "execution_count": 9,
   "metadata": {},
   "outputs": [],
   "source": [
    "el_nino_years = [2002, 2003, 2004, 2005, 2006, 2007, 2009, 2010, 2014, 2015, 2016, 2018, 2019]"
   ]
  },
  {
   "cell_type": "code",
   "execution_count": 10,
   "metadata": {},
   "outputs": [],
   "source": [
    "fishing_data.loc[:, 'elnino'] = fishing_data.date_posted.dt.year.isin(el_nino_years)"
   ]
  },
  {
   "cell_type": "markdown",
   "metadata": {},
   "source": [
    "## Check for duplicate rows "
   ]
  },
  {
   "cell_type": "code",
   "execution_count": 11,
   "metadata": {
    "scrolled": true
   },
   "outputs": [
    {
     "data": {
      "text/html": [
       "<div>\n",
       "<style scoped>\n",
       "    .dataframe tbody tr th:only-of-type {\n",
       "        vertical-align: middle;\n",
       "    }\n",
       "\n",
       "    .dataframe tbody tr th {\n",
       "        vertical-align: top;\n",
       "    }\n",
       "\n",
       "    .dataframe thead th {\n",
       "        text-align: right;\n",
       "    }\n",
       "</style>\n",
       "<table border=\"1\" class=\"dataframe\">\n",
       "  <thead>\n",
       "    <tr style=\"text-align: right;\">\n",
       "      <th></th>\n",
       "      <th>date_posted</th>\n",
       "      <th>headline</th>\n",
       "      <th>post_body</th>\n",
       "      <th>low_temp</th>\n",
       "      <th>avg_temp</th>\n",
       "      <th>high_temp</th>\n",
       "      <th>inches_precip</th>\n",
       "      <th>miles_visible</th>\n",
       "      <th>max_wind</th>\n",
       "      <th>sea_pressure</th>\n",
       "      <th>elnino</th>\n",
       "    </tr>\n",
       "  </thead>\n",
       "  <tbody>\n",
       "    <tr>\n",
       "      <th>2548</th>\n",
       "      <td>2007-08-30</td>\n",
       "      <td>Indy Sportfishing Fish Report 08-30-07</td>\n",
       "      <td>Here is the report for today We fished for alb...</td>\n",
       "      <td>71.0</td>\n",
       "      <td>74.35</td>\n",
       "      <td>80.0</td>\n",
       "      <td>0.0</td>\n",
       "      <td>10.0</td>\n",
       "      <td>9.0</td>\n",
       "      <td>29.87</td>\n",
       "      <td>True</td>\n",
       "    </tr>\n",
       "    <tr>\n",
       "      <th>2547</th>\n",
       "      <td>2007-08-30</td>\n",
       "      <td>Indy Sportfishing Fish Report 08-30-07</td>\n",
       "      <td>Here is the report for today We fished for alb...</td>\n",
       "      <td>71.0</td>\n",
       "      <td>74.35</td>\n",
       "      <td>80.0</td>\n",
       "      <td>0.0</td>\n",
       "      <td>10.0</td>\n",
       "      <td>9.0</td>\n",
       "      <td>29.87</td>\n",
       "      <td>True</td>\n",
       "    </tr>\n",
       "    <tr>\n",
       "      <th>2478</th>\n",
       "      <td>2007-12-02</td>\n",
       "      <td>Indy Sportfishing Fish Report 12-02-07</td>\n",
       "      <td>Good evening we had another great day at the b...</td>\n",
       "      <td>48.0</td>\n",
       "      <td>54.43</td>\n",
       "      <td>60.0</td>\n",
       "      <td>0.0</td>\n",
       "      <td>10.0</td>\n",
       "      <td>12.0</td>\n",
       "      <td>30.41</td>\n",
       "      <td>True</td>\n",
       "    </tr>\n",
       "    <tr>\n",
       "      <th>2477</th>\n",
       "      <td>2007-12-02</td>\n",
       "      <td>Indy Sportfishing Fish Report 12-02-07</td>\n",
       "      <td>Good evening we had another great day at the b...</td>\n",
       "      <td>48.0</td>\n",
       "      <td>54.43</td>\n",
       "      <td>60.0</td>\n",
       "      <td>0.0</td>\n",
       "      <td>10.0</td>\n",
       "      <td>12.0</td>\n",
       "      <td>30.41</td>\n",
       "      <td>True</td>\n",
       "    </tr>\n",
       "    <tr>\n",
       "      <th>2354</th>\n",
       "      <td>2008-08-26</td>\n",
       "      <td>Independence Sportfishing Fish Report</td>\n",
       "      <td>Good day heres an update from our trip so far ...</td>\n",
       "      <td>69.0</td>\n",
       "      <td>71.16</td>\n",
       "      <td>75.0</td>\n",
       "      <td>0.0</td>\n",
       "      <td>10.0</td>\n",
       "      <td>9.0</td>\n",
       "      <td>29.81</td>\n",
       "      <td>False</td>\n",
       "    </tr>\n",
       "    <tr>\n",
       "      <th>2353</th>\n",
       "      <td>2008-08-26</td>\n",
       "      <td>Independence Sportfishing Fish Report</td>\n",
       "      <td>Good day heres an update from our trip so far ...</td>\n",
       "      <td>69.0</td>\n",
       "      <td>71.16</td>\n",
       "      <td>75.0</td>\n",
       "      <td>0.0</td>\n",
       "      <td>10.0</td>\n",
       "      <td>9.0</td>\n",
       "      <td>29.81</td>\n",
       "      <td>False</td>\n",
       "    </tr>\n",
       "    <tr>\n",
       "      <th>2336</th>\n",
       "      <td>2008-10-03</td>\n",
       "      <td>Independence Fish Report for Oct. 3, 2008</td>\n",
       "      <td>Well today we continued our hunt down into the...</td>\n",
       "      <td>66.0</td>\n",
       "      <td>68.45</td>\n",
       "      <td>70.0</td>\n",
       "      <td>0.0</td>\n",
       "      <td>10.0</td>\n",
       "      <td>12.0</td>\n",
       "      <td>29.90</td>\n",
       "      <td>False</td>\n",
       "    </tr>\n",
       "    <tr>\n",
       "      <th>2335</th>\n",
       "      <td>2008-10-03</td>\n",
       "      <td>Independence Fish Report for Oct. 3, 2008</td>\n",
       "      <td>Well today we continued our hunt down into the...</td>\n",
       "      <td>66.0</td>\n",
       "      <td>68.45</td>\n",
       "      <td>70.0</td>\n",
       "      <td>0.0</td>\n",
       "      <td>10.0</td>\n",
       "      <td>12.0</td>\n",
       "      <td>29.90</td>\n",
       "      <td>False</td>\n",
       "    </tr>\n",
       "    <tr>\n",
       "      <th>2332</th>\n",
       "      <td>2008-10-06</td>\n",
       "      <td>Independence Fish Report for Oct. 06, 2008</td>\n",
       "      <td>Hello Here is the final report for our trip To...</td>\n",
       "      <td>62.0</td>\n",
       "      <td>69.52</td>\n",
       "      <td>79.0</td>\n",
       "      <td>0.0</td>\n",
       "      <td>10.0</td>\n",
       "      <td>13.0</td>\n",
       "      <td>29.96</td>\n",
       "      <td>False</td>\n",
       "    </tr>\n",
       "    <tr>\n",
       "      <th>2331</th>\n",
       "      <td>2008-10-06</td>\n",
       "      <td>Independence Fish Report for Oct. 06, 2008</td>\n",
       "      <td>Hello Here is the final report for our trip To...</td>\n",
       "      <td>62.0</td>\n",
       "      <td>69.52</td>\n",
       "      <td>79.0</td>\n",
       "      <td>0.0</td>\n",
       "      <td>10.0</td>\n",
       "      <td>13.0</td>\n",
       "      <td>29.96</td>\n",
       "      <td>False</td>\n",
       "    </tr>\n",
       "    <tr>\n",
       "      <th>2283</th>\n",
       "      <td>2008-12-05</td>\n",
       "      <td>Independence Fish Report for Dec. 05, 2008</td>\n",
       "      <td>Hello again Today was well today was not good ...</td>\n",
       "      <td>54.0</td>\n",
       "      <td>61.09</td>\n",
       "      <td>70.0</td>\n",
       "      <td>0.0</td>\n",
       "      <td>10.0</td>\n",
       "      <td>8.0</td>\n",
       "      <td>30.15</td>\n",
       "      <td>False</td>\n",
       "    </tr>\n",
       "    <tr>\n",
       "      <th>2282</th>\n",
       "      <td>2008-12-05</td>\n",
       "      <td>Independence Fish Report for Dec. 05, 2008</td>\n",
       "      <td>Hello again Today was well today was not good ...</td>\n",
       "      <td>54.0</td>\n",
       "      <td>61.09</td>\n",
       "      <td>70.0</td>\n",
       "      <td>0.0</td>\n",
       "      <td>10.0</td>\n",
       "      <td>8.0</td>\n",
       "      <td>30.15</td>\n",
       "      <td>False</td>\n",
       "    </tr>\n",
       "    <tr>\n",
       "      <th>1826</th>\n",
       "      <td>2011-09-09</td>\n",
       "      <td>Indy Arrives</td>\n",
       "      <td>The Indy will dock at Point Loma Sportfishing ...</td>\n",
       "      <td>63.0</td>\n",
       "      <td>65.50</td>\n",
       "      <td>68.0</td>\n",
       "      <td>0.0</td>\n",
       "      <td>10.0</td>\n",
       "      <td>12.0</td>\n",
       "      <td>29.86</td>\n",
       "      <td>False</td>\n",
       "    </tr>\n",
       "    <tr>\n",
       "      <th>1827</th>\n",
       "      <td>2011-09-09</td>\n",
       "      <td>Indy Arrives</td>\n",
       "      <td>The Indy will dock at Point Loma Sportfishing ...</td>\n",
       "      <td>63.0</td>\n",
       "      <td>65.50</td>\n",
       "      <td>68.0</td>\n",
       "      <td>0.0</td>\n",
       "      <td>10.0</td>\n",
       "      <td>12.0</td>\n",
       "      <td>29.86</td>\n",
       "      <td>False</td>\n",
       "    </tr>\n",
       "    <tr>\n",
       "      <th>1738</th>\n",
       "      <td>2012-04-17</td>\n",
       "      <td>ANOTHER BANNER DAY!</td>\n",
       "      <td>ANOTHER BANNER DAY Things are going well down ...</td>\n",
       "      <td>54.0</td>\n",
       "      <td>61.00</td>\n",
       "      <td>71.0</td>\n",
       "      <td>0.0</td>\n",
       "      <td>10.0</td>\n",
       "      <td>13.0</td>\n",
       "      <td>30.08</td>\n",
       "      <td>False</td>\n",
       "    </tr>\n",
       "    <tr>\n",
       "      <th>1737</th>\n",
       "      <td>2012-04-17</td>\n",
       "      <td>ANOTHER BANNER DAY!</td>\n",
       "      <td>ANOTHER BANNER DAY Things are going well down ...</td>\n",
       "      <td>54.0</td>\n",
       "      <td>61.00</td>\n",
       "      <td>71.0</td>\n",
       "      <td>0.0</td>\n",
       "      <td>10.0</td>\n",
       "      <td>13.0</td>\n",
       "      <td>30.08</td>\n",
       "      <td>False</td>\n",
       "    </tr>\n",
       "    <tr>\n",
       "      <th>1345</th>\n",
       "      <td>2013-11-14</td>\n",
       "      <td>ANOTHER QUICK TURNAROUND.</td>\n",
       "      <td>The Indy returned this morning with a beautifu...</td>\n",
       "      <td>60.0</td>\n",
       "      <td>65.24</td>\n",
       "      <td>78.0</td>\n",
       "      <td>0.0</td>\n",
       "      <td>10.0</td>\n",
       "      <td>14.0</td>\n",
       "      <td>29.90</td>\n",
       "      <td>False</td>\n",
       "    </tr>\n",
       "    <tr>\n",
       "      <th>1344</th>\n",
       "      <td>2013-11-14</td>\n",
       "      <td>ANOTHER QUICK TURNAROUND.</td>\n",
       "      <td>The Indy returned this morning with a beautifu...</td>\n",
       "      <td>60.0</td>\n",
       "      <td>65.24</td>\n",
       "      <td>78.0</td>\n",
       "      <td>0.0</td>\n",
       "      <td>10.0</td>\n",
       "      <td>14.0</td>\n",
       "      <td>29.90</td>\n",
       "      <td>False</td>\n",
       "    </tr>\n",
       "    <tr>\n",
       "      <th>1342</th>\n",
       "      <td>2013-11-17</td>\n",
       "      <td>UPDATE.</td>\n",
       "      <td>We have had a very pleasant ride down to the f...</td>\n",
       "      <td>58.0</td>\n",
       "      <td>62.63</td>\n",
       "      <td>66.0</td>\n",
       "      <td>0.0</td>\n",
       "      <td>10.0</td>\n",
       "      <td>12.0</td>\n",
       "      <td>30.07</td>\n",
       "      <td>False</td>\n",
       "    </tr>\n",
       "    <tr>\n",
       "      <th>1341</th>\n",
       "      <td>2013-11-17</td>\n",
       "      <td>UPDATE.</td>\n",
       "      <td>We have had a very pleasant ride down to the f...</td>\n",
       "      <td>58.0</td>\n",
       "      <td>62.63</td>\n",
       "      <td>66.0</td>\n",
       "      <td>0.0</td>\n",
       "      <td>10.0</td>\n",
       "      <td>12.0</td>\n",
       "      <td>30.07</td>\n",
       "      <td>False</td>\n",
       "    </tr>\n",
       "    <tr>\n",
       "      <th>1080</th>\n",
       "      <td>2015-06-15</td>\n",
       "      <td>CHECKING IN.</td>\n",
       "      <td>Good day to all from the independence we depar...</td>\n",
       "      <td>64.0</td>\n",
       "      <td>67.30</td>\n",
       "      <td>72.0</td>\n",
       "      <td>0.0</td>\n",
       "      <td>10.0</td>\n",
       "      <td>9.0</td>\n",
       "      <td>29.87</td>\n",
       "      <td>True</td>\n",
       "    </tr>\n",
       "    <tr>\n",
       "      <th>1079</th>\n",
       "      <td>2015-06-15</td>\n",
       "      <td>CHECKING IN.</td>\n",
       "      <td>Good day to all from the independence we depar...</td>\n",
       "      <td>64.0</td>\n",
       "      <td>67.30</td>\n",
       "      <td>72.0</td>\n",
       "      <td>0.0</td>\n",
       "      <td>10.0</td>\n",
       "      <td>9.0</td>\n",
       "      <td>29.87</td>\n",
       "      <td>True</td>\n",
       "    </tr>\n",
       "  </tbody>\n",
       "</table>\n",
       "</div>"
      ],
      "text/plain": [
       "     date_posted                                    headline  \\\n",
       "2548  2007-08-30      Indy Sportfishing Fish Report 08-30-07   \n",
       "2547  2007-08-30      Indy Sportfishing Fish Report 08-30-07   \n",
       "2478  2007-12-02      Indy Sportfishing Fish Report 12-02-07   \n",
       "2477  2007-12-02      Indy Sportfishing Fish Report 12-02-07   \n",
       "2354  2008-08-26       Independence Sportfishing Fish Report   \n",
       "2353  2008-08-26       Independence Sportfishing Fish Report   \n",
       "2336  2008-10-03   Independence Fish Report for Oct. 3, 2008   \n",
       "2335  2008-10-03   Independence Fish Report for Oct. 3, 2008   \n",
       "2332  2008-10-06  Independence Fish Report for Oct. 06, 2008   \n",
       "2331  2008-10-06  Independence Fish Report for Oct. 06, 2008   \n",
       "2283  2008-12-05  Independence Fish Report for Dec. 05, 2008   \n",
       "2282  2008-12-05  Independence Fish Report for Dec. 05, 2008   \n",
       "1826  2011-09-09                                Indy Arrives   \n",
       "1827  2011-09-09                                Indy Arrives   \n",
       "1738  2012-04-17                        ANOTHER BANNER DAY!    \n",
       "1737  2012-04-17                        ANOTHER BANNER DAY!    \n",
       "1345  2013-11-14                  ANOTHER QUICK TURNAROUND.    \n",
       "1344  2013-11-14                  ANOTHER QUICK TURNAROUND.    \n",
       "1342  2013-11-17                                    UPDATE.    \n",
       "1341  2013-11-17                                    UPDATE.    \n",
       "1080  2015-06-15                               CHECKING IN.    \n",
       "1079  2015-06-15                               CHECKING IN.    \n",
       "\n",
       "                                              post_body  low_temp  avg_temp  \\\n",
       "2548  Here is the report for today We fished for alb...      71.0     74.35   \n",
       "2547  Here is the report for today We fished for alb...      71.0     74.35   \n",
       "2478  Good evening we had another great day at the b...      48.0     54.43   \n",
       "2477  Good evening we had another great day at the b...      48.0     54.43   \n",
       "2354  Good day heres an update from our trip so far ...      69.0     71.16   \n",
       "2353  Good day heres an update from our trip so far ...      69.0     71.16   \n",
       "2336  Well today we continued our hunt down into the...      66.0     68.45   \n",
       "2335  Well today we continued our hunt down into the...      66.0     68.45   \n",
       "2332  Hello Here is the final report for our trip To...      62.0     69.52   \n",
       "2331  Hello Here is the final report for our trip To...      62.0     69.52   \n",
       "2283  Hello again Today was well today was not good ...      54.0     61.09   \n",
       "2282  Hello again Today was well today was not good ...      54.0     61.09   \n",
       "1826  The Indy will dock at Point Loma Sportfishing ...      63.0     65.50   \n",
       "1827  The Indy will dock at Point Loma Sportfishing ...      63.0     65.50   \n",
       "1738  ANOTHER BANNER DAY Things are going well down ...      54.0     61.00   \n",
       "1737  ANOTHER BANNER DAY Things are going well down ...      54.0     61.00   \n",
       "1345  The Indy returned this morning with a beautifu...      60.0     65.24   \n",
       "1344  The Indy returned this morning with a beautifu...      60.0     65.24   \n",
       "1342  We have had a very pleasant ride down to the f...      58.0     62.63   \n",
       "1341  We have had a very pleasant ride down to the f...      58.0     62.63   \n",
       "1080  Good day to all from the independence we depar...      64.0     67.30   \n",
       "1079  Good day to all from the independence we depar...      64.0     67.30   \n",
       "\n",
       "      high_temp  inches_precip  miles_visible  max_wind  sea_pressure  elnino  \n",
       "2548       80.0            0.0           10.0       9.0         29.87    True  \n",
       "2547       80.0            0.0           10.0       9.0         29.87    True  \n",
       "2478       60.0            0.0           10.0      12.0         30.41    True  \n",
       "2477       60.0            0.0           10.0      12.0         30.41    True  \n",
       "2354       75.0            0.0           10.0       9.0         29.81   False  \n",
       "2353       75.0            0.0           10.0       9.0         29.81   False  \n",
       "2336       70.0            0.0           10.0      12.0         29.90   False  \n",
       "2335       70.0            0.0           10.0      12.0         29.90   False  \n",
       "2332       79.0            0.0           10.0      13.0         29.96   False  \n",
       "2331       79.0            0.0           10.0      13.0         29.96   False  \n",
       "2283       70.0            0.0           10.0       8.0         30.15   False  \n",
       "2282       70.0            0.0           10.0       8.0         30.15   False  \n",
       "1826       68.0            0.0           10.0      12.0         29.86   False  \n",
       "1827       68.0            0.0           10.0      12.0         29.86   False  \n",
       "1738       71.0            0.0           10.0      13.0         30.08   False  \n",
       "1737       71.0            0.0           10.0      13.0         30.08   False  \n",
       "1345       78.0            0.0           10.0      14.0         29.90   False  \n",
       "1344       78.0            0.0           10.0      14.0         29.90   False  \n",
       "1342       66.0            0.0           10.0      12.0         30.07   False  \n",
       "1341       66.0            0.0           10.0      12.0         30.07   False  \n",
       "1080       72.0            0.0           10.0       9.0         29.87    True  \n",
       "1079       72.0            0.0           10.0       9.0         29.87    True  "
      ]
     },
     "execution_count": 11,
     "metadata": {},
     "output_type": "execute_result"
    }
   ],
   "source": [
    "fishing_data.loc[fishing_data.duplicated(subset=['headline', 'post_body', 'date_posted'], keep=False)].sort_values(\"date_posted\")"
   ]
  },
  {
   "cell_type": "markdown",
   "metadata": {},
   "source": [
    "There are 13 duplicate posts that leaked into the data. We'll get rid of these so they don't skew any of our analysis."
   ]
  },
  {
   "cell_type": "code",
   "execution_count": 12,
   "metadata": {},
   "outputs": [
    {
     "data": {
      "text/html": [
       "<div>\n",
       "<style scoped>\n",
       "    .dataframe tbody tr th:only-of-type {\n",
       "        vertical-align: middle;\n",
       "    }\n",
       "\n",
       "    .dataframe tbody tr th {\n",
       "        vertical-align: top;\n",
       "    }\n",
       "\n",
       "    .dataframe thead th {\n",
       "        text-align: right;\n",
       "    }\n",
       "</style>\n",
       "<table border=\"1\" class=\"dataframe\">\n",
       "  <thead>\n",
       "    <tr style=\"text-align: right;\">\n",
       "      <th></th>\n",
       "      <th>date_posted</th>\n",
       "      <th>headline</th>\n",
       "      <th>post_body</th>\n",
       "      <th>low_temp</th>\n",
       "      <th>avg_temp</th>\n",
       "      <th>high_temp</th>\n",
       "      <th>inches_precip</th>\n",
       "      <th>miles_visible</th>\n",
       "      <th>max_wind</th>\n",
       "      <th>sea_pressure</th>\n",
       "      <th>elnino</th>\n",
       "    </tr>\n",
       "  </thead>\n",
       "  <tbody>\n",
       "    <tr>\n",
       "      <th>0</th>\n",
       "      <td>2020-12-17</td>\n",
       "      <td>ON THE HUNT</td>\n",
       "      <td>We were on the hunt for Yellowtail today but n...</td>\n",
       "      <td>46.0</td>\n",
       "      <td>57.34</td>\n",
       "      <td>64.0</td>\n",
       "      <td>0.0</td>\n",
       "      <td>10.0</td>\n",
       "      <td>10.0</td>\n",
       "      <td>30.08</td>\n",
       "      <td>False</td>\n",
       "    </tr>\n",
       "    <tr>\n",
       "      <th>1</th>\n",
       "      <td>2020-12-18</td>\n",
       "      <td>SCRATCHING AWAY</td>\n",
       "      <td>Searched for Yellowtail again today to find no...</td>\n",
       "      <td>52.0</td>\n",
       "      <td>58.04</td>\n",
       "      <td>66.0</td>\n",
       "      <td>0.0</td>\n",
       "      <td>10.0</td>\n",
       "      <td>9.0</td>\n",
       "      <td>30.23</td>\n",
       "      <td>False</td>\n",
       "    </tr>\n",
       "  </tbody>\n",
       "</table>\n",
       "</div>"
      ],
      "text/plain": [
       "  date_posted         headline  \\\n",
       "0  2020-12-17      ON THE HUNT   \n",
       "1  2020-12-18  SCRATCHING AWAY   \n",
       "\n",
       "                                           post_body  low_temp  avg_temp  \\\n",
       "0  We were on the hunt for Yellowtail today but n...      46.0     57.34   \n",
       "1  Searched for Yellowtail again today to find no...      52.0     58.04   \n",
       "\n",
       "   high_temp  inches_precip  miles_visible  max_wind  sea_pressure  elnino  \n",
       "0       64.0            0.0           10.0      10.0         30.08   False  \n",
       "1       66.0            0.0           10.0       9.0         30.23   False  "
      ]
     },
     "execution_count": 12,
     "metadata": {},
     "output_type": "execute_result"
    }
   ],
   "source": [
    "fishing_data = fishing_data.drop_duplicates().reset_index(drop=True)\n",
    "fishing_data.head(2)"
   ]
  },
  {
   "cell_type": "markdown",
   "metadata": {},
   "source": [
    "## Duplicate dates"
   ]
  },
  {
   "cell_type": "code",
   "execution_count": 13,
   "metadata": {},
   "outputs": [
    {
     "data": {
      "text/plain": [
       "2017-04-30    9\n",
       "2017-09-26    9\n",
       "2017-04-28    7\n",
       "2017-12-05    7\n",
       "2018-04-21    7\n",
       "             ..\n",
       "2008-10-27    2\n",
       "2011-06-16    2\n",
       "2009-12-08    2\n",
       "2011-08-12    2\n",
       "2014-08-28    2\n",
       "Name: date_posted, Length: 411, dtype: int64"
      ]
     },
     "execution_count": 13,
     "metadata": {},
     "output_type": "execute_result"
    }
   ],
   "source": [
    "# are there multiple posts for any days?\n",
    "post_counts = fishing_data.date_posted.value_counts()\n",
    "post_counts[post_counts >= 2]"
   ]
  },
  {
   "cell_type": "markdown",
   "metadata": {},
   "source": [
    "Is it concerning that dates are duplicated? Let's check one of the dates that has 9 posts."
   ]
  },
  {
   "cell_type": "code",
   "execution_count": 14,
   "metadata": {},
   "outputs": [
    {
     "data": {
      "text/html": [
       "<div>\n",
       "<style scoped>\n",
       "    .dataframe tbody tr th:only-of-type {\n",
       "        vertical-align: middle;\n",
       "    }\n",
       "\n",
       "    .dataframe tbody tr th {\n",
       "        vertical-align: top;\n",
       "    }\n",
       "\n",
       "    .dataframe thead th {\n",
       "        text-align: right;\n",
       "    }\n",
       "</style>\n",
       "<table border=\"1\" class=\"dataframe\">\n",
       "  <thead>\n",
       "    <tr style=\"text-align: right;\">\n",
       "      <th></th>\n",
       "      <th>date_posted</th>\n",
       "      <th>headline</th>\n",
       "      <th>post_body</th>\n",
       "      <th>low_temp</th>\n",
       "      <th>avg_temp</th>\n",
       "      <th>high_temp</th>\n",
       "      <th>inches_precip</th>\n",
       "      <th>miles_visible</th>\n",
       "      <th>max_wind</th>\n",
       "      <th>sea_pressure</th>\n",
       "      <th>elnino</th>\n",
       "    </tr>\n",
       "  </thead>\n",
       "  <tbody>\n",
       "    <tr>\n",
       "      <th>498</th>\n",
       "      <td>2017-09-26</td>\n",
       "      <td>Excellent Start Kimura 8 Day</td>\n",
       "      <td>We departed Sunday on our annual Gary Kimura 8...</td>\n",
       "      <td>63.0</td>\n",
       "      <td>69.92</td>\n",
       "      <td>78.0</td>\n",
       "      <td>0.0</td>\n",
       "      <td>10.0</td>\n",
       "      <td>10.0</td>\n",
       "      <td>29.82</td>\n",
       "      <td>False</td>\n",
       "    </tr>\n",
       "    <tr>\n",
       "      <th>499</th>\n",
       "      <td>2017-09-26</td>\n",
       "      <td>beautiful dorados today</td>\n",
       "      <td>nan</td>\n",
       "      <td>63.0</td>\n",
       "      <td>69.92</td>\n",
       "      <td>78.0</td>\n",
       "      <td>0.0</td>\n",
       "      <td>10.0</td>\n",
       "      <td>10.0</td>\n",
       "      <td>29.82</td>\n",
       "      <td>False</td>\n",
       "    </tr>\n",
       "    <tr>\n",
       "      <th>500</th>\n",
       "      <td>2017-09-26</td>\n",
       "      <td>beautiful yellowtail</td>\n",
       "      <td>nan</td>\n",
       "      <td>63.0</td>\n",
       "      <td>69.92</td>\n",
       "      <td>78.0</td>\n",
       "      <td>0.0</td>\n",
       "      <td>10.0</td>\n",
       "      <td>10.0</td>\n",
       "      <td>29.82</td>\n",
       "      <td>False</td>\n",
       "    </tr>\n",
       "    <tr>\n",
       "      <th>501</th>\n",
       "      <td>2017-09-26</td>\n",
       "      <td>happy camper</td>\n",
       "      <td>nan</td>\n",
       "      <td>63.0</td>\n",
       "      <td>69.92</td>\n",
       "      <td>78.0</td>\n",
       "      <td>0.0</td>\n",
       "      <td>10.0</td>\n",
       "      <td>10.0</td>\n",
       "      <td>29.82</td>\n",
       "      <td>False</td>\n",
       "    </tr>\n",
       "    <tr>\n",
       "      <th>502</th>\n",
       "      <td>2017-09-26</td>\n",
       "      <td>YELLOWTAIL BONANZA</td>\n",
       "      <td>nan</td>\n",
       "      <td>63.0</td>\n",
       "      <td>69.92</td>\n",
       "      <td>78.0</td>\n",
       "      <td>0.0</td>\n",
       "      <td>10.0</td>\n",
       "      <td>10.0</td>\n",
       "      <td>29.82</td>\n",
       "      <td>False</td>\n",
       "    </tr>\n",
       "    <tr>\n",
       "      <th>503</th>\n",
       "      <td>2017-09-26</td>\n",
       "      <td>Matt</td>\n",
       "      <td>Matt brings in a beautiful Yellowtail</td>\n",
       "      <td>63.0</td>\n",
       "      <td>69.92</td>\n",
       "      <td>78.0</td>\n",
       "      <td>0.0</td>\n",
       "      <td>10.0</td>\n",
       "      <td>10.0</td>\n",
       "      <td>29.82</td>\n",
       "      <td>False</td>\n",
       "    </tr>\n",
       "    <tr>\n",
       "      <th>504</th>\n",
       "      <td>2017-09-26</td>\n",
       "      <td>Alex</td>\n",
       "      <td>Nice yellow today</td>\n",
       "      <td>63.0</td>\n",
       "      <td>69.92</td>\n",
       "      <td>78.0</td>\n",
       "      <td>0.0</td>\n",
       "      <td>10.0</td>\n",
       "      <td>10.0</td>\n",
       "      <td>29.82</td>\n",
       "      <td>False</td>\n",
       "    </tr>\n",
       "    <tr>\n",
       "      <th>505</th>\n",
       "      <td>2017-09-26</td>\n",
       "      <td>Robert</td>\n",
       "      <td>Robert says Hello to all my friends</td>\n",
       "      <td>63.0</td>\n",
       "      <td>69.92</td>\n",
       "      <td>78.0</td>\n",
       "      <td>0.0</td>\n",
       "      <td>10.0</td>\n",
       "      <td>10.0</td>\n",
       "      <td>29.82</td>\n",
       "      <td>False</td>\n",
       "    </tr>\n",
       "    <tr>\n",
       "      <th>506</th>\n",
       "      <td>2017-09-26</td>\n",
       "      <td>trip 1722 Jackpot winners</td>\n",
       "      <td>First place Tim Brown 57 8 Second place Vince ...</td>\n",
       "      <td>63.0</td>\n",
       "      <td>69.92</td>\n",
       "      <td>78.0</td>\n",
       "      <td>0.0</td>\n",
       "      <td>10.0</td>\n",
       "      <td>10.0</td>\n",
       "      <td>29.82</td>\n",
       "      <td>False</td>\n",
       "    </tr>\n",
       "  </tbody>\n",
       "</table>\n",
       "</div>"
      ],
      "text/plain": [
       "    date_posted                      headline  \\\n",
       "498  2017-09-26  Excellent Start Kimura 8 Day   \n",
       "499  2017-09-26       beautiful dorados today   \n",
       "500  2017-09-26          beautiful yellowtail   \n",
       "501  2017-09-26                  happy camper   \n",
       "502  2017-09-26            YELLOWTAIL BONANZA   \n",
       "503  2017-09-26                          Matt   \n",
       "504  2017-09-26                          Alex   \n",
       "505  2017-09-26                        Robert   \n",
       "506  2017-09-26     trip 1722 Jackpot winners   \n",
       "\n",
       "                                             post_body  low_temp  avg_temp  \\\n",
       "498  We departed Sunday on our annual Gary Kimura 8...      63.0     69.92   \n",
       "499                                                nan      63.0     69.92   \n",
       "500                                                nan      63.0     69.92   \n",
       "501                                                nan      63.0     69.92   \n",
       "502                                                nan      63.0     69.92   \n",
       "503              Matt brings in a beautiful Yellowtail      63.0     69.92   \n",
       "504                                  Nice yellow today      63.0     69.92   \n",
       "505                Robert says Hello to all my friends      63.0     69.92   \n",
       "506  First place Tim Brown 57 8 Second place Vince ...      63.0     69.92   \n",
       "\n",
       "     high_temp  inches_precip  miles_visible  max_wind  sea_pressure  elnino  \n",
       "498       78.0            0.0           10.0      10.0         29.82   False  \n",
       "499       78.0            0.0           10.0      10.0         29.82   False  \n",
       "500       78.0            0.0           10.0      10.0         29.82   False  \n",
       "501       78.0            0.0           10.0      10.0         29.82   False  \n",
       "502       78.0            0.0           10.0      10.0         29.82   False  \n",
       "503       78.0            0.0           10.0      10.0         29.82   False  \n",
       "504       78.0            0.0           10.0      10.0         29.82   False  \n",
       "505       78.0            0.0           10.0      10.0         29.82   False  \n",
       "506       78.0            0.0           10.0      10.0         29.82   False  "
      ]
     },
     "execution_count": 14,
     "metadata": {},
     "output_type": "execute_result"
    }
   ],
   "source": [
    "sample_date = pd.Timestamp(datetime.date(2017, 9, 26))\n",
    "duplicate_date_example = fishing_data.loc[fishing_data.date_posted == sample_date]\n",
    "duplicate_date_example"
   ]
  },
  {
   "cell_type": "markdown",
   "metadata": {},
   "source": [
    "There seem to be days where the crew posts many times, sometimes without a post body. It's likely that these are accompanied by pictures on the actual site since the headlines are things like, `Matt brings in a beautiful Yellowtail`, though we didn't webscrape photos. More posts in a day may be an indicator of good fishing conditions. "
   ]
  },
  {
   "cell_type": "markdown",
   "metadata": {},
   "source": [
    "## When do posts happen?"
   ]
  },
  {
   "cell_type": "markdown",
   "metadata": {},
   "source": [
    "#### Let's see how posts are distributed by year"
   ]
  },
  {
   "cell_type": "code",
   "execution_count": 15,
   "metadata": {},
   "outputs": [
    {
     "data": {
      "text/plain": [
       "(Timestamp('2005-06-19 00:00:00'), Timestamp('2020-12-19 00:00:00'))"
      ]
     },
     "execution_count": 15,
     "metadata": {},
     "output_type": "execute_result"
    }
   ],
   "source": [
    "# What is the earliest post and the most recent post by date?\n",
    "sorted_dates = fishing_data.date_posted.sort_values()\n",
    "sorted_dates.iloc[0], sorted_dates.iloc[-1]"
   ]
  },
  {
   "cell_type": "code",
   "execution_count": 16,
   "metadata": {},
   "outputs": [],
   "source": [
    "# uncomment this to see just the numbers per year \n",
    "# (useful for spotchecking the bar plot since more plot options = room for error)\n",
    "\n",
    "# fishing_data.date_posted.dt.year.value_counts()"
   ]
  },
  {
   "cell_type": "code",
   "execution_count": 17,
   "metadata": {},
   "outputs": [
    {
     "data": {
      "image/png": "[encoded data removed]",
      "text/plain": [
       "<Figure size 432x288 with 1 Axes>"
      ]
     },
     "metadata": {
      "needs_background": "light"
     },
     "output_type": "display_data"
    }
   ],
   "source": [
    "time_hist_options = {\n",
    "    \"alpha\":  0.5,\n",
    "    \"rwidth\": 0.8,\n",
    "    \"bins\":   np.arange(2005, 2020 + 2),\n",
    "    \"align\":  \"left\"\n",
    "}\n",
    "plt.hist(fishing_data.date_posted.dt.year, **time_hist_options)\n",
    "plt.ylabel(\"Post Count\")\n",
    "plt.xticks(time_hist_options['bins'], rotation=45)\n",
    "plt.xlim([2004.5, 2020.5]);"
   ]
  },
  {
   "cell_type": "markdown",
   "metadata": {},
   "source": [
    "Posts were fairly consistent in the late 2000s and 2010s, though this is clear dropoff in recent years. Drops in 2020 were almost certainly correlated with covid though there was an existing downward trend.\n",
    "\n",
    "Note: The average post per day is less than 1 for every year in the dataset. Because the crew didn't post every day, it's likely that good days are overrepresented."
   ]
  },
  {
   "cell_type": "markdown",
   "metadata": {},
   "source": [
    "#### What about the distribution by month? Is there seasonality to the posts?"
   ]
  },
  {
   "cell_type": "code",
   "execution_count": 18,
   "metadata": {},
   "outputs": [
    {
     "data": {
      "image/png": "[encoded data removed]",
      "text/plain": [
       "<Figure size 864x576 with 1 Axes>"
      ]
     },
     "metadata": {
      "needs_background": "light"
     },
     "output_type": "display_data"
    }
   ],
   "source": [
    "plt.figure(figsize=(12, 8))\n",
    "month_labels = [\"January\", \"February\", \"March\", \"April\", \"May\", \"June\", \n",
    "                \"July\", \"August\", \"September\", \"October\", \"November\", \"December\"]\n",
    "\n",
    "month_hist_options = {\n",
    "    \"alpha\":  0.5,\n",
    "    \"color\":  \"orange\"\n",
    "}\n",
    "\n",
    "month_counts = fishing_data.date_posted.dt.month.value_counts().sort_index()\n",
    "\n",
    "plt.bar(month_counts.index, month_counts.values, **month_hist_options)\n",
    "plt.ylabel(\"Post Count\")\n",
    "plt.xticks(month_counts.index, labels=month_labels, rotation=45);\n",
    "\n",
    "\n",
    "# Custom fill patterns to emphasize seasons\n",
    "plt.fill_between([2.5, 5.49], 500,  alpha=0.1, color='green',  label='Spring')\n",
    "plt.fill_between([5.5, 8.49], 500,  alpha=0.1, color='red',    label='Summer')\n",
    "plt.fill_between([8.5, 11.49], 500, alpha=0.1, color='orange', label='Fall')\n",
    "plt.fill_between([0, 2.49], 500,    alpha=0.1, color='blue',   label='Winter')\n",
    "plt.fill_between([11.5, 12.5], 500, alpha=0.1, color='blue')\n",
    "\n",
    "plt.annotate(\"Winter\", [1, 410])\n",
    "plt.annotate(\"Spring\", [3, 410])\n",
    "plt.annotate(\"Summer\", [6, 410])\n",
    "plt.annotate(\"Fall\",   [9, 410])\n",
    "\n",
    "plt.title(\"Seasonality of Fishing Reports (2005 - 2020)\");\n",
    "plt.ylim([0, 425])\n",
    "plt.xlim([0.5, 12.5]);\n",
    "\n",
    "#plt.savefig(\"post_seasonality.png\", dpi=500);"
   ]
  },
  {
   "cell_type": "markdown",
   "metadata": {},
   "source": [
    "Though posts aren't necessarily equivalent to business activity, this plot suggests that the fishing business may be more active in hotter months. This makes intuitive sense since we wouldn't expect people to be out in the rain or cold to catch fish, especially when the waters may be choppy or otherwise le."
   ]
  },
  {
   "cell_type": "markdown",
   "metadata": {},
   "source": [
    "### Rain patterns over the years"
   ]
  },
  {
   "cell_type": "code",
   "execution_count": 23,
   "metadata": {},
   "outputs": [
    {
     "data": {
      "image/png": "[encoded data removed]",
      "text/plain": [
       "<Figure size 864x576 with 1 Axes>"
      ]
     },
     "metadata": {
      "needs_background": "light"
     },
     "output_type": "display_data"
    }
   ],
   "source": [
    "plt.figure(figsize=(12, 8))\n",
    "norm_years = fishing_data.loc[~fishing_data.elnino]\n",
    "nino_years = fishing_data.loc[fishing_data.elnino]\n",
    "\n",
    "plt.scatter(norm_years.date_posted.dt.year, norm_years.inches_precip, alpha=0.3, label='Normal Years')\n",
    "plt.scatter(nino_years.date_posted.dt.year, nino_years.inches_precip, alpha=0.3, label='El Nino Years')\n",
    "\n",
    "plt.ylabel(\"Inches of precipitation\");\n",
    "plt.legend();"
   ]
  },
  {
   "cell_type": "markdown",
   "metadata": {},
   "source": [
    "Before 2014 there is no rain data. Either the site we scraped weather data from didn't have correct measurements of the rain or we got unlucky and none of the posts occurred on days where there was rain. Given that there aren't many posts during rainy months, the latter is possible. We shouldn't use rain for anything serious in our analysis."
   ]
  },
  {
   "cell_type": "markdown",
   "metadata": {},
   "source": [
    "### El Nino Years\n",
    "\n",
    "I got these years from Wikipedia. There is no obvious difference in weather in El Niño years, so I likely won't use this variable for anything."
   ]
  },
  {
   "cell_type": "code",
   "execution_count": 20,
   "metadata": {},
   "outputs": [
    {
     "data": {
      "text/html": [
       "<div>\n",
       "<style scoped>\n",
       "    .dataframe tbody tr th:only-of-type {\n",
       "        vertical-align: middle;\n",
       "    }\n",
       "\n",
       "    .dataframe tbody tr th {\n",
       "        vertical-align: top;\n",
       "    }\n",
       "\n",
       "    .dataframe thead tr th {\n",
       "        text-align: left;\n",
       "    }\n",
       "\n",
       "    .dataframe thead tr:last-of-type th {\n",
       "        text-align: right;\n",
       "    }\n",
       "</style>\n",
       "<table border=\"1\" class=\"dataframe\">\n",
       "  <thead>\n",
       "    <tr>\n",
       "      <th></th>\n",
       "      <th colspan=\"2\" halign=\"left\">low_temp</th>\n",
       "      <th colspan=\"2\" halign=\"left\">avg_temp</th>\n",
       "      <th colspan=\"2\" halign=\"left\">high_temp</th>\n",
       "      <th colspan=\"2\" halign=\"left\">sea_pressure</th>\n",
       "    </tr>\n",
       "    <tr>\n",
       "      <th></th>\n",
       "      <th>mean</th>\n",
       "      <th>median</th>\n",
       "      <th>mean</th>\n",
       "      <th>median</th>\n",
       "      <th>mean</th>\n",
       "      <th>median</th>\n",
       "      <th>mean</th>\n",
       "      <th>median</th>\n",
       "    </tr>\n",
       "    <tr>\n",
       "      <th>elnino</th>\n",
       "      <th></th>\n",
       "      <th></th>\n",
       "      <th></th>\n",
       "      <th></th>\n",
       "      <th></th>\n",
       "      <th></th>\n",
       "      <th></th>\n",
       "      <th></th>\n",
       "    </tr>\n",
       "  </thead>\n",
       "  <tbody>\n",
       "    <tr>\n",
       "      <th>False</th>\n",
       "      <td>58.045872</td>\n",
       "      <td>62.0</td>\n",
       "      <td>65.561942</td>\n",
       "      <td>65.81</td>\n",
       "      <td>71.746942</td>\n",
       "      <td>72.0</td>\n",
       "      <td>29.982913</td>\n",
       "      <td>29.97</td>\n",
       "    </tr>\n",
       "    <tr>\n",
       "      <th>True</th>\n",
       "      <td>61.513531</td>\n",
       "      <td>63.0</td>\n",
       "      <td>66.545267</td>\n",
       "      <td>66.58</td>\n",
       "      <td>72.664569</td>\n",
       "      <td>72.0</td>\n",
       "      <td>29.989906</td>\n",
       "      <td>29.98</td>\n",
       "    </tr>\n",
       "  </tbody>\n",
       "</table>\n",
       "</div>"
      ],
      "text/plain": [
       "         low_temp          avg_temp         high_temp        sea_pressure  \\\n",
       "             mean median       mean median       mean median         mean   \n",
       "elnino                                                                      \n",
       "False   58.045872   62.0  65.561942  65.81  71.746942   72.0    29.982913   \n",
       "True    61.513531   63.0  66.545267  66.58  72.664569   72.0    29.989906   \n",
       "\n",
       "               \n",
       "       median  \n",
       "elnino         \n",
       "False   29.97  \n",
       "True    29.98  "
      ]
     },
     "execution_count": 20,
     "metadata": {},
     "output_type": "execute_result"
    }
   ],
   "source": [
    "fishing_data.groupby('elnino')[['low_temp', 'avg_temp', 'high_temp', 'sea_pressure']].agg(['mean', 'median'])"
   ]
  },
  {
   "cell_type": "markdown",
   "metadata": {},
   "source": [
    "## Daily Temperatures"
   ]
  },
  {
   "cell_type": "code",
   "execution_count": 24,
   "metadata": {},
   "outputs": [
    {
     "data": {
      "image/png": "[encoded data removed]",
      "text/plain": [
       "<Figure size 864x576 with 3 Axes>"
      ]
     },
     "metadata": {
      "needs_background": "light"
     },
     "output_type": "display_data"
    }
   ],
   "source": [
    "# thanks for the grid help: \n",
    "# https://stackoverflow.com/questions/37360568/python-organisation-of-3-subplots-with-matplotlib\n",
    "import matplotlib.gridspec as gridspec\n",
    "\n",
    "temp_plot_options = {\n",
    "    \"alpha\":  0.5,\n",
    "    \"rwidth\": 0.97\n",
    "}\n",
    "\n",
    "# Create 2x2 sub plots\n",
    "gs = gridspec.GridSpec(2, 2)\n",
    "\n",
    "plt.figure(figsize=(12, 8))\n",
    "ax = plt.subplot(gs[0, 0]) # row 0, col 0\n",
    "plt.suptitle(\"Daily Temperature Counts (Fahrenheit)\")\n",
    "\n",
    "plt.hist(fishing_data.low_temp, **temp_plot_options)\n",
    "plt.xlabel(\"Low Temperature (F)\")\n",
    "\n",
    "ax = plt.subplot(gs[0, 1]) # row 0, col 1\n",
    "plt.hist(fishing_data.high_temp, **temp_plot_options)\n",
    "plt.xlabel(\"High Temperature (F)\")\n",
    "\n",
    "ax = plt.subplot(gs[1, :]) # row 1, span all columns\n",
    "plt.hist(fishing_data.avg_temp, **temp_plot_options)\n",
    "plt.xlabel(\"Average Temperature (F)\");"
   ]
  },
  {
   "cell_type": "code",
   "execution_count": 26,
   "metadata": {
    "scrolled": true
   },
   "outputs": [
    {
     "data": {
      "text/plain": [
       "(     date_posted             headline  \\\n",
       " 0     2020-12-17          ON THE HUNT   \n",
       " 1     2020-12-18      SCRATCHING AWAY   \n",
       " 2     2020-12-16          GOOD ACTION   \n",
       " 3     2020-12-15             GOOD DAY   \n",
       " 4     2020-12-14            GOOD SIGN   \n",
       " ...          ...                  ...   \n",
       " 2827  2008-01-05      Toured the Boat   \n",
       " 2893  2020-12-19                  ETA   \n",
       " 2894  2020-08-25           GREAT TRIP   \n",
       " 2895  2017-12-20  AFTCO REPS COMMENTS   \n",
       " 2896  2017-04-26          Indy Update   \n",
       " \n",
       "                                               post_body  low_temp  avg_temp  \\\n",
       " 0     We were on the hunt for Yellowtail today but n...      46.0     57.34   \n",
       " 1     Searched for Yellowtail again today to find no...      52.0     58.04   \n",
       " 2     Another good day of fishing for the guys It wa...      43.0     56.38   \n",
       " 3     The guys had an awesome day pulling on Yellowf...      49.0     57.24   \n",
       " 4     Beautiful weather for the guys today Their are...      51.0     56.68   \n",
       " ...                                                 ...       ...       ...   \n",
       " 2827  Toured The Boat Theres some good quality tuna ...      54.0     55.40   \n",
       " 2893  The Independence will dock at Point Loma Sport...      43.0     56.67   \n",
       " 2894  What a trip the guys had Started our trip out ...      73.0     75.59   \n",
       " 2895  The trip started off at the bait receivers whe...      48.0     56.24   \n",
       " 2896  Improving for sure Well the saying goes it can...      59.0     64.46   \n",
       " \n",
       "       high_temp  inches_precip  miles_visible  max_wind  sea_pressure  elnino  \n",
       " 0          64.0           0.00           10.0      10.0         30.08   False  \n",
       " 1          66.0           0.00           10.0       9.0         30.23   False  \n",
       " 2          72.0           0.00           10.0       9.0         30.17   False  \n",
       " 3          68.0           0.03           10.0       9.0         30.21   False  \n",
       " 4          64.0           0.00           10.0      10.0         30.12   False  \n",
       " ...         ...            ...            ...       ...           ...     ...  \n",
       " 2827       57.0           0.00           10.0      25.0         30.03   False  \n",
       " 2893       70.0           0.00           10.0      14.0         30.28   False  \n",
       " 2894       80.0           0.00           10.0      14.0         29.84   False  \n",
       " 2895       63.0           0.00           10.0      12.0         30.17   False  \n",
       " 2896       70.0           0.00           10.0      14.0         29.92   False  \n",
       " \n",
       " [1308 rows x 11 columns],\n",
       "      date_posted                      headline  \\\n",
       " 108   2019-12-30  DECENT BLUEFIN FISHING & ETA   \n",
       " 109   2019-12-29                    GOOD TIMES   \n",
       " 110   2019-12-15          TRIP 1929 JP WINNERS   \n",
       " 111   2019-12-13  ETA for  Saturday 12.14.2019   \n",
       " 112   2019-12-11                  HEADING HOME   \n",
       " ...          ...                           ...   \n",
       " 2888  2006-06-01           Big Benitos Busters   \n",
       " 2889  2006-05-27                Indy Does Five   \n",
       " 2890  2006-02-11           Strasser Loads Indy   \n",
       " 2891  2006-01-23                  How About 82   \n",
       " 2892  2006-01-03              Had Some Weather   \n",
       " \n",
       "                                               post_body  low_temp  avg_temp  \\\n",
       " 108   Finished off the trip this morning with some d...      52.0     56.88   \n",
       " 109   Aftco 5 day after Christmas trip is in full sw...      46.0     55.08   \n",
       " 110   We are welcomed back with 11 fish over 200 lb ...      53.0     60.18   \n",
       " 111   Good morning Friends Family and Anglers I want...      53.0     58.74   \n",
       " 112   We finished up down below here and we are maki...      50.0     58.30   \n",
       " ...                                                 ...       ...       ...   \n",
       " 2888  Owner skipper Mark Pisano docked his Independe...      64.0     65.33   \n",
       " 2889  Jeff DuBuys docked Independence May 27 after a...      61.0     63.44   \n",
       " 2890  Owner skipper Paul Strasser docked Independenc...      50.0     56.86   \n",
       " 2891  Independence arrived at Pt Loma Sportfishing d...      45.0     57.61   \n",
       " 2892  Independence arrived at Pt Loma Sportfishing J...      50.0     55.57   \n",
       " \n",
       "       high_temp  inches_precip  miles_visible  max_wind  sea_pressure  elnino  \n",
       " 108        63.0            0.0           10.0      10.0         30.03    True  \n",
       " 109        62.0            0.0           10.0       9.0         30.21    True  \n",
       " 110        65.0            0.0           10.0      15.0         30.10    True  \n",
       " 111        67.0            0.0           10.0       8.0         30.15    True  \n",
       " 112        66.0            0.0           10.0      12.0         30.21    True  \n",
       " ...         ...            ...            ...       ...           ...     ...  \n",
       " 2888       66.0            0.0           10.0      10.0         29.97    True  \n",
       " 2889       66.0            0.0           10.0      14.0         29.90    True  \n",
       " 2890       68.0            0.0            6.0      12.0         30.25    True  \n",
       " 2891       68.0            0.0           10.0      12.0         30.05    True  \n",
       " 2892       61.0            0.0           10.0      20.0         30.23    True  \n",
       " \n",
       " [1589 rows x 11 columns])"
      ]
     },
     "execution_count": 26,
     "metadata": {},
     "output_type": "execute_result"
    }
   ],
   "source": [
    "norm_years, nino_years"
   ]
  },
  {
   "cell_type": "code",
   "execution_count": 31,
   "metadata": {},
   "outputs": [
    {
     "data": {
      "image/png": "[encoded data removed]",
      "text/plain": [
       "<Figure size 864x576 with 3 Axes>"
      ]
     },
     "metadata": {
      "needs_background": "light"
     },
     "output_type": "display_data"
    }
   ],
   "source": [
    "# thanks for the grid help: \n",
    "# https://stackoverflow.com/questions/37360568/python-organisation-of-3-subplots-with-matplotlib\n",
    "import matplotlib.gridspec as gridspec\n",
    "\n",
    "temp_plot_options = {\n",
    "    \"alpha\":  0.5,\n",
    "    \"rwidth\": 0.97\n",
    "}\n",
    "\n",
    "# Create 2x2 sub plots\n",
    "gs = gridspec.GridSpec(2, 2)\n",
    "\n",
    "plt.figure(figsize=(12, 8))\n",
    "ax = plt.subplot(gs[0, 0]) # row 0, col 0\n",
    "plt.suptitle(\"Daily Temperature Counts (Fahrenheit)\")\n",
    "\n",
    "plt.hist(norm_years.low_temp, **temp_plot_options, label='Normal Years')\n",
    "plt.hist(nino_years.low_temp, **temp_plot_options, label='El Nino')\n",
    "plt.xlabel(\"Low Temperature (F)\")\n",
    "plt.legend();\n",
    "\n",
    "ax = plt.subplot(gs[0, 1]) # row 0, col 1\n",
    "plt.hist(norm_years.high_temp, **temp_plot_options, label='Normal Years')\n",
    "plt.hist(nino_years.high_temp, **temp_plot_options, label='El Nino')\n",
    "plt.xlabel(\"High Temperature (F)\")\n",
    "plt.legend();\n",
    "\n",
    "ax = plt.subplot(gs[1, :]) # row 1, span all columns\n",
    "plt.hist(norm_years.avg_temp, **temp_plot_options, label='Normal Years')\n",
    "plt.hist(nino_years.avg_temp, **temp_plot_options, label='El Nino')\n",
    "plt.xlabel(\"Average Temperature (F)\")\n",
    "plt.legend();"
   ]
  },
  {
   "cell_type": "markdown",
   "metadata": {},
   "source": [
    "The daily low temperatures have outlier values near 0. San Diego doesn't randomly hit sub-freezing temperatures, skipping everything from 32 down to 0, so we can be sure these are errors in the weather site's data.\n",
    "\n",
    "As for the rest of the temperatures, the average and high look well-behaved. It may be worth looking for relationships between temperature and post content."
   ]
  },
  {
   "cell_type": "markdown",
   "metadata": {},
   "source": [
    "## Annual weather data"
   ]
  },
  {
   "cell_type": "code",
   "execution_count": 32,
   "metadata": {
    "scrolled": false
   },
   "outputs": [
    {
     "data": {
      "text/html": [
       "<div>\n",
       "<style scoped>\n",
       "    .dataframe tbody tr th:only-of-type {\n",
       "        vertical-align: middle;\n",
       "    }\n",
       "\n",
       "    .dataframe tbody tr th {\n",
       "        vertical-align: top;\n",
       "    }\n",
       "\n",
       "    .dataframe thead tr th {\n",
       "        text-align: left;\n",
       "    }\n",
       "\n",
       "    .dataframe thead tr:last-of-type th {\n",
       "        text-align: right;\n",
       "    }\n",
       "</style>\n",
       "<table border=\"1\" class=\"dataframe\">\n",
       "  <thead>\n",
       "    <tr>\n",
       "      <th></th>\n",
       "      <th colspan=\"2\" halign=\"left\">low_temp</th>\n",
       "      <th colspan=\"2\" halign=\"left\">avg_temp</th>\n",
       "      <th colspan=\"2\" halign=\"left\">high_temp</th>\n",
       "      <th colspan=\"2\" halign=\"left\">sea_pressure</th>\n",
       "    </tr>\n",
       "    <tr>\n",
       "      <th></th>\n",
       "      <th>mean</th>\n",
       "      <th>median</th>\n",
       "      <th>mean</th>\n",
       "      <th>median</th>\n",
       "      <th>mean</th>\n",
       "      <th>median</th>\n",
       "      <th>mean</th>\n",
       "      <th>median</th>\n",
       "    </tr>\n",
       "    <tr>\n",
       "      <th>date_posted</th>\n",
       "      <th></th>\n",
       "      <th></th>\n",
       "      <th></th>\n",
       "      <th></th>\n",
       "      <th></th>\n",
       "      <th></th>\n",
       "      <th></th>\n",
       "      <th></th>\n",
       "    </tr>\n",
       "  </thead>\n",
       "  <tbody>\n",
       "    <tr>\n",
       "      <th>2005</th>\n",
       "      <td>58.153846</td>\n",
       "      <td>57.0</td>\n",
       "      <td>61.473077</td>\n",
       "      <td>60.480</td>\n",
       "      <td>66.076923</td>\n",
       "      <td>65.0</td>\n",
       "      <td>30.043846</td>\n",
       "      <td>30.08</td>\n",
       "    </tr>\n",
       "    <tr>\n",
       "      <th>2006</th>\n",
       "      <td>57.438356</td>\n",
       "      <td>54.0</td>\n",
       "      <td>62.851370</td>\n",
       "      <td>60.070</td>\n",
       "      <td>69.534247</td>\n",
       "      <td>68.0</td>\n",
       "      <td>30.050959</td>\n",
       "      <td>30.04</td>\n",
       "    </tr>\n",
       "    <tr>\n",
       "      <th>2007</th>\n",
       "      <td>61.014085</td>\n",
       "      <td>62.0</td>\n",
       "      <td>65.169953</td>\n",
       "      <td>65.780</td>\n",
       "      <td>70.342723</td>\n",
       "      <td>71.0</td>\n",
       "      <td>29.973568</td>\n",
       "      <td>29.96</td>\n",
       "    </tr>\n",
       "    <tr>\n",
       "      <th>2008</th>\n",
       "      <td>59.972093</td>\n",
       "      <td>60.0</td>\n",
       "      <td>65.314279</td>\n",
       "      <td>66.740</td>\n",
       "      <td>71.497674</td>\n",
       "      <td>73.0</td>\n",
       "      <td>29.977721</td>\n",
       "      <td>29.96</td>\n",
       "    </tr>\n",
       "    <tr>\n",
       "      <th>2009</th>\n",
       "      <td>58.583851</td>\n",
       "      <td>61.0</td>\n",
       "      <td>64.285714</td>\n",
       "      <td>64.620</td>\n",
       "      <td>70.372671</td>\n",
       "      <td>71.0</td>\n",
       "      <td>29.989752</td>\n",
       "      <td>29.97</td>\n",
       "    </tr>\n",
       "    <tr>\n",
       "      <th>2010</th>\n",
       "      <td>58.454082</td>\n",
       "      <td>60.5</td>\n",
       "      <td>63.353878</td>\n",
       "      <td>64.330</td>\n",
       "      <td>69.321429</td>\n",
       "      <td>69.0</td>\n",
       "      <td>30.001071</td>\n",
       "      <td>29.99</td>\n",
       "    </tr>\n",
       "    <tr>\n",
       "      <th>2011</th>\n",
       "      <td>56.357934</td>\n",
       "      <td>61.0</td>\n",
       "      <td>63.977638</td>\n",
       "      <td>64.810</td>\n",
       "      <td>69.752768</td>\n",
       "      <td>70.0</td>\n",
       "      <td>29.987823</td>\n",
       "      <td>29.96</td>\n",
       "    </tr>\n",
       "    <tr>\n",
       "      <th>2012</th>\n",
       "      <td>56.509709</td>\n",
       "      <td>62.0</td>\n",
       "      <td>65.601990</td>\n",
       "      <td>65.105</td>\n",
       "      <td>71.339806</td>\n",
       "      <td>71.0</td>\n",
       "      <td>29.985097</td>\n",
       "      <td>29.97</td>\n",
       "    </tr>\n",
       "    <tr>\n",
       "      <th>2013</th>\n",
       "      <td>52.493274</td>\n",
       "      <td>60.0</td>\n",
       "      <td>64.687085</td>\n",
       "      <td>65.240</td>\n",
       "      <td>70.708520</td>\n",
       "      <td>71.0</td>\n",
       "      <td>29.984484</td>\n",
       "      <td>29.97</td>\n",
       "    </tr>\n",
       "    <tr>\n",
       "      <th>2014</th>\n",
       "      <td>64.580808</td>\n",
       "      <td>66.0</td>\n",
       "      <td>69.753636</td>\n",
       "      <td>70.565</td>\n",
       "      <td>75.878788</td>\n",
       "      <td>76.0</td>\n",
       "      <td>29.966919</td>\n",
       "      <td>29.97</td>\n",
       "    </tr>\n",
       "    <tr>\n",
       "      <th>2015</th>\n",
       "      <td>63.541872</td>\n",
       "      <td>66.0</td>\n",
       "      <td>68.935468</td>\n",
       "      <td>70.040</td>\n",
       "      <td>75.206897</td>\n",
       "      <td>76.0</td>\n",
       "      <td>29.975714</td>\n",
       "      <td>29.95</td>\n",
       "    </tr>\n",
       "    <tr>\n",
       "      <th>2016</th>\n",
       "      <td>61.672986</td>\n",
       "      <td>63.0</td>\n",
       "      <td>66.755355</td>\n",
       "      <td>67.630</td>\n",
       "      <td>73.355450</td>\n",
       "      <td>73.0</td>\n",
       "      <td>30.008673</td>\n",
       "      <td>30.00</td>\n",
       "    </tr>\n",
       "    <tr>\n",
       "      <th>2017</th>\n",
       "      <td>62.335689</td>\n",
       "      <td>63.0</td>\n",
       "      <td>67.250459</td>\n",
       "      <td>67.290</td>\n",
       "      <td>73.883392</td>\n",
       "      <td>74.0</td>\n",
       "      <td>29.972721</td>\n",
       "      <td>29.95</td>\n",
       "    </tr>\n",
       "    <tr>\n",
       "      <th>2018</th>\n",
       "      <td>63.701657</td>\n",
       "      <td>65.0</td>\n",
       "      <td>68.871436</td>\n",
       "      <td>68.670</td>\n",
       "      <td>75.497238</td>\n",
       "      <td>75.0</td>\n",
       "      <td>29.992873</td>\n",
       "      <td>29.98</td>\n",
       "    </tr>\n",
       "    <tr>\n",
       "      <th>2019</th>\n",
       "      <td>62.014286</td>\n",
       "      <td>63.0</td>\n",
       "      <td>66.773857</td>\n",
       "      <td>66.710</td>\n",
       "      <td>72.821429</td>\n",
       "      <td>73.0</td>\n",
       "      <td>29.983429</td>\n",
       "      <td>29.97</td>\n",
       "    </tr>\n",
       "    <tr>\n",
       "      <th>2020</th>\n",
       "      <td>61.536364</td>\n",
       "      <td>64.0</td>\n",
       "      <td>67.303636</td>\n",
       "      <td>68.480</td>\n",
       "      <td>74.518182</td>\n",
       "      <td>74.5</td>\n",
       "      <td>29.999909</td>\n",
       "      <td>29.99</td>\n",
       "    </tr>\n",
       "  </tbody>\n",
       "</table>\n",
       "</div>"
      ],
      "text/plain": [
       "              low_temp          avg_temp          high_temp         \\\n",
       "                  mean median       mean  median       mean median   \n",
       "date_posted                                                          \n",
       "2005         58.153846   57.0  61.473077  60.480  66.076923   65.0   \n",
       "2006         57.438356   54.0  62.851370  60.070  69.534247   68.0   \n",
       "2007         61.014085   62.0  65.169953  65.780  70.342723   71.0   \n",
       "2008         59.972093   60.0  65.314279  66.740  71.497674   73.0   \n",
       "2009         58.583851   61.0  64.285714  64.620  70.372671   71.0   \n",
       "2010         58.454082   60.5  63.353878  64.330  69.321429   69.0   \n",
       "2011         56.357934   61.0  63.977638  64.810  69.752768   70.0   \n",
       "2012         56.509709   62.0  65.601990  65.105  71.339806   71.0   \n",
       "2013         52.493274   60.0  64.687085  65.240  70.708520   71.0   \n",
       "2014         64.580808   66.0  69.753636  70.565  75.878788   76.0   \n",
       "2015         63.541872   66.0  68.935468  70.040  75.206897   76.0   \n",
       "2016         61.672986   63.0  66.755355  67.630  73.355450   73.0   \n",
       "2017         62.335689   63.0  67.250459  67.290  73.883392   74.0   \n",
       "2018         63.701657   65.0  68.871436  68.670  75.497238   75.0   \n",
       "2019         62.014286   63.0  66.773857  66.710  72.821429   73.0   \n",
       "2020         61.536364   64.0  67.303636  68.480  74.518182   74.5   \n",
       "\n",
       "            sea_pressure         \n",
       "                    mean median  \n",
       "date_posted                      \n",
       "2005           30.043846  30.08  \n",
       "2006           30.050959  30.04  \n",
       "2007           29.973568  29.96  \n",
       "2008           29.977721  29.96  \n",
       "2009           29.989752  29.97  \n",
       "2010           30.001071  29.99  \n",
       "2011           29.987823  29.96  \n",
       "2012           29.985097  29.97  \n",
       "2013           29.984484  29.97  \n",
       "2014           29.966919  29.97  \n",
       "2015           29.975714  29.95  \n",
       "2016           30.008673  30.00  \n",
       "2017           29.972721  29.95  \n",
       "2018           29.992873  29.98  \n",
       "2019           29.983429  29.97  \n",
       "2020           29.999909  29.99  "
      ]
     },
     "execution_count": 32,
     "metadata": {},
     "output_type": "execute_result"
    }
   ],
   "source": [
    "fishing_data.groupby(fishing_data.date_posted.dt.year)[['low_temp', 'avg_temp', 'high_temp', 'sea_pressure']].agg(['mean', 'median'])"
   ]
  },
  {
   "cell_type": "markdown",
   "metadata": {},
   "source": [
    "## What are the posts about?\n",
    "\n",
    "For a first pass, we can simply look at the top words used (ignoring filler words)"
   ]
  },
  {
   "cell_type": "code",
   "execution_count": 34,
   "metadata": {},
   "outputs": [],
   "source": [
    "# We'll ignore these words. They're too common to be useful\n",
    "stopwords = ['i', 'me', 'my', 'myself', 'we', 'our', 'ours', 'ourselves', 'you',\n",
    "           'your', 'yours', 'yourself', 'yourselves', 'he', 'him', 'his',\n",
    "           'himself', 'she', 'her', 'hers', 'herself', 'it', 'its', 'itself',\n",
    "           'they', 'them', 'their', 'theirs', 'themselves', 'what', 'which',\n",
    "           'who', 'whom', 'this', 'that', 'these', 'those', 'am', 'is', 'are',\n",
    "           'was', 'were', 'be', 'been', 'being', 'have', 'has', 'had',\n",
    "           'having', 'do', 'does', 'did', 'doing', 'a', 'an', 'the', 'and',\n",
    "           'but', 'if', 'or', 'because', 'as', 'until', 'while', 'of', 'at',\n",
    "           'by', 'for', 'with', 'about', 'against', 'between', 'into',\n",
    "           'through', 'during', 'before', 'after', 'above', 'below', 'to',\n",
    "           'from', 'up', 'down', 'in', 'out', 'on', 'off', 'over', 'under',\n",
    "           'again', 'further', 'then', 'once', 'here', 'there', 'when',\n",
    "           'where', 'why', 'how', 'all', 'any', 'both', 'each', 'few', 'more',\n",
    "           'most', 'other', 'some', 'such', 'no', 'nor', 'not', 'only', 'own',\n",
    "           'same', 'so', 'than', 'too', 'very', 's', 't', 'can', 'will',\n",
    "           'just', 'don', 'should', 'now']\n",
    "\n",
    "stopwords = set(stopwords)"
   ]
  },
  {
   "cell_type": "code",
   "execution_count": 35,
   "metadata": {},
   "outputs": [],
   "source": [
    "all_posts = \" \".join(fishing_data.post_body.values)\n",
    "\n",
    "tokens = all_posts.lower().split()\n",
    "tokens = [t for t in tokens if t not in stopwords]"
   ]
  },
  {
   "cell_type": "code",
   "execution_count": 36,
   "metadata": {},
   "outputs": [
    {
     "data": {
      "image/png": "[encoded data removed]",
      "text/plain": [
       "<Figure size 864x576 with 1 Axes>"
      ]
     },
     "metadata": {
      "needs_background": "light"
     },
     "output_type": "display_data"
    }
   ],
   "source": [
    "n = 20\n",
    "top_n_words = pd.Series(tokens).value_counts().iloc[:n]\n",
    "\n",
    "plt.figure(figsize=(12, 8))\n",
    "\n",
    "plt.bar(top_n_words.index, top_n_words.values, alpha=0.6, color='orange')\n",
    "plt.xticks(rotation=30)\n",
    "\n",
    "plt.title(f\"Top {n} Words by Appearance in Posts\")\n",
    "plt.ylabel(\"Word Count\");"
   ]
  },
  {
   "cell_type": "markdown",
   "metadata": {},
   "source": [
    "## Top Words in Fishing Reports\n",
    "\n",
    "With the stopwords removed, we get mostly unique words with distinct meanings. It's a good sign that `tuna`, `yellowtail`, and `yellowfin` appear in the top words since we are more likely to be able to extract something interesting from the text. Additionally, `pound` and `lb` appearing are indicators that some posts are likely discussing the size of their catches. \n",
    "\n",
    "Given the top words look interesting, it may be worth looking for common phrases as well. We'll use a package called `gensim` to find these, but let's take a look at some of the math that's used under the hood to extract phrases. One way to think about phrase extraction is to think about common phrases as a collection of words that appear with each other by more than random chance. For example, the phrase \"fishing is cool\" is much less distinct than the phrase, \"yellowfin tuna\". \n",
    "\n",
    "\"Yellowfin tuna\" is a distinct phrase since the two words appear together frequently and they form a set of words that has a specific meaning together than individually. We'd like a sytematic way to find such phrases. But how? A mathematical way to approach this problem is to look at the *Pointwise Mutual Information* of word pairs.\n",
    "\n",
    "### Beyond Single Words: Phrase Finding with Pointwise Mutual Information (PMI)\n",
    "\n",
    "Roughly, PMI in the context of phrase finding can be thought of as measuring how associated two words are. It takes into account how often they appear altogether and compares this value to how often they appear together.\n",
    "\n",
    "We define PMI as,\n",
    "\n",
    "$$PMI(i, j) = log_2\\frac{p(w_i, w_j)}{p(w_i)p(w_j)}$$\n",
    "\n",
    "Where $i$ and $j$ are the indices of two words of interest, $p(w_i, w_j)$ is the probability of the two words occurring together, and $p(w_i)$ and $p(w_j)$ are the overall probabilities of the words occurring on any document (sometimes called the word frequency).\n",
    "\n",
    "\n",
    "#### Limiting cases: two words are independent (not phrases)\n",
    "\n",
    "We can expand the PMI formula using Bayes' rule like,\n",
    "\n",
    "$$PMI(i, j) = log_2\\frac{p(w_i|w_j)p(w_j)}{p(w_i)p(w_j)} = log_2\\frac{p(w_i|w_j)}{p(w_i)}$$\n",
    "\n",
    "This is interesting because if $w_i$ and $w_j$ are independent, then $p(w_i|w_j) = p(w_i)$, so the calculation is simple,\n",
    "\n",
    "$$PMI(i, j) = log_2\\frac{p(w_i|w_j)}{p(w_i)} = log_2\\frac{p(w_i)}{p(w_i)} = log_2 1 = 0$$\n",
    "\n",
    "#### Limiting cases: two words always cooccur (extreme case of phrases)\n",
    "\n",
    "If the words always occur together, say 99% of the time, then $p(w_i|w_j) \\approx 0.99 $. Let's imagine the words themselves are relatively uncommon, so their individual frequency may be something like, $p(w_i) \\approx \\frac{1}{10,000}$. \n",
    "\n",
    "Expanding the PMI calculation,\n",
    "\n",
    "$$PMI(i, j) = log_2\\frac{p(w_i|w_j)}{p(w_i)} = log_2\\frac{0.99}{\\frac{1}{10,000}} \\approx log_2 10,000 \\approx 13.3 $$\n",
    "\n",
    "\n",
    "\n",
    "\n",
    "#### High PMI -> likely to be a phrase, low PMI -> words probably aren't phrases \n",
    "\n",
    "In the two extreme cases, we see that independent words have a PMI of 0, while words that occur together all the time have a large PMI (13.3 in our example). This idea underpins a common strategy to find phrases. We will avoid reinventing the wheel, but keep this in mind as we move forward - there is no magic to the calculations we do. \n",
    "\n",
    "\n",
    "## Let's see if Gensim can find any interesting phrases"
   ]
  },
  {
   "cell_type": "markdown",
   "metadata": {},
   "source": [
    "Referencing this thorough article on [topic modeling with Gensim](https://www.machinelearningplus.com/nlp/topic-modeling-gensim-python/#9createbigramandtrigrammodels), we can get phrases from our text fairly simply. We'll start by dropping empty posts and doing light processing on the posts to make them into lists of words."
   ]
  },
  {
   "cell_type": "code",
   "execution_count": 37,
   "metadata": {},
   "outputs": [],
   "source": [
    "minimum_chars = 5\n",
    "non_empty_posts = fishing_data.loc[fishing_data.loc[:, \"post_body\"].apply(lambda x: len(x.strip())) > minimum_chars]"
   ]
  },
  {
   "cell_type": "code",
   "execution_count": 38,
   "metadata": {
    "scrolled": true
   },
   "outputs": [
    {
     "name": "stdout",
     "output_type": "stream",
     "text": [
      "Example documents: \n",
      " [['we', 'were', 'on', 'the', 'hunt', 'for', 'yellowtail', 'today', 'but', 'never', 'able', 'to', 'connect', 'we', 'covered', 'a', 'lot', 'of', 'water', 'for', 'a', 'handful', 'of', 'fish', 'were', 'not', 'giving', 'up', 'on', 'yellowtail', 'tomorrow', 'is', 'a', 'new', 'day', 'wish', 'us', 'luck', 'brian', 'indy', 'crew'], ['searched', 'for', 'yellowtail', 'again', 'today', 'to', 'find', 'non', 'biters', 'good', 'action', 'on', 'bass', 'barracuda', 'and', 'bonito', 'for', 'our', 'efforts', 'well', 'be', 'traveling', 'up', 'to', 'be', 'home', 'on', 'sunday', 'nice', 'weather', 'for', 'our', 'travels', 'brian', 'indy', 'crew']]\n"
     ]
    }
   ],
   "source": [
    "split_docs = list(fishing_data.post_body.apply(lambda post: post.lower().split()).values)\n",
    "print(\"Example documents: \\n\", split_docs[:2])"
   ]
  },
  {
   "cell_type": "markdown",
   "metadata": {},
   "source": [
    "Here we set up the code to find phrases in our documents. Notice that scoring parameter is [`npmi`](https://en.wikipedia.org/wiki/Pointwise_mutual_information#Normalized_pointwise_mutual_information_(npmi)). It's basically the same as the PMI we talked about before, though normalized to have scores in the range [-1, 1]. A higher threshold means that it takes more for words to get merged into phrases, thus there will be less of them. This can be tuned for your problem, but I'll run with 0.5."
   ]
  },
  {
   "cell_type": "code",
   "execution_count": 39,
   "metadata": {},
   "outputs": [],
   "source": [
    "import gensim"
   ]
  },
  {
   "cell_type": "code",
   "execution_count": 40,
   "metadata": {},
   "outputs": [],
   "source": [
    "phrase_options = {\n",
    "    \"scoring\": \"npmi\",\n",
    "    \"threshold\": 0.5,\n",
    "    \"common_terms\": stopwords\n",
    "}\n",
    "\n",
    "# Build the bigram and trigram models\n",
    "bigram  = gensim.models.Phrases(split_docs, min_count=5, **phrase_options) # higher threshold fewer phrases.\n",
    "trigram = gensim.models.Phrases(bigram[split_docs], **phrase_options)  \n",
    "\n",
    "# Faster way to get a sentence clubbed as a trigram/bigram\n",
    "bigram_mod  = gensim.models.phrases.Phraser(bigram)\n",
    "trigram_mod = gensim.models.phrases.Phraser(trigram)"
   ]
  },
  {
   "cell_type": "code",
   "execution_count": 41,
   "metadata": {},
   "outputs": [],
   "source": [
    "def apply_phraser_to_doc(doc):\n",
    "    \"\"\"\n",
    "    given a list of strings like,\n",
    "    \n",
    "    ['hi', 'how', 'are', 'you']\n",
    "    \n",
    "    returns the same list with any phrases merged together via a \"_\" character (gensim default).\n",
    "    \n",
    "    PS: will combine up to ~4 words together, though it can go higher depending on stopword usage\n",
    "    \"\"\"\n",
    "    return trigram_mod[bigram_mod[doc]]"
   ]
  },
  {
   "cell_type": "code",
   "execution_count": 42,
   "metadata": {},
   "outputs": [
    {
     "data": {
      "text/plain": [
       "['covered_a_lot_of_water', 'wish_us_luck', 'indy_crew']"
      ]
     },
     "execution_count": 42,
     "metadata": {},
     "output_type": "execute_result"
    }
   ],
   "source": [
    "# what phrases are in the first post?\n",
    "[word for word in apply_phraser_to_doc(split_docs[0]) if \"_\" in word]"
   ]
  },
  {
   "cell_type": "markdown",
   "metadata": {},
   "source": [
    "## Inspecting the phrases \n",
    "\n",
    "Now that we have a way to extract common phrases, let's count all of the phrases that showed up."
   ]
  },
  {
   "cell_type": "code",
   "execution_count": 43,
   "metadata": {},
   "outputs": [],
   "source": [
    "split_phrased_docs = [apply_phraser_to_doc(doc) for doc in split_docs]"
   ]
  },
  {
   "cell_type": "code",
   "execution_count": 44,
   "metadata": {},
   "outputs": [],
   "source": [
    "joined_phrased_docs = [\" \".join(doc) for doc in split_phrased_docs]"
   ]
  },
  {
   "cell_type": "code",
   "execution_count": 45,
   "metadata": {},
   "outputs": [],
   "source": [
    "# combine every post into one, split it into words, then keep the phrases\n",
    "all_tokens = \" \".join(joined_phrased_docs).split()\n",
    "\n",
    "all_phrases = [word for word in all_tokens if \"_\" in word]"
   ]
  },
  {
   "cell_type": "code",
   "execution_count": 46,
   "metadata": {},
   "outputs": [
    {
     "data": {
      "image/png": "[encoded data removed]",
      "text/plain": [
       "<Figure size 1008x720 with 1 Axes>"
      ]
     },
     "metadata": {
      "needs_background": "light"
     },
     "output_type": "display_data"
    }
   ],
   "source": [
    "n = 40\n",
    "top_n_phrases = pd.Series(all_phrases).value_counts().iloc[:n]\n",
    "\n",
    "plt.figure(figsize=(14, 10))\n",
    "\n",
    "plt.barh(top_n_phrases.index, top_n_phrases.values, color='yellowgreen')\n",
    "plt.gca().invert_yaxis() # prefer decreasing order of the bars\n",
    "\n",
    "plt.title(f\"Top {n} Phrases (from {len(non_empty_posts)} posts)\")\n",
    "plt.xlabel(\"Phrase Count\")\n",
    "\n",
    "plt.grid(axis='x');"
   ]
  },
  {
   "cell_type": "code",
   "execution_count": 56,
   "metadata": {},
   "outputs": [
    {
     "data": {
      "image/png": "[encoded data removed]",
      "text/plain": [
       "<Figure size 1008x720 with 1 Axes>"
      ]
     },
     "metadata": {
      "needs_background": "light"
     },
     "output_type": "display_data"
    }
   ],
   "source": [
    "np.random.seed(504)\n",
    "top_n_phrases = pd.Series(all_phrases).value_counts().sample(50)\n",
    "\n",
    "plt.figure(figsize=(14, 10))\n",
    "\n",
    "plt.barh(top_n_phrases.index, top_n_phrases.values, color='yellowgreen')\n",
    "plt.gca().invert_yaxis() # prefer decreasing order of the bars\n",
    "\n",
    "plt.title(f\"50 Random Phrases (from {len(non_empty_posts)} posts)\")\n",
    "plt.xlabel(\"Phrase Count\")\n",
    "\n",
    "plt.grid(axis='x');"
   ]
  },
  {
   "cell_type": "markdown",
   "metadata": {},
   "source": [
    "## What do these phrases mean?\n",
    "\n",
    "For some phrases, the meaning is clear. `bluefin_tuna` and `yellowfin_tuna` at the top are clear indications that \n",
    "San Diego's reputation as a hotbed for tuna fishing hold true. For others, it may be useful to read a few posts and understand the context of the phrase.\n",
    "\n",
    "We'll define a helper function to print a few examples of the more mysterious phrases in their original context."
   ]
  },
  {
   "cell_type": "code",
   "execution_count": 57,
   "metadata": {},
   "outputs": [],
   "source": [
    "def print_phrase_with_context(phrase, num_docs):\n",
    "    \"\"\"\n",
    "    prints the first `num_docs` documents with the phrase highlighted\n",
    "    \n",
    "    phrase: str, \"_\" delimiter removed\n",
    "    \"\"\"\n",
    "    containing_posts = non_empty_posts.loc[non_empty_posts.post_body.apply(lambda post: phrase in post.lower()), \"post_body\"].values\n",
    "    \n",
    "    color_code = \"\\x1b[43;1m\" # ANSI highlight background with yellow. ugly but draws the eye well\n",
    "    for i, post in enumerate(containing_posts[:num_docs]):\n",
    "        print(f\"Example {i + 1}:\")\n",
    "        print(post.lower().replace(phrase, f\"{color_code}{phrase}\\x1b[0m\"), \"\\n\")"
   ]
  },
  {
   "cell_type": "markdown",
   "metadata": {},
   "source": [
    "#### Phrase analysis: `indy_crew`\n",
    "\n",
    "Seems to simply be part of the signature of the crew when they create a post. One of the boats is called the Independence, so this is shorthand."
   ]
  },
  {
   "cell_type": "code",
   "execution_count": 58,
   "metadata": {},
   "outputs": [
    {
     "name": "stdout",
     "output_type": "stream",
     "text": [
      "Example 1:\n",
      "we were on the hunt for yellowtail today but never able to connect we covered a lot of water for a handful of fish were not giving up on yellowtail tomorrow is a new day wish us luck brian \u001b[43;1mindy crew\u001b[0m \n",
      "\n",
      "Example 2:\n",
      "searched for yellowtail again today to find non biters good action on bass barracuda and bonito for our efforts well be traveling up to be home on sunday nice weather for our travels brian \u001b[43;1mindy crew\u001b[0m \n",
      "\n",
      "Example 3:\n",
      "another good day of fishing for the guys it was slow in the morning but we went looking and it paid off had great action of yellowfin tuna and some yellowtail again well be heading up the coast hunting for yellowtail tomorrow brian \u001b[43;1mindy crew\u001b[0m \n",
      "\n"
     ]
    }
   ],
   "source": [
    "print_phrase_with_context(\"indy crew\", num_docs=3)"
   ]
  },
  {
   "cell_type": "markdown",
   "metadata": {},
   "source": [
    "#### Phrase analysis: `second_place`\n",
    "looks like a phrase that comes up in discussing the results of fishing trips, where an individual's haul gives them a placement in a trip-wide fishing contest. Neat!\n",
    "\n",
    "Note: we stripped all punctuation in an early step to make processing steps easier. This likely explains why some of the sentences are hard to read at times. This is a choice that can be experimented with, but I'll hold my ground for now."
   ]
  },
  {
   "cell_type": "code",
   "execution_count": 59,
   "metadata": {},
   "outputs": [
    {
     "name": "stdout",
     "output_type": "stream",
     "text": [
      "Example 1:\n",
      "trip 20 6 jp winners the john collins 8 day returned this morning with a beautiful catch of yellowtail and tuna a great bunch of anglers and a good time was had by all jackpot winners are first place mike haddock 123 lb bft \u001b[43;1msecond place\u001b[0m jim mitchell 119 lb bft third place craig carlson 69 4 lb bft \n",
      "\n",
      "Example 2:\n",
      "thank again roger for getting the gang back together see you guys soon first place bret mccoy 62 4 yft \u001b[43;1msecond place\u001b[0m micheal hakala 58 3 yft third place joe russo 55 1 yft \n",
      "\n",
      "Example 3:\n",
      "first place art ng 84 2 \u001b[43;1msecond place\u001b[0m danny mun 80 4 third place ramon diaz 80 1 thanks again guys see you soon \n",
      "\n"
     ]
    }
   ],
   "source": [
    "print_phrase_with_context(\"second place\", num_docs=3)"
   ]
  },
  {
   "cell_type": "markdown",
   "metadata": {},
   "source": [
    "#### Phrase analysis: `pound_range`\n",
    "\n",
    "A common part of the fishing reports is the sizes of fish that were being caught. These types of posts may be a useful way to extract fishing conditions in later analysis."
   ]
  },
  {
   "cell_type": "code",
   "execution_count": 60,
   "metadata": {},
   "outputs": [
    {
     "name": "stdout",
     "output_type": "stream",
     "text": [
      "Example 1:\n",
      "we started out bright and early this morning catching yellowfin tuna and yellowtail long before the sun came up after daybreak we scratched away on wahoo and there were some real trophies brought on board i m the 50 60 \u001b[43;1mpound range\u001b[0m the plan for tomorrow is more of the same and focusing on the elusive skinny we have a little more breeze now but no complaints wish us all luck tomorrow matt and independence crew \n",
      "\n",
      "Example 2:\n",
      "captain mark pisano called in with an update from the independence we have good fishing for bluefin tuna we have 36 bluefin tuna and 3 yellowfin tuna i just spoke with the boat and they are stopping on another school we have been seeing good action on 25 to 40 pound bluefin tuna there is also a good chance on fish in the 60 to 80 \u001b[43;1mpound range\u001b[0m plus you always have a shot the big fish that don t seem to bite too well current schedule monday night time__stamp departure book now wednesday night time__stamp departure book now meals are included come enjoy a relaxing day on the independence \n",
      "\n",
      "Example 3:\n",
      "we are back online down here after a few days out of the coverage area we have had very consistent fishing down here for yellowfin tuna anywhere from 60 160 pounds with a few bigger we couldn t ask for much more as this very landable fish have kept us busy we had good fishing today on the 100 160 \u001b[43;1mpound range\u001b[0m and we have some nice and calm weather for a change all is well here on the independence and we have one more full day of fishing we really hope to end on a bang but satisfaction is amongst us \n",
      "\n"
     ]
    }
   ],
   "source": [
    "print_phrase_with_context(\"pound range\", num_docs=3)"
   ]
  },
  {
   "cell_type": "markdown",
   "metadata": {},
   "source": [
    "## Phrases are interesting but they don't provide the whole picture.\n",
    "\n",
    "# TODO: rewrite this\n",
    "Perhaps what would be better is to explore how the phrases and other words are used to understand the types of conversations that happen in a more systematic way. One option for doing this is to run a topic model on the posts. \n",
    "\n",
    "## Topic Modeling\n",
    "Topic models are a class of generative language models where you suppose that each post is a mixture of topics. A topic is a distribution over words, thus allowing you to quantify questions like, \"What words are likely to be spoken given that the topic of conversation is \"weather conditions at sea\". There are many topic models out there, but the original was Latent Dirichlet Allocation (LDA). \n",
    "\n",
    "LDA has a rich history and is still being developed into derivative models to this day, but let's keep it simple with this approximate idea: LDA is matrix factorization that takes a matrix of words counts on all of our posts and return 2 matrices: a topic distribution for each post, and a word distribution for each topic. \n",
    "\n",
    "\n",
    "\n",
    "## Cleaning the Data \n",
    "\n",
    "To get the most out of topic models when you're using them to explore some texts, it helps to clean the input to emphasize patterns of language that you're interested in observing. For example, there are many words in the English language that act as a glue to piece together the words we really care about. Many of these words are in our previous stopword list. We can remove them from our topic model so that the patterns that are found can be among words and phrases that have more meaning than the uninteresting `and`, `of`, and `but`-type of words."
   ]
  },
  {
   "cell_type": "code",
   "execution_count": 61,
   "metadata": {},
   "outputs": [],
   "source": [
    "# dataset = split_phrased_docs"
   ]
  },
  {
   "cell_type": "code",
   "execution_count": 62,
   "metadata": {},
   "outputs": [
    {
     "data": {
      "text/plain": [
       "['hello', 'world']"
      ]
     },
     "execution_count": 62,
     "metadata": {},
     "output_type": "execute_result"
    }
   ],
   "source": [
    "def remove_stopwords(split_text):\n",
    "    return list(filter(lambda word: word not in stopwords, split_text))\n",
    "\n",
    "# remove_stopwords does exactly what it sounds like\n",
    "remove_stopwords(['hello', 'and', 'but', 'of', 'world'])"
   ]
  },
  {
   "cell_type": "code",
   "execution_count": 104,
   "metadata": {},
   "outputs": [],
   "source": [
    "# clean stopwords\n",
    "# apply the function to every post\n",
    "clean_dataset = list(map(remove_stopwords, split_phrased_docs))\n",
    "\n",
    "# remove empty or short posts\n",
    "# filter removes short posts\n",
    "minimum_words = 30\n",
    "clean_dataset = list(filter(lambda split_post: len(split_post) > minimum_words, clean_dataset))"
   ]
  },
  {
   "cell_type": "code",
   "execution_count": 105,
   "metadata": {},
   "outputs": [
    {
     "data": {
      "image/png": "[encoded data removed]",
      "text/plain": [
       "<Figure size 864x576 with 1 Axes>"
      ]
     },
     "metadata": {
      "needs_background": "light"
     },
     "output_type": "display_data"
    }
   ],
   "source": [
    "original_sizes = np.array(list(map(len, split_phrased_docs)))\n",
    "clean_sizes    = np.array(list(map(len, clean_dataset)))\n",
    "\n",
    "plt.figure(figsize=(12, 8))\n",
    "\n",
    "count_plot_config = {\n",
    "    \"alpha\": 0.3,\n",
    "    \"bins\": 20,\n",
    "    \"density\": True\n",
    "}\n",
    "\n",
    "# necessary to avoid taking the log of 0 if there are empty posts\n",
    "# spoiler: there are empty posts\n",
    "smoothing_factor = 1\n",
    "\n",
    "plt.hist(np.log10(original_sizes + smoothing_factor), label=\"Original\", **count_plot_config);\n",
    "plt.hist(np.log10(clean_sizes    + smoothing_factor), label=\"No stopwords\", **count_plot_config);\n",
    "\n",
    "plt.xlim([0, 3.5])\n",
    "plt.xlabel(\"Word Count (Log10)\")\n",
    "plt.ylabel(\"Density\")\n",
    "plt.title(\"Distribution of Post Sizes Before and After Cleaning\")\n",
    "plt.legend();"
   ]
  },
  {
   "cell_type": "markdown",
   "metadata": {},
   "source": [
    "### TODO: There should be a note here explaining why this is useful"
   ]
  },
  {
   "cell_type": "code",
   "execution_count": 106,
   "metadata": {},
   "outputs": [
    {
     "data": {
      "text/plain": [
       "['big',\n",
       " 'yellowfin_tuna',\n",
       " 'hard',\n",
       " 'catch',\n",
       " 'incredible',\n",
       " 'sign',\n",
       " 'fish',\n",
       " 'day',\n",
       " 'sun',\n",
       " 'rise',\n",
       " 'sunset',\n",
       " '150',\n",
       " '300',\n",
       " 'pound',\n",
       " 'tuna',\n",
       " 'boiling',\n",
       " 'right',\n",
       " 'next',\n",
       " 'boat',\n",
       " 'keeping',\n",
       " 'us',\n",
       " 'excited',\n",
       " 'heart_breaks',\n",
       " 'big_ones',\n",
       " 'got',\n",
       " 'away',\n",
       " 'able',\n",
       " 'land',\n",
       " 'one',\n",
       " '203',\n",
       " 'pounds',\n",
       " 'try',\n",
       " 'one',\n",
       " 'day',\n",
       " 'fish',\n",
       " 'life',\n",
       " 'time',\n",
       " 'brian',\n",
       " 'indy_crew']"
      ]
     },
     "execution_count": 106,
     "metadata": {},
     "output_type": "execute_result"
    }
   ],
   "source": [
    "clean_dataset[0]"
   ]
  },
  {
   "cell_type": "code",
   "execution_count": 107,
   "metadata": {},
   "outputs": [],
   "source": [
    "import warnings\n",
    "warnings.filterwarnings('ignore')"
   ]
  },
  {
   "cell_type": "markdown",
   "metadata": {},
   "source": [
    "## Setting up the Topic Model - Asymmetric LDA\n"
   ]
  },
  {
   "cell_type": "code",
   "execution_count": 108,
   "metadata": {},
   "outputs": [],
   "source": [
    "import gensim\n",
    "import gensim.corpora as corpora"
   ]
  },
  {
   "cell_type": "code",
   "execution_count": 109,
   "metadata": {
    "scrolled": false
   },
   "outputs": [],
   "source": [
    "doc_lens = np.array(list(map(lambda x: len(x), clean_dataset)))"
   ]
  },
  {
   "cell_type": "code",
   "execution_count": 119,
   "metadata": {},
   "outputs": [
    {
     "name": "stdout",
     "output_type": "stream",
     "text": [
      "1706\n"
     ]
    }
   ],
   "source": [
    "# Create Dictionary\n",
    "id2word = corpora.Dictionary(clean_dataset)\n",
    "\n",
    "# Term Document Frequency\n",
    "corpus = [id2word.doc2bow(text) for text in clean_dataset]\n",
    "print(len(corpus))"
   ]
  },
  {
   "cell_type": "code",
   "execution_count": 111,
   "metadata": {},
   "outputs": [],
   "source": [
    "n_topics = 10"
   ]
  },
  {
   "cell_type": "code",
   "execution_count": 120,
   "metadata": {},
   "outputs": [],
   "source": [
    "lda_model = gensim.models.ldamodel.LdaModel(corpus=corpus,\n",
    "                                           id2word=id2word,\n",
    "                                           num_topics=n_topics, \n",
    "                                           random_state=12321,\n",
    "                                           update_every=5,\n",
    "                                           chunksize=550,\n",
    "                                           passes=40,\n",
    "                                           alpha='auto',\n",
    "                                           per_word_topics=True)"
   ]
  },
  {
   "cell_type": "markdown",
   "metadata": {},
   "source": [
    "## TODO: Explain this plot and give context. Is this learned or is it set? Provide interpretation"
   ]
  },
  {
   "cell_type": "code",
   "execution_count": 121,
   "metadata": {},
   "outputs": [
    {
     "data": {
      "image/png": "[encoded data removed]",
      "text/plain": [
       "<Figure size 432x288 with 1 Axes>"
      ]
     },
     "metadata": {
      "needs_background": "light"
     },
     "output_type": "display_data"
    }
   ],
   "source": [
    "topic_prior = lda_model.alpha\n",
    "topic_prior /= topic_prior.sum()\n",
    "\n",
    "plt.bar(np.arange(n_topics), topic_prior)\n",
    "plt.xlabel(\"Topic\")\n",
    "plt.ylabel(\"Mixture weight\")\n",
    "\n",
    "plt.title(\"Prior on Topic Mixture Per Post\");"
   ]
  },
  {
   "cell_type": "code",
   "execution_count": 122,
   "metadata": {},
   "outputs": [],
   "source": [
    "vocab = [word for key, word in id2word.items()]"
   ]
  },
  {
   "cell_type": "code",
   "execution_count": 123,
   "metadata": {},
   "outputs": [
    {
     "data": {
      "text/html": [
       "<div>\n",
       "<style scoped>\n",
       "    .dataframe tbody tr th:only-of-type {\n",
       "        vertical-align: middle;\n",
       "    }\n",
       "\n",
       "    .dataframe tbody tr th {\n",
       "        vertical-align: top;\n",
       "    }\n",
       "\n",
       "    .dataframe thead th {\n",
       "        text-align: right;\n",
       "    }\n",
       "</style>\n",
       "<table border=\"1\" class=\"dataframe\">\n",
       "  <thead>\n",
       "    <tr style=\"text-align: right;\">\n",
       "      <th></th>\n",
       "      <th>150</th>\n",
       "      <th>203</th>\n",
       "      <th>300</th>\n",
       "      <th>able</th>\n",
       "      <th>away</th>\n",
       "      <th>big</th>\n",
       "      <th>big_ones</th>\n",
       "      <th>boat</th>\n",
       "      <th>boiling</th>\n",
       "      <th>brian</th>\n",
       "      <th>...</th>\n",
       "      <th>generated</th>\n",
       "      <th>holders</th>\n",
       "      <th>liberty</th>\n",
       "      <th>masks</th>\n",
       "      <th>realize</th>\n",
       "      <th>rollos</th>\n",
       "      <th>worthwhile</th>\n",
       "      <th>applies</th>\n",
       "      <th>behold</th>\n",
       "      <th>slooow</th>\n",
       "    </tr>\n",
       "  </thead>\n",
       "  <tbody>\n",
       "    <tr>\n",
       "      <th>0</th>\n",
       "      <td>0.000010</td>\n",
       "      <td>0.000010</td>\n",
       "      <td>0.001192</td>\n",
       "      <td>0.000311</td>\n",
       "      <td>0.000164</td>\n",
       "      <td>0.003768</td>\n",
       "      <td>0.000537</td>\n",
       "      <td>0.004302</td>\n",
       "      <td>0.000010</td>\n",
       "      <td>0.000443</td>\n",
       "      <td>...</td>\n",
       "      <td>0.000010</td>\n",
       "      <td>0.000010</td>\n",
       "      <td>0.000010</td>\n",
       "      <td>0.000010</td>\n",
       "      <td>0.000010</td>\n",
       "      <td>0.000010</td>\n",
       "      <td>0.000010</td>\n",
       "      <td>0.000010</td>\n",
       "      <td>0.000010</td>\n",
       "      <td>0.000010</td>\n",
       "    </tr>\n",
       "    <tr>\n",
       "      <th>1</th>\n",
       "      <td>0.001142</td>\n",
       "      <td>0.000003</td>\n",
       "      <td>0.000003</td>\n",
       "      <td>0.000273</td>\n",
       "      <td>0.000411</td>\n",
       "      <td>0.004849</td>\n",
       "      <td>0.000118</td>\n",
       "      <td>0.001525</td>\n",
       "      <td>0.000064</td>\n",
       "      <td>0.000197</td>\n",
       "      <td>...</td>\n",
       "      <td>0.000003</td>\n",
       "      <td>0.000003</td>\n",
       "      <td>0.000003</td>\n",
       "      <td>0.000003</td>\n",
       "      <td>0.000003</td>\n",
       "      <td>0.000003</td>\n",
       "      <td>0.000003</td>\n",
       "      <td>0.000003</td>\n",
       "      <td>0.000003</td>\n",
       "      <td>0.000003</td>\n",
       "    </tr>\n",
       "  </tbody>\n",
       "</table>\n",
       "<p>2 rows × 8151 columns</p>\n",
       "</div>"
      ],
      "text/plain": [
       "        150       203       300      able      away       big  big_ones  \\\n",
       "0  0.000010  0.000010  0.001192  0.000311  0.000164  0.003768  0.000537   \n",
       "1  0.001142  0.000003  0.000003  0.000273  0.000411  0.004849  0.000118   \n",
       "\n",
       "       boat   boiling     brian  ...  generated   holders   liberty     masks  \\\n",
       "0  0.004302  0.000010  0.000443  ...   0.000010  0.000010  0.000010  0.000010   \n",
       "1  0.001525  0.000064  0.000197  ...   0.000003  0.000003  0.000003  0.000003   \n",
       "\n",
       "    realize    rollos  worthwhile   applies    behold    slooow  \n",
       "0  0.000010  0.000010    0.000010  0.000010  0.000010  0.000010  \n",
       "1  0.000003  0.000003    0.000003  0.000003  0.000003  0.000003  \n",
       "\n",
       "[2 rows x 8151 columns]"
      ]
     },
     "execution_count": 123,
     "metadata": {},
     "output_type": "execute_result"
    }
   ],
   "source": [
    "topic_df = pd.DataFrame(lda_model.get_topics())\n",
    "topic_df.columns = vocab\n",
    "topic_df.head(2)"
   ]
  },
  {
   "cell_type": "code",
   "execution_count": 124,
   "metadata": {},
   "outputs": [],
   "source": [
    "import pyLDAvis\n",
    "import pyLDAvis.gensim\n",
    "\n",
    "pyLDAvis.enable_notebook()"
   ]
  },
  {
   "cell_type": "code",
   "execution_count": 125,
   "metadata": {},
   "outputs": [
    {
     "data": {
      "text/html": [
       "\n",
       "<link rel=\"stylesheet\" type=\"text/css\" href=\"https://cdn.rawgit.com/bmabey/pyLDAvis/files/ldavis.v1.0.0.css\">\n",
       "\n",
       "\n",
       "<div id=\"ldavis_el109981406390783021605433869009\"></div>\n",
       "<script type=\"text/javascript\">\n",
       "\n",
       "var ldavis_el109981406390783021605433869009_data = {\"mdsDat\": {\"x\": [0.22055541203882387, 0.14969279645653705, 0.022456687582143493, -0.005928714297926919, 0.003588067513246505, -0.039245771461277536, -0.09234424215864005, -0.11739177395257808, 0.03318607754649647, -0.17456853926682475], \"y\": [0.0658673959494099, 0.024540678064392665, 0.006020660637443264, -0.1450601028309746, -0.2449994505249064, 0.11655869105988144, 0.00476832157949299, 0.06841811739688258, 0.06192178673551121, 0.041963901932867566], \"topics\": [1, 2, 3, 4, 5, 6, 7, 8, 9, 10], \"cluster\": [1, 1, 1, 1, 1, 1, 1, 1, 1, 1], \"Freq\": [32.44316482543945, 23.047164916992188, 13.056381225585938, 10.5642728805542, 9.15443229675293, 3.3225226402282715, 3.0997724533081055, 2.771993398666382, 1.760198950767517, 0.7801021933555603]}, \"tinfo\": {\"Category\": [\"Default\", \"Default\", \"Default\", \"Default\", \"Default\", \"Default\", \"Default\", \"Default\", \"Default\", \"Default\", \"Default\", \"Default\", \"Default\", \"Default\", \"Default\", \"Default\", \"Default\", \"Default\", \"Default\", \"Default\", \"Default\", \"Default\", \"Default\", \"Default\", \"Default\", \"Default\", \"Default\", \"Default\", \"Default\", \"Default\", \"Topic1\", \"Topic1\", \"Topic1\", \"Topic1\", \"Topic1\", \"Topic1\", \"Topic1\", \"Topic1\", \"Topic1\", \"Topic1\", \"Topic1\", \"Topic1\", \"Topic1\", \"Topic1\", \"Topic1\", \"Topic1\", \"Topic1\", \"Topic1\", \"Topic1\", \"Topic1\", \"Topic1\", \"Topic1\", \"Topic1\", \"Topic1\", \"Topic1\", \"Topic1\", \"Topic1\", \"Topic1\", \"Topic1\", \"Topic1\", \"Topic1\", \"Topic1\", \"Topic1\", \"Topic1\", \"Topic1\", \"Topic1\", \"Topic1\", \"Topic1\", \"Topic1\", \"Topic1\", \"Topic1\", \"Topic1\", \"Topic1\", \"Topic1\", \"Topic1\", \"Topic1\", \"Topic1\", \"Topic1\", \"Topic1\", \"Topic1\", \"Topic1\", \"Topic1\", \"Topic1\", \"Topic1\", \"Topic1\", \"Topic1\", \"Topic1\", \"Topic1\", \"Topic1\", \"Topic1\", \"Topic1\", \"Topic1\", \"Topic1\", \"Topic1\", \"Topic1\", \"Topic1\", \"Topic1\", \"Topic1\", \"Topic1\", \"Topic1\", \"Topic1\", \"Topic1\", \"Topic1\", \"Topic1\", \"Topic1\", \"Topic1\", \"Topic1\", \"Topic1\", \"Topic2\", \"Topic2\", \"Topic2\", \"Topic2\", \"Topic2\", \"Topic2\", \"Topic2\", \"Topic2\", \"Topic2\", \"Topic2\", \"Topic2\", \"Topic2\", \"Topic2\", \"Topic2\", \"Topic2\", \"Topic2\", \"Topic2\", \"Topic2\", \"Topic2\", \"Topic2\", \"Topic2\", \"Topic2\", \"Topic2\", \"Topic2\", \"Topic2\", \"Topic2\", \"Topic2\", \"Topic2\", \"Topic2\", \"Topic2\", \"Topic2\", \"Topic2\", \"Topic2\", \"Topic2\", \"Topic2\", \"Topic2\", \"Topic2\", \"Topic2\", \"Topic2\", \"Topic2\", \"Topic2\", \"Topic2\", \"Topic2\", \"Topic2\", \"Topic2\", \"Topic2\", \"Topic2\", \"Topic2\", \"Topic2\", \"Topic2\", \"Topic2\", \"Topic2\", \"Topic2\", \"Topic2\", \"Topic2\", \"Topic2\", \"Topic2\", \"Topic2\", \"Topic2\", \"Topic2\", \"Topic2\", \"Topic2\", \"Topic2\", \"Topic2\", \"Topic2\", \"Topic2\", \"Topic2\", \"Topic2\", \"Topic2\", \"Topic2\", \"Topic2\", \"Topic2\", \"Topic2\", \"Topic2\", \"Topic2\", \"Topic2\", \"Topic2\", \"Topic2\", \"Topic2\", \"Topic2\", \"Topic2\", \"Topic2\", \"Topic2\", \"Topic2\", \"Topic2\", \"Topic2\", \"Topic3\", \"Topic3\", \"Topic3\", \"Topic3\", \"Topic3\", \"Topic3\", \"Topic3\", \"Topic3\", \"Topic3\", \"Topic3\", \"Topic3\", \"Topic3\", \"Topic3\", \"Topic3\", \"Topic3\", \"Topic3\", \"Topic3\", \"Topic3\", \"Topic3\", \"Topic3\", \"Topic3\", \"Topic3\", \"Topic3\", \"Topic3\", \"Topic3\", \"Topic3\", \"Topic3\", \"Topic3\", \"Topic3\", \"Topic3\", \"Topic3\", \"Topic3\", \"Topic3\", \"Topic3\", \"Topic3\", \"Topic3\", \"Topic3\", \"Topic3\", \"Topic3\", \"Topic3\", \"Topic3\", \"Topic3\", \"Topic3\", \"Topic3\", \"Topic3\", \"Topic3\", \"Topic3\", \"Topic3\", \"Topic3\", \"Topic3\", \"Topic3\", \"Topic3\", \"Topic3\", \"Topic3\", \"Topic3\", \"Topic3\", \"Topic3\", \"Topic3\", \"Topic3\", \"Topic3\", \"Topic3\", \"Topic3\", \"Topic3\", \"Topic3\", \"Topic3\", \"Topic3\", \"Topic3\", \"Topic3\", \"Topic3\", \"Topic3\", \"Topic3\", \"Topic3\", \"Topic3\", \"Topic3\", \"Topic4\", \"Topic4\", \"Topic4\", \"Topic4\", \"Topic4\", \"Topic4\", \"Topic4\", \"Topic4\", \"Topic4\", \"Topic4\", \"Topic4\", \"Topic4\", \"Topic4\", \"Topic4\", \"Topic4\", \"Topic4\", \"Topic4\", \"Topic4\", \"Topic4\", \"Topic4\", \"Topic4\", \"Topic4\", \"Topic4\", \"Topic4\", \"Topic4\", \"Topic4\", \"Topic4\", \"Topic4\", \"Topic4\", \"Topic4\", \"Topic4\", \"Topic4\", \"Topic4\", \"Topic4\", \"Topic4\", \"Topic4\", \"Topic4\", \"Topic4\", \"Topic4\", \"Topic4\", \"Topic4\", \"Topic4\", \"Topic4\", \"Topic4\", \"Topic4\", \"Topic4\", \"Topic4\", \"Topic4\", \"Topic4\", \"Topic4\", \"Topic4\", \"Topic4\", \"Topic4\", \"Topic4\", \"Topic4\", \"Topic4\", \"Topic4\", \"Topic4\", \"Topic4\", \"Topic4\", \"Topic4\", \"Topic4\", \"Topic4\", \"Topic4\", \"Topic4\", \"Topic4\", \"Topic4\", \"Topic4\", \"Topic4\", \"Topic4\", \"Topic4\", \"Topic4\", \"Topic4\", \"Topic4\", \"Topic4\", \"Topic4\", \"Topic4\", \"Topic4\", \"Topic4\", \"Topic4\", \"Topic4\", \"Topic5\", \"Topic5\", \"Topic5\", \"Topic5\", \"Topic5\", \"Topic5\", \"Topic5\", \"Topic5\", \"Topic5\", \"Topic5\", \"Topic5\", \"Topic5\", \"Topic5\", \"Topic5\", \"Topic5\", \"Topic5\", \"Topic5\", \"Topic5\", \"Topic5\", \"Topic5\", \"Topic5\", \"Topic5\", \"Topic5\", \"Topic5\", \"Topic5\", \"Topic5\", \"Topic5\", \"Topic5\", \"Topic5\", \"Topic5\", \"Topic5\", \"Topic5\", \"Topic5\", \"Topic5\", \"Topic5\", \"Topic5\", \"Topic5\", \"Topic5\", \"Topic5\", \"Topic5\", \"Topic5\", \"Topic5\", \"Topic5\", \"Topic5\", \"Topic5\", \"Topic5\", \"Topic5\", \"Topic5\", \"Topic5\", \"Topic5\", \"Topic5\", \"Topic5\", \"Topic5\", \"Topic5\", \"Topic5\", \"Topic5\", \"Topic5\", \"Topic5\", \"Topic5\", \"Topic5\", \"Topic5\", \"Topic5\", \"Topic5\", \"Topic5\", \"Topic5\", \"Topic5\", \"Topic5\", \"Topic5\", \"Topic5\", \"Topic5\", \"Topic5\", \"Topic5\", \"Topic6\", \"Topic6\", \"Topic6\", \"Topic6\", \"Topic6\", \"Topic6\", \"Topic6\", \"Topic6\", \"Topic6\", \"Topic6\", \"Topic6\", \"Topic6\", \"Topic6\", \"Topic6\", \"Topic6\", \"Topic6\", \"Topic6\", \"Topic6\", \"Topic6\", \"Topic6\", \"Topic6\", \"Topic6\", \"Topic6\", \"Topic6\", \"Topic6\", \"Topic6\", \"Topic6\", \"Topic6\", \"Topic6\", \"Topic6\", \"Topic6\", \"Topic6\", \"Topic6\", \"Topic6\", \"Topic6\", \"Topic6\", \"Topic6\", \"Topic6\", \"Topic6\", \"Topic6\", \"Topic6\", \"Topic6\", \"Topic6\", \"Topic6\", \"Topic6\", \"Topic6\", \"Topic6\", \"Topic6\", \"Topic6\", \"Topic6\", \"Topic6\", \"Topic6\", \"Topic6\", \"Topic6\", \"Topic6\", \"Topic6\", \"Topic6\", \"Topic6\", \"Topic6\", \"Topic6\", \"Topic6\", \"Topic6\", \"Topic6\", \"Topic6\", \"Topic6\", \"Topic6\", \"Topic6\", \"Topic7\", \"Topic7\", \"Topic7\", \"Topic7\", \"Topic7\", \"Topic7\", \"Topic7\", \"Topic7\", \"Topic7\", \"Topic7\", \"Topic7\", \"Topic7\", \"Topic7\", \"Topic7\", \"Topic7\", \"Topic7\", \"Topic7\", \"Topic7\", \"Topic7\", \"Topic7\", \"Topic7\", \"Topic7\", \"Topic7\", \"Topic7\", \"Topic7\", \"Topic7\", \"Topic7\", \"Topic7\", \"Topic7\", \"Topic7\", \"Topic7\", \"Topic7\", \"Topic7\", \"Topic7\", \"Topic7\", \"Topic7\", \"Topic7\", \"Topic7\", \"Topic7\", \"Topic7\", \"Topic7\", \"Topic7\", \"Topic7\", \"Topic7\", \"Topic7\", \"Topic7\", \"Topic7\", \"Topic7\", \"Topic7\", \"Topic7\", \"Topic7\", \"Topic7\", \"Topic7\", \"Topic7\", \"Topic7\", \"Topic7\", \"Topic7\", \"Topic7\", \"Topic7\", \"Topic7\", \"Topic7\", \"Topic7\", \"Topic7\", \"Topic7\", \"Topic7\", \"Topic7\", \"Topic7\", \"Topic7\", \"Topic7\", \"Topic7\", \"Topic7\", \"Topic7\", \"Topic7\", \"Topic7\", \"Topic7\", \"Topic7\", \"Topic7\", \"Topic7\", \"Topic7\", \"Topic7\", \"Topic7\", \"Topic7\", \"Topic7\", \"Topic7\", \"Topic8\", \"Topic8\", \"Topic8\", \"Topic8\", \"Topic8\", \"Topic8\", \"Topic8\", \"Topic8\", \"Topic8\", \"Topic8\", \"Topic8\", \"Topic8\", \"Topic8\", \"Topic8\", \"Topic8\", \"Topic8\", \"Topic8\", \"Topic8\", \"Topic8\", \"Topic8\", \"Topic8\", \"Topic8\", \"Topic8\", \"Topic8\", \"Topic8\", \"Topic8\", \"Topic8\", \"Topic8\", \"Topic8\", \"Topic8\", \"Topic8\", \"Topic8\", \"Topic8\", \"Topic8\", \"Topic8\", \"Topic8\", \"Topic8\", \"Topic8\", \"Topic8\", \"Topic8\", \"Topic8\", \"Topic8\", \"Topic8\", \"Topic8\", \"Topic8\", \"Topic8\", \"Topic8\", \"Topic8\", \"Topic8\", \"Topic8\", \"Topic8\", \"Topic8\", \"Topic8\", \"Topic8\", \"Topic8\", \"Topic8\", \"Topic8\", \"Topic8\", \"Topic8\", \"Topic8\", \"Topic8\", \"Topic8\", \"Topic8\", \"Topic8\", \"Topic9\", \"Topic9\", \"Topic9\", \"Topic9\", \"Topic9\", \"Topic9\", \"Topic9\", \"Topic9\", \"Topic9\", \"Topic9\", \"Topic9\", \"Topic9\", \"Topic9\", \"Topic9\", \"Topic9\", \"Topic9\", \"Topic9\", \"Topic9\", \"Topic9\", \"Topic9\", \"Topic9\", \"Topic9\", \"Topic9\", \"Topic9\", \"Topic9\", \"Topic9\", \"Topic9\", \"Topic9\", \"Topic9\", \"Topic9\", \"Topic9\", \"Topic9\", \"Topic9\", \"Topic9\", \"Topic9\", \"Topic9\", \"Topic9\", \"Topic9\", \"Topic9\", \"Topic9\", \"Topic9\", \"Topic9\", \"Topic9\", \"Topic9\", \"Topic9\", \"Topic9\", \"Topic9\", \"Topic9\", \"Topic9\", \"Topic9\", \"Topic9\", \"Topic9\", \"Topic9\", \"Topic9\", \"Topic9\", \"Topic9\", \"Topic9\", \"Topic9\", \"Topic9\", \"Topic9\", \"Topic9\", \"Topic9\", \"Topic9\", \"Topic9\", \"Topic9\", \"Topic9\", \"Topic9\", \"Topic9\", \"Topic9\", \"Topic9\", \"Topic9\", \"Topic9\", \"Topic9\", \"Topic9\", \"Topic9\", \"Topic9\", \"Topic10\", \"Topic10\", \"Topic10\", \"Topic10\", \"Topic10\", \"Topic10\", \"Topic10\", \"Topic10\", \"Topic10\", \"Topic10\", \"Topic10\", \"Topic10\", \"Topic10\", \"Topic10\", \"Topic10\", \"Topic10\", \"Topic10\", \"Topic10\", \"Topic10\", \"Topic10\", \"Topic10\", \"Topic10\", \"Topic10\", \"Topic10\", \"Topic10\", \"Topic10\", \"Topic10\", \"Topic10\", \"Topic10\", \"Topic10\", \"Topic10\", \"Topic10\", \"Topic10\", \"Topic10\", \"Topic10\", \"Topic10\", \"Topic10\", \"Topic10\", \"Topic10\", \"Topic10\", \"Topic10\", \"Topic10\", \"Topic10\", \"Topic10\", \"Topic10\", \"Topic10\", \"Topic10\", \"Topic10\", \"Topic10\", \"Topic10\", \"Topic10\", \"Topic10\", \"Topic10\", \"Topic10\", \"Topic10\", \"Topic10\", \"Topic10\", \"Topic10\", \"Topic10\", \"Topic10\", \"Topic10\", \"Topic10\", \"Topic10\", \"Topic10\", \"Topic10\", \"Topic10\", \"Topic10\", \"Topic10\", \"Topic10\", \"Topic10\"], \"Freq\": [1355.0, 1111.0, 756.0, 1457.0, 1867.0, 576.0, 487.0, 1026.0, 773.0, 1033.0, 563.0, 292.0, 137.0, 463.0, 338.0, 624.0, 153.0, 404.0, 450.0, 1051.0, 337.0, 296.0, 1318.0, 280.0, 195.0, 384.0, 174.0, 129.0, 1336.0, 175.0, 34.33976364135742, 47.536922454833984, 25.537580490112305, 32.1696891784668, 27.39727020263672, 23.582191467285156, 23.581974029541016, 27.183774948120117, 20.613819122314453, 19.666793823242188, 18.681320190429688, 80.59696197509766, 16.731943130493164, 14.751516342163086, 30.162870407104492, 22.94775390625, 13.784772872924805, 12.815353393554688, 12.815390586853027, 12.815385818481445, 12.809455871582031, 31.243886947631836, 28.275012969970703, 43.03165054321289, 11.838239669799805, 11.822062492370605, 12.702866554260254, 10.85919189453125, 10.858478546142578, 12.65773868560791, 23.470693588256836, 19.492385864257812, 291.95416259765625, 49.790035247802734, 20.63016700744629, 40.13753890991211, 459.95501708984375, 850.4567260742188, 35.521751403808594, 250.48611450195312, 77.54656219482422, 83.12068939208984, 168.5858154296875, 59.956817626953125, 47.20126724243164, 160.5509033203125, 181.13723754882812, 609.1646118164062, 196.1028289794922, 99.4090805053711, 126.45796966552734, 226.60812377929688, 372.03680419921875, 328.3218994140625, 67.76954650878906, 82.86512756347656, 280.52783203125, 615.286865234375, 503.6076965332031, 619.6062622070312, 777.8099975585938, 142.51463317871094, 480.7486572265625, 370.51904296875, 227.00286865234375, 569.7945556640625, 157.33338928222656, 272.9421081542969, 118.56888580322266, 219.36109924316406, 297.079833984375, 197.69715881347656, 166.21177673339844, 138.97476196289062, 143.99049377441406, 156.3795166015625, 157.67886352539062, 152.5772705078125, 67.94730377197266, 54.72040939331055, 25.96379852294922, 13.459158897399902, 12.503150939941406, 10.67823600769043, 9.740236282348633, 9.73342227935791, 9.714468002319336, 8.773138999938965, 32.17782211303711, 8.70877456665039, 7.810530662536621, 7.807448863983154, 7.807415962219238, 7.7974042892456055, 7.777531623840332, 16.48978614807129, 6.8444976806640625, 6.818596363067627, 5.880800724029541, 5.879431247711182, 5.878817081451416, 5.88019323348999, 5.863987445831299, 14.38911247253418, 5.848286151885986, 5.792914390563965, 18.940601348876953, 4.915658950805664, 34.28936004638672, 21.255088806152344, 8.769309997558594, 30.311016082763672, 31.859325408935547, 18.033634185791016, 19.514385223388672, 22.373897552490234, 28.61149024963379, 36.769046783447266, 59.10132598876953, 58.180240631103516, 45.55230712890625, 74.4970932006836, 20.200756072998047, 15.34881591796875, 685.0422973632812, 118.93168640136719, 490.1441650390625, 144.0230255126953, 521.421875, 478.0675048828125, 80.56742858886719, 129.257080078125, 72.84808349609375, 130.5046844482422, 67.96913146972656, 327.5169982910156, 75.10055541992188, 51.90325164794922, 89.37462615966797, 158.89199829101562, 157.7682647705078, 41.848716735839844, 72.59390258789062, 71.89451599121094, 96.3385238647461, 102.16560363769531, 259.64837646484375, 140.9036407470703, 128.14601135253906, 115.3758544921875, 206.2406768798828, 166.27194213867188, 190.5705108642578, 192.44772338867188, 144.42800903320312, 90.53301239013672, 79.0492935180664, 96.94862365722656, 104.20124053955078, 82.74089813232422, 93.2744369506836, 92.24561309814453, 85.70037078857422, 82.85426330566406, 27.510351181030273, 22.831350326538086, 25.544626235961914, 17.14516830444336, 17.142696380615234, 13.354927062988281, 11.463078498840332, 11.44987964630127, 15.812341690063477, 10.515624046325684, 10.510239601135254, 9.567716598510742, 8.619967460632324, 8.617396354675293, 9.485357284545898, 8.609648704528809, 8.565152168273926, 18.034690856933594, 7.6732707023620605, 7.670511245727539, 7.667777061462402, 28.21578025817871, 11.019431114196777, 6.72559928894043, 6.725766658782959, 6.725713729858398, 6.725437641143799, 6.724772930145264, 6.724998950958252, 6.723145484924316, 103.80992889404297, 26.088302612304688, 53.2429313659668, 63.723812103271484, 18.893096923828125, 81.21847534179688, 14.057808876037598, 12.407856941223145, 38.49673080444336, 99.90753173828125, 127.20077514648438, 95.47386932373047, 18.049314498901367, 369.4245910644531, 98.47608184814453, 183.88278198242188, 20.868953704833984, 45.54187774658203, 45.71860122680664, 47.54076385498047, 31.382951736450195, 106.60421752929688, 42.57794952392578, 369.7341003417969, 115.4926528930664, 36.358055114746094, 132.4183807373047, 128.42784118652344, 135.9656219482422, 109.8999252319336, 31.262609481811523, 68.3275146484375, 72.26314544677734, 120.78724670410156, 70.57987213134766, 68.25861358642578, 125.72381591796875, 62.683956146240234, 84.43209075927734, 106.87893676757812, 69.35389709472656, 83.58894348144531, 66.5652847290039, 53.8475456237793, 26.685768127441406, 9.350018501281738, 8.424018859863281, 8.419370651245117, 7.494099140167236, 6.571450710296631, 6.570889472961426, 6.546669006347656, 5.646462917327881, 5.643890857696533, 5.631143093109131, 5.643520832061768, 5.635684013366699, 5.6381001472473145, 6.402761459350586, 5.521675109863281, 4.72015905380249, 4.720723628997803, 4.719579219818115, 4.720187664031982, 4.719703674316406, 4.719932556152344, 4.7199482917785645, 4.719906806945801, 4.718471527099609, 4.71779727935791, 4.718377113342285, 4.715085983276367, 4.71871280670166, 16.7320556640625, 10.600069999694824, 12.621355056762695, 14.626429557800293, 13.206717491149902, 10.729377746582031, 9.208724021911621, 28.837404251098633, 9.982086181640625, 5.427127361297607, 8.055787086486816, 13.517163276672363, 49.70075607299805, 24.08159828186035, 15.983498573303223, 22.994571685791016, 174.76455688476562, 59.52549362182617, 39.391998291015625, 32.79883575439453, 51.215415954589844, 16.1842041015625, 38.05814743041992, 31.523771286010742, 111.40054321289062, 18.077627182006836, 84.88805389404297, 200.02061462402344, 226.30902099609375, 19.060379028320312, 18.76650619506836, 54.598506927490234, 78.73540496826172, 49.550498962402344, 61.806121826171875, 53.17368698120117, 25.53722381591797, 64.79893493652344, 51.349910736083984, 134.2998046875, 92.93890380859375, 37.133209228515625, 62.49051284790039, 93.2674331665039, 95.00982666015625, 90.57949829101562, 44.7397346496582, 32.749900817871094, 33.292030334472656, 32.71649932861328, 33.177207946777344, 32.84004592895508, 38.958438873291016, 15.843435287475586, 14.917326927185059, 13.059466361999512, 13.05605697631836, 13.028085708618164, 38.890602111816406, 11.213834762573242, 10.287035942077637, 10.285285949707031, 12.00444221496582, 10.266003608703613, 11.078448295593262, 9.357855796813965, 9.354483604431152, 9.352949142456055, 10.203838348388672, 9.342486381530762, 14.870429039001465, 8.434022903442383, 8.43338680267334, 8.43039321899414, 8.428609848022461, 8.411523818969727, 8.389196395874023, 8.375079154968262, 7.5071611404418945, 7.505614280700684, 7.50628137588501, 7.50596284866333, 129.76998901367188, 20.365095138549805, 24.856201171875, 13.825515747070312, 25.64470672607422, 12.841829299926758, 60.98219299316406, 83.82244873046875, 160.3250274658203, 28.750308990478516, 17.67039680480957, 41.34648513793945, 56.419185638427734, 178.22677612304688, 84.65795135498047, 59.11223220825195, 19.28722381591797, 16.307777404785156, 38.59482192993164, 125.18982696533203, 66.7147445678711, 29.102327346801758, 27.724754333496094, 30.429006576538086, 35.0407600402832, 26.898895263671875, 130.37330627441406, 50.47508239746094, 30.74533462524414, 52.87999725341797, 54.90008544921875, 102.3346939086914, 41.792259216308594, 56.7017707824707, 38.91892623901367, 47.83909225463867, 61.30886459350586, 41.2115478515625, 39.143218994140625, 54.1795768737793, 43.55027389526367, 38.632850646972656, 15.975515365600586, 5.054157733917236, 5.046021461486816, 5.003411769866943, 4.226365566253662, 4.22253942489624, 4.221634387969971, 4.201435565948486, 5.557651519775391, 4.163017749786377, 6.93687105178833, 3.3932926654815674, 4.606696605682373, 3.948314666748047, 2.568976879119873, 2.5686283111572266, 2.567171096801758, 2.5598092079162598, 4.823801040649414, 5.634123802185059, 7.009296417236328, 2.4962456226348877, 2.4905552864074707, 3.0892810821533203, 7.479320526123047, 2.4486277103424072, 8.041821479797363, 4.66093111038208, 1.740091323852539, 1.7400881052017212, 11.683058738708496, 14.350191116333008, 20.522907257080078, 10.246325492858887, 14.376046180725098, 14.052979469299316, 7.650360107421875, 21.515405654907227, 16.194738388061523, 20.496200561523438, 29.09270477294922, 22.454944610595703, 15.367877960205078, 18.516386032104492, 103.62816619873047, 8.097789764404297, 9.829086303710938, 10.900190353393555, 24.45197868347168, 15.20801067352295, 20.71648597717285, 31.198379516601562, 34.00889205932617, 13.258127212524414, 30.218502044677734, 19.14539337158203, 15.942960739135742, 25.667726516723633, 10.089302062988281, 17.1207218170166, 10.22286605834961, 22.64920425415039, 16.615732192993164, 24.247594833374023, 19.831388473510742, 15.863085746765137, 13.69241714477539, 3.913452386856079, 3.9126744270324707, 3.896294355392456, 3.1462228298187256, 3.145655632019043, 3.1448028087615967, 3.1344921588897705, 3.0751700401306152, 2.379237413406372, 2.3790555000305176, 2.378368377685547, 2.3778750896453857, 2.3776400089263916, 2.3761181831359863, 2.3731460571289062, 2.3592939376831055, 4.680422306060791, 3.908289670944214, 1.6115864515304565, 1.6115854978561401, 1.6115843057632446, 1.6115837097167969, 1.6115832328796387, 1.6115814447402954, 1.6115790605545044, 1.6115787029266357, 1.6115771532058716, 1.6115648746490479, 1.6115648746490479, 1.6115591526031494, 3.1468939781188965, 3.730027437210083, 3.145017623901367, 8.337882995605469, 3.14514422416687, 3.0180861949920654, 4.538687705993652, 3.9126386642456055, 5.256026268005371, 3.5166337490081787, 2.9043400287628174, 7.244597911834717, 3.9135327339172363, 104.92668151855469, 10.945068359375, 5.078078269958496, 8.360636711120605, 6.057941436767578, 5.706756114959717, 6.223290920257568, 12.433586120605469, 4.969191074371338, 6.110012054443359, 16.126583099365234, 6.554391860961914, 4.916290283203125, 25.857181549072266, 15.356457710266113, 32.921165466308594, 6.06831693649292, 26.63702392578125, 12.697198867797852, 11.33463191986084, 14.83471965789795, 11.328006744384766, 18.941707611083984, 12.709099769592285, 7.419238567352295, 5.477752685546875, 5.9293646812438965, 7.799628257751465, 8.767216682434082, 8.268693923950195, 6.493600845336914, 9.181214332580566, 9.510233879089355, 9.998771667480469, 7.498161792755127, 7.804182529449463, 7.461294651031494, 6.766037464141846, 7.324661731719971, 7.45278787612915, 7.206358909606934, 6.845218658447266, 6.092990875244141, 6.092989444732666, 6.092988014221191, 6.092986106872559, 6.092985153198242, 6.092985153198242, 6.092983722686768, 6.092983722686768, 6.092982292175293, 6.09298038482666, 6.092982292175293, 6.092979431152344, 6.092974662780762, 6.0929741859436035, 5.340729236602783, 5.340728282928467, 5.34072732925415, 5.340726375579834, 5.340725898742676, 5.340723037719727, 5.340723037719727, 5.340723037719727, 5.340721130371094, 5.340145111083984, 5.3403520584106445, 3.0827367305755615, 3.0826878547668457, 3.072661876678467, 3.066394805908203, 6.0649495124816895, 4.799952507019043, 5.3407301902771, 6.083798885345459, 9.251742362976074, 80.7984619140625, 15.895308494567871, 26.254981994628906, 38.89121627807617, 17.848691940307617, 13.107208251953125, 15.886445045471191, 15.221823692321777, 16.149429321289062, 21.110864639282227, 9.142653465270996, 7.229078769683838, 13.809649467468262, 22.471426010131836, 15.076295852661133, 10.7236909866333, 8.916936874389648, 8.84936237335205, 14.737920761108398, 9.467007637023926, 8.759004592895508, 8.967273712158203, 8.249811172485352, 8.864786148071289, 8.680716514587402, 6.70119571685791, 6.762486457824707, 7.45725679397583, 6.750153541564941, 2.6635050773620605, 2.661418914794922, 2.0139684677124023, 2.0138840675354004, 2.0116403102874756, 4.488184928894043, 3.309361696243286, 1.3641984462738037, 1.3641908168792725, 1.364133596420288, 1.3625463247299194, 1.362060308456421, 1.35895574092865, 1.3570300340652466, 1.344870924949646, 1.3382959365844727, 2.0138862133026123, 2.0139644145965576, 2.005539894104004, 2.0038304328918457, 3.2109482288360596, 1.9628651142120361, 2.6230578422546387, 0.714399516582489, 0.7143986225128174, 0.7143981456756592, 0.7143924236297607, 0.7143913507461548, 0.7143902778625488, 0.714389979839325, 2.5058393478393555, 3.305051326751709, 2.0112335681915283, 1.3625164031982422, 3.803255319595337, 3.1284854412078857, 1.362910509109497, 2.0088822841644287, 2.0139663219451904, 5.04202938079834, 39.51885223388672, 2.6624703407287598, 1.988387942314148, 4.030955791473389, 3.8583669662475586, 5.392200469970703, 2.0068118572235107, 9.13870906829834, 24.794286727905273, 5.943225860595703, 22.221906661987305, 18.916526794433594, 8.67300796508789, 7.478042125701904, 8.091198921203613, 22.650251388549805, 4.717703819274902, 12.781636238098145, 14.312588691711426, 12.47303581237793, 7.361886501312256, 4.3888115882873535, 10.640653610229492, 8.598383903503418, 12.458776473999023, 8.155203819274902, 6.501992225646973, 7.094512939453125, 6.6306962966918945, 6.47560977935791, 6.795618057250977, 5.7477335929870605, 6.640860080718994, 5.331323623657227, 5.247645378112793, 5.341189384460449, 2.006037950515747, 2.002230644226074, 1.9648021459579468, 1.5130919218063354, 2.4953367710113525, 1.0275192260742188, 1.0275216102600098, 1.027519702911377, 1.0274927616119385, 1.0273118019104004, 1.0273114442825317, 1.027275800704956, 1.027216911315918, 1.026950478553772, 1.0270096063613892, 1.0271934270858765, 1.0268785953521729, 1.0271135568618774, 2.3144946098327637, 1.9720885753631592, 1.5112863779067993, 2.4900262355804443, 0.5381453037261963, 0.5381441712379456, 0.538144052028656, 0.538144052028656, 0.5381439924240112, 0.5381430387496948, 0.5381438136100769, 0.5381437540054321, 1.0271942615509033, 1.026900291442871, 1.0268940925598145, 1.5168826580047607, 1.0275237560272217, 1.0268769264221191, 1.0268467664718628, 1.0198496580123901, 3.2490124702453613, 14.213706970214844, 4.212804794311523, 1.4029321670532227, 2.006237506866455, 2.495582103729248, 1.8400728702545166, 3.4778969287872314, 2.1412153244018555, 1.7996577024459839, 1.4941076040267944, 2.2673134803771973, 3.600883722305298, 1.509768009185791, 2.3243026733398438, 1.5164660215377808, 2.056493043899536, 1.8379029035568237, 1.3932316303253174, 1.4236714839935303, 2.1196420192718506, 2.9576199054718018, 2.1891729831695557, 2.7966346740722656, 2.2735397815704346, 2.252153158187866, 2.4815621376037598, 1.894702672958374, 2.0911319255828857, 2.310281991958618, 2.1870157718658447, 2.0590291023254395], \"Term\": [\"trip\", \"today\", \"lb\", \"fish\", \"day\", \"tomorrow\", \"pound\", \"tuna\", \"great\", \"weather\", \"everyone\", \"said\", \"trips\", \"got\", \"lbs\", \"well\", \"pounder\", \"2\", \"another\", \"yellowtail\", \"yellowfin\", \"report\", \"fishing\", \"jeff_and_the_indy_crew\", \"year\", \"independence\", \"yesterday\", \"please_wish_us_luck\", \"good\", \"time__stamp\", \"till\", \"effort\", \"tomorrow_in_hopes\", \"wish_us_luck_matt\", \"going_to_give\", \"yo_yo\", \"yellas\", \"till_dark\", \"manage\", \"18_to_30_lb\", \"shore\", \"going_to_try\", \"7x\", \"bombs\", \"hand_full\", \"sea_ya_later\", \"picture_perfect\", \"needless_to_say\", \"like_yesterday\", \"nite\", \"hatch\", \"daily_limits\", \"passport\", \"tomorrow_sea_ya\", \"fixed\", \"going_to_camp\", \"r_s_w\", \"describe\", \"else\", \"couple_of_hours\", \"100_lbs\", \"mode\", \"lbs\", \"beauties\", \"steady_action\", \"bigguns\", \"tomorrow\", \"today\", \"sea_ya_then_jeff\", \"going\", \"wish_us_luck_jeff\", \"hot\", \"action\", \"outstanding\", \"thanks_for_checking_in_on_us\", \"things\", \"really\", \"weather\", \"jeff_and_the_indy_crew\", \"please_wish_us_luck\", \"afternoon\", \"indy_crew\", \"well\", \"wahoo\", \"good_grade\", \"busy\", \"us\", \"fishing\", \"tuna\", \"good\", \"day\", \"around\", \"yellowtail\", \"great\", \"morning\", \"fish\", \"way\", \"everyone\", \"excellent\", \"got\", \"lb\", \"another\", \"time\", \"guys\", \"jeff\", \"big\", \"one\", \"trip\", \"pound_range\", \"indy_guys\", \"last_couple\", \"planning\", \"flat_seas\", \"sat_phone\", \"40_pound_range\", \"sea_state\", \"drifted\", \"headed_home\", \"due\", \"planned\", \"07\", \"scratching\", \"permits\", \"hands\", \"25_to_35\", \"class\", \"captain_jeff_debuys\", \"methods_were_the_hot_ticket\", \"something_different\", \"happy_birthday\", \"various\", \"air_temps\", \"sound\", \"jeff_called\", \"destinations\", \"headed_north\", \"overall\", \"work_north\", \"range\", \"ride_home\", \"seeing\", \"north\", \"smaller\", \"seas\", \"forecast\", \"send\", \"lb_range\", \"indy_boys\", \"call\", \"wind\", \"reports\", \"plan\", \"wish_us\", \"last_two_days\", \"day\", \"pounds\", \"fishing\", \"report\", \"fish\", \"good\", \"many\", \"nice\", \"night\", \"days\", \"hello_everyone\", \"weather\", \"albacore\", \"give\", \"last\", \"one\", \"another\", \"may\", \"hello\", \"thanks_for_checking\", \"back\", \"get\", \"trip\", \"us\", \"yellowfin_tuna\", \"time\", \"yellowtail\", \"great\", \"tuna\", \"today\", \"well\", \"also\", \"still\", \"morning\", \"tomorrow\", \"bluefin\", \"pound\", \"wahoo\", \"independence\", \"everyone\", \"everyone_who_made_the_trip\", \"jack_pot_winners\", \"second_place_went\", \"huge_thanks\", \"huge_success\", \"thanks_to_everyone_who_made\", \"gift_cert\", \"1_000\", \"follows_first_place\", \"fourth_place\", \"sea_you_all_next_year\", \"place_fell\", \"won_an_avet_reel\", \"gift_certificate\", \"quick_turn_a_round\", \"would_like_to_thank_everyone\", \"miller\", \"robert\", \"indy_jacket\", \"227\", \"jackpot_winners_are_as_follows_first\", \"great_job\", \"honorable_mention_goes\", \"jack_pot_winners_are_as_follows\", \"eighth_place\", \"100_gift_cert\", \"jack_pot\", \"brasil\", \"graf_tech_rod\", \"bud_edwards\", \"second_place\", \"many_thanks\", \"jackpot_winners\", \"next_year\", \"congratulations\", \"first_place\", \"place_went\", \"212\", \"want_to_thank\", \"third_place\", \"year\", \"returned\", \"hope_to_see\", \"lb\", \"thanks\", \"yellowfin\", \"second_place_goes\", \"0\", \"mike\", \"john\", \"won\", \"4\", \"third\", \"trip\", \"6\", \"place\", \"8\", \"2\", \"everyone\", \"yellowfin_tuna\", \"ca\", \"7\", \"bluefin\", \"great\", \"indy\", \"catch\", \"yellowtail\", \"bluefin_tuna\", \"wahoo\", \"day\", \"big\", \"fish\", \"tuna\", \"guys\", \"benitos\", \"blue_izorline\", \"40_pound_big_game\", \"yf\", \"3_0_mustad\", \"seal_beach\", \"kyle_rooster_karcher\", \"promar\", \"graphtech\", \"nearly\", \"5x\", \"chaeil\", \"terry_sandoval_of_anaheim\", \"0_gorilla_hook\", \"pisano\", \"jackpot_winner\", \"bagged_with_a_sardine\", \"6470_rod\", \"patrick\", \"point_loma_sportfishing_august\", \"dvd\", \"pro_spectra\", \"lakewood\", \"65_pound_power\", \"winning_a_seeker\", \"nick\", \"newman\", \"106\", \"stockton\", \"docked\", \"pete\", \"shimano\", \"september\", \"posed\", \"40_pound_izorline\", \"theres\", \"cedros\", \"home_to_pt_loma\", \"twenty_second_st_landing\", \"said_he_bagged\", \"31_anglers\", \"five\", \"youngs_tackle\", \"august\", \"34\", \"pound\", \"aboard\", \"won_first_place\", \"chartermaster\", \"rod\", \"cedros_island\", \"reel\", \"charter\", \"independence\", \"skipper_jeff_debuys\", \"said\", \"yellowtail\", \"trip\", \"owner\", \"32\", \"anglers\", \"2\", \"took\", \"6\", \"boat\", \"jackpot\", \"8\", \"30\", \"day\", \"tuna\", \"albacore\", \"got\", \"fishing\", \"fish\", \"good\", \"big\", \"bit\", \"pounds\", \"best\", \"jeff\", \"dorado\", \"line_one_spectra\", \"xxh_rod\", \"5_0_ringed\", \"0_ringed_super_mutu\", \"50_reel\", \"6_0_ringed\", \"130_pound\", \"130_pound_izorline_and_130\", \"130_pound_izorline_spectra\", \"xh_rod\", \"mutu_hook\", \"squid_under_the_kite\", \"hour_and_a_half\", \"super_mutu\", \"tied_to_100\", \"accurate_50\", \"100_pound_izorline_and_130\", \"san_francisco\", \"wrapped\", \"avet_50_reel_and_a_calstar\", \"dubuys\", \"skipper_jeff\", \"20_minutes\", \"avet_50_reel_and_a_super\", \"fluorocarbon_and_130_pound\", \"boats_kite_rig\", \"6_0_hayabusa\", \"charge\", \"tiagra\", \"used_130_pound\", \"pounder\", \"bagged\", \"pound_izorline\", \"45_minutes\", \"fought\", \"0_super_mutu\", \"used\", \"sardine\", \"said\", \"reel_and_a_calstar\", \"fight\", \"won_second_place\", \"hook\", \"pound\", \"fished\", \"rod\", \"minutes\", \"h_rod\", \"won_first_place\", \"got\", \"took\", \"debuys\", \"won_third_place\", \"kite\", \"came\", \"mackerel\", \"tuna\", \"best\", \"pound_yellowfin\", \"pounds\", \"caught\", \"fish\", \"bit\", \"one\", \"line\", \"8\", \"good\", \"30\", \"boat\", \"trip\", \"day\", \"fishing\", \"supply_of_sardines\", \"kevin_justin\", \"tyler\", \"ed_rolf\", \"boatload\", \"167\", \"10_day_extravaganza\", \"kerry\", \"handing\", \"matt_jesus\", \"cole\", \"iwanaga\", \"sean_frank\", \"ed_tom\", \"fransisco\", \"postings\", \"donations\", \"tomorrows_destination\", \"quick_turn_around\", \"paul_m\", \"items\", \"ritchie\", \"parts\", \"running_for_points_south\", \"ton\", \"overcast\", \"regulars\", \"skies\", \"evidenced\", \"reduced\", \"departed_yesterday\", \"rolf\", \"rigging\", \"billy\", \"great_giveaways\", \"giveaways\", \"ed_and_michele\", \"extravaganza\", \"sponsored\", \"high_hopes\", \"departed\", \"10_day\", \"ready\", \"annual\", \"trip\", \"oscar\", \"battle\", \"eager\", \"yesterday\", \"rick_ozaki\", \"please_wish_us_luck\", \"another\", \"everyone\", \"gear\", \"well\", \"lots\", \"tackle\", \"great\", \"special\", \"back\", \"doug\", \"weather\", \"report\", \"day\", \"good\", \"tuna\", \"days\", \"khaki\", \"lackey\", \"planning_to_try\", \"productions\", \"homan\", \"padick\", \"youre\", \"wrapping\", \"sweatshirts\", \"luxury\", \"gesselman\", \"munn\", \"ft\", \"six_foot\", \"isnt\", \"hayabusa_hooks\", \"click\", \"phenomenal\", \"child\", \"savings\", \"graduation\", \"full_fare\", \"adult\", \"memory\", \"romolino\", \"jenny\", \"mkt\", \"norred\", \"scrap\", \"frayed\", \"cindy\", \"helping\", \"top_honors\", \"special_thanks\", \"kyle_john\", \"richard_hightower\", \"matt_tyler\", \"ages\", \"shop\", \"cost\", \"groups\", \"donated\", \"schaffer\", \"trip\", \"west_coast_marketing\", \"processing\", \"reels\", \"kids\", \"lures\", \"yft\", \"16\", \"76\", \"son\", \"went\", \"departing\", \"sold\", \"great\", \"first\", \"day\", \"mark_paul\", \"fishing\", \"5\", \"group\", \"independence\", \"anglers\", \"fish\", \"2\", \"avet_reels\", \"kimuras_tackle\", \"next_years\", \"every\", \"7\", \"took\", \"fantastic\", \"yellowfin_tuna\", \"everyone\", \"yellowtail\", \"crew\", \"caught\", \"bluefin\", \"season\", \"also\", \"wahoo\", \"one\", \"saturday_night_after_dinner\", \"see_the_island_or_shop\", \"restrictions_apply_with_two\", \"person_staterooms_this_special_is_limited\", \"special_mothers_go\", \"1_2_off_based\", \"ever_would_like\", \"islands_and_go_in_to_avalon_catalina\", \"limited_stateroom_accommodations_certain\", \"mothers\", \"fare_for_mothers_is_1\", \"sunday_may_ninth\", \"2_fare_in_3\", \"full_fare_tickets_third\", \"etc_this_should_be_a_blast_to_spend_with_your_family\", \"room_for_1_family\", \"family_fun\", \"rooms\", \"call_in_for_more_details_call_the_office\", \"departing_friday_may_seventh\", \"7_pm_new\", \"9_pm_comes_back\", \"family_group_will_have_there_own_stateroom\", \"2_or_3_person\", \"wsb\", \"street\", \"reel_and_a_super_seeker_6463\", \"looking_forward_to_seeing\", \"spots_available\", \"lingcod\", \"sfr\", \"overnight\", \"619_226_6006_to_make\", \"reservation\", \"putting\", \"trip\", \"may\", \"2\", \"day\", \"year\", \"1\", \"thanks\", \"3\", \"indy\", \"great\", \"passengers\", \"shirts\", \"anglers\", \"fish\", \"independence\", \"call\", \"matt\", \"sunday\", \"fishing\", \"crew\", \"group\", \"first\", \"aboard\", \"time\", \"8\", \"pm\", \"please\", \"5\", \"time__stamp\", \"issac\", \"regulation\", \"elated\", \"backus\", \"hittin\", \"140_to_180\", \"absolute\", \"375\", \"mass\", \"lil\", \"task\", \"toadies\", \"prospect\", \"observed\", \"grande\", \"certain\", \"alcala\", \"nishi\", \"rundown\", \"moe\", \"stock\", \"despite\", \"landed_a_240\", \"prepares\", \"tea\", \"piecing\", \"uns\", \"mckenzie\", \"agreement\", \"364\", \"jim_chivas\", \"held\", \"begun\", \"heck\", \"247\", \"130_to_190\", \"preparation\", \"bombs_and_salas\", \"les\", \"hrs\", \"fish\", \"except\", \"sweet\", \"160\", \"kyle\", \"140\", \"majority\", \"rest\", \"today\", \"happy\", \"tuna\", \"lb\", \"cows\", \"grade\", \"better\", \"day\", \"220\", \"everyone\", \"weather\", \"great\", \"beautiful\", \"205\", \"tomorrow\", \"report\", \"good\", \"caught\", \"jeff_and_the_indy_crew\", \"got\", \"lbs\", \"big\", \"wahoo\", \"5\", \"well\", \"things\", \"first\", \"pound\", \"required\", \"license\", \"mavar\", \"attraction\", \"requirements\", \"expo\", \"sac\", \"president\", \"friday_date__stamp\", \"heisig\", \"fetsch\", \"bigfish\", \"meltons\", \"bingo\", \"shorter\", \"submitted\", \"dissipate\", \"valid\", \"necessary\", \"12_to_15_knots\", \"highly\", \"understanding\", \"addresses\", \"conduct\", \"association\", \"ensure\", \"precautions\", \"fairgrounds\", \"council\", \"tireless\", \"exactly\", \"starter\", \"kit\", \"franke\", \"ability\", \"iwamiya\", \"brakes\", \"hellwig\", \"mexican\", \"trips\", \"thank\", \"recommend\", \"jan\", \"sam\", \"chef\", \"ca\", \"news\", \"rather\", \"remaining\", \"schedule\", \"time__stamp\", \"venture\", \"running\", \"expected\", \"sportfishing\", \"website\", \"pie\", \"california\", \"passengers\", \"go\", \"lot\", \"get\", \"every\", \"would\", \"boat\", \"long_range\", \"san_diego\", \"time\", \"one\", \"start\"], \"Total\": [1355.0, 1111.0, 756.0, 1457.0, 1867.0, 576.0, 487.0, 1026.0, 773.0, 1033.0, 563.0, 292.0, 137.0, 463.0, 338.0, 624.0, 153.0, 404.0, 450.0, 1051.0, 337.0, 296.0, 1318.0, 280.0, 195.0, 384.0, 174.0, 129.0, 1336.0, 175.0, 35.07432174682617, 48.67185974121094, 26.266279220581055, 33.11116027832031, 28.221511840820312, 24.308616638183594, 24.30922508239746, 28.17277717590332, 21.367284774780273, 20.393171310424805, 19.413183212280273, 83.84346008300781, 17.45800018310547, 15.494793891906738, 31.7194766998291, 24.14188003540039, 14.519694328308105, 13.541097640991211, 13.542036056518555, 13.54206371307373, 13.540971755981445, 33.03683090209961, 29.90937614440918, 45.592098236083984, 12.564167022705078, 12.563568115234375, 13.52236557006836, 11.584966659545898, 11.584880828857422, 13.517939567565918, 25.249927520751953, 20.992042541503906, 338.6070556640625, 54.929256439208984, 22.29627799987793, 44.76140213012695, 576.1207885742188, 1111.2879638671875, 39.539833068847656, 322.8751220703125, 93.35417938232422, 100.78206634521484, 222.2833251953125, 72.39911651611328, 55.72607421875, 221.65631103515625, 256.2967224121094, 1033.067626953125, 280.8513488769531, 129.827392578125, 171.5446319580078, 346.0010986328125, 624.68994140625, 545.6824340820312, 84.93276977539062, 108.63539123535156, 486.82440185546875, 1318.4888916015625, 1026.959228515625, 1336.879638671875, 1867.1239013671875, 221.04217529296875, 1051.471435546875, 773.8090209960938, 410.6885070800781, 1457.8160400390625, 258.3489685058594, 563.171142578125, 177.90663146972656, 463.52508544921875, 756.5833740234375, 450.3948974609375, 358.6977233886719, 255.908447265625, 291.3424377441406, 397.23504638671875, 431.22308349609375, 1355.356201171875, 69.78865051269531, 56.47561264038086, 26.85655403137207, 14.324414253234863, 13.359026908874512, 11.426377296447754, 10.467188835144043, 10.46601390838623, 10.454360961914062, 9.501544952392578, 35.042808532714844, 9.488572120666504, 8.537860870361328, 8.534587860107422, 8.53574275970459, 8.533987998962402, 8.519287109375, 18.13973617553711, 7.571435451507568, 7.552614212036133, 6.60762882232666, 6.606388568878174, 6.605746269226074, 6.607524394989014, 6.603078842163086, 16.20831298828125, 6.594655990600586, 6.607502460479736, 21.707284927368164, 5.642458438873291, 39.6210823059082, 24.816207885742188, 10.147430419921875, 38.12758255004883, 40.24031448364258, 21.91834259033203, 23.99962043762207, 28.12250328063965, 38.47617721557617, 52.2342529296875, 90.6946792602539, 90.81974792480469, 68.368408203125, 127.3486099243164, 26.515649795532227, 19.191110610961914, 1867.1239013671875, 228.06771850585938, 1318.4888916015625, 296.1720275878906, 1457.8160400390625, 1336.879638671875, 146.9155731201172, 268.28619384765625, 132.21368408203125, 290.786865234375, 125.84976959228516, 1033.067626953125, 145.3455810546875, 88.797607421875, 189.19558715820312, 431.22308349609375, 450.3948974609375, 67.5238037109375, 155.22161865234375, 154.7877197265625, 252.58506774902344, 280.3337097167969, 1355.356201171875, 486.82440185546875, 423.64825439453125, 358.6977233886719, 1051.471435546875, 773.8090209960938, 1026.959228515625, 1111.2879638671875, 624.68994140625, 248.17291259765625, 196.46177673339844, 410.6885070800781, 576.1207885742188, 237.1147918701172, 487.79541015625, 545.6824340820312, 384.21240234375, 563.171142578125, 28.29660987854004, 23.56155014038086, 26.3808536529541, 17.87425994873047, 17.874723434448242, 14.085319519042969, 12.191804885864258, 12.190616607666016, 16.889266967773438, 11.244293212890625, 11.242897033691406, 10.29664421081543, 9.348836898803711, 9.348825454711914, 10.292628288269043, 9.346323013305664, 9.34125804901123, 19.746047973632812, 8.401840209960938, 8.39948558807373, 8.400577545166016, 30.971450805664062, 12.12541675567627, 7.454094409942627, 7.454296112060547, 7.45428991317749, 7.454080581665039, 7.453412055969238, 7.454000949859619, 7.453254222869873, 118.6529312133789, 29.617156982421875, 62.18446350097656, 75.33820343017578, 21.614587783813477, 98.95565795898438, 15.94178581237793, 14.06410026550293, 47.983097076416016, 138.7129364013672, 195.62940979003906, 141.96888732910156, 21.733922958374023, 756.5833740234375, 161.0516815185547, 337.48291015625, 26.630887985229492, 69.89515686035156, 70.30651092529297, 75.82102966308594, 45.159751892089844, 230.15933227539062, 69.54241943359375, 1355.356201171875, 282.5440368652344, 56.953189849853516, 351.9658203125, 404.8363952636719, 563.171142578125, 423.64825439453125, 50.18992233276367, 213.41452026367188, 237.1147918701172, 773.8090209960938, 252.5458221435547, 252.078125, 1051.471435546875, 210.27609252929688, 545.6824340820312, 1867.1239013671875, 397.23504638671875, 1457.8160400390625, 1026.959228515625, 255.908447265625, 27.67522430419922, 10.080933570861816, 9.15491008758545, 9.15038776397705, 8.229276657104492, 7.302319526672363, 7.303253173828125, 7.30235481262207, 6.377124786376953, 6.3765363693237305, 6.362157344818115, 6.376619815826416, 6.368203639984131, 6.375384330749512, 7.300882816314697, 6.37523889541626, 5.450845718383789, 5.451548099517822, 5.450253486633301, 5.45098352432251, 5.450472831726074, 5.450742244720459, 5.4507880210876465, 5.450739860534668, 5.449244976043701, 5.448614597320557, 5.4494476318359375, 5.445972442626953, 5.45042610168457, 19.332744598388672, 12.596477508544922, 15.491192817687988, 18.538625717163086, 17.27674674987793, 13.780441284179688, 11.588171005249023, 43.04102325439453, 12.859038352966309, 6.388495445251465, 10.081244468688965, 18.464290618896484, 84.26901245117188, 38.61274719238281, 23.633800506591797, 37.20332717895508, 487.79541015625, 128.65902709960938, 78.64341735839844, 64.32659912109375, 117.6680908203125, 25.8861141204834, 85.31015014648438, 65.90194702148438, 384.21240234375, 30.709123611450195, 292.5244445800781, 1051.471435546875, 1355.356201171875, 34.22626495361328, 33.449405670166016, 194.32240295410156, 404.8363952636719, 186.9829864501953, 282.5440368652344, 241.0672607421875, 60.72203063964844, 351.9658203125, 260.2207336425781, 1867.1239013671875, 1026.959228515625, 145.3455810546875, 463.52508544921875, 1318.4888916015625, 1457.8160400390625, 1336.879638671875, 397.23504638671875, 186.27308654785156, 228.06771850585938, 192.4004364013672, 291.3424377441406, 234.4870147705078, 39.75407791137695, 16.580211639404297, 15.653132438659668, 13.798948287963867, 13.799086570739746, 13.799015045166016, 41.32477951049805, 11.945490837097168, 11.01850700378418, 11.018372535705566, 12.87094497680664, 11.018143653869629, 11.945262908935547, 10.091330528259277, 10.091331481933594, 10.091254234313965, 11.017704963684082, 10.09101676940918, 16.13901138305664, 9.164735794067383, 9.164175033569336, 9.161707878112793, 9.164012908935547, 9.164010047912598, 9.164071083068848, 9.162845611572266, 8.237776756286621, 8.236311912536621, 8.237457275390625, 8.237510681152344, 153.7487335205078, 23.06541633605957, 28.625934600830078, 15.685945510864258, 30.479019165039062, 14.722899436950684, 84.91878509521484, 133.0965576171875, 292.5244445800781, 39.7418212890625, 22.724164962768555, 67.53460693359375, 105.87352752685547, 487.79541015625, 183.52056884765625, 117.6680908203125, 26.63936424255371, 21.209228515625, 78.64341735839844, 463.52508544921875, 186.9829864501953, 54.93801498413086, 51.59551239013672, 62.21566390991211, 84.07866668701172, 52.12882995605469, 1026.959228515625, 192.4004364013672, 73.07884979248047, 228.06771850585938, 328.1223449707031, 1457.8160400390625, 186.27308654785156, 431.22308349609375, 174.08294677734375, 351.9658203125, 1336.879638671875, 260.2207336425781, 241.0672607421875, 1355.356201171875, 1867.1239013671875, 1318.4888916015625, 17.507036209106445, 5.795167922973633, 5.795382499694824, 5.786938667297363, 4.966810703277588, 4.96640682220459, 4.966790676116943, 4.968388080596924, 6.6123480796813965, 4.973196029663086, 8.360711097717285, 4.13770055770874, 5.766773700714111, 5.014395713806152, 3.309335947036743, 3.3091940879821777, 3.3077025413513184, 3.300236940383911, 6.30687141418457, 7.411691188812256, 9.223299980163574, 3.314906120300293, 3.3187928199768066, 4.17900276184082, 10.138633728027344, 3.325606107711792, 11.052748680114746, 6.505768299102783, 2.4804294109344482, 2.4804296493530273, 17.480926513671875, 22.134872436523438, 35.55917739868164, 16.555152893066406, 24.394563674926758, 23.78653907775879, 12.052576065063477, 41.682674407958984, 36.1266975402832, 49.79865646362305, 87.76530456542969, 69.05441284179688, 41.149078369140625, 58.257450103759766, 1355.356201171875, 15.604438781738281, 23.087820053100586, 29.039661407470703, 174.83950805664062, 67.6246566772461, 129.827392578125, 450.3948974609375, 563.171142578125, 63.957027435302734, 624.68994140625, 193.8368377685547, 120.09358978271484, 773.8090209960938, 32.65174102783203, 252.58506774902344, 34.41643142700195, 1033.067626953125, 296.1720275878906, 1867.1239013671875, 1336.879638671875, 1026.959228515625, 290.786865234375, 4.660019874572754, 4.659299850463867, 4.659943103790283, 3.892843246459961, 3.8922202587127686, 3.8914246559143066, 3.894212245941162, 3.9026196002960205, 3.1257309913635254, 3.125560998916626, 3.1248364448547363, 3.1243855953216553, 3.124268054962158, 3.1226916313171387, 3.119931697845459, 3.129122734069824, 6.401656150817871, 5.579140663146973, 2.3580334186553955, 2.3580336570739746, 2.3580338954925537, 2.3580338954925537, 2.358034372329712, 2.3580362796783447, 2.358036756515503, 2.358036756515503, 2.3580377101898193, 2.358027458190918, 2.358037233352661, 2.3580377101898193, 4.644100666046143, 5.649028301239014, 4.814888954162598, 13.754438400268555, 4.848904609680176, 4.642073154449463, 7.374755859375, 6.5124077796936035, 9.976798057556152, 6.1567158699035645, 4.866270542144775, 15.444533348083496, 7.439454078674316, 1355.356201171875, 37.989463806152344, 11.537090301513672, 29.88743782043457, 16.799638748168945, 15.438315391540527, 19.298025131225586, 73.38126373291016, 12.675291061401367, 20.00262451171875, 176.66744995117188, 24.781009674072266, 13.04043197631836, 773.8090209960938, 224.92593383789062, 1867.1239013671875, 22.808725357055664, 1318.4888916015625, 207.97103881835938, 157.23570251464844, 384.21240234375, 194.32240295410156, 1457.8160400390625, 404.8363952636719, 63.797706604003906, 18.97176170349121, 26.795019149780273, 98.18538665771484, 213.41452026367188, 186.9829864501953, 47.37350845336914, 423.64825439453125, 563.171142578125, 1051.471435546875, 205.1507110595703, 328.1223449707031, 237.1147918701172, 74.88721466064453, 248.17291259765625, 545.6824340820312, 431.22308349609375, 7.5932841300964355, 6.841030120849609, 6.841030120849609, 6.841030120849609, 6.841030597686768, 6.841031551361084, 6.841031551361084, 6.841031551361084, 6.841031551361084, 6.841031074523926, 6.841031074523926, 6.8410325050354, 6.841032981872559, 6.8410325050354, 6.841033935546875, 6.08875036239624, 6.088751316070557, 6.088751316070557, 6.088752269744873, 6.088751792907715, 6.088751792907715, 6.088752746582031, 6.0887532234191895, 6.088752746582031, 6.088357448577881, 6.088729381561279, 3.8309483528137207, 3.8309519290924072, 3.823394775390625, 3.8358845710754395, 7.765138626098633, 6.099239826202393, 7.745992183685303, 9.438009262084961, 20.49305534362793, 1355.356201171875, 67.5238037109375, 404.8363952636719, 1867.1239013671875, 195.62940979003906, 88.34703826904297, 161.0516815185547, 167.99313354492188, 252.5458221435547, 773.8090209960938, 40.207740783691406, 17.453731536865234, 194.32240295410156, 1457.8160400390625, 384.21240234375, 90.6946792602539, 49.37432098388672, 60.749107360839844, 1318.4888916015625, 205.1507110595703, 157.23570251464844, 224.92593383789062, 128.65902709960938, 358.6977233886719, 351.9658203125, 20.049888610839844, 38.61434555053711, 207.97103881835938, 175.1062774658203, 3.4218595027923584, 3.4216365814208984, 2.772239923477173, 2.7721407413482666, 2.769991874694824, 6.404164791107178, 4.8186540603637695, 2.1224539279937744, 2.1224565505981445, 2.1223936080932617, 2.120805025100708, 2.1204497814178467, 2.117295742034912, 2.115412473678589, 2.123142957687378, 2.1320455074310303, 3.2605271339416504, 3.6940431594848633, 3.73490571975708, 3.750216245651245, 6.076157093048096, 3.730618715286255, 5.367289066314697, 1.4726136922836304, 1.4726139307022095, 1.4726141691207886, 1.4726182222366333, 1.4726192951202393, 1.472619652748108, 1.4726195335388184, 5.180874824523926, 6.963266372680664, 4.272987365722656, 2.8870067596435547, 8.570541381835938, 7.054420471191406, 2.949115753173828, 4.50876522064209, 4.639224052429199, 26.51494598388672, 1457.8160400390625, 8.174284934997559, 4.571712017059326, 19.962322235107422, 18.301467895507812, 36.7706413269043, 4.694182395935059, 112.24559783935547, 1111.2879638671875, 50.451087951660156, 1026.959228515625, 756.5833740234375, 128.62533569335938, 98.41075897216797, 132.96495056152344, 1867.1239013671875, 36.95766830444336, 563.171142578125, 1033.067626953125, 773.8090209960938, 173.0322723388672, 32.892398834228516, 576.1207885742188, 296.1720275878906, 1336.879638671875, 328.1223449707031, 280.8513488769531, 463.52508544921875, 338.6070556640625, 397.23504638671875, 545.6824340820312, 207.97103881835938, 624.68994140625, 221.65631103515625, 224.92593383789062, 487.79541015625, 2.7805545330047607, 2.783407688140869, 2.8145720958709717, 2.290566921234131, 4.192653656005859, 1.8018006086349487, 1.8018041849136353, 1.8018057346343994, 1.8017959594726562, 1.8015854358673096, 1.80158531665802, 1.8015716075897217, 1.801493763923645, 1.8012381792068481, 1.801345944404602, 1.8017369508743286, 1.8012447357177734, 1.801796555519104, 4.403829574584961, 3.7733044624328613, 3.2193706035614014, 6.049510478973389, 1.3124089241027832, 1.3124101161956787, 1.3124101161956787, 1.3124101161956787, 1.3124101161956787, 1.312408447265625, 1.3124103546142578, 1.312410593032837, 2.5680394172668457, 2.5673837661743164, 2.567389488220215, 4.18211030960083, 2.7128710746765137, 2.720529079437256, 2.7587738037109375, 2.755746841430664, 12.21908950805664, 137.90296936035156, 35.336265563964844, 4.813995838165283, 9.488938331604004, 15.25179672241211, 8.404430389404297, 50.18992233276367, 14.67223072052002, 9.803423881530762, 6.220285892486572, 28.03719711303711, 175.1062774658203, 7.161774635314941, 39.98850631713867, 7.775233268737793, 26.543073654174805, 17.349428176879883, 6.323306083679199, 7.112849235534668, 40.207740783691406, 186.23060607910156, 56.543922424316406, 280.3337097167969, 98.18538665771484, 92.36295318603516, 241.0672607421875, 32.810054779052734, 99.6347427368164, 358.6977233886719, 431.22308349609375, 152.25770568847656], \"loglift\": [30.0, 29.0, 28.0, 27.0, 26.0, 25.0, 24.0, 23.0, 22.0, 21.0, 20.0, 19.0, 18.0, 17.0, 16.0, 15.0, 14.0, 13.0, 12.0, 11.0, 10.0, 9.0, 8.0, 7.0, 6.0, 5.0, 4.0, 3.0, 2.0, 1.0, 1.1045000553131104, 1.1021000146865845, 1.097499966621399, 1.0967999696731567, 1.0959999561309814, 1.0952999591827393, 1.0952999591827393, 1.089900016784668, 1.0898000001907349, 1.089400053024292, 1.0872999429702759, 1.0861999988555908, 1.0831999778747559, 1.0765000581741333, 1.0753999948501587, 1.0750000476837158, 1.073699951171875, 1.0706000328063965, 1.0705000162124634, 1.0705000162124634, 1.070099949836731, 1.0699000358581543, 1.0694999694824219, 1.0678999423980713, 1.0662000179290771, 1.0648000240325928, 1.0631999969482422, 1.0609999895095825, 1.0608999729156494, 1.0599000453948975, 1.0526000261306763, 1.0515999794006348, 0.977400004863739, 1.027400016784668, 1.0479999780654907, 1.0166000127792358, 0.9004999995231628, 0.8582000136375427, 1.0184999704360962, 0.8718000054359436, 0.9401999711990356, 0.9330000281333923, 0.8492000102996826, 0.9370999932289124, 0.9596999883651733, 0.8032000064849854, 0.7785999774932861, 0.5975000262260437, 0.7664999961853027, 0.8586999773979187, 0.8206999897956848, 0.7024999856948853, 0.6074000000953674, 0.6176000237464905, 0.8999000191688538, 0.8549000024795532, 0.574400007724762, 0.3634999990463257, 0.413100004196167, 0.35670000314712524, 0.25, 0.6868000030517578, 0.34310001134872437, 0.38929998874664307, 0.532800018787384, 0.18629999458789825, 0.6297000050544739, 0.40139999985694885, 0.7199000120162964, 0.3774999976158142, 0.19089999794960022, 0.30230000615119934, 0.3564999997615814, 0.5152000188827515, 0.42089998722076416, 0.19339999556541443, 0.11959999799728394, -1.058500051498413, 1.4408999681472778, 1.4361000061035156, 1.4337999820709229, 1.4053000211715698, 1.4013999700546265, 1.399899959564209, 1.3955999612808228, 1.3950999975204468, 1.3941999673843384, 1.3878999948501587, 1.3823000192642212, 1.3818999528884888, 1.378600001335144, 1.378600001335144, 1.3783999681472778, 1.3774000406265259, 1.3765000104904175, 1.3723000288009644, 1.3667000532150269, 1.365399956703186, 1.351099967956543, 1.351099967956543, 1.3509999513626099, 1.3509999513626099, 1.3488999605178833, 1.3486000299453735, 1.347499966621399, 1.3360999822616577, 1.3313000202178955, 1.329699993133545, 1.323099970817566, 1.3127000331878662, 1.3216999769210815, 1.2381999492645264, 1.2340999841690063, 1.2725000381469727, 1.260699987411499, 1.2389999628067017, 1.1713999509811401, 1.1165000200271606, 1.0393999814987183, 1.0223000049591064, 1.0615999698638916, 0.9315000176429749, 1.1956000328063965, 1.2441999912261963, 0.4650000035762787, 0.8165000081062317, 0.4781000018119812, 0.7466999888420105, 0.43950000405311584, 0.439300000667572, 0.8669000267982483, 0.7373999953269958, 0.8715999722480774, 0.6664000153541565, 0.8515999913215637, 0.3188999891281128, 0.8072999715805054, 0.9305999875068665, 0.7177000045776367, 0.4691999852657318, 0.4185999929904938, 0.9891999959945679, 0.7077000141143799, 0.7008000016212463, 0.5037000179290771, 0.45820000767707825, -0.18490000069141388, 0.22779999673366547, 0.2718999981880188, 0.33329999446868896, -0.16130000352859497, -0.07010000199079514, -0.2167000025510788, -0.2858000099658966, 0.0031999999191612005, 0.459199994802475, 0.557200014591217, 0.024000000208616257, -0.24240000545978546, 0.4147999882698059, -0.1867000013589859, -0.3100000023841858, -0.03269999846816063, -0.4489000141620636, 2.007699966430664, 2.0044000148773193, 2.003700017929077, 1.9941999912261963, 1.9940999746322632, 1.9825999736785889, 1.9743000268936157, 1.9731999635696411, 1.9700000286102295, 1.9688999652862549, 1.968500018119812, 1.962499976158142, 1.954699993133545, 1.9543999433517456, 1.954200029373169, 1.9537999629974365, 1.9492000341415405, 1.945199966430664, 1.945199966430664, 1.945099949836731, 1.944599986076355, 1.9427000284194946, 1.9401999711990356, 1.9330999851226807, 1.9329999685287476, 1.9329999685287476, 1.9329999685287476, 1.9329999685287476, 1.9329999685287476, 1.932800054550171, 1.9023000001907349, 1.909000039100647, 1.8806999921798706, 1.868499994277954, 1.9012999534606934, 1.8384000062942505, 1.910099983215332, 1.910599946975708, 1.815600037574768, 1.7077000141143799, 1.6053999662399292, 1.6390999555587769, 1.850100040435791, 1.319000005722046, 1.5440000295639038, 1.4286999702453613, 1.792099952697754, 1.6074999570846558, 1.6054999828338623, 1.569100022315979, 1.6720000505447388, 1.2661999464035034, 1.545300006866455, 0.7368999719619751, 1.1412999629974365, 1.5871000289916992, 1.0583000183105469, 0.8877999782562256, 0.6147000193595886, 0.6866000294685364, 1.5625, 0.8970000147819519, 0.8476999998092651, 0.1785999983549118, 0.7609999775886536, 0.7294999957084656, -0.08799999952316284, 0.8256000280380249, 0.16979999840259552, -0.8245999813079834, 0.2906000018119812, -0.8228999972343445, -0.7002999782562256, 0.4772000014781952, 2.2112998962402344, 2.1723999977111816, 2.1644999980926514, 2.164400100708008, 2.154099941253662, 2.142199993133545, 2.1419999599456787, 2.1384999752044678, 2.125999927520752, 2.1256000995635986, 2.1256000995635986, 2.1256000995635986, 2.125499963760376, 2.124799966812134, 2.1164000034332275, 2.1040000915527344, 2.103800058364868, 2.103800058364868, 2.1036999225616455, 2.1036999225616455, 2.1036999225616455, 2.1036999225616455, 2.1036999225616455, 2.1036999225616455, 2.1036999225616455, 2.1036999225616455, 2.103600025177002, 2.103600025177002, 2.1034998893737793, 2.1031999588012695, 2.0750999450683594, 2.042799949645996, 2.010699987411499, 1.979099988937378, 1.9974000453948975, 2.017899990081787, 1.8472000360488892, 1.9944000244140625, 2.0845999717712402, 2.023400068283081, 1.9357999563217163, 1.7196999788284302, 1.7755999565124512, 1.856600046157837, 1.7666000127792358, 1.2211999893188477, 1.4768999814987183, 1.5563000440597534, 1.5741000175476074, 1.4158999919891357, 1.777999997138977, 1.440500020980835, 1.5103000402450562, 1.009600043296814, 1.7178000211715698, 1.0104999542236328, 0.5881999731063843, 0.4578000009059906, 1.6622999906539917, 1.669700026512146, 0.9782000184059143, 0.6103000044822693, 0.919700026512146, 0.7279000282287598, 0.7361999750137329, 1.381500005722046, 0.555400013923645, 0.6248000264167786, -0.38440001010894775, -0.15469999611377716, 0.8830999732017517, 0.24379999935626984, -0.4011000096797943, -0.4830000102519989, -0.4442000091075897, 0.06400000303983688, 0.5094000101089478, 0.32339999079704285, 0.47600001096725464, 0.07509999722242355, 0.28189998865127563, 2.370699882507324, 2.3454999923706055, 2.3427999019622803, 2.335900068283081, 2.335599899291992, 2.333400011062622, 2.330199956893921, 2.327699899673462, 2.322200059890747, 2.3220999240875244, 2.321199893951416, 2.320199966430664, 2.3155999183654785, 2.315500020980835, 2.3150999546051025, 2.315000057220459, 2.314199924468994, 2.3138999938964844, 2.3090999126434326, 2.307800054550171, 2.307800054550171, 2.3076999187469482, 2.307300090789795, 2.305299997329712, 2.3025999069213867, 2.3010001182556152, 2.298099994659424, 2.2980000972747803, 2.2980000972747803, 2.2978999614715576, 2.221400022506714, 2.266400098800659, 2.2497000694274902, 2.264699935913086, 2.2181999683380127, 2.254199981689453, 2.059799909591675, 1.9285999536514282, 1.7896000146865845, 2.067199945449829, 2.139400005340576, 1.9003000259399414, 1.7615000009536743, 1.3840999603271484, 1.6172000169754028, 1.7024999856948853, 2.068000078201294, 2.1280999183654785, 1.6791000366210938, 1.0819000005722046, 1.3602999448776245, 1.7554999589920044, 1.7697999477386475, 1.6756999492645264, 1.5156999826431274, 1.7293000221252441, 0.3269999921321869, 1.0528000593185425, 1.5250999927520752, 0.9293000102043152, 0.6031000018119812, -0.265500009059906, 0.896399974822998, 0.3621000051498413, 0.8928999900817871, 0.3952000141143799, -0.6912000179290771, 0.5480999946594238, 0.5730999708175659, -0.8285999894142151, -1.367300033569336, -1.13919997215271, 3.3129000663757324, 3.2676000595092773, 3.2660000324249268, 3.259000062942505, 3.243000030517578, 3.2421998977661133, 3.2418999671936035, 3.236799955368042, 3.2307000160217285, 3.226599931716919, 3.2177999019622803, 3.2060999870300293, 3.179800033569336, 3.1654000282287598, 3.15120005607605, 3.151099920272827, 3.1510000228881836, 3.150399923324585, 3.136399984359741, 3.130199909210205, 3.130000114440918, 3.120800018310547, 3.1173999309539795, 3.102299928665161, 3.1001999378204346, 3.098299980163574, 3.086400032043457, 3.071000099182129, 3.049999952316284, 3.0499000549316406, 3.001499891281128, 2.971100091934204, 2.85479998588562, 2.9247000217437744, 2.8756000995635986, 2.878200054168701, 2.949899911880493, 2.7430999279022217, 2.602099895477295, 2.516700029373169, 2.300299882888794, 2.281100034713745, 2.4195001125335693, 2.25819993019104, 0.8334000110626221, 2.748500108718872, 2.55049991607666, 2.4245998859405518, 1.4372999668121338, 1.9122999906539917, 1.569200038909912, 0.7347000241279602, 0.5975000262260437, 1.8308000564575195, 0.37560001015663147, 1.0894999504089355, 1.385200023651123, -0.0015999999595806003, 2.2300000190734863, 0.7129999995231628, 2.190500020980835, -0.4156999886035919, 0.5238999724388123, -0.9394000172615051, -0.8064000010490417, -0.7659000158309937, 0.34869998693466187, 3.2992000579833984, 3.2992000579833984, 3.2948999404907227, 3.2609000205993652, 3.2609000205993652, 3.2607998847961426, 3.2567999362945557, 3.235599994659424, 3.2009999752044678, 3.200900077819824, 3.200900077819824, 3.2007999420166016, 3.200700044631958, 3.2005999088287354, 3.200200080871582, 3.191499948501587, 3.1607000827789307, 3.1178998947143555, 3.0931999683380127, 3.0931999683380127, 3.0931999683380127, 3.0931999683380127, 3.0931999683380127, 3.0931999683380127, 3.0931999683380127, 3.0931999683380127, 3.0931999683380127, 3.0931999683380127, 3.0931999683380127, 3.0931999683380127, 3.084700107574463, 3.058799982070923, 3.0478999614715576, 2.973299980163574, 3.0408999919891357, 3.043299913406372, 2.9883999824523926, 2.9642999172210693, 2.8329999446868896, 2.913800001144409, 2.95770001411438, 2.7167999744415283, 2.8315000534057617, 0.9153000116348267, 2.2293999195098877, 2.6531999111175537, 2.199899911880493, 2.453900098800659, 2.478600025177002, 2.342099905014038, 1.6986000537872314, 2.537400007247925, 2.287899971008301, 1.0800000429153442, 2.143899917602539, 2.498300075531006, 0.07509999722242355, 0.7896000146865845, -0.5641999840736389, 2.1498000621795654, -0.42809998989105225, 0.6777999997138977, 0.843999981880188, 0.21960000693798065, 0.631600022315979, -0.8694999814033508, 0.01269999984651804, 1.3221999406814575, 2.231600046157837, 1.965499997138977, 0.941100001335144, 0.2815999984741211, 0.35530000925064087, 1.4866000413894653, -0.3578999936580658, -0.6074000000953674, -1.1815999746322632, 0.1648000031709671, -0.26489999890327454, 0.014999999664723873, 1.0698000192642212, -0.04899999871850014, -0.819599986076355, -0.6177999973297119, 3.4818999767303467, 3.4697999954223633, 3.4697999954223633, 3.4697999954223633, 3.4697999954223633, 3.4697999954223633, 3.4697999954223633, 3.4697999954223633, 3.4697999954223633, 3.4697999954223633, 3.4697999954223633, 3.4697999954223633, 3.4697999954223633, 3.4697999954223633, 3.4697999954223633, 3.4544999599456787, 3.4544999599456787, 3.4544999599456787, 3.4544999599456787, 3.4544999599456787, 3.4544999599456787, 3.4544999599456787, 3.4544999599456787, 3.4544999599456787, 3.4544999599456787, 3.4544999599456787, 3.368299961090088, 3.368299961090088, 3.367000102996826, 3.3617000579833984, 3.3385000228881836, 3.3459999561309814, 3.2137999534606934, 3.1465001106262207, 2.790299892425537, 0.7656999826431274, 2.1391000747680664, 0.8500000238418579, -0.2858000099658966, 1.1913000345230103, 1.6775000095367432, 1.2692999839782715, 1.184399962425232, 0.8359000086784363, -0.01590000092983246, 2.1045000553131104, 2.704200029373169, 0.9415000081062317, -0.5867999792098999, 0.3474999964237213, 1.450600028038025, 1.8740999698638916, 1.6591999530792236, -0.9082000255584717, 0.5097000002861023, 0.6978999972343445, 0.36340001225471497, 0.8385999798774719, -0.11479999870061874, -0.11680000275373459, 2.4897000789642334, 1.843400001525879, 0.2574000060558319, 0.329800009727478, 3.7892000675201416, 3.7885000705718994, 3.7202000617980957, 3.7202000617980957, 3.7197999954223633, 3.6842000484466553, 3.6640000343322754, 3.5977001190185547, 3.5977001190185547, 3.5977001190185547, 3.5973000526428223, 3.597100019454956, 3.596299886703491, 3.5957999229431152, 3.5831000804901123, 3.5741000175476074, 3.5578999519348145, 3.4330999851226807, 3.4179000854492188, 3.4130001068115234, 3.401900053024292, 3.397599935531616, 3.3238000869750977, 3.3164000511169434, 3.3164000511169434, 3.3164000511169434, 3.3164000511169434, 3.3164000511169434, 3.3164000511169434, 3.3164000511169434, 3.3134000301361084, 3.2945001125335693, 3.2862000465393066, 3.2888998985290527, 3.227299928665161, 3.226599931716919, 3.267899990081787, 3.231300115585327, 3.2053000926971436, 2.3798000812530518, 0.4318000078201294, 2.9179999828338623, 3.207200050354004, 2.4398999214172363, 2.4830000400543213, 2.119999885559082, 3.190000057220459, 1.531599998474121, 0.2371000051498413, 1.9010000228881836, 0.20649999380111694, 0.35100001096725464, 1.3430999517440796, 1.4625999927520752, 1.240399956703186, -0.37220001220703125, 1.9812999963760376, 0.2542000114917755, -0.2393999993801117, -0.08799999952316284, 0.8826000094413757, 2.025599956512451, 0.04809999838471413, 0.5004000067710876, -0.6359000205993652, 0.3449999988079071, 0.27399998903274536, -0.13979999721050262, 0.10660000145435333, -0.07670000195503235, -0.34599998593330383, 0.451200008392334, -0.5042999982833862, 0.31220000982284546, 0.2818000018596649, -0.474700003862381, 4.5269999504089355, 4.524099826812744, 4.494100093841553, 4.438899993896484, 4.33459997177124, 4.291900157928467, 4.291900157928467, 4.291900157928467, 4.291800022125244, 4.291800022125244, 4.291800022125244, 4.291800022125244, 4.2916998863220215, 4.291600227355957, 4.291600227355957, 4.291600227355957, 4.291500091552734, 4.291500091552734, 4.21019983291626, 4.204599857330322, 4.097300052642822, 3.9658000469207764, 3.9619998931884766, 3.9619998931884766, 3.9619998931884766, 3.9619998931884766, 3.9619998931884766, 3.9619998931884766, 3.9619998931884766, 3.9619998931884766, 3.9372000694274902, 3.9372000694274902, 3.9370999336242676, 3.8392999172210693, 3.8826000690460205, 3.879199981689453, 3.8652000427246094, 3.859499931335449, 3.528899908065796, 2.581199884414673, 2.7267000675201416, 3.620500087738037, 3.2995998859405518, 3.043299913406372, 3.3345000743865967, 2.1840999126434326, 2.9289000034332275, 3.158400058746338, 3.4272000789642334, 2.338599920272827, 0.9692999720573425, 3.2967000007629395, 2.0083000659942627, 3.218899965286255, 2.2957000732421875, 2.608599901199341, 3.34089994430542, 3.244800090789795, 1.9106999635696411, 0.7109000086784363, 1.6019999980926514, 0.2459000051021576, 1.0880000591278076, 1.1397000551223755, 0.27730000019073486, 2.001800060272217, 0.9897000193595886, -0.1915999948978424, -0.43059998750686646, 0.5501999855041504], \"logprob\": [30.0, 29.0, 28.0, 27.0, 26.0, 25.0, 24.0, 23.0, 22.0, 21.0, 20.0, 19.0, 18.0, 17.0, 16.0, 15.0, 14.0, 13.0, 12.0, 11.0, 10.0, 9.0, 8.0, 7.0, 6.0, 5.0, 4.0, 3.0, 2.0, 1.0, -6.844900131225586, -6.519700050354004, -7.140999794006348, -6.910200119018555, -7.070700168609619, -7.220699787139893, -7.220699787139893, -7.07859992980957, -7.355199813842773, -7.402200222015381, -7.453700065612793, -5.991700172424316, -7.563899993896484, -7.689799785614014, -6.974599838256836, -7.248000144958496, -7.757599830627441, -7.83050012588501, -7.83050012588501, -7.83050012588501, -7.830999851226807, -6.9394001960754395, -7.0391998291015625, -6.619200229644775, -7.909800052642822, -7.911200046539307, -7.839399814605713, -7.996200084686279, -7.996200084686279, -7.842899799346924, -7.225399971008301, -7.411200046539307, -4.704599857330322, -6.473400115966797, -7.354400157928467, -6.688899993896484, -4.25, -3.6354000568389893, -6.810999870300293, -4.857800006866455, -6.030300140380859, -5.960899829864502, -5.253699779510498, -6.287600040435791, -6.526800155639648, -5.302599906921387, -5.1819000244140625, -3.969099998474121, -5.102499961853027, -5.781899929046631, -5.541299819946289, -4.958000183105469, -4.462200164794922, -4.587200164794922, -6.16510009765625, -5.964000225067139, -4.744500160217285, -3.9591000080108643, -4.15939998626709, -3.9521000385284424, -3.7246999740600586, -5.4217000007629395, -4.2058000564575195, -4.466300010681152, -4.956200122833252, -4.035900115966797, -5.322800159454346, -4.771900177001953, -5.6057000160217285, -4.990499973297119, -4.68720006942749, -5.094399929046631, -5.267899990081787, -5.446899890899658, -5.411399841308594, -5.32889986038208, -5.3206000328063965, -5.353499889373779, -5.820499897003174, -6.0370001792907715, -6.78249979019165, -7.439599990844727, -7.513199806213379, -7.671000003814697, -7.763000011444092, -7.763700008392334, -7.765600204467773, -7.867499828338623, -6.567999839782715, -7.874899864196777, -7.983799934387207, -7.9842000007629395, -7.9842000007629395, -7.985400199890137, -7.98799991607666, -7.236499786376953, -8.115799903869629, -8.119600296020508, -8.267499923706055, -8.267800331115723, -8.267900466918945, -8.267600059509277, -8.270400047302246, -7.372799873352051, -8.273099899291992, -8.282600402832031, -7.097899913787842, -8.446800231933594, -6.50439977645874, -6.982600212097168, -7.868000030517578, -6.627699851989746, -6.577899932861328, -7.146999835968018, -7.0680999755859375, -6.931300163269043, -6.685400009155273, -6.434599876403809, -5.960000038146973, -5.9756999015808105, -6.220399856567383, -5.728499889373779, -7.0335001945495605, -7.308199882507324, -3.509700059890747, -5.260700225830078, -3.8445000648498535, -5.069300174713135, -3.7827000617980957, -3.869499921798706, -5.650100231170654, -5.1774001121521, -5.750899791717529, -5.167799949645996, -5.820199966430664, -4.247700214385986, -5.720399856567383, -6.089799880981445, -5.54640007019043, -4.9710001945495605, -4.978099822998047, -6.305200099945068, -5.754300117492676, -5.763999938964844, -5.471399784088135, -5.412600040435791, -4.479899883270264, -5.09119987487793, -5.186100006103516, -5.290999889373779, -4.71019983291626, -4.925600051879883, -4.7891998291015625, -4.779399871826172, -5.066400051116943, -5.5335001945495605, -5.6691999435424805, -5.465000152587891, -5.392899990081787, -5.623499870300293, -5.503699779510498, -5.514800071716309, -5.588399887084961, -5.622099876403809, -6.156400203704834, -6.342800140380859, -6.230500221252441, -6.629199981689453, -6.62939977645874, -6.8790998458862305, -7.031799793243408, -7.0329999923706055, -6.71019983291626, -7.118100166320801, -7.118599891662598, -7.212600231170654, -7.31689977645874, -7.317200183868408, -7.221199989318848, -7.3180999755859375, -7.323299884796143, -6.578700065612793, -7.433199882507324, -7.433599948883057, -7.433899879455566, -6.131100177764893, -7.071300029754639, -7.565000057220459, -7.565000057220459, -7.565000057220459, -7.565100193023682, -7.565199851989746, -7.565100193023682, -7.565400123596191, -4.828400135040283, -6.209499835968018, -5.496099948883057, -5.316400051116943, -6.532199859619141, -5.073800086975098, -6.8277997970581055, -6.952600002288818, -5.820400238037109, -4.866700172424316, -4.625199794769287, -4.912099838256836, -6.577899932861328, -3.559000015258789, -4.881199836730957, -4.256700038909912, -6.432700157165527, -5.652299880981445, -5.648499965667725, -5.609399795532227, -6.024700164794922, -4.801799774169922, -5.719600200653076, -3.558199882507324, -4.721799850463867, -5.877500057220459, -4.585000038146973, -4.615600109100342, -4.558599948883057, -4.771399974822998, -6.028500080108643, -5.246699810028076, -5.1905999183654785, -4.6768999099731445, -5.214200019836426, -5.247700214385986, -4.636899948120117, -5.332900047302246, -5.034999847412109, -4.799300193786621, -5.2316999435424805, -5.045100212097168, -5.272799968719482, -5.484799861907959, -5.974999904632568, -7.023799896240234, -7.1280999183654785, -7.128600120544434, -7.244999885559082, -7.376399993896484, -7.376500129699707, -7.380199909210205, -7.52810001373291, -7.528600215911865, -7.530900001525879, -7.52869987487793, -7.53000020980835, -7.529600143432617, -7.402400016784668, -7.55049991607666, -7.707300186157227, -7.707200050354004, -7.707399845123291, -7.707300186157227, -7.707399845123291, -7.707399845123291, -7.707399845123291, -7.707399845123291, -7.707699775695801, -7.707799911499023, -7.707699775695801, -7.708399772644043, -7.707600116729736, -6.441800117492676, -6.8983001708984375, -6.723800182342529, -6.576300144195557, -6.678400039672852, -6.886199951171875, -7.039000034332275, -5.897500038146973, -6.958399772644043, -7.567800045013428, -7.172800064086914, -6.655200004577637, -5.353099822998047, -6.077700138092041, -6.487599849700928, -6.123899936676025, -4.095699787139893, -5.172800064086914, -5.585599899291992, -5.768799781799316, -5.3231000900268555, -6.475100040435791, -5.619999885559082, -5.8084001541137695, -4.546000003814697, -6.364500045776367, -4.817800045013428, -3.960700035095215, -3.8373000621795654, -6.311600208282471, -6.327099800109863, -5.259200096130371, -4.893099784851074, -5.356200218200684, -5.135200023651123, -5.285600185394287, -6.019000053405762, -5.087900161743164, -5.320499897003174, -4.359099864959717, -4.727200031280518, -5.644700050354004, -5.124199867248535, -4.723700046539307, -4.7052001953125, -4.752900123596191, -5.4583001136779785, -5.770299911499023, -5.753799915313721, -5.771299839019775, -5.757299900054932, -5.767499923706055, -5.453400135040283, -6.3531999588012695, -6.413400173187256, -6.54640007019043, -6.5467000007629395, -6.548799991607666, -5.4552001953125, -6.698800086975098, -6.784999847412109, -6.785200119018555, -6.6305999755859375, -6.787099838256836, -6.710899829864502, -6.879700183868408, -6.880099773406982, -6.880199909210205, -6.7932000160217285, -6.881400108337402, -6.416600227355957, -6.983699798583984, -6.983699798583984, -6.984099864959717, -6.984300136566162, -6.986299991607666, -6.988999843597412, -6.990699768066406, -7.100100040435791, -7.100299835205078, -7.100200176239014, -7.100200176239014, -4.250199794769287, -6.102099895477295, -5.9028000831604, -6.4893999099731445, -5.871600151062012, -6.563199996948242, -5.005300045013428, -4.68720006942749, -4.038700103759766, -5.757299900054932, -6.24399995803833, -5.393899917602539, -5.083099842071533, -3.9328999519348145, -4.677299976348877, -5.036499977111816, -6.156499862670898, -6.3242998123168945, -5.462800025939941, -4.286099910736084, -4.915500164031982, -5.745100021362305, -5.793600082397461, -5.700500011444092, -5.5594000816345215, -5.823800086975098, -4.245500087738037, -5.194399833679199, -5.690199851989746, -5.147900104522705, -5.110400199890137, -4.48769998550415, -5.383200168609619, -5.078100204467773, -5.454400062561035, -5.2480998039245605, -5.0, -5.397200107574463, -5.448699951171875, -5.123600006103516, -5.3420000076293945, -5.4618000984191895, -5.331399917602539, -6.4822001457214355, -6.483799934387207, -6.492300033569336, -6.661099910736084, -6.6620001792907715, -6.662199974060059, -6.666999816894531, -6.387199878692627, -6.676199913024902, -6.165599822998047, -6.8805999755859375, -6.574900150299072, -6.729100227355957, -7.158899784088135, -7.158999919891357, -7.159599781036377, -7.162499904632568, -6.528800010681152, -6.373600006103516, -6.155200004577637, -7.187600135803223, -7.189899921417236, -6.9745001792907715, -6.0903000831604, -7.206900119781494, -6.0177998542785645, -6.563199996948242, -7.548500061035156, -7.548500061035156, -5.6442999839782715, -5.438600063323975, -5.080900192260742, -5.7754998207092285, -5.436800003051758, -5.45959997177124, -6.067699909210205, -5.033599853515625, -5.317699909210205, -5.082200050354004, -4.731900215148926, -4.990900039672852, -5.370100021362305, -5.183800220489502, -3.4616000652313232, -6.010799884796143, -5.8171000480651855, -5.713600158691406, -4.905700206756592, -5.3805999755859375, -5.071499824523926, -4.6620001792907715, -4.575799942016602, -5.5177998542785645, -4.693999767303467, -5.150300025939941, -5.333399772644043, -4.8572001457214355, -5.790900230407715, -5.2621002197265625, -5.7778000831604, -4.9822998046875, -5.292099952697754, -4.914100170135498, -5.115099906921387, -5.338399887084961, -5.485599994659424, -6.668600082397461, -6.668799877166748, -6.672999858856201, -6.8867998123168945, -6.88700008392334, -6.88730001449585, -6.890500068664551, -6.9096999168396, -7.166200160980225, -7.166299819946289, -7.166600227355957, -7.166800022125244, -7.166900157928467, -7.167500019073486, -7.168799877166748, -7.174699783325195, -6.48960018157959, -6.669899940490723, -7.555799961090088, -7.555799961090088, -7.555799961090088, -7.555799961090088, -7.555799961090088, -7.555799961090088, -7.555799961090088, -7.555799961090088, -7.555799961090088, -7.555799961090088, -7.555799961090088, -7.555799961090088, -6.886600017547607, -6.716599941253662, -6.887199878692627, -5.912199974060059, -6.887199878692627, -6.928400039672852, -6.520400047302246, -6.668799877166748, -6.373600006103516, -6.7754998207092285, -6.966800212860107, -6.052800178527832, -6.668600082397461, -3.3798000812530518, -5.640100002288818, -6.408100128173828, -5.9095001220703125, -6.231599807739258, -6.291399955749512, -6.204699993133545, -5.512599945068359, -6.429800033569336, -6.223100185394287, -5.252500057220459, -6.152900218963623, -6.440499782562256, -4.780399799346924, -5.301499843597412, -4.538899898529053, -6.229899883270264, -4.750699996948242, -5.491600036621094, -5.605199813842773, -5.335999965667725, -5.6057000160217285, -5.091599941253662, -5.490699768066406, -6.028900146484375, -6.332300186157227, -6.2530999183654785, -5.978899955749512, -5.861999988555908, -5.920499801635742, -6.162199974060059, -5.815899848937988, -5.780600070953369, -5.730599880218506, -6.018400192260742, -5.978400230407715, -6.0233001708984375, -6.121099948883057, -6.041800022125244, -6.024400234222412, -6.05810022354126, -5.997700214385986, -6.114099979400635, -6.114099979400635, -6.114099979400635, -6.114099979400635, -6.114099979400635, -6.114099979400635, -6.114099979400635, -6.114099979400635, -6.114099979400635, -6.114099979400635, -6.114099979400635, -6.114099979400635, -6.114099979400635, -6.114099979400635, -6.2459001541137695, -6.2459001541137695, -6.2459001541137695, -6.2459001541137695, -6.2459001541137695, -6.2459001541137695, -6.2459001541137695, -6.2459001541137695, -6.2459001541137695, -6.245999813079834, -6.245999813079834, -6.795400142669678, -6.795499801635742, -6.798699855804443, -6.80079984664917, -6.11870002746582, -6.35260009765625, -6.2459001541137695, -6.115600109100342, -5.696400165557861, -3.5292999744415283, -5.155200004577637, -4.65339994430542, -4.260499954223633, -5.039299964904785, -5.348100185394287, -5.155799865722656, -5.198500156402588, -5.139400005340576, -4.871500015258789, -5.7083001136779785, -5.9430999755859375, -5.295899868011475, -4.809000015258789, -5.208099842071533, -5.548799991607666, -5.73330020904541, -5.740900039672852, -5.230800151824951, -5.673399925231934, -5.751200199127197, -5.727700233459473, -5.811100006103516, -5.739200115203857, -5.760200023651123, -6.019000053405762, -6.009900093078613, -5.912099838256836, -6.01170015335083, -6.487500190734863, -6.48829984664917, -6.767000198364258, -6.767000198364258, -6.768199920654297, -5.965700149536133, -6.270400047302246, -7.156499862670898, -7.156599998474121, -7.156599998474121, -7.157800197601318, -7.158100128173828, -7.160399913787842, -7.161799907684326, -7.17080020904541, -7.1757001876831055, -6.767000198364258, -6.767000198364258, -6.771200180053711, -6.77209997177124, -6.30049991607666, -6.792699813842773, -6.502799987792969, -7.803400039672852, -7.803400039672852, -7.803400039672852, -7.803400039672852, -7.803400039672852, -7.803400039672852, -7.803400039672852, -6.548500061035156, -6.271699905395508, -6.768400192260742, -7.157800197601318, -6.13129997253418, -6.326600074768066, -7.15749979019165, -6.769499778747559, -6.767000198364258, -5.849299907684326, -3.790299892425537, -6.4878997802734375, -6.779799938201904, -6.0731000900268555, -6.1168999671936035, -5.782199859619141, -6.770599842071533, -5.2546000480651855, -4.256499767303467, -5.684899806976318, -4.366000175476074, -4.527100086212158, -5.3069000244140625, -5.455100059509277, -5.376299858093262, -4.34689998626709, -5.915800094604492, -4.919099807739258, -4.806000232696533, -4.94350004196167, -5.470799922943115, -5.988100051879883, -5.102399826049805, -5.315499782562256, -4.944699764251709, -5.368500232696533, -5.59499979019165, -5.507800102233887, -5.575399875640869, -5.599100112915039, -5.55079984664917, -5.718299865722656, -5.57390022277832, -5.793499946594238, -5.809299945831299, -5.7916998863220215, -5.957200050354004, -5.959099769592285, -5.978000164031982, -6.239200115203857, -5.738900184631348, -6.626200199127197, -6.626200199127197, -6.626200199127197, -6.626200199127197, -6.626399993896484, -6.626399993896484, -6.626399993896484, -6.626500129699707, -6.626800060272217, -6.626699924468994, -6.626500129699707, -6.626800060272217, -6.6265997886657715, -5.814199924468994, -5.974299907684326, -6.2403998374938965, -5.741099834442139, -7.2729997634887695, -7.2729997634887695, -7.2729997634887695, -7.2729997634887695, -7.2729997634887695, -7.2729997634887695, -7.2729997634887695, -7.2729997634887695, -6.626500129699707, -6.626800060272217, -6.626800060272217, -6.236700057983398, -6.626200199127197, -6.626800060272217, -6.6269001960754395, -6.633699893951416, -5.474999904632568, -3.9992001056671143, -5.215199947357178, -6.314799785614014, -5.957099914550781, -5.738800048828125, -6.043600082397461, -5.406899929046631, -5.892000198364258, -6.065800189971924, -6.251800060272217, -5.834799766540527, -5.372200012207031, -6.241399765014648, -5.809899806976318, -6.236999988555908, -5.932400226593018, -6.0447001457214355, -6.321700096130371, -6.300099849700928, -5.902100086212158, -5.568999767303467, -5.869800090789795, -5.624899864196777, -5.831999778747559, -5.8414998054504395, -5.744500160217285, -6.0142998695373535, -5.9156999588012695, -5.815999984741211, -5.870800018310547, -5.931099891662598]}, \"token.table\": {\"Topic\": [3, 4, 5, 7, 2, 4, 5, 4, 5, 1, 2, 3, 4, 5, 7, 8, 9, 3, 1, 3, 5, 4, 2, 3, 4, 5, 6, 7, 9, 10, 6, 1, 10, 4, 5, 9, 5, 5, 1, 3, 9, 1, 2, 3, 8, 9, 1, 9, 1, 2, 3, 4, 5, 6, 7, 8, 1, 2, 3, 5, 9, 6, 1, 3, 8, 1, 2, 3, 4, 5, 6, 7, 8, 9, 10, 1, 2, 3, 5, 9, 5, 3, 5, 1, 2, 3, 5, 9, 3, 2, 4, 9, 2, 8, 8, 1, 2, 3, 4, 5, 6, 7, 8, 1, 2, 3, 4, 5, 6, 9, 1, 4, 5, 1, 3, 4, 7, 9, 3, 4, 5, 9, 9, 4, 1, 2, 3, 4, 5, 6, 7, 8, 9, 4, 4, 5, 2, 2, 5, 1, 2, 3, 4, 5, 6, 7, 8, 9, 5, 5, 4, 1, 2, 3, 4, 5, 6, 7, 8, 6, 8, 4, 4, 5, 5, 1, 2, 3, 4, 5, 6, 7, 8, 9, 3, 4, 7, 8, 8, 1, 1, 2, 3, 4, 5, 6, 7, 8, 9, 8, 4, 10, 1, 2, 3, 4, 5, 6, 7, 8, 9, 8, 9, 5, 1, 2, 5, 8, 9, 10, 7, 1, 2, 3, 5, 9, 10, 5, 7, 9, 2, 1, 2, 3, 4, 5, 7, 9, 10, 1, 2, 3, 4, 5, 7, 8, 9, 10, 1, 2, 3, 4, 5, 6, 7, 8, 1, 2, 3, 4, 6, 7, 8, 1, 2, 3, 4, 5, 6, 7, 8, 9, 1, 2, 3, 4, 5, 7, 8, 9, 10, 10, 2, 4, 5, 7, 5, 5, 2, 3, 4, 5, 6, 7, 8, 1, 2, 3, 4, 5, 6, 7, 8, 10, 9, 4, 5, 4, 1, 2, 3, 6, 9, 1, 2, 3, 8, 1, 2, 3, 5, 6, 7, 9, 8, 9, 4, 1, 2, 3, 4, 5, 7, 9, 1, 2, 3, 4, 5, 8, 9, 1, 2, 3, 4, 5, 6, 7, 8, 9, 10, 1, 2, 3, 4, 6, 9, 10, 1, 2, 4, 5, 9, 10, 4, 1, 2, 3, 4, 5, 7, 8, 1, 2, 3, 4, 6, 7, 8, 1, 2, 3, 4, 5, 6, 7, 8, 9, 10, 6, 5, 1, 4, 6, 9, 2, 10, 3, 3, 1, 2, 6, 9, 3, 4, 5, 6, 10, 1, 4, 10, 1, 2, 3, 4, 7, 8, 8, 1, 2, 3, 4, 5, 7, 2, 1, 2, 3, 4, 5, 6, 7, 8, 9, 1, 2, 3, 4, 5, 7, 8, 9, 1, 2, 4, 1, 4, 5, 9, 4, 5, 2, 3, 4, 5, 7, 8, 10, 3, 4, 5, 6, 7, 9, 1, 3, 4, 7, 10, 7, 7, 8, 2, 4, 1, 7, 6, 10, 3, 5, 7, 8, 10, 1, 1, 2, 3, 4, 5, 7, 9, 1, 2, 3, 4, 5, 6, 7, 8, 9, 1, 4, 1, 2, 3, 4, 5, 6, 7, 8, 9, 10, 1, 2, 3, 4, 5, 6, 7, 8, 9, 10, 2, 4, 5, 7, 9, 1, 2, 3, 4, 6, 7, 9, 2, 4, 6, 2, 4, 7, 8, 8, 1, 3, 9, 2, 10, 4, 5, 4, 7, 8, 6, 1, 2, 3, 4, 5, 7, 3, 4, 6, 7, 8, 9, 2, 5, 2, 7, 4, 1, 3, 5, 6, 3, 6, 6, 6, 1, 3, 9, 1, 10, 8, 8, 1, 2, 3, 4, 5, 7, 9, 10, 1, 2, 3, 4, 5, 6, 7, 8, 9, 3, 6, 7, 10, 1, 2, 3, 4, 5, 7, 8, 4, 6, 8, 9, 4, 5, 7, 9, 10, 10, 2, 3, 6, 7, 8, 9, 10, 8, 8, 1, 2, 3, 4, 6, 7, 9, 8, 10, 4, 5, 7, 1, 2, 3, 4, 5, 7, 8, 9, 10, 3, 4, 5, 1, 2, 3, 4, 5, 6, 7, 8, 9, 1, 2, 3, 4, 5, 7, 1, 2, 3, 4, 5, 6, 7, 8, 9, 10, 2, 3, 4, 5, 9, 1, 2, 5, 3, 1, 2, 4, 5, 3, 3, 10, 6, 7, 10, 7, 7, 8, 1, 2, 3, 4, 6, 7, 8, 9, 7, 1, 2, 4, 5, 6, 7, 8, 10, 3, 3, 1, 2, 3, 4, 6, 7, 9, 3, 4, 6, 8, 9, 1, 2, 3, 4, 5, 6, 7, 8, 9, 10, 1, 2, 3, 4, 6, 7, 8, 9, 1, 1, 1, 9, 1, 2, 3, 4, 5, 6, 7, 8, 9, 10, 1, 2, 4, 9, 1, 2, 3, 4, 5, 6, 8, 9, 1, 2, 5, 9, 7, 3, 9, 4, 1, 2, 3, 4, 5, 6, 7, 8, 9, 3, 4, 6, 8, 1, 3, 7, 1, 2, 3, 4, 5, 6, 7, 8, 5, 7, 1, 2, 3, 4, 5, 6, 7, 8, 9, 4, 5, 1, 9, 6, 2, 1, 2, 3, 4, 5, 6, 8, 9, 2, 1, 7, 2, 2, 7, 9, 10, 6, 8, 9, 10, 1, 2, 3, 4, 7, 9, 1, 2, 3, 4, 6, 7, 10, 2, 10, 3, 7, 1, 2, 3, 4, 6, 9, 4, 10, 9, 7, 4, 5, 3, 1, 2, 3, 4, 5, 1, 3, 1, 2, 4, 5, 7, 8, 9, 10, 5, 1, 3, 9, 3, 3, 1, 2, 3, 4, 5, 6, 7, 8, 9, 10, 1, 2, 3, 4, 6, 7, 8, 9, 1, 2, 3, 4, 9, 1, 2, 3, 4, 6, 7, 9, 2, 9, 3, 8, 7, 9, 4, 6, 4, 10, 6, 3, 3, 3, 1, 2, 3, 4, 5, 7, 8, 4, 3, 4, 7, 8, 3, 2, 3, 10, 1, 2, 3, 4, 5, 6, 7, 8, 9, 1, 2, 3, 6, 7, 9, 1, 2, 7, 4, 7, 9, 1, 2, 3, 4, 5, 8, 9, 6, 6, 7, 1, 3, 4, 7, 8, 2, 3, 4, 5, 7, 9, 7, 10, 2, 4, 5, 7, 1, 2, 4, 5, 6, 9, 2, 7, 4, 7, 4, 2, 9, 1, 2, 3, 4, 5, 6, 7, 2, 1, 2, 1, 2, 3, 6, 7, 8, 9, 1, 2, 3, 1, 2, 3, 7, 8, 9, 3, 4, 9, 10, 1, 9, 8, 1, 2, 3, 4, 5, 7, 8, 5, 8, 2, 3, 4, 5, 7, 8, 9, 10, 8, 1, 2, 3, 4, 5, 8, 10, 1, 2, 3, 4, 6, 9, 1, 4, 7, 8, 7, 1, 2, 4, 5, 7, 2, 9, 1, 1, 2, 3, 4, 6, 7, 8, 3, 4, 8, 2, 3, 7, 9, 9, 1, 2, 3, 4, 6, 7, 8, 6, 2, 7, 10, 1, 2, 4, 5, 7, 8, 10, 9, 10, 7, 2, 1, 2, 10, 3, 4, 5, 3, 3, 4, 5, 7, 7, 1, 9, 1, 9, 1, 2, 3, 4, 5, 6, 7, 8, 9, 8, 7, 5, 4, 2, 10, 1, 4, 1, 2, 7, 9, 10, 2, 3, 8, 3, 6, 7, 1, 2, 3, 4, 5, 6, 7, 8, 4, 1, 2, 5, 6, 7, 9, 4, 9, 1, 7, 1, 2, 4, 7, 9, 1, 2, 3, 4, 5, 6, 7, 8, 9, 10, 3, 6, 7, 8, 1, 3, 4, 6, 7, 8, 9, 2, 6, 6, 7, 8, 4, 5, 7, 10, 7, 6, 1, 2, 3, 4, 6, 7, 8, 10, 1, 8, 4, 6, 7, 2, 8, 4, 7, 4, 7, 1, 1, 10, 9, 4, 1, 2, 3, 4, 5, 3, 3, 4, 1, 2, 3, 10, 2, 2, 7, 1, 2, 3, 7, 8, 10, 1, 2, 3, 6, 9, 1, 2, 4, 5, 8, 4, 4, 5, 7, 6, 1, 2, 3, 4, 5, 6, 7, 9, 4, 5, 2, 9, 2, 3, 4, 5, 6, 4, 5, 1, 2, 3, 4, 5, 7, 9, 10, 6, 9, 9, 10, 4, 3, 4, 7, 8, 7, 4, 9, 1, 2, 7, 8, 10, 3, 6, 10, 1, 2, 5, 6, 7, 1, 2, 10, 1, 2, 3, 4, 5, 6, 7, 1, 2, 3, 4, 5, 9, 10, 4, 7, 10, 6, 1, 3, 4, 5, 6, 7, 8, 4, 5, 8, 2, 3, 4, 7, 8, 2, 5, 6, 9, 1, 10, 1, 2, 3, 4, 6, 7, 9, 1, 2, 3, 4, 6, 7, 8, 10, 4, 10, 3, 6, 8, 1, 2, 3, 7, 9, 10, 8, 2, 3, 4, 5, 6, 7, 8, 7, 8, 1, 2, 3, 4, 5, 6, 7, 8, 9, 1, 2, 6, 2, 6, 7, 8, 9, 6, 3, 5, 2, 3, 4, 5, 3, 4, 6, 7, 10, 7, 8, 8, 2, 9, 1, 2, 3, 4, 6, 9, 10, 6, 10, 1, 2, 4, 5, 9, 4, 5, 2, 3, 4, 5, 7, 10, 1, 2, 4, 5, 7, 8, 9, 10, 5, 1, 2, 4, 5, 7, 2, 8, 7, 5, 7, 2, 3, 8, 10, 7, 2, 2, 1, 1, 3, 9, 3, 4, 6, 1, 2, 3, 6, 1, 2, 3, 4, 5, 7, 8, 9, 3, 4, 5, 7, 9, 3, 6, 3, 8, 2, 9, 2, 4, 7, 9, 2, 4, 4, 8, 3, 4, 7, 2, 4, 7, 8, 2, 4, 7, 1, 10, 7, 6, 8, 5, 2, 4, 5, 7, 9, 1, 2, 4, 2, 4, 7, 2, 2, 4, 5, 7, 2, 1, 3, 4, 5, 6, 7, 9, 8, 4, 7, 8, 1, 3, 4, 5, 6, 1, 3, 4, 5, 7, 10, 8, 5, 1, 2, 3, 4, 6, 7, 8, 9, 10, 7, 10, 1, 5, 1, 2, 4, 5, 6, 8, 9, 10, 1, 9, 4, 8, 10, 1, 2, 3, 4, 7, 8, 8, 5, 2, 6, 7, 2, 6, 9, 1, 2, 3, 4, 5, 6, 7, 8, 10, 9, 9, 4, 3, 4, 7, 8, 10, 1, 2, 3, 4, 5, 6, 7, 8, 1, 2, 3, 4, 7, 9, 10, 1, 2, 4, 6, 3, 4, 7, 1, 2, 4, 6, 9, 3, 4, 5, 8, 3, 4, 5, 7, 5, 5, 1, 1, 1, 2, 3, 4, 5, 6, 7, 8, 9, 10, 1, 2, 3, 4, 5, 6, 7, 8, 9, 10, 10, 9, 1, 2, 3, 4, 6, 7, 8, 9, 1, 2, 7, 9, 1, 1, 2, 9, 6, 3, 4, 6, 1, 2, 3, 4, 5, 7, 8, 4, 7, 1, 2, 3, 4, 5, 6, 7, 8, 9, 10, 1, 2, 3, 4, 5, 7, 8, 10, 1, 2, 3, 4, 5, 6, 7, 9, 4, 6, 4, 5, 10, 9, 1, 2, 3, 4, 5, 6, 7, 8, 9, 10, 1, 2, 4, 5, 7, 5, 10, 2, 1, 2, 10, 1, 2, 3, 4, 5, 7, 9, 3, 4, 7, 8, 1, 2, 3, 4, 5, 6, 7, 1, 2, 3, 4, 5, 6, 7, 8, 9, 2, 3, 4, 5, 6, 8, 10, 1, 2, 3, 4, 5, 6, 7, 8, 9, 10, 1, 2, 3, 4, 5, 7, 9, 3, 4, 5, 6, 7, 8, 1, 2, 3, 5, 4, 1, 2, 3, 4, 9, 1, 2, 3, 1, 1, 3, 4, 5, 9, 3, 4, 5, 4, 5, 4, 5, 7, 2, 1, 2, 3, 4, 5, 6, 7, 8, 10, 3, 5, 10, 7, 8, 5, 5, 1, 2, 3, 4, 5, 6, 7, 8, 1, 1, 2, 3, 4, 5, 6, 7, 1, 2, 3, 4, 5, 7, 9, 1, 2, 3, 4, 5, 6, 7, 1, 2, 3, 6, 9, 4, 1, 4, 6, 7, 8, 1, 2, 3, 4, 6, 8, 7], \"Freq\": [0.658128559589386, 0.07153571397066116, 0.2432214319705963, 0.028614286333322525, 0.9370028376579285, 0.9411197304725647, 0.9421007633209229, 0.06792140752077103, 0.8829782605171204, 0.29429396986961365, 0.24901796877384186, 0.14714698493480682, 0.05659499391913414, 0.06791399419307709, 0.022637996822595596, 0.14714698493480682, 0.011318998411297798, 0.9390565752983093, 0.9108936786651611, 0.039604075253009796, 0.9076300263404846, 0.918109655380249, 0.07240667194128036, 0.30410802364349365, 0.10136933624744415, 0.14481334388256073, 0.31858932971954346, 0.014481334015727043, 0.028962668031454086, 0.014481334015727043, 0.8053489923477173, 0.2650196850299835, 0.530039370059967, 0.024198556318879128, 0.9437437057495117, 0.024198556318879128, 0.9208495616912842, 0.9075639843940735, 0.2835101783275604, 0.1417550891637802, 0.42526525259017944, 0.32634732127189636, 0.32634732127189636, 0.16317366063594818, 0.027195610105991364, 0.13597804307937622, 0.15614838898181915, 0.6245935559272766, 0.09539219737052917, 0.1771569401025772, 0.05450982600450516, 0.14990203082561493, 0.1771569401025772, 0.1362745612859726, 0.16352948546409607, 0.04088237136602402, 0.20037749409675598, 0.20037749409675598, 0.1502831131219864, 0.20037749409675598, 0.20037749409675598, 0.8054112792015076, 0.9807204604148865, 0.9023333787918091, 0.8770607113838196, 0.145737886428833, 0.16055868566036224, 0.316177099943161, 0.1951405555009842, 0.04693254083395004, 0.02717147022485733, 0.03211173787713051, 0.06422347575426102, 0.00741040101274848, 0.0024701335933059454, 0.060804322361946106, 0.12160864472389221, 0.42563024163246155, 0.24321728944778442, 0.12160864472389221, 0.872979998588562, 0.8532362580299377, 0.07110302150249481, 0.2164638787508011, 0.29763782024383545, 0.27057984471321106, 0.08117394894361496, 0.13528992235660553, 0.9524393081665039, 0.2333574891090393, 0.2333574891090393, 0.4667149782180786, 0.9390457272529602, 0.8770605325698853, 0.8211862444877625, 0.3035838305950165, 0.2857259511947632, 0.10119461268186569, 0.053573619574308395, 0.11905248463153839, 0.02381049655377865, 0.0178578719496727, 0.08928936719894409, 0.2805310785770416, 0.2920597493648529, 0.06148626282811165, 0.19598746299743652, 0.15755854547023773, 0.003842891426756978, 0.003842891426756978, 0.05415859445929527, 0.7582203149795532, 0.16247577965259552, 0.08968769013881683, 0.23916718363761902, 0.5680220723152161, 0.059791795909404755, 0.029895897954702377, 0.32255178689956665, 0.6182242631912231, 0.026879316195845604, 0.679062008857727, 0.47115275263786316, 0.8506215214729309, 0.10427559167146683, 0.14337892830371857, 0.4648953378200531, 0.13903412222862244, 0.09124114364385605, 0.013034448958933353, 0.02172408066689968, 0.017379265278577805, 0.004344816319644451, 0.873848021030426, 0.7982327938079834, 0.14513322710990906, 0.9553663730621338, 0.06375133991241455, 0.8925186991691589, 0.1971428394317627, 0.28850170969963074, 0.23080137372016907, 0.028850171715021133, 0.12020904570817947, 0.009616723284125328, 0.06250870227813721, 0.03365853428840637, 0.028850171715021133, 0.9420913457870483, 0.9582746624946594, 0.9430763125419617, 0.053089071065187454, 0.13449230790138245, 0.40701618790626526, 0.21943482756614685, 0.10617814213037491, 0.03539271280169487, 0.021235628053545952, 0.021235628053545952, 0.2581980526447296, 0.6454951167106628, 0.9171706438064575, 0.917306661605835, 0.9711357951164246, 0.9420962333679199, 0.10308577120304108, 0.2577144205570221, 0.31862872838974, 0.1171429231762886, 0.10777148604393005, 0.03280001878738403, 0.042171452194452286, 0.004685716703534126, 0.018742866814136505, 0.31557461619377136, 0.23668095469474792, 0.3944682478904724, 0.07889365404844284, 0.821186363697052, 0.9737656116485596, 0.06250607222318649, 0.17047110199928284, 0.37503641843795776, 0.18467701971530914, 0.13637687265872955, 0.022729480639100075, 0.017047109082341194, 0.025570664554834366, 0.008523554541170597, 0.8211862444877625, 0.3686131536960602, 0.3686131536960602, 0.0699523389339447, 0.10881475359201431, 0.09326978772878647, 0.46634894609451294, 0.12435971200466156, 0.023317446932196617, 0.046634893864393234, 0.06217985600233078, 0.015544964000582695, 0.20752683281898499, 0.6225804686546326, 0.8918613791465759, 0.7602909207344055, 0.21144185960292816, 0.00899752601981163, 0.00899752601981163, 0.013496289029717445, 0.7619576454162598, 0.8481640815734863, 0.7345027327537537, 0.2215166985988617, 0.005829386878758669, 0.005829386878758669, 0.017488159239292145, 0.005829386878758669, 0.307106077671051, 0.614212155342102, 0.6790619492530823, 0.9080556631088257, 0.12384277582168579, 0.5160115361213684, 0.041280925273895264, 0.2545657157897949, 0.04816107824444771, 0.006880153901875019, 0.6133977770805359, 0.30669888854026794, 0.21759022772312164, 0.3666798174381256, 0.14506015181541443, 0.07655952125787735, 0.13297180831432343, 0.02820613980293274, 0.016117794439196587, 0.012088346295058727, 0.004029448609799147, 0.0771913081407547, 0.1852591335773468, 0.1337982565164566, 0.2830348014831543, 0.1440904438495636, 0.0463147833943367, 0.0566069558262825, 0.0720452219247818, 0.06866074353456497, 0.06866074353456497, 0.2403126060962677, 0.2059822380542755, 0.32613855600357056, 0.06866074353456497, 0.017165185883641243, 0.4396142065525055, 0.3508032560348511, 0.09325150400400162, 0.006660821381956339, 0.017762189731001854, 0.06882848590612411, 0.015541916713118553, 0.0022202737163752317, 0.0044405474327504635, 0.6469353437423706, 0.22620117664337158, 0.009048047475516796, 0.02262011729180813, 0.07238437980413437, 0.004524023737758398, 0.004524023737758398, 0.009048047475516796, 0.7619569301605225, 0.8731462955474854, 0.08462455868721008, 0.6769964694976807, 0.12693683803081512, 0.08462455868721008, 0.8729111552238464, 0.8729802966117859, 0.015674544498324394, 0.40753814578056335, 0.2507927119731903, 0.015674544498324394, 0.15674544870853424, 0.10972180962562561, 0.04702363535761833, 0.18607592582702637, 0.3800699710845947, 0.15044435858726501, 0.11877186596393585, 0.051467809826135635, 0.06730405986309052, 0.01583624817430973, 0.02375437319278717, 0.003959062043577433, 0.7214640974998474, 0.0867099016904831, 0.8670990467071533, 0.9172888398170471, 0.2598772943019867, 0.08662576228380203, 0.08662576228380203, 0.43312880396842957, 0.12993864715099335, 0.9102617502212524, 0.01820523478090763, 0.01820523478090763, 0.03641046956181526, 0.4392244219779968, 0.32363903522491455, 0.13870245218276978, 0.023117074742913246, 0.0057792686857283115, 0.023117074742913246, 0.04045487940311432, 0.4680566191673279, 0.4680566191673279, 0.975601851940155, 0.3170470893383026, 0.18191227316856384, 0.03638245537877083, 0.1715172827243805, 0.2598746716976166, 0.015592480078339577, 0.020789973437786102, 0.4362051784992218, 0.37603893876075745, 0.022562336176633835, 0.03008311614394188, 0.03008311614394188, 0.037603896111249924, 0.06016623228788376, 0.39271458983421326, 0.19132249057292938, 0.17370069026947021, 0.11328305304050446, 0.0855916440486908, 0.007552203722298145, 0.010069604963064194, 0.010069604963064194, 0.01510440744459629, 0.5550709366798401, 0.8936270475387573, 0.044681351631879807, 0.044681351631879807, 0.2416166216135025, 0.6040415167808533, 0.12080831080675125, 0.5551736354827881, 0.2362123280763626, 0.3543184995651245, 0.17715924978256226, 0.22547540068626404, 0.010736924596130848, 0.005368462298065424, 0.8927744626998901, 0.1686946600675583, 0.3500414192676544, 0.3036504089832306, 0.10543416440486908, 0.012652100063860416, 0.02952156588435173, 0.02952156588435173, 0.2948504388332367, 0.3471626341342926, 0.2996061146259308, 0.03804522007703781, 0.004755652509629726, 0.009511305019259453, 0.009511305019259453, 0.20326277613639832, 0.24059675633907318, 0.06637151539325714, 0.2198556512594223, 0.16178058087825775, 0.05392685905098915, 0.008296439424157143, 0.016592878848314285, 0.016592878848314285, 0.008296439424157143, 0.8053457736968994, 0.8730912208557129, 0.9680671095848083, 0.22179020941257477, 0.22179020941257477, 0.44358041882514954, 0.36247989535331726, 0.36247989535331726, 0.9391672015190125, 0.9391870498657227, 0.7640236020088196, 0.16569185256958008, 0.02761531062424183, 0.036820411682128906, 0.6176538467407227, 0.03984863683581352, 0.07969727367162704, 0.1793188601732254, 0.05977295711636543, 0.281181275844574, 0.42177191376686096, 0.140590637922287, 0.13231205940246582, 0.6505343317985535, 0.022052010521292686, 0.04410402104258537, 0.033078014850616455, 0.1212860569357872, 0.8211863040924072, 0.19029797613620758, 0.07136174291372299, 0.08325536549091339, 0.20219159126281738, 0.41627681255340576, 0.023787247017025948, 0.9245274662971497, 0.28562572598457336, 0.2538895308971405, 0.26975762844085693, 0.059505362063646317, 0.06743940711021423, 0.027769168838858604, 0.00793404784053564, 0.023802144452929497, 0.00793404784053564, 0.36266958713531494, 0.2194303423166275, 0.11276281625032425, 0.08533402532339096, 0.16762040555477142, 0.02438114956021309, 0.003047643695026636, 0.02438114956021309, 0.04646729677915573, 0.2788037657737732, 0.6737757921218872, 0.03863075003027916, 0.6180920004844666, 0.3090460002422333, 0.4690331518650055, 0.9409373998641968, 0.9713085293769836, 0.030348116531968117, 0.15174058079719543, 0.48556986451148987, 0.182088702917099, 0.0910443514585495, 0.04552217572927475, 0.015174058265984058, 0.13991102576255798, 0.5130070447921753, 0.2020936906337738, 0.07772834599018097, 0.031091338023543358, 0.015545669011771679, 0.11898486316204071, 0.23796972632408142, 0.11898486316204071, 0.11898486316204071, 0.23796972632408142, 0.8481643795967102, 0.6459808349609375, 0.2153269499540329, 0.8820415139198303, 0.055127594619989395, 0.1562095731496811, 0.7810478806495667, 0.8372493386268616, 0.7619569301605225, 0.8790359497070312, 0.09253010153770447, 0.6496970057487488, 0.3248485028743744, 0.7619568109512329, 0.9616850018501282, 0.19436295330524445, 0.3809513747692108, 0.18658843636512756, 0.015549035742878914, 0.13994131982326508, 0.007774517871439457, 0.06997065991163254, 0.5410656332969666, 0.1559828817844391, 0.10723823308944702, 0.024372326210141182, 0.014623395167291164, 0.048744652420282364, 0.034121256321668625, 0.04387018829584122, 0.014623395167291164, 0.9383466839790344, 0.03026924654841423, 0.4166836440563202, 0.36687442660331726, 0.05730739235877991, 0.0717681348323822, 0.023565655574202538, 0.012853994034230709, 0.017674243077635765, 0.020887739956378937, 0.012318410910665989, 0.0005355831235647202, 0.2957492470741272, 0.45050176978111267, 0.07909572869539261, 0.05158417299389839, 0.04470628499984741, 0.04814522713422775, 0.013755779713392258, 0.010316834785044193, 0.006877889856696129, 0.0034389449283480644, 0.03640466555953026, 0.38224896788597107, 0.5278676152229309, 0.03640466555953026, 0.01820233277976513, 0.1253342628479004, 0.14812231063842773, 0.2848505973815918, 0.06836414337158203, 0.3304266929626465, 0.011394023895263672, 0.022788047790527344, 0.1144104152917862, 0.1716156154870987, 0.6864624619483948, 0.6053022146224976, 0.040353480726480484, 0.2824743688106537, 0.040353480726480484, 0.821186363697052, 0.949506402015686, 0.26805204153060913, 0.5361040830612183, 0.9098275899887085, 0.5551716685295105, 0.8793371319770813, 0.10345142334699631, 0.3237391412258148, 0.45323479175567627, 0.19424349069595337, 0.9069739580154419, 0.554401695728302, 0.25587770342826843, 0.008529257029294968, 0.14073273539543152, 0.02132314257323742, 0.017058514058589935, 0.23244710266590118, 0.2905588746070862, 0.2905588746070862, 0.0871676653623581, 0.029055887833237648, 0.058111775666475296, 0.9565386176109314, 0.8729645609855652, 0.9131687879562378, 0.05707304924726486, 0.9173516035079956, 0.4820992946624756, 0.10330698639154434, 0.034435663372278214, 0.37879228591918945, 0.33187925815582275, 0.6637585163116455, 0.8640146851539612, 0.7977033257484436, 0.9861961603164673, 0.9390558004379272, 0.7214382886886597, 0.9495134353637695, 0.7619569301605225, 0.8770604133605957, 0.8770607113838196, 0.25462037324905396, 0.44813185930252075, 0.03055444546043873, 0.020369630306959152, 0.12221778184175491, 0.08147852122783661, 0.010184815153479576, 0.020369630306959152, 0.4847549498081207, 0.14737971127033234, 0.24148964881896973, 0.015980932861566544, 0.001775659155100584, 0.06037241220474243, 0.017756592482328415, 0.008878296241164207, 0.02308356948196888, 0.9895178079605103, 0.8063120245933533, 0.3894021213054657, 0.3894021213054657, 0.6688901782035828, 0.1573859304189682, 0.02248370461165905, 0.08431389182806015, 0.0449674092233181, 0.011241852305829525, 0.011241852305829525, 0.12233486026525497, 0.12233486026525497, 0.3670045733451843, 0.3670045733451843, 0.12861350178718567, 0.25722700357437134, 0.12861350178718567, 0.25722700357437134, 0.25722700357437134, 0.555000364780426, 0.07197234779596329, 0.28788939118385315, 0.5277972221374512, 0.047981567680835724, 0.023990783840417862, 0.047981567680835724, 0.7619578838348389, 0.8211864233016968, 0.8211861848831177, 0.253306120634079, 0.274414986371994, 0.0422176867723465, 0.168870747089386, 0.10554421693086624, 0.1266530603170395, 0.0422176867723465, 0.8770607709884644, 0.555066704750061, 0.1320180594921112, 0.7921082973480225, 0.08801203221082687, 0.20895767211914062, 0.2800922095775604, 0.19561995565891266, 0.1067017912864685, 0.0711345300078392, 0.06668861955404282, 0.04001317173242569, 0.02222953923046589, 0.00444590812548995, 0.8185484409332275, 0.10105536133050919, 0.07073875516653061, 0.3909958302974701, 0.3573839068412781, 0.05762043967843056, 0.06516597419977188, 0.06996767222881317, 0.0034297879319638014, 0.013033194467425346, 0.015091067180037498, 0.02743830345571041, 0.16346941888332367, 0.21251024305820465, 0.00544898072257638, 0.14712247252464294, 0.4631633460521698, 0.00544898072257638, 0.4664430618286133, 0.3716375529766083, 0.023511763662099838, 0.07053529471158981, 0.029579317197203636, 0.004550664220005274, 0.020477987825870514, 0.011376660317182541, 0.000758444017264992, 0.000758444017264992, 0.11866758018732071, 0.011866758577525616, 0.593337893486023, 0.2610686719417572, 0.011866758577525616, 0.9550971388816833, 0.9731247425079346, 0.8729744553565979, 0.9473472237586975, 0.1666693091392517, 0.8333464860916138, 0.13123781979084015, 0.8530458211898804, 0.9782740473747253, 0.4782274663448334, 0.4782274663448334, 0.9065262675285339, 0.848162829875946, 0.5550017952919006, 0.6401499509811401, 0.8481642007827759, 0.87706059217453, 0.0469064936041832, 0.17199048399925232, 0.0938129872083664, 0.29707446694374084, 0.20326147973537445, 0.10944848507642746, 0.07817748934030533, 0.015635497868061066, 0.640033483505249, 0.48513609170913696, 0.36385205388069153, 0.07134354114532471, 0.017835885286331177, 0.014268708415329456, 0.017835885286331177, 0.017835885286331177, 0.010701531544327736, 0.9022454023361206, 0.9626877903938293, 0.2590159773826599, 0.5856013894081116, 0.10135408490896225, 0.022523129358887672, 0.022523129358887672, 0.011261564679443836, 0.011261564679443836, 0.16816233098506927, 0.12612175941467285, 0.5885681509971619, 0.04204058274626732, 0.04204058274626732, 0.4242052435874939, 0.3114418387413025, 0.06443624198436737, 0.026848433539271355, 0.03758780658245087, 0.06443624198436737, 0.010739373043179512, 0.03758780658245087, 0.010739373043179512, 0.016109060496091843, 0.7742931842803955, 0.12698407471179962, 0.04026324301958084, 0.012388690374791622, 0.012388690374791622, 0.009291517548263073, 0.012388690374791622, 0.0030971725936979055, 0.9551426768302917, 0.9567170143127441, 0.9660860896110535, 0.023853978142142296, 0.46376651525497437, 0.3575490117073059, 0.034408483654260635, 0.06806895136833191, 0.04562864080071449, 0.014960209839046001, 0.002992041874676943, 0.002992041874676943, 0.008976126089692116, 0.0007480104686692357, 0.8006332516670227, 0.16483625769615173, 0.011774018406867981, 0.023548036813735962, 0.4724663496017456, 0.08845259994268417, 0.006472141481935978, 0.1337575912475586, 0.26967257261276245, 0.008629522286355495, 0.002157380571588874, 0.015101663768291473, 0.6503353714942932, 0.26419875025749207, 0.010161490179598331, 0.0711304321885109, 0.8481642007827759, 0.9390929937362671, 0.4709998369216919, 0.9408628940582275, 0.4794464707374573, 0.21452321112155914, 0.15636932849884033, 0.03747694566845894, 0.002584617119282484, 0.03360002115368843, 0.03360002115368843, 0.02713847905397415, 0.015507702715694904, 0.0819854810833931, 0.1639709621667862, 0.5738983750343323, 0.12297821789979935, 0.03228779882192612, 0.9040583968162537, 0.03228779882192612, 0.16535684466362, 0.2035161256790161, 0.20987600088119507, 0.1780766099691391, 0.05087903141975403, 0.05087903141975403, 0.06995866447687149, 0.05723891034722328, 0.2054961770772934, 0.616488516330719, 0.543163001537323, 0.16412119567394257, 0.21101295948028564, 0.02735353261232376, 0.007815294899046421, 0.015630589798092842, 0.011722942814230919, 0.015630589798092842, 0.007815294899046421, 0.18859714269638062, 0.7543885707855225, 0.9457911252975464, 0.03152637183666229, 0.9073932766914368, 0.9374280571937561, 0.2973176836967468, 0.27749648690223694, 0.21803295612335205, 0.019821178168058395, 0.03964235633611679, 0.03964235633611679, 0.019821178168058395, 0.11892706900835037, 0.9082117676734924, 0.9600492715835571, 0.6391567587852478, 0.9472143650054932, 0.9080587029457092, 0.34637951850891113, 0.34637951850891113, 0.5550666451454163, 0.2872215211391449, 0.14361076056957245, 0.43083229660987854, 0.14361076056957245, 0.3865441083908081, 0.4702953100204468, 0.08375122398138046, 0.03221200779080391, 0.012884803116321564, 0.012884803116321564, 0.19070357084274292, 0.5403267741203308, 0.2065955251455307, 0.031783927232027054, 0.015891963616013527, 0.007945981808006763, 0.007945981808006763, 0.3628780245780945, 0.3628780245780945, 0.1770215928554535, 0.708086371421814, 0.261051207780838, 0.020080862566828728, 0.261051207780838, 0.020080862566828728, 0.40161725878715515, 0.020080862566828728, 0.3106197118759155, 0.621239423751831, 0.7220237851142883, 0.7707682847976685, 0.7776631116867065, 0.1555326282978058, 0.9071853160858154, 0.13223324716091156, 0.1133427768945694, 0.03778092563152313, 0.18890462815761566, 0.5289329886436462, 0.13803306221961975, 0.8281983733177185, 0.8235592246055603, 0.0694568008184433, 0.019844800233840942, 0.029767200350761414, 0.019844800233840942, 0.009922400116920471, 0.009922400116920471, 0.009922400116920471, 0.9208671450614929, 0.6788623929023743, 0.11314373463392258, 0.18857288360595703, 0.9510636925697327, 0.9510883092880249, 0.24465633928775787, 0.22383452951908112, 0.10150635242462158, 0.2889026999473572, 0.0468490868806839, 0.0026027269195765257, 0.039040904492139816, 0.039040904492139816, 0.010410907678306103, 0.0026027269195765257, 0.29301613569259644, 0.2811371088027954, 0.2811371088027954, 0.03959677368402481, 0.019798386842012405, 0.0039596776477992535, 0.06335484236478806, 0.011879032477736473, 0.05743357539176941, 0.7083474397659302, 0.1914452612400055, 0.01914452575147152, 0.01914452575147152, 0.6560672521591187, 0.22832296788692474, 0.06936394423246384, 0.005780328530818224, 0.0317918062210083, 0.002890164265409112, 0.002890164265409112, 0.9738717079162598, 0.01770675741136074, 0.9521723389625549, 0.8770607113838196, 0.6410396695137024, 0.8767163157463074, 0.10842106491327286, 0.7589474320411682, 0.3675755560398102, 0.3675755560398102, 0.7250403761863708, 0.9390829801559448, 0.9761666655540466, 0.9390811920166016, 0.016468487679958344, 0.016468487679958344, 0.296432763338089, 0.42818066477775574, 0.18115335702896118, 0.03293697535991669, 0.03293697535991669, 0.9411411881446838, 0.8523029088973999, 0.064324751496315, 0.0321623757481575, 0.04824355989694595, 0.9523154497146606, 0.5269293189048767, 0.21077173948287964, 0.21077173948287964, 0.49426373839378357, 0.14072786271572113, 0.09953922033309937, 0.11326877027750015, 0.09267444908618927, 0.02402670867741108, 0.006864774040877819, 0.013729548081755638, 0.017161935567855835, 0.6978780627250671, 0.06053024157881737, 0.16734831035137177, 0.04628783091902733, 0.003560602432116866, 0.02492421679198742, 0.06169673427939415, 0.8637542724609375, 0.8481631875038147, 0.1930176019668579, 0.1930176019668579, 0.5790528059005737, 0.11870057880878448, 0.05275581032037735, 0.6330697536468506, 0.06594476848840714, 0.07913371920585632, 0.013188952580094337, 0.026377905160188675, 0.805090069770813, 0.8627877831459045, 0.8583654165267944, 0.17857526242733002, 0.17857526242733002, 0.11905018240213394, 0.35715052485466003, 0.17857526242733002, 0.0527099184691906, 0.1581297516822815, 0.3689694106578827, 0.0527099184691906, 0.2635495960712433, 0.0527099184691906, 0.3895007073879242, 0.3895007073879242, 0.38575494289398193, 0.06429249048233032, 0.4821936786174774, 0.04821936786174774, 0.054640427231788635, 0.10928085446357727, 0.38248297572135925, 0.054640427231788635, 0.21856170892715454, 0.21856170892715454, 0.20623214542865753, 0.6186964511871338, 0.9584769606590271, 0.8584980964660645, 0.9172985553741455, 0.3726275861263275, 0.5589413642883301, 0.2801333963871002, 0.4704126715660095, 0.10042517632246017, 0.0845685675740242, 0.03171321377158165, 0.02114214189350605, 0.010571070946753025, 0.9681063294410706, 0.15632237493991852, 0.7816118597984314, 0.39255422353744507, 0.07666042447090149, 0.4877188801765442, 0.011895583011209965, 0.002643462736159563, 0.002643462736159563, 0.025112897157669067, 0.15594065189361572, 0.7537131309509277, 0.07797032594680786, 0.8623564839363098, 0.0826917216181755, 0.005906551610678434, 0.014766378328204155, 0.014766378328204155, 0.020672930404543877, 0.21555328369140625, 0.21555328369140625, 0.4311065673828125, 0.7185437083244324, 0.9599738121032715, 0.47116613388061523, 0.8770607113838196, 0.2642418444156647, 0.31019696593284607, 0.017233164981007576, 0.1378653198480606, 0.22403113543987274, 0.017233164981007576, 0.028721939772367477, 0.9810314178466797, 0.7820881605148315, 0.27430614829063416, 0.03047846257686615, 0.21334923803806305, 0.15239231288433075, 0.15239231288433075, 0.09143538773059845, 0.03047846257686615, 0.0609569251537323, 0.7830951809883118, 0.37139269709587097, 0.14148293435573578, 0.10611219704151154, 0.10611219704151154, 0.21222439408302307, 0.035370733588933945, 0.035370733588933945, 0.46946701407432556, 0.26310789585113525, 0.1392924040555954, 0.02579488977789879, 0.09802058339118958, 0.005158978048712015, 0.2590956389904022, 0.2590956389904022, 0.38864344358444214, 0.06477390974760056, 0.6398851275444031, 0.17264918982982635, 0.03836648538708687, 0.2493821531534195, 0.5179475545883179, 0.019183242693543434, 0.4260592758655548, 0.4260592758655548, 0.9828108549118042, 0.1497458666563034, 0.5513370633125305, 0.1429392397403717, 0.0544530414044857, 0.0476464107632637, 0.020419891923666, 0.02722652070224285, 0.8778695464134216, 0.03376421332359314, 0.06752842664718628, 0.5261144638061523, 0.13152861595153809, 0.26305723190307617, 0.043842870742082596, 0.4711521565914154, 0.20253443717956543, 0.12152066081762314, 0.24304132163524628, 0.04050688445568085, 0.14177410304546356, 0.06076033040881157, 0.1822809875011444, 0.8043117523193359, 0.2711954116821289, 0.6779885292053223, 0.7105875611305237, 0.029619185253977776, 0.622002899646759, 0.04442877694964409, 0.029619185253977776, 0.014809592626988888, 0.2369534820318222, 0.014809592626988888, 0.6790621280670166, 0.5550948977470398, 0.848163366317749, 0.9268314242362976, 0.24551747739315033, 0.40919578075408936, 0.24551747739315033, 0.6542779803276062, 0.22757494449615479, 0.09956403821706772, 0.9634676575660706, 0.0750768631696701, 0.1501537263393402, 0.7132302522659302, 0.03753843158483505, 0.848162829875946, 0.9051048755645752, 0.04763709753751755, 0.26665130257606506, 0.5333026051521301, 0.5527303218841553, 0.23618873953819275, 0.12661664187908173, 0.021914418786764145, 0.01460961252450943, 0.026784289628267288, 0.0024349354207515717, 0.007304806262254715, 0.007304806262254715, 0.8770607709884644, 0.6401258707046509, 0.932332456111908, 0.9409496784210205, 0.22707508504390717, 0.45415017008781433, 0.9600403308868408, 0.9175241589546204, 0.3407798111438751, 0.4089357852935791, 0.06815595924854279, 0.06815595924854279, 0.13631191849708557, 0.07964087277650833, 0.8495026230812073, 0.06636738777160645, 0.7090870141983032, 0.037320367991924286, 0.22392220795154572, 0.3205532133579254, 0.48082980513572693, 0.11554824560880661, 0.033546265214681625, 0.01863681524991989, 0.014909451827406883, 0.007454725913703442, 0.007454725913703442, 0.9176644682884216, 0.3479216396808624, 0.5521364808082581, 0.045381080359220505, 0.022690540179610252, 0.007563513703644276, 0.022690540179610252, 0.27070608735084534, 0.5414121747016907, 0.9599718451499939, 0.8481665253639221, 0.07868319749832153, 0.7868319749832153, 0.10491092503070831, 0.026227731257677078, 0.47272104024887085, 0.3663996756076813, 0.3687186539173126, 0.030146809294819832, 0.06493158638477325, 0.13218216598033905, 0.006956955883651972, 0.016232896596193314, 0.006956955883651972, 0.0046379705891013145, 0.0046379705891013145, 0.12816865742206573, 0.5126746296882629, 0.1922529935836792, 0.06408432871103287, 0.8287394046783447, 0.041436970233917236, 0.027624646201729774, 0.05524929240345955, 0.013812323100864887, 0.013812323100864887, 0.013812323100864887, 0.8752821683883667, 0.09213496744632721, 0.6013941168785095, 0.16395485401153564, 0.8197742700576782, 0.5551292300224304, 0.3506079316139221, 0.05843465402722359, 0.029217327013611794, 0.7709258794784546, 0.602628767490387, 0.07461249828338623, 0.09948333352804184, 0.2238374948501587, 0.09948333352804184, 0.09948333352804184, 0.14922499656677246, 0.2238374948501587, 0.04974166676402092, 0.9361612796783447, 0.03343433141708374, 0.9173884987831116, 0.8095318675041199, 0.13492196798324585, 0.9372353553771973, 0.8770608901977539, 0.8732600212097168, 0.07938726991415024, 0.17923907935619354, 0.7169563174247742, 0.964207649230957, 0.6325804591178894, 0.15814511477947235, 0.6790645122528076, 0.8218184113502502, 0.15802450478076935, 0.08779139816761017, 0.6320980191230774, 0.05267483741044998, 0.05267483741044998, 0.9711902141571045, 0.8781952261924744, 0.06272822618484497, 0.39262306690216064, 0.5810821056365967, 0.015704922378063202, 0.007852461189031601, 0.9485093951225281, 0.9075414538383484, 0.858379602432251, 0.25897112488746643, 0.38845667243003845, 0.07769133150577545, 0.07769133150577545, 0.18127977848052979, 0.025897111743688583, 0.762550950050354, 0.01540506910532713, 0.023107605054974556, 0.16175322234630585, 0.03081013821065426, 0.04987558722496033, 0.49875590205192566, 0.04987558722496033, 0.04987558722496033, 0.3491291105747223, 0.9172656536102295, 0.7524564862251282, 0.11576253175735474, 0.05788126587867737, 0.9065651297569275, 0.012300238944590092, 0.1906536966562271, 0.038950756192207336, 0.358756959438324, 0.36490708589553833, 0.012300238944590092, 0.008200159296393394, 0.010250198654830456, 0.10480007529258728, 0.8733339309692383, 0.9743704795837402, 0.014328977093100548, 0.06841924786567688, 0.10947079956531525, 0.3694639503955841, 0.42419934272766113, 0.04105154797434807, 0.1495947241783142, 0.845535397529602, 0.05700061470270157, 0.5217748284339905, 0.013153987936675549, 0.14469386637210846, 0.23238712549209595, 0.008769324980676174, 0.021923312917351723, 0.7619569301605225, 0.3390846848487854, 0.3390846848487854, 0.6790646910667419, 0.5549988150596619, 0.9173062443733215, 0.2600308954715729, 0.17335394024848938, 0.43338483572006226, 0.17335394024848938, 0.7706449627876282, 0.9585949182510376, 0.47230058908462524, 0.19518807530403137, 0.19518807530403137, 0.09759403765201569, 0.43917316198349, 0.04879701882600784, 0.8744122385978699, 0.7927861213684082, 0.1585572212934494, 0.9613702297210693, 0.8581290245056152, 0.025239087641239166, 0.05047817528247833, 0.05047817528247833, 0.6120310425758362, 0.20401035249233246, 0.20401035249233246, 0.1458112895488739, 0.21871693432331085, 0.17011316120624542, 0.024301880970597267, 0.024301880970597267, 0.36452820897102356, 0.048603761941194534, 0.7062126994132996, 0.21849673986434937, 0.03901727497577667, 0.011705182492733002, 0.007803455460816622, 0.015606910921633244, 0.003901727730408311, 0.20772764086723328, 0.41545528173446655, 0.20772764086723328, 0.8063119053840637, 0.01172193419188261, 0.14066322147846222, 0.44543352723121643, 0.33993610739707947, 0.01172193419188261, 0.02344386838376522, 0.035165805369615555, 0.25162410736083984, 0.7297098636627197, 0.7830958962440491, 0.3680475950241089, 0.16729436814785004, 0.13383549451828003, 0.26767098903656006, 0.03345887362957001, 0.09047523140907288, 0.09047523140907288, 0.723801851272583, 0.8767734169960022, 0.6430572867393494, 0.16076432168483734, 0.3005010187625885, 0.4862039089202881, 0.09791606664657593, 0.0270113293081522, 0.057399071753025055, 0.003376416163519025, 0.030387744307518005, 0.175519660115242, 0.6728253960609436, 0.0438799150288105, 0.0292532779276371, 0.0438799150288105, 0.01462663896381855, 0.01462663896381855, 0.7192809581756592, 0.23851242661476135, 0.4770248532295227, 0.10595455020666122, 0.21190910041332245, 0.6357272863388062, 0.6325415372848511, 0.23163491487503052, 0.035636141896247864, 0.008909035474061966, 0.0801813155412674, 0.008909035474061966, 0.8770608901977539, 0.014087594114243984, 0.6691607236862183, 0.19722631573677063, 0.04226278141140938, 0.02817518822848797, 0.0352189838886261, 0.014087594114243984, 0.6462629437446594, 0.21542099118232727, 0.05915002152323723, 0.029575010761618614, 0.4140501618385315, 0.11830004304647446, 0.014787505380809307, 0.22181259095668793, 0.05915002152323723, 0.029575010761618614, 0.044362518936395645, 0.08059249073266983, 0.8462211489677429, 0.040296245366334915, 0.19685494899749756, 0.5905648469924927, 0.08436640352010727, 0.056244269013404846, 0.08436640352010727, 0.6033353209495544, 0.9115748405456543, 0.05064304545521736, 0.008498480543494225, 0.05099088326096535, 0.4334225058555603, 0.5014103651046753, 0.13553273677825928, 0.045177582651376724, 0.6324861645698547, 0.09035516530275345, 0.045177582651376724, 0.8481631875038147, 0.8211865425109863, 0.8211864233016968, 0.26774436235427856, 0.5354887247085571, 0.1750503033399582, 0.3751077950000763, 0.12503592669963837, 0.025007186457514763, 0.12503592669963837, 0.10002874583005905, 0.050014372915029526, 0.7178745865821838, 0.5549992918968201, 0.04785924777388573, 0.10939256846904755, 0.29057401418685913, 0.5469628572463989, 0.003418517764657736, 0.793552815914154, 0.09919410198926926, 0.1311320960521698, 0.2622641921043396, 0.2622641921043396, 0.0655660480260849, 0.0655660480260849, 0.1311320960521698, 0.2509164810180664, 0.2810264825820923, 0.22080650925636292, 0.15054988861083984, 0.030109979212284088, 0.020073318853974342, 0.020073318853974342, 0.020073318853974342, 0.8918823599815369, 0.0976734533905983, 0.05259339511394501, 0.21037358045578003, 0.6311207413673401, 0.007513342425227165, 0.9626848101615906, 0.9218672513961792, 0.8481643199920654, 0.4032554030418396, 0.5376738905906677, 0.6776711344718933, 0.17833451926708221, 0.035666901618242264, 0.07133380323648453, 0.8481630086898804, 0.9373621940612793, 0.9554736018180847, 0.9527012705802917, 0.9104742407798767, 0.07587285339832306, 0.025290951132774353, 0.9783955216407776, 0.9585995078086853, 0.8670359253883362, 0.09124777466058731, 0.8212299942970276, 0.045623887330293655, 0.045623887330293655, 0.05341365560889244, 0.3738955855369568, 0.14688755571842194, 0.16024097800254822, 0.10682731121778488, 0.0934738963842392, 0.040060244500637054, 0.01335341390222311, 0.876505970954895, 0.06742353737354279, 0.016855884343385696, 0.025283824652433395, 0.008427942171692848, 0.7885580062866211, 0.187751904129982, 0.9855632781982422, 0.8770608901977539, 0.8869240283966064, 0.09854711592197418, 0.7822916507720947, 0.03555871173739433, 0.07111742347478867, 0.07111742347478867, 0.1618242859840393, 0.8091214895248413, 0.12878070771694183, 0.7726842164993286, 0.06455280631780624, 0.8391864895820618, 0.06455280631780624, 0.3437660336494446, 0.0572943389415741, 0.1145886778831482, 0.4010603725910187, 0.1002325564622879, 0.3006976842880249, 0.5011627674102783, 0.9787163734436035, 0.5551404356956482, 0.6404731273651123, 0.7685487270355225, 0.1537097543478012, 0.8731996417045593, 0.09769083559513092, 0.5861450433731079, 0.22794528305530548, 0.03256361186504364, 0.03256361186504364, 0.14910420775413513, 0.7952224016189575, 0.024850700050592422, 0.5367920398712158, 0.07668457925319672, 0.3834228813648224, 0.9080412983894348, 0.04999344050884247, 0.09998688101768494, 0.549927830696106, 0.2999606430530548, 0.9086670279502869, 0.030626237392425537, 0.09187871217727661, 0.3368886113166809, 0.061252474784851074, 0.30626237392425537, 0.12250494956970215, 0.030626237392425537, 0.8770608305931091, 0.29081520438194275, 0.5816304087638855, 0.07270380109548569, 0.02768035978078842, 0.1384018063545227, 0.30448395013809204, 0.05536071956157684, 0.44288575649261475, 0.11302383244037628, 0.11302383244037628, 0.5274445414543152, 0.037674613296985626, 0.07534922659397125, 0.07534922659397125, 0.7846429944038391, 0.9075939059257507, 0.5319927930831909, 0.2627124786376953, 0.05254249647259712, 0.039406873285770416, 0.019703436642885208, 0.01313562411814928, 0.02627124823629856, 0.032839059829711914, 0.01313562411814928, 0.38950157165527344, 0.38950157165527344, 0.9418612122535706, 0.044850535690784454, 0.47337451577186584, 0.4021138548851013, 0.025450242683291435, 0.030540291219949722, 0.015270145609974861, 0.030540291219949722, 0.020360194146633148, 0.005090048536658287, 0.32915541529655457, 0.49373310804367065, 0.917359471321106, 0.8211894035339355, 0.5550199747085571, 0.2633783519268036, 0.4279898405075073, 0.03292229399085045, 0.11522802710533142, 0.016461146995425224, 0.14815032482147217, 0.87706059217453, 0.8918546438217163, 0.05711989104747772, 0.9139182567596436, 0.6398503184318542, 0.2187364399433136, 0.2187364399433136, 0.4374728798866272, 0.07494155317544937, 0.15820994973182678, 0.2997662127017975, 0.22482465207576752, 0.04996103420853615, 0.13322941958904266, 0.008326838724315166, 0.04996103420853615, 0.008326838724315166, 0.4715190529823303, 0.6790646314620972, 0.9421809315681458, 0.5659907460212708, 0.028299538418650627, 0.11319815367460251, 0.1414976865053177, 0.11319815367460251, 0.05588268116116524, 0.08071943372488022, 0.6085003018379211, 0.07451024651527405, 0.031045934185385704, 0.006209186743944883, 0.037255123257637024, 0.09934698790311813, 0.4005485773086548, 0.46515318751335144, 0.09690691530704498, 0.006460460834205151, 0.012920921668410301, 0.006460460834205151, 0.006460460834205151, 0.8434112668037415, 0.053834762424230576, 0.01794492080807686, 0.053834762424230576, 0.9229467511177063, 0.776654064655304, 0.17258979380130768, 0.7263497114181519, 0.21655146777629852, 0.018045956268906593, 0.018045956268906593, 0.022557444870471954, 0.6183276176452637, 0.18693625926971436, 0.1437971293926239, 0.04313913732767105, 0.720913290977478, 0.15139178931713104, 0.10813699662685394, 0.0216273982077837, 0.9711734652519226, 0.8918545842170715, 0.9693701267242432, 0.9583719968795776, 0.4627852141857147, 0.32060420513153076, 0.08363588154315948, 0.033454351127147675, 0.030666489154100418, 0.01393931359052658, 0.019515039399266243, 0.025090763345360756, 0.0027878626715391874, 0.005575725343078375, 0.5082627534866333, 0.27411922812461853, 0.034264903515577316, 0.051397357136011124, 0.011421634815633297, 0.034264903515577316, 0.011421634815633297, 0.03997572138905525, 0.011421634815633297, 0.022843269631266594, 0.7619566917419434, 0.4715980589389801, 0.7648782730102539, 0.17277249693870544, 0.02069670520722866, 0.0017997135873883963, 0.01169813796877861, 0.0026995702646672726, 0.0017997135873883963, 0.0224964190274477, 0.7984436750411987, 0.18051770329475403, 0.001735747093334794, 0.019093219190835953, 0.989862322807312, 0.9431458711624146, 0.021933624520897865, 0.021933624520897865, 0.9090256690979004, 0.09863261878490448, 0.09863261878490448, 0.6904283165931702, 0.042784642428159714, 0.10696160048246384, 0.17648664116859436, 0.2674040198326111, 0.3583213686943054, 0.042784642428159714, 0.005348080303519964, 0.207689106464386, 0.623067319393158, 0.11288545280694962, 0.19183148443698883, 0.27299097180366516, 0.16674582660198212, 0.039841923862695694, 0.07673259824514389, 0.07747040688991547, 0.05976288765668869, 0.0022134403698146343, 0.0007378134177997708, 0.13777802884578705, 0.4060826301574707, 0.03625737875699997, 0.1885383576154709, 0.05801180377602577, 0.03625737875699997, 0.029005901888012886, 0.10152065753936768, 0.49076923727989197, 0.1859859675168991, 0.06524115055799484, 0.09055861085653305, 0.12658730149269104, 0.01557997614145279, 0.004868742544203997, 0.02142246626317501, 0.7826569080352783, 0.8627558350563049, 0.16530263423919678, 0.33060526847839355, 0.33060526847839355, 0.6790626049041748, 0.5772101879119873, 0.2896321415901184, 0.053407348692417145, 0.032866060733795166, 0.002054128795862198, 0.026703674346208572, 0.006162386387586594, 0.004108257591724396, 0.008216515183448792, 0.004108257591724396, 0.01177595742046833, 0.03532787412405014, 0.22374318540096283, 0.7183334231376648, 0.02355191484093666, 0.9711672067642212, 0.5550016164779663, 0.9083001017570496, 0.5585207939147949, 0.13963019847869873, 0.27926039695739746, 0.6010822057723999, 0.16859622299671173, 0.15393568575382233, 0.012827973812818527, 0.03481878712773323, 0.012827973812818527, 0.012827973812818527, 0.7919455170631409, 0.08336269110441208, 0.08336269110441208, 0.02084067277610302, 0.6077051758766174, 0.23224401473999023, 0.03870733454823494, 0.007741467095911503, 0.06967320293188095, 0.007741467095911503, 0.027095133438706398, 0.5895064473152161, 0.3175010085105896, 0.01935981772840023, 0.017423834651708603, 0.016455844044685364, 0.022263789549469948, 0.0029039725195616484, 0.0009679908398538828, 0.013551872223615646, 0.17291636765003204, 0.17291636765003204, 0.17291636765003204, 0.17291636765003204, 0.11527757346630096, 0.11527757346630096, 0.11527757346630096, 0.5954954028129578, 0.23051436245441437, 0.07523732632398605, 0.01760873571038246, 0.009604765102267265, 0.04802382364869118, 0.004802382551133633, 0.004802382551133633, 0.01120555866509676, 0.0016007941449061036, 0.2207537442445755, 0.20943303406238556, 0.2207537442445755, 0.10754669457674026, 0.1415088027715683, 0.09056563675403595, 0.016981055960059166, 0.13161544501781464, 0.18426162004470825, 0.10529235005378723, 0.2632308900356293, 0.2895539700984955, 0.026323087513446808, 0.31931382417678833, 0.6386276483535767, 0.011010820977389812, 0.03303246200084686, 0.9175583124160767, 0.07542715221643448, 0.7542715668678284, 0.07542715221643448, 0.03771357610821724, 0.03771357610821724, 0.8355276584625244, 0.11783082783222198, 0.04284757375717163, 0.9664415121078491, 0.17714889347553253, 0.6864519715309143, 0.022143611684441566, 0.08857444673776627, 0.022143611684441566, 0.9626865983009338, 0.49590927362442017, 0.49590927362442017, 0.38498780131340027, 0.6070961356163025, 0.42639365792274475, 0.5426828265190125, 0.019381530582904816, 0.8861385583877563, 0.389766663312912, 0.47638148069381714, 0.021653704345226288, 0.010826852172613144, 0.021653704345226288, 0.010826852172613144, 0.021653704345226288, 0.021653704345226288, 0.021653704345226288, 0.9629455208778381, 0.9294249415397644, 0.061961665749549866, 0.768714427947998, 0.8212395906448364, 0.9075750708580017, 0.9650057554244995, 0.02044682390987873, 0.08689899742603302, 0.6491866707801819, 0.07156388461589813, 0.010223411954939365, 0.04600535333156586, 0.025558529421687126, 0.09201070666313171, 0.9872795343399048, 0.19260235130786896, 0.15408188104629517, 0.5452128052711487, 0.03555735573172569, 0.029631130397319794, 0.03555735573172569, 0.005926225800067186, 0.29033520817756653, 0.30213743448257446, 0.2596493661403656, 0.06845301389694214, 0.04720897600054741, 0.02124403975903988, 0.009441794827580452, 0.4574541747570038, 0.19591592252254486, 0.11983206868171692, 0.19020964205265045, 0.025678301230072975, 0.0009510481613688171, 0.009510481730103493, 0.6291484236717224, 0.12582968175411224, 0.09151249378919601, 0.13726875185966492, 0.011439061723649502, 0.8742799162864685, 0.25909388065338135, 0.1554563194513321, 0.1554563194513321, 0.3109126389026642, 0.10363754630088806, 0.9873042106628418, 0.02589818276464939, 0.2589818239212036, 0.6215564012527466, 0.05179636552929878, 0.02589818276464939, 0.770374059677124], \"Term\": [\"0\", \"0\", \"0\", \"0\", \"07\", \"0_gorilla_hook\", \"0_ringed_super_mutu\", \"0_super_mutu\", \"0_super_mutu\", \"1\", \"1\", \"1\", \"1\", \"1\", \"1\", \"1\", \"1\", \"100_gift_cert\", \"100_lbs\", \"100_lbs\", \"100_pound_izorline_and_130\", \"106\", \"10_day\", \"10_day\", \"10_day\", \"10_day\", \"10_day\", \"10_day\", \"10_day\", \"10_day\", \"10_day_extravaganza\", \"12_to_15_knots\", \"12_to_15_knots\", \"130_pound\", \"130_pound\", \"130_pound\", \"130_pound_izorline_and_130\", \"130_pound_izorline_spectra\", \"130_to_190\", \"130_to_190\", \"130_to_190\", \"140\", \"140\", \"140\", \"140\", \"140\", \"140_to_180\", \"140_to_180\", \"16\", \"16\", \"16\", \"16\", \"16\", \"16\", \"16\", \"16\", \"160\", \"160\", \"160\", \"160\", \"160\", \"167\", \"18_to_30_lb\", \"1_000\", \"1_2_off_based\", \"2\", \"2\", \"2\", \"2\", \"2\", \"2\", \"2\", \"2\", \"2\", \"2\", \"205\", \"205\", \"205\", \"205\", \"205\", \"20_minutes\", \"212\", \"212\", \"220\", \"220\", \"220\", \"220\", \"220\", \"227\", \"247\", \"247\", \"247\", \"25_to_35\", \"2_fare_in_3\", \"2_or_3_person\", \"3\", \"3\", \"3\", \"3\", \"3\", \"3\", \"3\", \"3\", \"30\", \"30\", \"30\", \"30\", \"30\", \"30\", \"30\", \"31_anglers\", \"31_anglers\", \"31_anglers\", \"32\", \"32\", \"32\", \"32\", \"32\", \"34\", \"34\", \"34\", \"364\", \"375\", \"3_0_mustad\", \"4\", \"4\", \"4\", \"4\", \"4\", \"4\", \"4\", \"4\", \"4\", \"40_pound_big_game\", \"40_pound_izorline\", \"40_pound_izorline\", \"40_pound_range\", \"45_minutes\", \"45_minutes\", \"5\", \"5\", \"5\", \"5\", \"5\", \"5\", \"5\", \"5\", \"5\", \"50_reel\", \"5_0_ringed\", \"5x\", \"6\", \"6\", \"6\", \"6\", \"6\", \"6\", \"6\", \"6\", \"619_226_6006_to_make\", \"619_226_6006_to_make\", \"6470_rod\", \"65_pound_power\", \"6_0_hayabusa\", \"6_0_ringed\", \"7\", \"7\", \"7\", \"7\", \"7\", \"7\", \"7\", \"7\", \"7\", \"76\", \"76\", \"76\", \"76\", \"7_pm_new\", \"7x\", \"8\", \"8\", \"8\", \"8\", \"8\", \"8\", \"8\", \"8\", \"8\", \"9_pm_comes_back\", \"ability\", \"ability\", \"aboard\", \"aboard\", \"aboard\", \"aboard\", \"aboard\", \"aboard\", \"aboard\", \"aboard\", \"aboard\", \"absolute\", \"absolute\", \"accurate_50\", \"action\", \"action\", \"action\", \"action\", \"action\", \"addresses\", \"adult\", \"afternoon\", \"afternoon\", \"afternoon\", \"afternoon\", \"afternoon\", \"afternoon\", \"ages\", \"ages\", \"agreement\", \"air_temps\", \"albacore\", \"albacore\", \"albacore\", \"albacore\", \"albacore\", \"albacore\", \"alcala\", \"alcala\", \"also\", \"also\", \"also\", \"also\", \"also\", \"also\", \"also\", \"also\", \"also\", \"anglers\", \"anglers\", \"anglers\", \"anglers\", \"anglers\", \"anglers\", \"anglers\", \"anglers\", \"annual\", \"annual\", \"annual\", \"annual\", \"annual\", \"annual\", \"annual\", \"another\", \"another\", \"another\", \"another\", \"another\", \"another\", \"another\", \"another\", \"another\", \"around\", \"around\", \"around\", \"around\", \"around\", \"around\", \"around\", \"around\", \"association\", \"attraction\", \"august\", \"august\", \"august\", \"august\", \"avet_50_reel_and_a_calstar\", \"avet_50_reel_and_a_super\", \"avet_reels\", \"avet_reels\", \"avet_reels\", \"avet_reels\", \"avet_reels\", \"avet_reels\", \"avet_reels\", \"back\", \"back\", \"back\", \"back\", \"back\", \"back\", \"back\", \"back\", \"back\", \"backus\", \"bagged\", \"bagged\", \"bagged_with_a_sardine\", \"battle\", \"battle\", \"battle\", \"battle\", \"battle\", \"beauties\", \"beauties\", \"beauties\", \"beauties\", \"beautiful\", \"beautiful\", \"beautiful\", \"beautiful\", \"beautiful\", \"beautiful\", \"beautiful\", \"begun\", \"begun\", \"benitos\", \"best\", \"best\", \"best\", \"best\", \"best\", \"best\", \"best\", \"better\", \"better\", \"better\", \"better\", \"better\", \"better\", \"better\", \"big\", \"big\", \"big\", \"big\", \"big\", \"big\", \"big\", \"big\", \"big\", \"bigfish\", \"bigguns\", \"bigguns\", \"bigguns\", \"billy\", \"billy\", \"billy\", \"bingo\", \"bit\", \"bit\", \"bit\", \"bit\", \"bit\", \"bit\", \"blue_izorline\", \"bluefin\", \"bluefin\", \"bluefin\", \"bluefin\", \"bluefin\", \"bluefin\", \"bluefin\", \"bluefin_tuna\", \"bluefin_tuna\", \"bluefin_tuna\", \"bluefin_tuna\", \"bluefin_tuna\", \"bluefin_tuna\", \"bluefin_tuna\", \"boat\", \"boat\", \"boat\", \"boat\", \"boat\", \"boat\", \"boat\", \"boat\", \"boat\", \"boat\", \"boatload\", \"boats_kite_rig\", \"bombs\", \"bombs_and_salas\", \"bombs_and_salas\", \"bombs_and_salas\", \"brakes\", \"brakes\", \"brasil\", \"bud_edwards\", \"busy\", \"busy\", \"busy\", \"busy\", \"ca\", \"ca\", \"ca\", \"ca\", \"ca\", \"california\", \"california\", \"california\", \"call\", \"call\", \"call\", \"call\", \"call\", \"call\", \"call_in_for_more_details_call_the_office\", \"came\", \"came\", \"came\", \"came\", \"came\", \"came\", \"captain_jeff_debuys\", \"catch\", \"catch\", \"catch\", \"catch\", \"catch\", \"catch\", \"catch\", \"catch\", \"catch\", \"caught\", \"caught\", \"caught\", \"caught\", \"caught\", \"caught\", \"caught\", \"caught\", \"cedros\", \"cedros\", \"cedros\", \"cedros_island\", \"cedros_island\", \"cedros_island\", \"certain\", \"chaeil\", \"charge\", \"charter\", \"charter\", \"charter\", \"charter\", \"charter\", \"charter\", \"charter\", \"chartermaster\", \"chartermaster\", \"chartermaster\", \"chartermaster\", \"chartermaster\", \"chartermaster\", \"chef\", \"chef\", \"chef\", \"chef\", \"chef\", \"child\", \"cindy\", \"cindy\", \"class\", \"class\", \"click\", \"click\", \"cole\", \"conduct\", \"congratulations\", \"congratulations\", \"cost\", \"cost\", \"council\", \"couple_of_hours\", \"cows\", \"cows\", \"cows\", \"cows\", \"cows\", \"cows\", \"cows\", \"crew\", \"crew\", \"crew\", \"crew\", \"crew\", \"crew\", \"crew\", \"crew\", \"crew\", \"daily_limits\", \"daily_limits\", \"day\", \"day\", \"day\", \"day\", \"day\", \"day\", \"day\", \"day\", \"day\", \"day\", \"days\", \"days\", \"days\", \"days\", \"days\", \"days\", \"days\", \"days\", \"days\", \"days\", \"debuys\", \"debuys\", \"debuys\", \"debuys\", \"debuys\", \"departed\", \"departed\", \"departed\", \"departed\", \"departed\", \"departed\", \"departed\", \"departed_yesterday\", \"departed_yesterday\", \"departed_yesterday\", \"departing\", \"departing\", \"departing\", \"departing\", \"departing_friday_may_seventh\", \"describe\", \"despite\", \"despite\", \"destinations\", \"dissipate\", \"docked\", \"docked\", \"donated\", \"donated\", \"donated\", \"donations\", \"dorado\", \"dorado\", \"dorado\", \"dorado\", \"dorado\", \"dorado\", \"doug\", \"doug\", \"doug\", \"doug\", \"doug\", \"doug\", \"drifted\", \"dubuys\", \"due\", \"due\", \"dvd\", \"eager\", \"eager\", \"eager\", \"eager\", \"ed_and_michele\", \"ed_and_michele\", \"ed_rolf\", \"ed_tom\", \"effort\", \"eighth_place\", \"elated\", \"else\", \"ensure\", \"etc_this_should_be_a_blast_to_spend_with_your_family\", \"ever_would_like\", \"every\", \"every\", \"every\", \"every\", \"every\", \"every\", \"every\", \"every\", \"everyone\", \"everyone\", \"everyone\", \"everyone\", \"everyone\", \"everyone\", \"everyone\", \"everyone\", \"everyone\", \"everyone_who_made_the_trip\", \"evidenced\", \"exactly\", \"exactly\", \"excellent\", \"excellent\", \"excellent\", \"excellent\", \"excellent\", \"excellent\", \"excellent\", \"except\", \"except\", \"except\", \"except\", \"expected\", \"expected\", \"expected\", \"expected\", \"expected\", \"expo\", \"extravaganza\", \"extravaganza\", \"extravaganza\", \"extravaganza\", \"extravaganza\", \"extravaganza\", \"fairgrounds\", \"family_fun\", \"family_group_will_have_there_own_stateroom\", \"fantastic\", \"fantastic\", \"fantastic\", \"fantastic\", \"fantastic\", \"fantastic\", \"fantastic\", \"fare_for_mothers_is_1\", \"fetsch\", \"fight\", \"fight\", \"fight\", \"first\", \"first\", \"first\", \"first\", \"first\", \"first\", \"first\", \"first\", \"first\", \"first_place\", \"first_place\", \"first_place\", \"fish\", \"fish\", \"fish\", \"fish\", \"fish\", \"fish\", \"fish\", \"fish\", \"fish\", \"fished\", \"fished\", \"fished\", \"fished\", \"fished\", \"fished\", \"fishing\", \"fishing\", \"fishing\", \"fishing\", \"fishing\", \"fishing\", \"fishing\", \"fishing\", \"fishing\", \"fishing\", \"five\", \"five\", \"five\", \"five\", \"five\", \"fixed\", \"flat_seas\", \"fluorocarbon_and_130_pound\", \"follows_first_place\", \"forecast\", \"forecast\", \"fought\", \"fought\", \"fourth_place\", \"franke\", \"franke\", \"fransisco\", \"frayed\", \"friday_date__stamp\", \"ft\", \"full_fare\", \"full_fare_tickets_third\", \"gear\", \"gear\", \"gear\", \"gear\", \"gear\", \"gear\", \"gear\", \"gear\", \"gesselman\", \"get\", \"get\", \"get\", \"get\", \"get\", \"get\", \"get\", \"get\", \"gift_cert\", \"gift_certificate\", \"give\", \"give\", \"give\", \"give\", \"give\", \"give\", \"give\", \"giveaways\", \"giveaways\", \"giveaways\", \"giveaways\", \"giveaways\", \"go\", \"go\", \"go\", \"go\", \"go\", \"go\", \"go\", \"go\", \"go\", \"go\", \"going\", \"going\", \"going\", \"going\", \"going\", \"going\", \"going\", \"going\", \"going_to_camp\", \"going_to_give\", \"going_to_try\", \"going_to_try\", \"good\", \"good\", \"good\", \"good\", \"good\", \"good\", \"good\", \"good\", \"good\", \"good\", \"good_grade\", \"good_grade\", \"good_grade\", \"good_grade\", \"got\", \"got\", \"got\", \"got\", \"got\", \"got\", \"got\", \"got\", \"grade\", \"grade\", \"grade\", \"grade\", \"graduation\", \"graf_tech_rod\", \"grande\", \"graphtech\", \"great\", \"great\", \"great\", \"great\", \"great\", \"great\", \"great\", \"great\", \"great\", \"great_giveaways\", \"great_giveaways\", \"great_giveaways\", \"great_giveaways\", \"great_job\", \"great_job\", \"great_job\", \"group\", \"group\", \"group\", \"group\", \"group\", \"group\", \"group\", \"group\", \"groups\", \"groups\", \"guys\", \"guys\", \"guys\", \"guys\", \"guys\", \"guys\", \"guys\", \"guys\", \"guys\", \"h_rod\", \"h_rod\", \"hand_full\", \"hand_full\", \"handing\", \"hands\", \"happy\", \"happy\", \"happy\", \"happy\", \"happy\", \"happy\", \"happy\", \"happy\", \"happy_birthday\", \"hatch\", \"hayabusa_hooks\", \"headed_home\", \"headed_north\", \"heck\", \"heck\", \"heisig\", \"held\", \"held\", \"held\", \"held\", \"hello\", \"hello\", \"hello\", \"hello\", \"hello\", \"hello\", \"hello_everyone\", \"hello_everyone\", \"hello_everyone\", \"hello_everyone\", \"hello_everyone\", \"hello_everyone\", \"hello_everyone\", \"hellwig\", \"hellwig\", \"helping\", \"helping\", \"high_hopes\", \"high_hopes\", \"high_hopes\", \"high_hopes\", \"high_hopes\", \"high_hopes\", \"highly\", \"highly\", \"hittin\", \"homan\", \"home_to_pt_loma\", \"home_to_pt_loma\", \"honorable_mention_goes\", \"hook\", \"hook\", \"hook\", \"hook\", \"hook\", \"hope_to_see\", \"hope_to_see\", \"hot\", \"hot\", \"hot\", \"hot\", \"hot\", \"hot\", \"hot\", \"hot\", \"hour_and_a_half\", \"hrs\", \"hrs\", \"hrs\", \"huge_success\", \"huge_thanks\", \"independence\", \"independence\", \"independence\", \"independence\", \"independence\", \"independence\", \"independence\", \"independence\", \"independence\", \"independence\", \"indy\", \"indy\", \"indy\", \"indy\", \"indy\", \"indy\", \"indy\", \"indy\", \"indy_boys\", \"indy_boys\", \"indy_boys\", \"indy_boys\", \"indy_boys\", \"indy_crew\", \"indy_crew\", \"indy_crew\", \"indy_crew\", \"indy_crew\", \"indy_crew\", \"indy_crew\", \"indy_guys\", \"indy_guys\", \"indy_jacket\", \"islands_and_go_in_to_avalon_catalina\", \"isnt\", \"issac\", \"items\", \"items\", \"iwamiya\", \"iwamiya\", \"iwanaga\", \"jack_pot\", \"jack_pot_winners\", \"jack_pot_winners_are_as_follows\", \"jackpot\", \"jackpot\", \"jackpot\", \"jackpot\", \"jackpot\", \"jackpot\", \"jackpot\", \"jackpot_winner\", \"jackpot_winners\", \"jackpot_winners\", \"jackpot_winners\", \"jackpot_winners\", \"jackpot_winners_are_as_follows_first\", \"jan\", \"jan\", \"jan\", \"jeff\", \"jeff\", \"jeff\", \"jeff\", \"jeff\", \"jeff\", \"jeff\", \"jeff\", \"jeff\", \"jeff_and_the_indy_crew\", \"jeff_and_the_indy_crew\", \"jeff_and_the_indy_crew\", \"jeff_and_the_indy_crew\", \"jeff_and_the_indy_crew\", \"jeff_and_the_indy_crew\", \"jeff_called\", \"jeff_called\", \"jenny\", \"jim_chivas\", \"jim_chivas\", \"jim_chivas\", \"john\", \"john\", \"john\", \"john\", \"john\", \"john\", \"john\", \"kerry\", \"kevin_justin\", \"khaki\", \"kids\", \"kids\", \"kids\", \"kids\", \"kids\", \"kimuras_tackle\", \"kimuras_tackle\", \"kimuras_tackle\", \"kimuras_tackle\", \"kimuras_tackle\", \"kimuras_tackle\", \"kit\", \"kit\", \"kite\", \"kite\", \"kite\", \"kite\", \"kyle\", \"kyle\", \"kyle\", \"kyle\", \"kyle\", \"kyle\", \"kyle_john\", \"kyle_john\", \"kyle_rooster_karcher\", \"lackey\", \"lakewood\", \"landed_a_240\", \"landed_a_240\", \"last\", \"last\", \"last\", \"last\", \"last\", \"last\", \"last\", \"last_couple\", \"last_two_days\", \"last_two_days\", \"lb\", \"lb\", \"lb\", \"lb\", \"lb\", \"lb\", \"lb\", \"lb_range\", \"lb_range\", \"lb_range\", \"lbs\", \"lbs\", \"lbs\", \"lbs\", \"lbs\", \"lbs\", \"les\", \"les\", \"les\", \"license\", \"like_yesterday\", \"lil\", \"limited_stateroom_accommodations_certain\", \"line\", \"line\", \"line\", \"line\", \"line\", \"line\", \"line\", \"line_one_spectra\", \"lingcod\", \"long_range\", \"long_range\", \"long_range\", \"long_range\", \"long_range\", \"long_range\", \"long_range\", \"long_range\", \"looking_forward_to_seeing\", \"lot\", \"lot\", \"lot\", \"lot\", \"lot\", \"lot\", \"lot\", \"lots\", \"lots\", \"lots\", \"lots\", \"lots\", \"lots\", \"lures\", \"lures\", \"lures\", \"lures\", \"luxury\", \"mackerel\", \"mackerel\", \"mackerel\", \"mackerel\", \"mackerel\", \"majority\", \"majority\", \"manage\", \"many\", \"many\", \"many\", \"many\", \"many\", \"many\", \"many\", \"many_thanks\", \"many_thanks\", \"many_thanks\", \"mark_paul\", \"mark_paul\", \"mark_paul\", \"mark_paul\", \"mass\", \"matt\", \"matt\", \"matt\", \"matt\", \"matt\", \"matt\", \"matt\", \"matt_jesus\", \"matt_tyler\", \"matt_tyler\", \"mavar\", \"may\", \"may\", \"may\", \"may\", \"may\", \"may\", \"may\", \"mckenzie\", \"meltons\", \"memory\", \"methods_were_the_hot_ticket\", \"mexican\", \"mexican\", \"mexican\", \"mike\", \"mike\", \"mike\", \"miller\", \"minutes\", \"minutes\", \"minutes\", \"minutes\", \"mkt\", \"mode\", \"mode\", \"moe\", \"moe\", \"morning\", \"morning\", \"morning\", \"morning\", \"morning\", \"morning\", \"morning\", \"morning\", \"morning\", \"mothers\", \"munn\", \"mutu_hook\", \"nearly\", \"necessary\", \"necessary\", \"needless_to_say\", \"newman\", \"news\", \"news\", \"news\", \"news\", \"news\", \"next_year\", \"next_year\", \"next_year\", \"next_years\", \"next_years\", \"next_years\", \"nice\", \"nice\", \"nice\", \"nice\", \"nice\", \"nice\", \"nice\", \"nice\", \"nick\", \"night\", \"night\", \"night\", \"night\", \"night\", \"night\", \"nishi\", \"nishi\", \"nite\", \"norred\", \"north\", \"north\", \"north\", \"north\", \"observed\", \"one\", \"one\", \"one\", \"one\", \"one\", \"one\", \"one\", \"one\", \"one\", \"one\", \"oscar\", \"oscar\", \"oscar\", \"oscar\", \"outstanding\", \"outstanding\", \"outstanding\", \"outstanding\", \"outstanding\", \"outstanding\", \"outstanding\", \"overall\", \"overall\", \"overcast\", \"overnight\", \"overnight\", \"owner\", \"owner\", \"owner\", \"owner\", \"padick\", \"parts\", \"passengers\", \"passengers\", \"passengers\", \"passengers\", \"passengers\", \"passengers\", \"passengers\", \"passengers\", \"passport\", \"passport\", \"patrick\", \"paul_m\", \"paul_m\", \"permits\", \"person_staterooms_this_special_is_limited\", \"pete\", \"pete\", \"phenomenal\", \"phenomenal\", \"picture_perfect\", \"pie\", \"pie\", \"piecing\", \"pisano\", \"place\", \"place\", \"place\", \"place\", \"place\", \"place_fell\", \"place_went\", \"place_went\", \"plan\", \"plan\", \"plan\", \"plan\", \"planned\", \"planning\", \"planning_to_try\", \"please\", \"please\", \"please\", \"please\", \"please\", \"please\", \"please_wish_us_luck\", \"please_wish_us_luck\", \"please_wish_us_luck\", \"please_wish_us_luck\", \"please_wish_us_luck\", \"pm\", \"pm\", \"pm\", \"pm\", \"pm\", \"point_loma_sportfishing_august\", \"posed\", \"posed\", \"posed\", \"postings\", \"pound\", \"pound\", \"pound\", \"pound\", \"pound\", \"pound\", \"pound\", \"pound\", \"pound_izorline\", \"pound_izorline\", \"pound_range\", \"pound_range\", \"pound_yellowfin\", \"pound_yellowfin\", \"pound_yellowfin\", \"pound_yellowfin\", \"pound_yellowfin\", \"pounder\", \"pounder\", \"pounds\", \"pounds\", \"pounds\", \"pounds\", \"pounds\", \"pounds\", \"pounds\", \"precautions\", \"preparation\", \"preparation\", \"prepares\", \"president\", \"pro_spectra\", \"processing\", \"processing\", \"processing\", \"processing\", \"productions\", \"promar\", \"prospect\", \"putting\", \"putting\", \"putting\", \"putting\", \"putting\", \"quick_turn_a_round\", \"quick_turn_around\", \"quick_turn_around\", \"r_s_w\", \"range\", \"range\", \"range\", \"range\", \"rather\", \"rather\", \"rather\", \"ready\", \"ready\", \"ready\", \"ready\", \"ready\", \"ready\", \"ready\", \"really\", \"really\", \"really\", \"really\", \"really\", \"really\", \"really\", \"recommend\", \"recommend\", \"recommend\", \"reduced\", \"reel\", \"reel\", \"reel\", \"reel\", \"reel\", \"reel\", \"reel\", \"reel_and_a_calstar\", \"reel_and_a_calstar\", \"reel_and_a_super_seeker_6463\", \"reels\", \"reels\", \"reels\", \"reels\", \"reels\", \"regulars\", \"regulars\", \"regulars\", \"regulation\", \"remaining\", \"remaining\", \"report\", \"report\", \"report\", \"report\", \"report\", \"report\", \"report\", \"reports\", \"reports\", \"reports\", \"reports\", \"reports\", \"reports\", \"reports\", \"required\", \"requirements\", \"requirements\", \"reservation\", \"reservation\", \"reservation\", \"rest\", \"rest\", \"rest\", \"rest\", \"rest\", \"rest\", \"restrictions_apply_with_two\", \"returned\", \"returned\", \"returned\", \"returned\", \"returned\", \"returned\", \"returned\", \"richard_hightower\", \"richard_hightower\", \"rick_ozaki\", \"rick_ozaki\", \"rick_ozaki\", \"rick_ozaki\", \"rick_ozaki\", \"rick_ozaki\", \"rick_ozaki\", \"rick_ozaki\", \"rick_ozaki\", \"ride_home\", \"ride_home\", \"ride_home\", \"rigging\", \"rigging\", \"rigging\", \"rigging\", \"rigging\", \"ritchie\", \"robert\", \"robert\", \"rod\", \"rod\", \"rod\", \"rod\", \"rolf\", \"rolf\", \"rolf\", \"rolf\", \"rolf\", \"romolino\", \"room_for_1_family\", \"rooms\", \"rundown\", \"rundown\", \"running\", \"running\", \"running\", \"running\", \"running\", \"running\", \"running\", \"running_for_points_south\", \"sac\", \"said\", \"said\", \"said\", \"said\", \"said\", \"said_he_bagged\", \"said_he_bagged\", \"sam\", \"sam\", \"sam\", \"sam\", \"sam\", \"sam\", \"san_diego\", \"san_diego\", \"san_diego\", \"san_diego\", \"san_diego\", \"san_diego\", \"san_diego\", \"san_diego\", \"san_francisco\", \"sardine\", \"sardine\", \"sardine\", \"sardine\", \"sardine\", \"sat_phone\", \"saturday_night_after_dinner\", \"savings\", \"schaffer\", \"schaffer\", \"schedule\", \"schedule\", \"schedule\", \"schedule\", \"scrap\", \"scratching\", \"sea_state\", \"sea_ya_later\", \"sea_ya_then_jeff\", \"sea_ya_then_jeff\", \"sea_ya_then_jeff\", \"sea_you_all_next_year\", \"seal_beach\", \"sean_frank\", \"seas\", \"seas\", \"seas\", \"seas\", \"season\", \"season\", \"season\", \"season\", \"season\", \"season\", \"season\", \"season\", \"second_place\", \"second_place\", \"second_place\", \"second_place\", \"second_place\", \"second_place_goes\", \"second_place_goes\", \"second_place_went\", \"see_the_island_or_shop\", \"seeing\", \"seeing\", \"send\", \"send\", \"send\", \"send\", \"september\", \"september\", \"sfr\", \"sfr\", \"shimano\", \"shimano\", \"shimano\", \"shirts\", \"shirts\", \"shirts\", \"shirts\", \"shop\", \"shop\", \"shop\", \"shore\", \"shorter\", \"six_foot\", \"skies\", \"skies\", \"skipper_jeff\", \"skipper_jeff_debuys\", \"skipper_jeff_debuys\", \"skipper_jeff_debuys\", \"skipper_jeff_debuys\", \"skipper_jeff_debuys\", \"smaller\", \"smaller\", \"smaller\", \"sold\", \"sold\", \"sold\", \"something_different\", \"son\", \"son\", \"son\", \"son\", \"sound\", \"special\", \"special\", \"special\", \"special\", \"special\", \"special\", \"special\", \"special_mothers_go\", \"special_thanks\", \"special_thanks\", \"special_thanks\", \"sponsored\", \"sponsored\", \"sponsored\", \"sponsored\", \"sponsored\", \"sportfishing\", \"sportfishing\", \"sportfishing\", \"sportfishing\", \"sportfishing\", \"sportfishing\", \"spots_available\", \"squid_under_the_kite\", \"start\", \"start\", \"start\", \"start\", \"start\", \"start\", \"start\", \"start\", \"start\", \"starter\", \"starter\", \"steady_action\", \"steady_action\", \"still\", \"still\", \"still\", \"still\", \"still\", \"still\", \"still\", \"still\", \"stock\", \"stock\", \"stockton\", \"street\", \"submitted\", \"sunday\", \"sunday\", \"sunday\", \"sunday\", \"sunday\", \"sunday\", \"sunday_may_ninth\", \"super_mutu\", \"supply_of_sardines\", \"supply_of_sardines\", \"sweatshirts\", \"sweet\", \"sweet\", \"sweet\", \"tackle\", \"tackle\", \"tackle\", \"tackle\", \"tackle\", \"tackle\", \"tackle\", \"tackle\", \"tackle\", \"task\", \"tea\", \"terry_sandoval_of_anaheim\", \"thank\", \"thank\", \"thank\", \"thank\", \"thank\", \"thanks\", \"thanks\", \"thanks\", \"thanks\", \"thanks\", \"thanks\", \"thanks\", \"thanks\", \"thanks_for_checking\", \"thanks_for_checking\", \"thanks_for_checking\", \"thanks_for_checking\", \"thanks_for_checking\", \"thanks_for_checking\", \"thanks_for_checking\", \"thanks_for_checking_in_on_us\", \"thanks_for_checking_in_on_us\", \"thanks_for_checking_in_on_us\", \"thanks_for_checking_in_on_us\", \"thanks_to_everyone_who_made\", \"theres\", \"theres\", \"things\", \"things\", \"things\", \"things\", \"things\", \"third\", \"third\", \"third\", \"third\", \"third_place\", \"third_place\", \"third_place\", \"third_place\", \"tiagra\", \"tied_to_100\", \"till\", \"till_dark\", \"time\", \"time\", \"time\", \"time\", \"time\", \"time\", \"time\", \"time\", \"time\", \"time\", \"time__stamp\", \"time__stamp\", \"time__stamp\", \"time__stamp\", \"time__stamp\", \"time__stamp\", \"time__stamp\", \"time__stamp\", \"time__stamp\", \"time__stamp\", \"tireless\", \"toadies\", \"today\", \"today\", \"today\", \"today\", \"today\", \"today\", \"today\", \"today\", \"tomorrow\", \"tomorrow\", \"tomorrow\", \"tomorrow\", \"tomorrow_in_hopes\", \"tomorrow_sea_ya\", \"tomorrow_sea_ya\", \"tomorrow_sea_ya\", \"tomorrows_destination\", \"ton\", \"ton\", \"ton\", \"took\", \"took\", \"took\", \"took\", \"took\", \"took\", \"took\", \"top_honors\", \"top_honors\", \"trip\", \"trip\", \"trip\", \"trip\", \"trip\", \"trip\", \"trip\", \"trip\", \"trip\", \"trip\", \"trips\", \"trips\", \"trips\", \"trips\", \"trips\", \"trips\", \"trips\", \"trips\", \"tuna\", \"tuna\", \"tuna\", \"tuna\", \"tuna\", \"tuna\", \"tuna\", \"tuna\", \"twenty_second_st_landing\", \"tyler\", \"understanding\", \"understanding\", \"understanding\", \"uns\", \"us\", \"us\", \"us\", \"us\", \"us\", \"us\", \"us\", \"us\", \"us\", \"us\", \"used\", \"used\", \"used\", \"used\", \"used\", \"used_130_pound\", \"valid\", \"various\", \"venture\", \"venture\", \"venture\", \"wahoo\", \"wahoo\", \"wahoo\", \"wahoo\", \"wahoo\", \"wahoo\", \"wahoo\", \"want_to_thank\", \"want_to_thank\", \"want_to_thank\", \"want_to_thank\", \"way\", \"way\", \"way\", \"way\", \"way\", \"way\", \"way\", \"weather\", \"weather\", \"weather\", \"weather\", \"weather\", \"weather\", \"weather\", \"weather\", \"weather\", \"website\", \"website\", \"website\", \"website\", \"website\", \"website\", \"website\", \"well\", \"well\", \"well\", \"well\", \"well\", \"well\", \"well\", \"well\", \"well\", \"well\", \"went\", \"went\", \"went\", \"went\", \"went\", \"went\", \"went\", \"west_coast_marketing\", \"west_coast_marketing\", \"west_coast_marketing\", \"west_coast_marketing\", \"west_coast_marketing\", \"west_coast_marketing\", \"wind\", \"wind\", \"wind\", \"wind\", \"winning_a_seeker\", \"wish_us\", \"wish_us\", \"wish_us\", \"wish_us\", \"wish_us\", \"wish_us_luck_jeff\", \"wish_us_luck_jeff\", \"wish_us_luck_jeff\", \"wish_us_luck_matt\", \"won\", \"won\", \"won\", \"won\", \"won\", \"won_an_avet_reel\", \"won_first_place\", \"won_first_place\", \"won_second_place\", \"won_second_place\", \"won_third_place\", \"won_third_place\", \"won_third_place\", \"work_north\", \"would\", \"would\", \"would\", \"would\", \"would\", \"would\", \"would\", \"would\", \"would\", \"would_like_to_thank_everyone\", \"wrapped\", \"wrapped\", \"wrapping\", \"wsb\", \"xh_rod\", \"xxh_rod\", \"year\", \"year\", \"year\", \"year\", \"year\", \"year\", \"year\", \"year\", \"yellas\", \"yellowfin\", \"yellowfin\", \"yellowfin\", \"yellowfin\", \"yellowfin\", \"yellowfin\", \"yellowfin\", \"yellowfin_tuna\", \"yellowfin_tuna\", \"yellowfin_tuna\", \"yellowfin_tuna\", \"yellowfin_tuna\", \"yellowfin_tuna\", \"yellowfin_tuna\", \"yellowtail\", \"yellowtail\", \"yellowtail\", \"yellowtail\", \"yellowtail\", \"yellowtail\", \"yellowtail\", \"yesterday\", \"yesterday\", \"yesterday\", \"yesterday\", \"yesterday\", \"yf\", \"yft\", \"yft\", \"yft\", \"yft\", \"yft\", \"yo_yo\", \"youngs_tackle\", \"youngs_tackle\", \"youngs_tackle\", \"youngs_tackle\", \"youngs_tackle\", \"youre\"]}, \"R\": 30, \"lambda.step\": 0.01, \"plot.opts\": {\"xlab\": \"PC1\", \"ylab\": \"PC2\"}, \"topic.order\": [2, 9, 5, 6, 1, 4, 7, 10, 3, 8]};\n",
       "\n",
       "function LDAvis_load_lib(url, callback){\n",
       "  var s = document.createElement('script');\n",
       "  s.src = url;\n",
       "  s.async = true;\n",
       "  s.onreadystatechange = s.onload = callback;\n",
       "  s.onerror = function(){console.warn(\"failed to load library \" + url);};\n",
       "  document.getElementsByTagName(\"head\")[0].appendChild(s);\n",
       "}\n",
       "\n",
       "if(typeof(LDAvis) !== \"undefined\"){\n",
       "   // already loaded: just create the visualization\n",
       "   !function(LDAvis){\n",
       "       new LDAvis(\"#\" + \"ldavis_el109981406390783021605433869009\", ldavis_el109981406390783021605433869009_data);\n",
       "   }(LDAvis);\n",
       "}else if(typeof define === \"function\" && define.amd){\n",
       "   // require.js is available: use it to load d3/LDAvis\n",
       "   require.config({paths: {d3: \"https://cdnjs.cloudflare.com/ajax/libs/d3/3.5.5/d3.min\"}});\n",
       "   require([\"d3\"], function(d3){\n",
       "      window.d3 = d3;\n",
       "      LDAvis_load_lib(\"https://cdn.rawgit.com/bmabey/pyLDAvis/files/ldavis.v1.0.0.js\", function(){\n",
       "        new LDAvis(\"#\" + \"ldavis_el109981406390783021605433869009\", ldavis_el109981406390783021605433869009_data);\n",
       "      });\n",
       "    });\n",
       "}else{\n",
       "    // require.js not available: dynamically load d3 & LDAvis\n",
       "    LDAvis_load_lib(\"https://cdnjs.cloudflare.com/ajax/libs/d3/3.5.5/d3.min.js\", function(){\n",
       "         LDAvis_load_lib(\"https://cdn.rawgit.com/bmabey/pyLDAvis/files/ldavis.v1.0.0.js\", function(){\n",
       "                 new LDAvis(\"#\" + \"ldavis_el109981406390783021605433869009\", ldavis_el109981406390783021605433869009_data);\n",
       "            })\n",
       "         });\n",
       "}\n",
       "</script>"
      ],
      "text/plain": [
       "PreparedData(topic_coordinates=              x         y  topics  cluster       Freq\n",
       "topic                                                \n",
       "1      0.220555  0.065867       1        1  32.443165\n",
       "8      0.149693  0.024541       2        1  23.047165\n",
       "4      0.022457  0.006021       3        1  13.056381\n",
       "5     -0.005929 -0.145060       4        1  10.564273\n",
       "0      0.003588 -0.244999       5        1   9.154432\n",
       "3     -0.039246  0.116559       6        1   3.322523\n",
       "6     -0.092344  0.004768       7        1   3.099772\n",
       "9     -0.117392  0.068418       8        1   2.771993\n",
       "2      0.033186  0.061922       9        1   1.760199\n",
       "7     -0.174569  0.041964      10        1   0.780102, topic_info=     Category         Freq        Term        Total  loglift  logprob\n",
       "79    Default  1355.000000        trip  1355.000000  30.0000  30.0000\n",
       "58    Default  1111.000000       today  1111.000000  29.0000  29.0000\n",
       "271   Default   756.000000          lb   756.000000  28.0000  28.0000\n",
       "13    Default  1457.000000        fish  1457.000000  27.0000  27.0000\n",
       "11    Default  1867.000000         day  1867.000000  26.0000  26.0000\n",
       "...       ...          ...         ...          ...      ...      ...\n",
       "1604  Topic10     1.894703  long_range    32.810055   2.0018  -6.0143\n",
       "772   Topic10     2.091132   san_diego    99.634743   0.9897  -5.9157\n",
       "31    Topic10     2.310282        time   358.697723  -0.1916  -5.8160\n",
       "23    Topic10     2.187016         one   431.223083  -0.4306  -5.8708\n",
       "77    Topic10     2.059029       start   152.257706   0.5502  -5.9311\n",
       "\n",
       "[782 rows x 6 columns], token_table=      Topic      Freq           Term\n",
       "term                                \n",
       "3046      3  0.658129              0\n",
       "3046      4  0.071536              0\n",
       "3046      5  0.243221              0\n",
       "3046      7  0.028614              0\n",
       "6109      2  0.937003             07\n",
       "...     ...       ...            ...\n",
       "477       3  0.258982  youngs_tackle\n",
       "477       4  0.621556  youngs_tackle\n",
       "477       6  0.051796  youngs_tackle\n",
       "477       8  0.025898  youngs_tackle\n",
       "3686      7  0.770374          youre\n",
       "\n",
       "[1939 rows x 3 columns], R=30, lambda_step=0.01, plot_opts={'xlab': 'PC1', 'ylab': 'PC2'}, topic_order=[2, 9, 5, 6, 1, 4, 7, 10, 3, 8])"
      ]
     },
     "execution_count": 125,
     "metadata": {},
     "output_type": "execute_result"
    }
   ],
   "source": [
    "vis = pyLDAvis.gensim.prepare(lda_model, corpus, id2word)\n",
    "vis"
   ]
  },
  {
   "cell_type": "code",
   "execution_count": 126,
   "metadata": {},
   "outputs": [],
   "source": [
    "# from pyLDAvis import save_html\n",
    "\n",
    "# save_html(vis, \"september_07_2021_LDA.html\")"
   ]
  },
  {
   "cell_type": "markdown",
   "metadata": {},
   "source": [
    "# TODO: Use topic matrix like word vectors. Use word similarity to find fish names?\n",
    "# TODO: documents that have high theta values for interesting topics?\n",
    "# TODO: find a way to extract fish species and measure mentions\n",
    "# TODO: weather vs post content"
   ]
  },
  {
   "cell_type": "markdown",
   "metadata": {},
   "source": [
    "```\n",
    "conda install -c conda-forge spacy\n",
    "conda install -c conda-forge spacy-lookups-data\n",
    "python -m spacy download en_core_web_sm\n",
    "python -m spacy download en_core_web_lg\n",
    "```"
   ]
  },
  {
   "cell_type": "markdown",
   "metadata": {},
   "source": [
    "# What can we learn from the data if we use look at word embeddings and entity types?"
   ]
  },
  {
   "cell_type": "code",
   "execution_count": 127,
   "metadata": {},
   "outputs": [],
   "source": [
    "import spacy\n",
    "\n",
    "nlp = spacy.load(\"en_core_web_lg\")\n",
    "\n",
    "def print_doc_with_context(texts):\n",
    "    for doc in nlp.pipe(texts, disable=[\"tagger\", \"parser\"]):\n",
    "        # Do something with the doc here\n",
    "        print([(ent.text, ent.label_) for ent in doc.ents])"
   ]
  },
  {
   "cell_type": "code",
   "execution_count": 128,
   "metadata": {},
   "outputs": [
    {
     "name": "stdout",
     "output_type": "stream",
     "text": [
      "[('Another good day', 'DATE'), ('the morning', 'TIME'), ('Yellowfin Tuna', 'PERSON'), ('Yellowtail', 'PERSON'), ('Yellowtail', 'PERSON'), ('Brian Indy', 'PERSON')]\n"
     ]
    }
   ],
   "source": [
    "doc_num = 2\n",
    "print_doc_with_context(fishing_data.post_body[doc_num:doc_num + 1])"
   ]
  },
  {
   "cell_type": "code",
   "execution_count": 129,
   "metadata": {},
   "outputs": [],
   "source": [
    "OOV_words  = set()\n",
    "fish_names = set()"
   ]
  },
  {
   "cell_type": "code",
   "execution_count": 130,
   "metadata": {},
   "outputs": [],
   "source": [
    "for doc in nlp.pipe(fishing_data.post_body, disable=[\"parser\"]):\n",
    "    for tok in doc:\n",
    "        if tok.is_oov:\n",
    "            OOV_words.update({str(tok).lower()})\n",
    "            continue\n",
    "        # is this word semantically similar to yellowtail? keep it for further checks\n",
    "        if tok.similarity(nlp.vocab[\"Yellowtail\"]) >= 0.40:\n",
    "            fish_names.update({str(tok).lower()})\n",
    "            #print(tok.lemma_, tok.ent_type_, )"
   ]
  },
  {
   "cell_type": "markdown",
   "metadata": {},
   "source": [
    "Out of vocabulary words (OOV) are those the model hasn't seen in training. Tracking these words from our own corpus is a great way to find jargon and misspellings. The more notable ones will be corrected by handle or added to a jargon mapping so we can explicitly convert the jargon to a more common phrase."
   ]
  },
  {
   "cell_type": "code",
   "execution_count": 131,
   "metadata": {
    "scrolled": true
   },
   "outputs": [
    {
     "data": {
      "text/plain": [
       "{'112410',\n",
       " '121910',\n",
       " '1904b',\n",
       " '1904c',\n",
       " '2sp',\n",
       " '2wahoo',\n",
       " '50ls',\n",
       " '50sds',\n",
       " '5777',\n",
       " '600n',\n",
       " '6364',\n",
       " '6455',\n",
       " '6460',\n",
       " '6463',\n",
       " '6465',\n",
       " '6470',\n",
       " '66463',\n",
       " '6xs',\n",
       " '700xh',\n",
       " '7455',\n",
       " '7460',\n",
       " '7465',\n",
       " '74656',\n",
       " '7567',\n",
       " '7691',\n",
       " '7xs',\n",
       " '91450',\n",
       " '94150',\n",
       " '94151',\n",
       " 'abshear',\n",
       " 'ackel',\n",
       " 'actoin',\n",
       " 'aftco',\n",
       " 'aftern',\n",
       " 'ahis',\n",
       " 'aiso',\n",
       " 'alajajyan',\n",
       " 'albacore',\n",
       " 'albies',\n",
       " 'albro',\n",
       " 'alexopoulos',\n",
       " 'algaze',\n",
       " 'alijos',\n",
       " 'allos',\n",
       " 'alpineri',\n",
       " 'alpinieri',\n",
       " 'alstrom',\n",
       " 'alwine',\n",
       " 'amistead',\n",
       " 'amundson',\n",
       " 'anderman',\n",
       " 'andersonof',\n",
       " 'andyone',\n",
       " 'anglerettes',\n",
       " 'antonini',\n",
       " 'approxiamtely',\n",
       " 'arellanos',\n",
       " 'armenta',\n",
       " 'asbel',\n",
       " 'asbell',\n",
       " 'auberry',\n",
       " 'auburndale',\n",
       " 'audette',\n",
       " 'austrulid',\n",
       " 'avet',\n",
       " 'avets',\n",
       " 'azmar',\n",
       " 'b90s',\n",
       " 'backie',\n",
       " 'backuss',\n",
       " 'baitrunner',\n",
       " 'balbach',\n",
       " 'ballyhood',\n",
       " 'barriault',\n",
       " 'barriult',\n",
       " 'basmadjian',\n",
       " 'bassing',\n",
       " 'bassn',\n",
       " 'bebuys',\n",
       " 'beguns',\n",
       " 'bellantonio',\n",
       " 'bellflower',\n",
       " 'benitos',\n",
       " 'bentovoja',\n",
       " 'besara',\n",
       " 'beuttler',\n",
       " 'bidinger',\n",
       " 'bigguns',\n",
       " 'biguns',\n",
       " 'blackfin',\n",
       " 'bloodydecks',\n",
       " 'bluefin',\n",
       " 'bluefins',\n",
       " 'bnak',\n",
       " 'boatside',\n",
       " 'bonderson',\n",
       " 'bonitas',\n",
       " 'booyaa',\n",
       " 'bosforo',\n",
       " 'bosnich',\n",
       " 'bottomgrabers',\n",
       " 'branum',\n",
       " 'breckennridge',\n",
       " 'breezey',\n",
       " 'brereton',\n",
       " 'broomtail',\n",
       " 'bruer',\n",
       " 'brutlag',\n",
       " 'buddenbohm',\n",
       " 'bunnel',\n",
       " 'burriault',\n",
       " 'bussmans',\n",
       " 'bustamente',\n",
       " 'buteyn',\n",
       " 'buzzell',\n",
       " 'cabellero',\n",
       " 'cabellon',\n",
       " 'calandrino',\n",
       " 'calas',\n",
       " 'caliva',\n",
       " 'calstar',\n",
       " 'capts',\n",
       " 'carmadella',\n",
       " 'casler',\n",
       " 'cazeres',\n",
       " 'cedros',\n",
       " 'cerny',\n",
       " 'chaeil',\n",
       " 'chambless',\n",
       " 'chantigian',\n",
       " 'chark',\n",
       " 'charkbait',\n",
       " 'chartermaster',\n",
       " 'chartermastered',\n",
       " 'chartermasters',\n",
       " 'chartermater',\n",
       " 'chatermaster',\n",
       " 'chenelle',\n",
       " 'chernoguz',\n",
       " 'cheroguz',\n",
       " 'chibana',\n",
       " 'chingmuh',\n",
       " 'christyne',\n",
       " 'chubasco',\n",
       " 'churkin',\n",
       " 'cindys',\n",
       " 'cjbf',\n",
       " 'claproth',\n",
       " 'coastside',\n",
       " 'companioni',\n",
       " 'conterno',\n",
       " 'cornville',\n",
       " 'cowtown',\n",
       " 'cresenta',\n",
       " 'crevier',\n",
       " 'crewhi',\n",
       " 'crowthers',\n",
       " 'dahlberg',\n",
       " 'dalte',\n",
       " 'damiki',\n",
       " 'date__stamp',\n",
       " 'davind',\n",
       " 'daylite',\n",
       " 'deboys',\n",
       " 'debuys',\n",
       " 'dekruif',\n",
       " 'delapena',\n",
       " 'delrick',\n",
       " 'dennemeyer',\n",
       " 'derman',\n",
       " 'desera',\n",
       " 'deseree',\n",
       " 'diance',\n",
       " 'dinardo',\n",
       " 'dinelli',\n",
       " 'doal',\n",
       " 'doebler',\n",
       " 'dolder',\n",
       " 'donpadick',\n",
       " 'dosek',\n",
       " 'dotys',\n",
       " 'dreesseen',\n",
       " 'drogin',\n",
       " 'drummey',\n",
       " 'dubler',\n",
       " 'duboys',\n",
       " 'dubuys',\n",
       " 'duenas',\n",
       " 'dulay',\n",
       " 'duntley',\n",
       " 'durio',\n",
       " 'dwanye',\n",
       " 'eckhardts',\n",
       " 'edmiston',\n",
       " 'edrei',\n",
       " 'eldridges',\n",
       " 'endozo',\n",
       " 'endozos',\n",
       " 'enns',\n",
       " 'equats',\n",
       " 'ervingham',\n",
       " 'esenberg',\n",
       " 'esposto',\n",
       " 'everingham',\n",
       " 'excellent',\n",
       " 'fancher',\n",
       " 'fathometer',\n",
       " 'feltus',\n",
       " 'fenlon',\n",
       " 'fetsch',\n",
       " 'fettig',\n",
       " 'fillingame',\n",
       " 'fishermans',\n",
       " 'fishinfools',\n",
       " 'fishingvideos',\n",
       " 'fishtrap',\n",
       " 'fishworks',\n",
       " 'five',\n",
       " 'floruo',\n",
       " 'flouracarbon',\n",
       " 'flourcarbon',\n",
       " 'flourocardon',\n",
       " 'flowkes',\n",
       " 'fluorcarbon',\n",
       " 'flurocarbon',\n",
       " 'flyline',\n",
       " 'flylined',\n",
       " 'flyliner',\n",
       " 'flylining',\n",
       " 'followsfirst',\n",
       " 'forecastto',\n",
       " 'forkies',\n",
       " 'forktail',\n",
       " 'fosselman',\n",
       " 'foushanes',\n",
       " 'franzino',\n",
       " 'frentress',\n",
       " 'frontino',\n",
       " 'fujinaka',\n",
       " 'fujunaka',\n",
       " 'fusari',\n",
       " 'gagliardotto',\n",
       " 'gallion',\n",
       " 'garey',\n",
       " 'garrahan',\n",
       " 'gerts',\n",
       " 'gesselman',\n",
       " 'geurts',\n",
       " 'ghaph',\n",
       " 'ghio',\n",
       " 'giguere',\n",
       " 'gillotti',\n",
       " 'gleiberman',\n",
       " 'gleiderman',\n",
       " 'glinecki',\n",
       " 'goldston',\n",
       " 'gollaher',\n",
       " 'gradetuna',\n",
       " 'grafighter',\n",
       " 'graftec',\n",
       " 'graftech',\n",
       " 'granse',\n",
       " 'graphtech',\n",
       " 'greul',\n",
       " 'greyhounding',\n",
       " 'grinners',\n",
       " 'grusa',\n",
       " 'guiterrez',\n",
       " 'gymakasu',\n",
       " 'haagma',\n",
       " 'haagsma',\n",
       " 'habelitz',\n",
       " 'hakala',\n",
       " 'halibuts',\n",
       " 'hallingstad',\n",
       " 'hamstra',\n",
       " 'hashimura',\n",
       " 'haugland',\n",
       " 'havilcek',\n",
       " 'havlicek',\n",
       " 'heisig',\n",
       " 'heitzman',\n",
       " 'henerson',\n",
       " 'hieu',\n",
       " 'hillsgot',\n",
       " 'hinman',\n",
       " 'hirao',\n",
       " 'hollifield',\n",
       " 'homegaurds',\n",
       " 'homeguards',\n",
       " 'horanyi',\n",
       " 'hospitallity',\n",
       " 'houseworth',\n",
       " 'housworth',\n",
       " 'hpoe',\n",
       " 'hurnan',\n",
       " 'hwd',\n",
       " 'hxj',\n",
       " 'hxn',\n",
       " 'hxs',\n",
       " 'hxw',\n",
       " 'hyter',\n",
       " 'iatcc',\n",
       " 'ichinokuchi',\n",
       " 'ilustre',\n",
       " 'incls',\n",
       " 'independences',\n",
       " 'independencesportfing',\n",
       " 'independencesportfishing',\n",
       " 'indys',\n",
       " 'isoclines',\n",
       " 'iwamiya',\n",
       " 'iwanaga',\n",
       " 'izor',\n",
       " 'izoreline',\n",
       " 'izorline',\n",
       " 'jaenichen',\n",
       " 'jaragin',\n",
       " 'jedinak',\n",
       " 'jesstyne',\n",
       " 'jiggin',\n",
       " 'jigs',\n",
       " 'johnnycat',\n",
       " 'judys',\n",
       " 'justesen',\n",
       " 'jutras',\n",
       " 'kaercher',\n",
       " 'kamimura',\n",
       " 'kaneoka',\n",
       " 'kanzen',\n",
       " 'karchefski',\n",
       " 'karchers',\n",
       " 'kastaniuk',\n",
       " 'kaullen',\n",
       " 'kawaratani',\n",
       " 'kehrli',\n",
       " 'kelber',\n",
       " 'kelping',\n",
       " 'kelps',\n",
       " 'kemmler',\n",
       " 'kerme',\n",
       " 'kerrbille',\n",
       " 'khoe',\n",
       " 'kikkawa',\n",
       " 'kimuaras',\n",
       " 'kimuras',\n",
       " 'kinoshita',\n",
       " 'kiohara',\n",
       " 'kizy',\n",
       " 'klahs',\n",
       " 'klure',\n",
       " 'klye',\n",
       " 'knott2kinky',\n",
       " 'koester',\n",
       " 'kolt',\n",
       " 'kostelecky',\n",
       " 'kruif',\n",
       " 'kudenov',\n",
       " 'kuitake',\n",
       " 'kustudic',\n",
       " 'kyelberg',\n",
       " 'lacomb',\n",
       " 'lacombe',\n",
       " 'lacombs',\n",
       " 'landable',\n",
       " 'landem',\n",
       " 'lanford',\n",
       " 'lape',\n",
       " 'lauve',\n",
       " 'lbplus',\n",
       " 'lbsteve',\n",
       " 'lbsthe',\n",
       " 'leadmaster',\n",
       " 'leadmasters',\n",
       " 'leeside',\n",
       " 'lesonsky',\n",
       " 'lethcoe',\n",
       " 'lethcoes',\n",
       " 'lidyoff',\n",
       " 'lims',\n",
       " 'lingcod',\n",
       " 'linkletter',\n",
       " 'liping',\n",
       " 'lisenko',\n",
       " 'lisenkos',\n",
       " 'lomonico',\n",
       " 'longfin',\n",
       " 'longfins',\n",
       " 'longmore',\n",
       " 'loooooaded',\n",
       " 'lorman',\n",
       " 'loudermilk',\n",
       " 'lulb',\n",
       " 'lusker',\n",
       " 'machalowski',\n",
       " 'mackenzies',\n",
       " 'macmcleod',\n",
       " 'macs',\n",
       " 'mahis',\n",
       " 'majesky',\n",
       " 'makaira',\n",
       " 'makira',\n",
       " 'malech',\n",
       " 'maraurder',\n",
       " 'markleville',\n",
       " 'markovitz',\n",
       " 'marroquin',\n",
       " 'martizia',\n",
       " 'marzari',\n",
       " 'masamoto',\n",
       " 'mastagni',\n",
       " 'masumoto',\n",
       " 'matich',\n",
       " 'matsumotos',\n",
       " 'matusiewicz',\n",
       " 'maulhardt',\n",
       " 'mauraders',\n",
       " 'mavar',\n",
       " 'maxa',\n",
       " 'mayeda',\n",
       " 'maylay',\n",
       " 'mcblaine',\n",
       " 'mccanless',\n",
       " 'mcfarland',\n",
       " 'mcglone',\n",
       " 'mckinleyville',\n",
       " 'mclay',\n",
       " 'mcmasters',\n",
       " 'mcrenolds',\n",
       " 'meckley',\n",
       " 'megabaits',\n",
       " 'megamag',\n",
       " 'melad',\n",
       " 'meliota',\n",
       " 'meltons',\n",
       " 'menifee',\n",
       " 'meschel',\n",
       " 'micheles',\n",
       " 'michicoff',\n",
       " 'miliken',\n",
       " 'millikens',\n",
       " 'millikin',\n",
       " 'millspaugh',\n",
       " 'minifee',\n",
       " 'minouei',\n",
       " 'minsoo',\n",
       " 'moates',\n",
       " 'mobbley',\n",
       " 'momoi',\n",
       " 'momtigny',\n",
       " 'montanan',\n",
       " 'montefort',\n",
       " 'moorhouse',\n",
       " 'moreman',\n",
       " 'moseman',\n",
       " 'mouawad',\n",
       " 'moul',\n",
       " 'muckle',\n",
       " 'murietta',\n",
       " 'mustad',\n",
       " 'myhre',\n",
       " 'nabarrete',\n",
       " 'nagao',\n",
       " 'nalie',\n",
       " 'nameshake',\n",
       " 'narramore',\n",
       " 'naturita',\n",
       " 'needlemans',\n",
       " 'nevarov',\n",
       " 'niksic',\n",
       " 'niphon',\n",
       " 'nishida',\n",
       " 'nishidas',\n",
       " 'noblett',\n",
       " 'norred',\n",
       " 'novata',\n",
       " 'novielli',\n",
       " 'ocheltree',\n",
       " 'oconnell',\n",
       " 'oenn',\n",
       " 'oilfish',\n",
       " 'okito',\n",
       " 'olachia',\n",
       " 'oleary',\n",
       " 'omesh',\n",
       " 'ondrisco',\n",
       " 'ondrisko',\n",
       " 'oneil',\n",
       " 'onik',\n",
       " 'outdoornews',\n",
       " 'ouur',\n",
       " 'ozakis',\n",
       " 'paccione',\n",
       " 'paddie',\n",
       " 'padick',\n",
       " 'paino',\n",
       " 'patick',\n",
       " 'penleys',\n",
       " 'persaud',\n",
       " 'petrospecs',\n",
       " 'phinix',\n",
       " 'piasano',\n",
       " 'pisanos',\n",
       " 'pl68',\n",
       " 'plq',\n",
       " 'plsf',\n",
       " 'plunker',\n",
       " 'pomish',\n",
       " 'popund',\n",
       " 'pounderwith',\n",
       " 'poundspectra',\n",
       " 'preest',\n",
       " 'preschutti',\n",
       " 'primium',\n",
       " 'proetto',\n",
       " 'proettos',\n",
       " 'proex30',\n",
       " 'progresss',\n",
       " 'prohov',\n",
       " 'promar',\n",
       " 'prunedale',\n",
       " 'puetz',\n",
       " 'puhl',\n",
       " 'purfields',\n",
       " 'rafkin',\n",
       " 'rainsqualls',\n",
       " 'raiter',\n",
       " 'ramillion',\n",
       " 'ramillon',\n",
       " 'rampino',\n",
       " 'reelsfor',\n",
       " 'requarding',\n",
       " 'reserverations',\n",
       " 'retmier',\n",
       " 'rezzato',\n",
       " 'richard',\n",
       " 'rihel',\n",
       " 'rittman',\n",
       " 'rnage',\n",
       " 'rocchi',\n",
       " 'rockfishing',\n",
       " 'rocki',\n",
       " 'rodewald',\n",
       " 'roecker',\n",
       " 'roeckers',\n",
       " 'roesch',\n",
       " 'rolstad',\n",
       " 'romolino',\n",
       " 'roochi',\n",
       " 'rosasco',\n",
       " 'rosecrans',\n",
       " 'roulhac',\n",
       " 'rudolics',\n",
       " 'rusy',\n",
       " 'sabiki',\n",
       " 'sabikis',\n",
       " 'saitman',\n",
       " 'sakado',\n",
       " 'sakul',\n",
       " 'salamies',\n",
       " 'saltiga',\n",
       " 'samaniego',\n",
       " 'samarin',\n",
       " 'samauri',\n",
       " 'sansome',\n",
       " 'sarkas',\n",
       " 'sartin',\n",
       " 'satow',\n",
       " 'satphone',\n",
       " 'sausedo',\n",
       " 'saveon',\n",
       " 'savon',\n",
       " 'saylors',\n",
       " 'scad',\n",
       " 'schaedler',\n",
       " 'schafur',\n",
       " 'scharfen',\n",
       " 'schmoll',\n",
       " 'schoolie',\n",
       " 'seaguar',\n",
       " 'seeeker',\n",
       " 'seguar',\n",
       " 'seiners',\n",
       " 'sevaral',\n",
       " 'sfrs',\n",
       " 'shaprio',\n",
       " 'sheephead',\n",
       " 'shemet',\n",
       " 'sherill',\n",
       " 'shimamoto',\n",
       " 'shimano',\n",
       " 'shindledecker',\n",
       " 'shortfin',\n",
       " 'silvera',\n",
       " 'simondet',\n",
       " 'sison',\n",
       " 'sissoyev',\n",
       " 'skibba',\n",
       " 'skippie',\n",
       " 'slevkoff',\n",
       " 'sliger',\n",
       " 'slooooowed',\n",
       " 'smetona',\n",
       " 'smitties',\n",
       " 'softsteel',\n",
       " 'sogioka',\n",
       " 'sopha',\n",
       " 'sowa',\n",
       " 'spayne',\n",
       " 'spiderwire',\n",
       " 'sportfisher',\n",
       " 'sportfishing',\n",
       " 'sportfishingreport',\n",
       " 'sportfishingreports',\n",
       " 'sportfishings',\n",
       " 'sportmans',\n",
       " 'sportmens',\n",
       " 'sportsmens',\n",
       " 'staxrud',\n",
       " 'steinmentz',\n",
       " 'steinmeter',\n",
       " 'stevenss',\n",
       " 'stoebe',\n",
       " 'strausser',\n",
       " 'strehle',\n",
       " 'ststerooms',\n",
       " 'sturney',\n",
       " 'sundell',\n",
       " 'sundland',\n",
       " 'sunsetter',\n",
       " 'supercow',\n",
       " 'supercows',\n",
       " 'sutherlin',\n",
       " 'tady',\n",
       " 'takaki',\n",
       " 'takas',\n",
       " 'taketa',\n",
       " 'talasy',\n",
       " 'talica',\n",
       " 'tamanaha',\n",
       " 'tapeing',\n",
       " 'tchejeyan',\n",
       " 'terrafin',\n",
       " 'terramar',\n",
       " 'terrrific',\n",
       " 'terwilliger',\n",
       " 'tevelde',\n",
       " 'tharaldson',\n",
       " 'the30',\n",
       " 'thrusdays',\n",
       " 'time__stamp',\n",
       " 'time__stamp0',\n",
       " 'time__stamp10',\n",
       " 'to50',\n",
       " 'tochihara',\n",
       " 'toepher',\n",
       " 'tomorrowplease',\n",
       " 'tonigte',\n",
       " 'topshot',\n",
       " 'torium',\n",
       " 'traut',\n",
       " 'treffry',\n",
       " 'trieschman',\n",
       " 'trigueiro',\n",
       " 'trokar',\n",
       " 'truline',\n",
       " 'tschernoscha',\n",
       " 'tssl',\n",
       " 'tuesdsay',\n",
       " 'tumbarello',\n",
       " 'tunaholic',\n",
       " 'tunaholics',\n",
       " 'twelth',\n",
       " 'twelvth',\n",
       " 'tyrnos',\n",
       " 'ujkaj',\n",
       " 'ulua',\n",
       " 'unfishable',\n",
       " 'upperman',\n",
       " 'uthoff',\n",
       " 'uyeda',\n",
       " 'vageloff',\n",
       " 'valadimir',\n",
       " 'valterria',\n",
       " 'vandenburg',\n",
       " 'vandenburgs',\n",
       " 'vanderburg',\n",
       " 'vandyk',\n",
       " 'vanhorn',\n",
       " 'vardaman',\n",
       " 'veseling',\n",
       " 'vetrone',\n",
       " 'villalovos',\n",
       " 'vitkus',\n",
       " 'vitzthum',\n",
       " 'vlad',\n",
       " 'vladmir',\n",
       " 'vogl',\n",
       " 'vsw',\n",
       " 'wahlrad',\n",
       " 'wahooooo',\n",
       " 'walrad',\n",
       " 'wanke',\n",
       " 'wasnick',\n",
       " 'weathter',\n",
       " 'were100',\n",
       " 'westrup',\n",
       " 'wholford',\n",
       " 'whybrew',\n",
       " 'wiencek',\n",
       " 'wipple',\n",
       " 'witll',\n",
       " 'wityak',\n",
       " 'wongrassamee',\n",
       " 'woyce',\n",
       " 'xxh',\n",
       " 'xxxh',\n",
       " 'xxxxh',\n",
       " 'yellas',\n",
       " 'yellatailin',\n",
       " 'yellotail',\n",
       " 'yellowfin',\n",
       " 'yellowfins',\n",
       " 'yellowtail',\n",
       " 'yellowtailin',\n",
       " 'yellowtailing',\n",
       " 'yft',\n",
       " 'yoing',\n",
       " 'yonai',\n",
       " 'yourngs',\n",
       " 'yozuri',\n",
       " 'yummys',\n",
       " 'zachea',\n",
       " 'zackary',\n",
       " 'zeder',\n",
       " 'zierlinski',\n",
       " 'zipfiz',\n",
       " 'zuckers',\n",
       " 'zuker'}"
      ]
     },
     "execution_count": 131,
     "metadata": {},
     "output_type": "execute_result"
    }
   ],
   "source": [
    "OOV_words"
   ]
  },
  {
   "cell_type": "code",
   "execution_count": 132,
   "metadata": {},
   "outputs": [],
   "source": [
    "jargon_fishnames = {\n",
    "    \"yft\":  \"yellowfin tuna\",\n",
    "    \"reds\": \"red snapper/red cod\",\n",
    "    \"bft\":  \"bluefin tuna\",\n",
    "    \"ling\": \"lingcod\",\n",
    "    \"yella\":   \"yellowtail tuna\",\n",
    "    \"yellas\":  \"yellowtail tuna\",\n",
    "    \"flyline\": \"live bait\",\n",
    "    \"albies\":  \"albacore tuna\",\n",
    "    \"bassing\": \"bass fishing\",\n",
    "    \"schoolie\": \"small fish that swim in groups\",\n",
    "    \"wsb\":      \"white sea bass\" ,\n",
    "    \"rockfishing\": \"fishing for rockfish\",\n",
    "    \"skippie\": \"skipjack\", # bait fish\n",
    "    \"skippy\":  \"skipjack\",\n",
    "    \"pargo\":   \"red snapper\",\n",
    "    \"scad\": \"mackerel\"\n",
    "}\n",
    "\n",
    "\n",
    "jargon_other = {\n",
    "    \"alijos\":  \"alijos rocks\",\n",
    "    \"avet 2sp\": \"avet LX sp fishing reel\",\n",
    "    \"bigguns\": \"big ones\",\n",
    "    \"xxh\": \"xxh fishing reel\",\n",
    "    \"kelps\":   \"kelp paddies\",\n",
    "    \"Yellatailin\":   \"catching yellowtail\",\n",
    "    \"yellowtailin\":  \"catching yellowtail\",\n",
    "    \"yellowtailing\": \"catching yellowtail\"\n",
    "}\n",
    "\n",
    "# combine jargon fish names with fish names found via word embeddings\n",
    "fish_names |= set(jargon_fishnames.keys())"
   ]
  },
  {
   "cell_type": "code",
   "execution_count": 133,
   "metadata": {
    "scrolled": true
   },
   "outputs": [
    {
     "data": {
      "text/plain": [
       "{'ahi',\n",
       " 'albacore',\n",
       " 'albies',\n",
       " 'amberjack',\n",
       " 'anchovy',\n",
       " 'barracuda',\n",
       " 'bassing',\n",
       " 'bft',\n",
       " 'bluefin',\n",
       " 'boated',\n",
       " 'bonito',\n",
       " 'crab',\n",
       " 'croaker',\n",
       " 'dorado',\n",
       " 'dorados',\n",
       " 'fish',\n",
       " 'fishery',\n",
       " 'flatties',\n",
       " 'flyline',\n",
       " 'grouper',\n",
       " 'groupers',\n",
       " 'haddock',\n",
       " 'halibut',\n",
       " 'hamachi',\n",
       " 'hammerheads',\n",
       " 'inshore',\n",
       " 'jigging',\n",
       " 'kelp',\n",
       " 'ling',\n",
       " 'lingcod',\n",
       " 'longfin',\n",
       " 'mackerel',\n",
       " 'mahi',\n",
       " 'marlin',\n",
       " 'pargo',\n",
       " 'pelagic',\n",
       " 'pollock',\n",
       " 'reds',\n",
       " 'rockfish',\n",
       " 'rockfishing',\n",
       " 'salmon',\n",
       " 'sardine',\n",
       " 'sardines',\n",
       " 'sashimi',\n",
       " 'scad',\n",
       " 'schoolie',\n",
       " 'seabass',\n",
       " 'seared',\n",
       " 'shrimp',\n",
       " 'skipjack',\n",
       " 'skippie',\n",
       " 'skippy',\n",
       " 'snapper',\n",
       " 'snappers',\n",
       " 'sportfishing',\n",
       " 'squid',\n",
       " 'sushi',\n",
       " 'swordfish',\n",
       " 'tenderloin',\n",
       " 'triggerfish',\n",
       " 'tuna',\n",
       " 'tunas',\n",
       " 'wahoo',\n",
       " 'wahoos',\n",
       " 'wsb',\n",
       " 'yella',\n",
       " 'yellas',\n",
       " 'yellowfin',\n",
       " 'yellowtail',\n",
       " 'yft'}"
      ]
     },
     "execution_count": 133,
     "metadata": {},
     "output_type": "execute_result"
    }
   ],
   "source": [
    "fish_names"
   ]
  },
  {
   "cell_type": "code",
   "execution_count": 134,
   "metadata": {},
   "outputs": [
    {
     "data": {
      "text/plain": [
       "re.compile(r'(\\d+)?\\W+(\\d+)?\\W+(lb|pound)\\W+(yellas|reds|yellowfin|pelagic|pargo|tunas|bassing|sardine|dorado|scad|kelp|croaker|grouper|shrimp|barracuda|anchovy|amberjack|rockfish|mahi|swordfish|sardines|rockfishing|halibut|albacore|bluefin|seared|flyline|boated|bft|wsb|jigging|groupers|fishery|ahi|albies|triggerfish|hamachi|marlin|skipjack|haddock|wahoo|crab|tenderloin|yella|salmon|tuna|lingcod|ling|inshore|pollock|schoolie|mackerel|yft|wahoos|fish|snappers|skippie|sportfishing|sushi|bonito|dorados|sashimi|snapper|longfin|seabass|hammerheads|flatties|yellowtail|skippy|squid)',\n",
       "re.UNICODE)"
      ]
     },
     "execution_count": 134,
     "metadata": {},
     "output_type": "execute_result"
    }
   ],
   "source": [
    "pattern = re.compile(fr\"(\\d+)?\\W+(\\d+)?\\W+(lb|pound)\\W+({'|'.join(fish_names)})\")\n",
    "pattern"
   ]
  },
  {
   "cell_type": "code",
   "execution_count": 135,
   "metadata": {},
   "outputs": [],
   "source": [
    "def extract_fish_weights(phrase: str):\n",
    "    return [[f\"{x[0]}.{x[1]}\", x[3]] for x in pattern.findall(phrase)]"
   ]
  },
  {
   "cell_type": "code",
   "execution_count": 136,
   "metadata": {
    "scrolled": true
   },
   "outputs": [
    {
     "data": {
      "text/plain": [
       "0                             []\n",
       "1                             []\n",
       "2                             []\n",
       "3                             []\n",
       "4                             []\n",
       "5              [[150.300, tuna]]\n",
       "6                             []\n",
       "7                             []\n",
       "8                             []\n",
       "9                             []\n",
       "10           [[.49, yellowtail]]\n",
       "11                            []\n",
       "12                            []\n",
       "13                            []\n",
       "14                            []\n",
       "15                            []\n",
       "16                            []\n",
       "17                            []\n",
       "18                            []\n",
       "19                            []\n",
       "20                            []\n",
       "21              [[90.200, fish]]\n",
       "22                            []\n",
       "23                            []\n",
       "24               [[18.25, fish]]\n",
       "25                            []\n",
       "26                            []\n",
       "27                            []\n",
       "28                            []\n",
       "29                            []\n",
       "30                            []\n",
       "31                            []\n",
       "32                            []\n",
       "33                            []\n",
       "34                            []\n",
       "35                            []\n",
       "36                            []\n",
       "37                            []\n",
       "38                            []\n",
       "39                            []\n",
       "40                            []\n",
       "41                            []\n",
       "42                            []\n",
       "43    [[33.5, yft], [32.5, yft]]\n",
       "44                            []\n",
       "45                            []\n",
       "46               [[20.30, fish]]\n",
       "47         [[18.25, yellowtail]]\n",
       "48                            []\n",
       "49               [[18.25, fish]]\n",
       "Name: post_body, dtype: object"
      ]
     },
     "execution_count": 136,
     "metadata": {},
     "output_type": "execute_result"
    }
   ],
   "source": [
    "fishing_data.post_body[:50].apply(extract_fish_weights)"
   ]
  },
  {
   "cell_type": "code",
   "execution_count": 137,
   "metadata": {},
   "outputs": [],
   "source": [
    "# cases:\n",
    "# 20 25 pound tuna: 20 - 25 pound fish\n",
    "# (, 42, lb, bluefin): 42 lb fish\n",
    "# (39, 6, lb, bluefin): 39.6 lb fish or 39 different 6lb fish?"
   ]
  },
  {
   "cell_type": "code",
   "execution_count": 138,
   "metadata": {},
   "outputs": [
    {
     "data": {
      "text/plain": [
       "'These big Yellowfin Tuna are hard to catch but what an incredible sign off fish all day From sun rise to sunset their were 150 300 pound tuna boiling right next to the boat keeping us all excited Had a few heart breaks on big ones that got away but were able to land one at 203 pounds Try one more day for a fish of a life time Brian Indy crew'"
      ]
     },
     "execution_count": 138,
     "metadata": {},
     "output_type": "execute_result"
    }
   ],
   "source": [
    "fishing_data.post_body[5]"
   ]
  },
  {
   "cell_type": "code",
   "execution_count": 139,
   "metadata": {},
   "outputs": [
    {
     "name": "stdout",
     "output_type": "stream",
     "text": [
      "Example 1:\n",
      "first place 72 lb \u001b[43;1myft\u001b[0m christopher johnson \n",
      "\n",
      "Example 2:\n",
      "1 jeff friesen 33 5 lb \u001b[43;1myft\u001b[0m 2 matt fettig 32 5 lb \u001b[43;1myft\u001b[0m 3 brandy anderson kevin abshear 30 0 lb \u001b[43;1myft\u001b[0m \n",
      "\n",
      "Example 3:\n",
      "we are welcomed back with 11 fish over 200 lb and 1 fish over 300 lbs what a great group of anglers and a great catch thanks again guys see y all again next year jackpot winners are 1 jim bowman 300 1 \u001b[43;1myft\u001b[0m 2 sal proetto 273 \u001b[43;1myft\u001b[0m 3 joe solomon 268 2 \u001b[43;1myft\u001b[0m \n",
      "\n",
      "Example 4:\n",
      "first willy scharfen 58 6 lb \u001b[43;1myft\u001b[0m second chris johnson 49 8 lb \u001b[43;1myft\u001b[0m third brett goldberg 46 8 lb wahoo congratulations to all looking forward to seeing you next year matt indy crew \n",
      "\n",
      "Example 5:\n",
      "thank again roger for getting the gang back together see you guys soon first place bret mccoy 62 4 \u001b[43;1myft\u001b[0m second place micheal hakala 58 3 \u001b[43;1myft\u001b[0m third place joe russo 55 1 \u001b[43;1myft\u001b[0m \n",
      "\n"
     ]
    }
   ],
   "source": [
    "print_phrase_with_context(\"yft\", num_docs=5)"
   ]
  },
  {
   "cell_type": "code",
   "execution_count": 141,
   "metadata": {},
   "outputs": [
    {
     "data": {
      "text/plain": [
       "[['33.5', 'yft'], ['32.5', 'yft'], ['30.0', 'bft']]"
      ]
     },
     "execution_count": 141,
     "metadata": {},
     "output_type": "execute_result"
    }
   ],
   "source": [
    "extract_fish_weights( \"1 jeff friesen 33 5 lb yft 2 matt fettig 32 5 lb yft 3 brandy anderson kevin abshear 30 0 lb bft \")"
   ]
  },
  {
   "cell_type": "code",
   "execution_count": 142,
   "metadata": {},
   "outputs": [
    {
     "data": {
      "text/plain": [
       "[['58.6', 'yft'], ['49.8', 'yft'], ['46.8', 'wahoo']]"
      ]
     },
     "execution_count": 142,
     "metadata": {},
     "output_type": "execute_result"
    }
   ],
   "source": [
    "extract_fish_weights('first willy scharfen 58 6 lb yft second chris johnson 49 8 lb yft third brett goldberg 46 8 lb wahoo congratulations to all looking forward to seeing you next year matt indy crew ')"
   ]
  },
  {
   "cell_type": "code",
   "execution_count": 143,
   "metadata": {},
   "outputs": [],
   "source": [
    "d1, d2, weight, fish = ('', 42, 'lb', 'bluefin')"
   ]
  },
  {
   "cell_type": "code",
   "execution_count": 144,
   "metadata": {},
   "outputs": [],
   "source": [
    "def bin_fish_sizes(tup):\n",
    "    # looks like: ('39', '6', 'lb', 'bluefin')\n",
    "    if len(tup) <= 2:\n",
    "        return []\n",
    "    d1, d2, weight, fish = tup\n",
    "    \n",
    "    if d1.strip() == '':\n",
    "        out = {\n",
    "            'case': 'nearest_pound',\n",
    "            'value': d2,\n",
    "        }\n",
    "    elif (len(str(d2)) >= len(str(d1))) and (int(d2) > int(d1)):\n",
    "        # case: 20 25 pound tuna: 20 - 25 pound fish\n",
    "        out = {\n",
    "            'case': 'range',\n",
    "            'value': f\"{d1}-{d2}\",\n",
    "        }\n",
    "\n",
    "    else:\n",
    "        # TODO: how can we tell if this is  10 5 lb fish or a single 10.5 lb fish?\n",
    "        out = {\n",
    "            'case': 'precise',\n",
    "            'value': f\"{d1}.{d2}\",\n",
    "        }\n",
    "    out['species'] = fish\n",
    "    out['metric'] = weight\n",
    "    return out"
   ]
  },
  {
   "cell_type": "code",
   "execution_count": 145,
   "metadata": {},
   "outputs": [
    {
     "data": {
      "text/plain": [
       "0                                                      []\n",
       "1                                                      []\n",
       "2                                                      []\n",
       "3                                                      []\n",
       "4                                                      []\n",
       "                              ...                        \n",
       "2892    [{'case': 'precise', 'value': '47.3', 'species...\n",
       "2893                                                   []\n",
       "2894    [{'case': 'range', 'value': '25-65', 'species'...\n",
       "2895                                                   []\n",
       "2896    [{'case': 'nearest_pound', 'value': '205', 'sp...\n",
       "Name: post_body, Length: 2897, dtype: object"
      ]
     },
     "execution_count": 145,
     "metadata": {},
     "output_type": "execute_result"
    }
   ],
   "source": [
    "fish_mentions = fishing_data.post_body.apply(lambda x: list(map(bin_fish_sizes, pattern.findall(x))))\n",
    "fish_mentions"
   ]
  },
  {
   "cell_type": "code",
   "execution_count": 146,
   "metadata": {},
   "outputs": [
    {
     "data": {
      "text/plain": [
       "5       [{'case': 'range', 'value': '150-300', 'specie...\n",
       "10      [{'case': 'nearest_pound', 'value': '49', 'spe...\n",
       "21      [{'case': 'range', 'value': '90-200', 'species...\n",
       "24      [{'case': 'range', 'value': '18-25', 'species'...\n",
       "43      [{'case': 'precise', 'value': '33.5', 'species...\n",
       "                              ...                        \n",
       "2890    [{'case': 'nearest_pound', 'value': '285', 'sp...\n",
       "2891    [{'case': 'nearest_pound', 'value': '269', 'sp...\n",
       "2892    [{'case': 'precise', 'value': '47.3', 'species...\n",
       "2894    [{'case': 'range', 'value': '25-65', 'species'...\n",
       "2896    [{'case': 'nearest_pound', 'value': '205', 'sp...\n",
       "Name: post_body, Length: 528, dtype: object"
      ]
     },
     "execution_count": 146,
     "metadata": {},
     "output_type": "execute_result"
    }
   ],
   "source": [
    "algo_hits = fish_mentions.loc[fish_mentions.apply(lambda x: x != [])]\n",
    "algo_hits"
   ]
  },
  {
   "cell_type": "code",
   "execution_count": 147,
   "metadata": {},
   "outputs": [
    {
     "data": {
      "text/plain": [
       "[[{'case': 'nearest_pound', 'value': '25', 'species': 'fish', 'metric': 'lb'}],\n",
       " [{'case': 'nearest_pound',\n",
       "   'value': '25',\n",
       "   'species': 'yellowfin',\n",
       "   'metric': 'lb'}],\n",
       " [{'case': 'nearest_pound', 'value': '30', 'species': 'fish', 'metric': 'lb'}],\n",
       " [{'case': 'nearest_pound',\n",
       "   'value': '25',\n",
       "   'species': 'yellowfin',\n",
       "   'metric': 'lb'},\n",
       "  {'case': 'nearest_pound', 'value': '25', 'species': 'tuna', 'metric': 'lb'}],\n",
       " [{'case': 'nearest_pound', 'value': '49', 'species': 'wahoo', 'metric': 'lb'},\n",
       "  {'case': 'nearest_pound', 'value': '45', 'species': 'wahoo', 'metric': 'lb'},\n",
       "  {'case': 'nearest_pound',\n",
       "   'value': '40',\n",
       "   'species': 'yellowfin',\n",
       "   'metric': 'lb'}],\n",
       " [{'case': 'nearest_pound', 'value': '30', 'species': 'fish', 'metric': 'lb'}],\n",
       " [{'case': 'nearest_pound',\n",
       "   'value': '30',\n",
       "   'species': 'yellowtail',\n",
       "   'metric': 'lb'},\n",
       "  {'case': 'nearest_pound',\n",
       "   'value': '29',\n",
       "   'species': 'yellowtail',\n",
       "   'metric': 'lb'},\n",
       "  {'case': 'nearest_pound',\n",
       "   'value': '44',\n",
       "   'species': 'grouper',\n",
       "   'metric': 'lb'}],\n",
       " [{'case': 'nearest_pound',\n",
       "   'value': '44',\n",
       "   'species': 'yellowtail',\n",
       "   'metric': 'lb'},\n",
       "  {'case': 'nearest_pound',\n",
       "   'value': '38',\n",
       "   'species': 'yellowtail',\n",
       "   'metric': 'lb'},\n",
       "  {'case': 'nearest_pound',\n",
       "   'value': '31',\n",
       "   'species': 'bluefin',\n",
       "   'metric': 'lb'}],\n",
       " [{'case': 'nearest_pound', 'value': '35', 'species': 'fish', 'metric': 'lb'}],\n",
       " [{'case': 'nearest_pound',\n",
       "   'value': '37',\n",
       "   'species': 'yellowtail',\n",
       "   'metric': 'lb'},\n",
       "  {'case': 'nearest_pound',\n",
       "   'value': '34',\n",
       "   'species': 'yellowtail',\n",
       "   'metric': 'lb'},\n",
       "  {'case': 'nearest_pound',\n",
       "   'value': '31',\n",
       "   'species': 'yellowtail',\n",
       "   'metric': 'lb'}],\n",
       " [{'case': 'nearest_pound',\n",
       "   'value': '30',\n",
       "   'species': 'yellas',\n",
       "   'metric': 'lb'}],\n",
       " [{'case': 'nearest_pound',\n",
       "   'value': '204',\n",
       "   'species': 'yellowfin',\n",
       "   'metric': 'lb'},\n",
       "  {'case': 'nearest_pound',\n",
       "   'value': '194',\n",
       "   'species': 'yellowfin',\n",
       "   'metric': 'lb'},\n",
       "  {'case': 'nearest_pound',\n",
       "   'value': '190',\n",
       "   'species': 'yellowfin',\n",
       "   'metric': 'lb'},\n",
       "  {'case': 'nearest_pound',\n",
       "   'value': '230',\n",
       "   'species': 'yellowfin',\n",
       "   'metric': 'lb'}],\n",
       " [{'case': 'nearest_pound',\n",
       "   'value': '140',\n",
       "   'species': 'fish',\n",
       "   'metric': 'lb'}],\n",
       " [{'case': 'nearest_pound',\n",
       "   'value': '125',\n",
       "   'species': 'yellowfin',\n",
       "   'metric': 'lb'}],\n",
       " [{'case': 'range', 'value': '40-80', 'species': 'tuna', 'metric': 'lb'}],\n",
       " [{'case': 'range', 'value': '40-80', 'species': 'yellowfin', 'metric': 'lb'}],\n",
       " [{'case': 'nearest_pound',\n",
       "   'value': '160',\n",
       "   'species': 'fish',\n",
       "   'metric': 'lb'}],\n",
       " [{'case': 'nearest_pound',\n",
       "   'value': '250',\n",
       "   'species': 'tuna',\n",
       "   'metric': 'lb'}],\n",
       " [{'case': 'nearest_pound',\n",
       "   'value': '150',\n",
       "   'species': 'fish',\n",
       "   'metric': 'lb'}],\n",
       " [{'case': 'nearest_pound',\n",
       "   'value': '140',\n",
       "   'species': 'fish',\n",
       "   'metric': 'lb'}]]"
      ]
     },
     "execution_count": 147,
     "metadata": {},
     "output_type": "execute_result"
    }
   ],
   "source": [
    "samples = []\n",
    "\n",
    "for i in range(30, 50):\n",
    "    samples += [algo_hits.iloc[i]]\n",
    "samples"
   ]
  },
  {
   "cell_type": "markdown",
   "metadata": {},
   "source": [
    "# TODO: get counts of each fish mention. \n",
    "# Try to group jargon fish names with their actual name"
   ]
  },
  {
   "cell_type": "code",
   "execution_count": 148,
   "metadata": {
    "scrolled": true
   },
   "outputs": [],
   "source": [
    "for f in fish_names:\n",
    "    fishing_data.loc[:, f] = fishing_data.post_body.str.count(f)"
   ]
  },
  {
   "cell_type": "code",
   "execution_count": 149,
   "metadata": {
    "scrolled": true
   },
   "outputs": [
    {
     "data": {
      "text/plain": [
       "fish          4017\n",
       "tuna          1714\n",
       "yellowtail     936\n",
       "yellowfin      652\n",
       "ling           397\n",
       "bluefin        371\n",
       "wahoo          303\n",
       "sardine        294\n",
       "dorado         152\n",
       "albacore       130\n",
       "sardines       117\n",
       "kelp           107\n",
       "grouper         86\n",
       "halibut         55\n",
       "mackerel        55\n",
       "dtype: int64"
      ]
     },
     "execution_count": 149,
     "metadata": {},
     "output_type": "execute_result"
    }
   ],
   "source": [
    "fishing_data[list(fish_names)].sum(axis=0).sort_values(ascending=False)[:15]"
   ]
  },
  {
   "cell_type": "code",
   "execution_count": 150,
   "metadata": {},
   "outputs": [
    {
     "data": {
      "text/plain": [
       "<matplotlib.legend.Legend at 0x7fe8e7379210>"
      ]
     },
     "execution_count": 150,
     "metadata": {},
     "output_type": "execute_result"
    },
    {
     "data": {
      "image/png": "[encoded data removed]",
      "text/plain": [
       "<Figure size 864x576 with 1 Axes>"
      ]
     },
     "metadata": {
      "needs_background": "light"
     },
     "output_type": "display_data"
    }
   ],
   "source": [
    "# fishing_data.groupby(fishing_data.date_posted.dt.month)[['bluefin', 'yellowtail', 'grouper']].sum().plot()\n",
    "fishing_data.groupby(fishing_data.date_posted.dt.month)['dorado'].sum().plot(figsize=(12, 8))\n",
    "# plt.xticks(labels=month_labels, rotation=45);\n",
    "plt.legend([])"
   ]
  },
  {
   "cell_type": "code",
   "execution_count": 151,
   "metadata": {},
   "outputs": [
    {
     "data": {
      "text/plain": [
       "<matplotlib.legend.Legend at 0x7fe9196f4bd0>"
      ]
     },
     "execution_count": 151,
     "metadata": {},
     "output_type": "execute_result"
    },
    {
     "data": {
      "image/png": "[encoded data removed]",
      "text/plain": [
       "<Figure size 864x576 with 1 Axes>"
      ]
     },
     "metadata": {
      "needs_background": "light"
     },
     "output_type": "display_data"
    }
   ],
   "source": [
    "# fishing_data.groupby(fishing_data.date_posted.dt.month)[['bluefin', 'yellowtail', 'grouper']].sum().plot()\n",
    "fishing_data.groupby(fishing_data.date_posted.dt.month)[list(fish_names)].sum().plot(figsize=(12, 8))\n",
    "# plt.xticks(labels=month_labels, rotation=45);\n",
    "plt.legend([])"
   ]
  },
  {
   "cell_type": "code",
   "execution_count": null,
   "metadata": {
    "scrolled": true
   },
   "outputs": [],
   "source": [
    "fishing_data"
   ]
  },
  {
   "cell_type": "code",
   "execution_count": null,
   "metadata": {},
   "outputs": [],
   "source": []
  },
  {
   "cell_type": "code",
   "execution_count": null,
   "metadata": {},
   "outputs": [],
   "source": []
  },
  {
   "cell_type": "code",
   "execution_count": null,
   "metadata": {},
   "outputs": [],
   "source": []
  },
  {
   "cell_type": "code",
   "execution_count": null,
   "metadata": {},
   "outputs": [],
   "source": []
  },
  {
   "cell_type": "code",
   "execution_count": null,
   "metadata": {},
   "outputs": [],
   "source": []
  },
  {
   "cell_type": "code",
   "execution_count": null,
   "metadata": {},
   "outputs": [],
   "source": []
  },
  {
   "cell_type": "code",
   "execution_count": null,
   "metadata": {},
   "outputs": [],
   "source": []
  },
  {
   "cell_type": "code",
   "execution_count": null,
   "metadata": {},
   "outputs": [],
   "source": []
  },
  {
   "cell_type": "code",
   "execution_count": null,
   "metadata": {},
   "outputs": [],
   "source": []
  },
  {
   "cell_type": "code",
   "execution_count": null,
   "metadata": {},
   "outputs": [],
   "source": []
  },
  {
   "cell_type": "code",
   "execution_count": null,
   "metadata": {},
   "outputs": [],
   "source": []
  },
  {
   "cell_type": "code",
   "execution_count": null,
   "metadata": {},
   "outputs": [],
   "source": []
  }
 ],
 "metadata": {
  "kernelspec": {
   "display_name": "Machine learning sandbox",
   "language": "python",
   "name": "data-science-environment"
  },
  "language_info": {
   "codemirror_mode": {
    "name": "ipython",
    "version": 3
   },
   "file_extension": ".py",
   "mimetype": "text/x-python",
   "name": "python",
   "nbconvert_exporter": "python",
   "pygments_lexer": "ipython3",
   "version": "3.7.6"
  }
 },
 "nbformat": 4,
 "nbformat_minor": 2
}
