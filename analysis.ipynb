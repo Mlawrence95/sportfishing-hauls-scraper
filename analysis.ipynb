{
 "cells": [
  {
   "cell_type": "code",
   "execution_count": 263,
   "metadata": {},
   "outputs": [],
   "source": [
    "import datetime\n",
    "import os\n",
    "\n",
    "import pandas as pd\n",
    "import numpy as np\n",
    "import matplotlib.pyplot as plt\n",
    "\n",
    "# from db_utils.db_queries import sql_all_reports_with_weather\n",
    "# from db_utils.mysql_db_connection import get_mysql_connection\n",
    "\n",
    "from webscraping.scrape_fishing_data import clean_string"
   ]
  },
  {
   "cell_type": "markdown",
   "metadata": {},
   "source": [
    "## Read and format the data"
   ]
  },
  {
   "cell_type": "code",
   "execution_count": 28,
   "metadata": {},
   "outputs": [],
   "source": [
    "fishing_data = pd.read_csv(\"./raw_fishing_data.csv\")"
   ]
  },
  {
   "cell_type": "code",
   "execution_count": 70,
   "metadata": {},
   "outputs": [
    {
     "data": {
      "text/html": [
       "<div>\n",
       "<style scoped>\n",
       "    .dataframe tbody tr th:only-of-type {\n",
       "        vertical-align: middle;\n",
       "    }\n",
       "\n",
       "    .dataframe tbody tr th {\n",
       "        vertical-align: top;\n",
       "    }\n",
       "\n",
       "    .dataframe thead th {\n",
       "        text-align: right;\n",
       "    }\n",
       "</style>\n",
       "<table border=\"1\" class=\"dataframe\">\n",
       "  <thead>\n",
       "    <tr style=\"text-align: right;\">\n",
       "      <th></th>\n",
       "      <th>date_posted</th>\n",
       "      <th>headline</th>\n",
       "      <th>post_body</th>\n",
       "      <th>low_temp</th>\n",
       "      <th>avg_temp</th>\n",
       "      <th>high_temp</th>\n",
       "      <th>inches_precip</th>\n",
       "      <th>miles_visible</th>\n",
       "      <th>max_wind</th>\n",
       "      <th>sea_pressure</th>\n",
       "    </tr>\n",
       "  </thead>\n",
       "  <tbody>\n",
       "    <tr>\n",
       "      <th>0</th>\n",
       "      <td>2020-12-17</td>\n",
       "      <td>ON THE HUNT</td>\n",
       "      <td>We were on the hunt for Yellowtail today but n...</td>\n",
       "      <td>46.0</td>\n",
       "      <td>57.34</td>\n",
       "      <td>64.0</td>\n",
       "      <td>0.0</td>\n",
       "      <td>10.0</td>\n",
       "      <td>10.0</td>\n",
       "      <td>30.08</td>\n",
       "    </tr>\n",
       "    <tr>\n",
       "      <th>1</th>\n",
       "      <td>2020-12-18</td>\n",
       "      <td>SCRATCHING AWAY</td>\n",
       "      <td>Searched for Yellowtail again today to find no...</td>\n",
       "      <td>52.0</td>\n",
       "      <td>58.04</td>\n",
       "      <td>66.0</td>\n",
       "      <td>0.0</td>\n",
       "      <td>10.0</td>\n",
       "      <td>9.0</td>\n",
       "      <td>30.23</td>\n",
       "    </tr>\n",
       "  </tbody>\n",
       "</table>\n",
       "</div>"
      ],
      "text/plain": [
       "  date_posted         headline  \\\n",
       "0  2020-12-17      ON THE HUNT   \n",
       "1  2020-12-18  SCRATCHING AWAY   \n",
       "\n",
       "                                           post_body  low_temp  avg_temp  \\\n",
       "0  We were on the hunt for Yellowtail today but n...      46.0     57.34   \n",
       "1  Searched for Yellowtail again today to find no...      52.0     58.04   \n",
       "\n",
       "   high_temp  inches_precip  miles_visible  max_wind  sea_pressure  \n",
       "0       64.0            0.0           10.0      10.0         30.08  \n",
       "1       66.0            0.0           10.0       9.0         30.23  "
      ]
     },
     "execution_count": 70,
     "metadata": {},
     "output_type": "execute_result"
    }
   ],
   "source": [
    "fishing_data.head(2)"
   ]
  },
  {
   "cell_type": "code",
   "execution_count": 29,
   "metadata": {},
   "outputs": [],
   "source": [
    "# convert the date to a date object for consistency in our analysis + make pandas happy\n",
    "fishing_data.loc[:, 'date_posted'] = pd.to_datetime(fishing_data.loc[:, 'date_posted'], format=\"%Y-%m-%d\", cache=True)\n",
    "\n",
    "# clean punctuation from the post bodies. makes our lives harder and doesnt contribute much\n",
    "fishing_data.loc[:, 'post_body'] = fishing_data.loc[:, 'post_body'].astype(str).apply(clean_string)"
   ]
  },
  {
   "cell_type": "markdown",
   "metadata": {},
   "source": [
    "## Check for duplicate rows "
   ]
  },
  {
   "cell_type": "code",
   "execution_count": 187,
   "metadata": {},
   "outputs": [
    {
     "data": {
      "text/html": [
       "<div>\n",
       "<style scoped>\n",
       "    .dataframe tbody tr th:only-of-type {\n",
       "        vertical-align: middle;\n",
       "    }\n",
       "\n",
       "    .dataframe tbody tr th {\n",
       "        vertical-align: top;\n",
       "    }\n",
       "\n",
       "    .dataframe thead th {\n",
       "        text-align: right;\n",
       "    }\n",
       "</style>\n",
       "<table border=\"1\" class=\"dataframe\">\n",
       "  <thead>\n",
       "    <tr style=\"text-align: right;\">\n",
       "      <th></th>\n",
       "      <th>date_posted</th>\n",
       "      <th>headline</th>\n",
       "      <th>post_body</th>\n",
       "      <th>low_temp</th>\n",
       "      <th>avg_temp</th>\n",
       "      <th>high_temp</th>\n",
       "      <th>inches_precip</th>\n",
       "      <th>miles_visible</th>\n",
       "      <th>max_wind</th>\n",
       "      <th>sea_pressure</th>\n",
       "    </tr>\n",
       "  </thead>\n",
       "  <tbody>\n",
       "    <tr>\n",
       "      <th>2548</th>\n",
       "      <td>2007-08-30</td>\n",
       "      <td>Indy Sportfishing Fish Report 08-30-07</td>\n",
       "      <td>Here is the report for today We fished for alb...</td>\n",
       "      <td>71.0</td>\n",
       "      <td>74.35</td>\n",
       "      <td>80.0</td>\n",
       "      <td>0.0</td>\n",
       "      <td>10.0</td>\n",
       "      <td>9.0</td>\n",
       "      <td>29.87</td>\n",
       "    </tr>\n",
       "    <tr>\n",
       "      <th>2547</th>\n",
       "      <td>2007-08-30</td>\n",
       "      <td>Indy Sportfishing Fish Report 08-30-07</td>\n",
       "      <td>Here is the report for today We fished for alb...</td>\n",
       "      <td>71.0</td>\n",
       "      <td>74.35</td>\n",
       "      <td>80.0</td>\n",
       "      <td>0.0</td>\n",
       "      <td>10.0</td>\n",
       "      <td>9.0</td>\n",
       "      <td>29.87</td>\n",
       "    </tr>\n",
       "    <tr>\n",
       "      <th>2478</th>\n",
       "      <td>2007-12-02</td>\n",
       "      <td>Indy Sportfishing Fish Report 12-02-07</td>\n",
       "      <td>Good evening we had another great day at the b...</td>\n",
       "      <td>48.0</td>\n",
       "      <td>54.43</td>\n",
       "      <td>60.0</td>\n",
       "      <td>0.0</td>\n",
       "      <td>10.0</td>\n",
       "      <td>12.0</td>\n",
       "      <td>30.41</td>\n",
       "    </tr>\n",
       "    <tr>\n",
       "      <th>2477</th>\n",
       "      <td>2007-12-02</td>\n",
       "      <td>Indy Sportfishing Fish Report 12-02-07</td>\n",
       "      <td>Good evening we had another great day at the b...</td>\n",
       "      <td>48.0</td>\n",
       "      <td>54.43</td>\n",
       "      <td>60.0</td>\n",
       "      <td>0.0</td>\n",
       "      <td>10.0</td>\n",
       "      <td>12.0</td>\n",
       "      <td>30.41</td>\n",
       "    </tr>\n",
       "    <tr>\n",
       "      <th>2354</th>\n",
       "      <td>2008-08-26</td>\n",
       "      <td>Independence Sportfishing Fish Report</td>\n",
       "      <td>Good day heres an update from our trip so far ...</td>\n",
       "      <td>69.0</td>\n",
       "      <td>71.16</td>\n",
       "      <td>75.0</td>\n",
       "      <td>0.0</td>\n",
       "      <td>10.0</td>\n",
       "      <td>9.0</td>\n",
       "      <td>29.81</td>\n",
       "    </tr>\n",
       "    <tr>\n",
       "      <th>2353</th>\n",
       "      <td>2008-08-26</td>\n",
       "      <td>Independence Sportfishing Fish Report</td>\n",
       "      <td>Good day heres an update from our trip so far ...</td>\n",
       "      <td>69.0</td>\n",
       "      <td>71.16</td>\n",
       "      <td>75.0</td>\n",
       "      <td>0.0</td>\n",
       "      <td>10.0</td>\n",
       "      <td>9.0</td>\n",
       "      <td>29.81</td>\n",
       "    </tr>\n",
       "    <tr>\n",
       "      <th>2336</th>\n",
       "      <td>2008-10-03</td>\n",
       "      <td>Independence Fish Report for Oct. 3, 2008</td>\n",
       "      <td>Well today we continued our hunt down into the...</td>\n",
       "      <td>66.0</td>\n",
       "      <td>68.45</td>\n",
       "      <td>70.0</td>\n",
       "      <td>0.0</td>\n",
       "      <td>10.0</td>\n",
       "      <td>12.0</td>\n",
       "      <td>29.90</td>\n",
       "    </tr>\n",
       "    <tr>\n",
       "      <th>2335</th>\n",
       "      <td>2008-10-03</td>\n",
       "      <td>Independence Fish Report for Oct. 3, 2008</td>\n",
       "      <td>Well today we continued our hunt down into the...</td>\n",
       "      <td>66.0</td>\n",
       "      <td>68.45</td>\n",
       "      <td>70.0</td>\n",
       "      <td>0.0</td>\n",
       "      <td>10.0</td>\n",
       "      <td>12.0</td>\n",
       "      <td>29.90</td>\n",
       "    </tr>\n",
       "    <tr>\n",
       "      <th>2332</th>\n",
       "      <td>2008-10-06</td>\n",
       "      <td>Independence Fish Report for Oct. 06, 2008</td>\n",
       "      <td>Hello Here is the final report for our trip To...</td>\n",
       "      <td>62.0</td>\n",
       "      <td>69.52</td>\n",
       "      <td>79.0</td>\n",
       "      <td>0.0</td>\n",
       "      <td>10.0</td>\n",
       "      <td>13.0</td>\n",
       "      <td>29.96</td>\n",
       "    </tr>\n",
       "    <tr>\n",
       "      <th>2331</th>\n",
       "      <td>2008-10-06</td>\n",
       "      <td>Independence Fish Report for Oct. 06, 2008</td>\n",
       "      <td>Hello Here is the final report for our trip To...</td>\n",
       "      <td>62.0</td>\n",
       "      <td>69.52</td>\n",
       "      <td>79.0</td>\n",
       "      <td>0.0</td>\n",
       "      <td>10.0</td>\n",
       "      <td>13.0</td>\n",
       "      <td>29.96</td>\n",
       "    </tr>\n",
       "    <tr>\n",
       "      <th>2283</th>\n",
       "      <td>2008-12-05</td>\n",
       "      <td>Independence Fish Report for Dec. 05, 2008</td>\n",
       "      <td>Hello again Today was well today was not good ...</td>\n",
       "      <td>54.0</td>\n",
       "      <td>61.09</td>\n",
       "      <td>70.0</td>\n",
       "      <td>0.0</td>\n",
       "      <td>10.0</td>\n",
       "      <td>8.0</td>\n",
       "      <td>30.15</td>\n",
       "    </tr>\n",
       "    <tr>\n",
       "      <th>2282</th>\n",
       "      <td>2008-12-05</td>\n",
       "      <td>Independence Fish Report for Dec. 05, 2008</td>\n",
       "      <td>Hello again Today was well today was not good ...</td>\n",
       "      <td>54.0</td>\n",
       "      <td>61.09</td>\n",
       "      <td>70.0</td>\n",
       "      <td>0.0</td>\n",
       "      <td>10.0</td>\n",
       "      <td>8.0</td>\n",
       "      <td>30.15</td>\n",
       "    </tr>\n",
       "    <tr>\n",
       "      <th>1827</th>\n",
       "      <td>2011-09-09</td>\n",
       "      <td>Indy Arrives</td>\n",
       "      <td>The Indy will dock at Point Loma Sportfishing ...</td>\n",
       "      <td>63.0</td>\n",
       "      <td>65.50</td>\n",
       "      <td>68.0</td>\n",
       "      <td>0.0</td>\n",
       "      <td>10.0</td>\n",
       "      <td>12.0</td>\n",
       "      <td>29.86</td>\n",
       "    </tr>\n",
       "    <tr>\n",
       "      <th>1826</th>\n",
       "      <td>2011-09-09</td>\n",
       "      <td>Indy Arrives</td>\n",
       "      <td>The Indy will dock at Point Loma Sportfishing ...</td>\n",
       "      <td>63.0</td>\n",
       "      <td>65.50</td>\n",
       "      <td>68.0</td>\n",
       "      <td>0.0</td>\n",
       "      <td>10.0</td>\n",
       "      <td>12.0</td>\n",
       "      <td>29.86</td>\n",
       "    </tr>\n",
       "    <tr>\n",
       "      <th>1738</th>\n",
       "      <td>2012-04-17</td>\n",
       "      <td>ANOTHER BANNER DAY!</td>\n",
       "      <td>ANOTHER BANNER DAY Things are going well down ...</td>\n",
       "      <td>54.0</td>\n",
       "      <td>61.00</td>\n",
       "      <td>71.0</td>\n",
       "      <td>0.0</td>\n",
       "      <td>10.0</td>\n",
       "      <td>13.0</td>\n",
       "      <td>30.08</td>\n",
       "    </tr>\n",
       "    <tr>\n",
       "      <th>1737</th>\n",
       "      <td>2012-04-17</td>\n",
       "      <td>ANOTHER BANNER DAY!</td>\n",
       "      <td>ANOTHER BANNER DAY Things are going well down ...</td>\n",
       "      <td>54.0</td>\n",
       "      <td>61.00</td>\n",
       "      <td>71.0</td>\n",
       "      <td>0.0</td>\n",
       "      <td>10.0</td>\n",
       "      <td>13.0</td>\n",
       "      <td>30.08</td>\n",
       "    </tr>\n",
       "    <tr>\n",
       "      <th>1345</th>\n",
       "      <td>2013-11-14</td>\n",
       "      <td>ANOTHER QUICK TURNAROUND...</td>\n",
       "      <td>The Indy returned this morning with a beautifu...</td>\n",
       "      <td>60.0</td>\n",
       "      <td>65.24</td>\n",
       "      <td>78.0</td>\n",
       "      <td>0.0</td>\n",
       "      <td>10.0</td>\n",
       "      <td>14.0</td>\n",
       "      <td>29.90</td>\n",
       "    </tr>\n",
       "    <tr>\n",
       "      <th>1344</th>\n",
       "      <td>2013-11-14</td>\n",
       "      <td>ANOTHER QUICK TURNAROUND...</td>\n",
       "      <td>The Indy returned this morning with a beautifu...</td>\n",
       "      <td>60.0</td>\n",
       "      <td>65.24</td>\n",
       "      <td>78.0</td>\n",
       "      <td>0.0</td>\n",
       "      <td>10.0</td>\n",
       "      <td>14.0</td>\n",
       "      <td>29.90</td>\n",
       "    </tr>\n",
       "    <tr>\n",
       "      <th>1342</th>\n",
       "      <td>2013-11-17</td>\n",
       "      <td>UPDATE....</td>\n",
       "      <td>We have had a very pleasant ride down to the f...</td>\n",
       "      <td>58.0</td>\n",
       "      <td>62.63</td>\n",
       "      <td>66.0</td>\n",
       "      <td>0.0</td>\n",
       "      <td>10.0</td>\n",
       "      <td>12.0</td>\n",
       "      <td>30.07</td>\n",
       "    </tr>\n",
       "    <tr>\n",
       "      <th>1341</th>\n",
       "      <td>2013-11-17</td>\n",
       "      <td>UPDATE....</td>\n",
       "      <td>We have had a very pleasant ride down to the f...</td>\n",
       "      <td>58.0</td>\n",
       "      <td>62.63</td>\n",
       "      <td>66.0</td>\n",
       "      <td>0.0</td>\n",
       "      <td>10.0</td>\n",
       "      <td>12.0</td>\n",
       "      <td>30.07</td>\n",
       "    </tr>\n",
       "    <tr>\n",
       "      <th>1080</th>\n",
       "      <td>2015-06-15</td>\n",
       "      <td>CHECKING IN.........</td>\n",
       "      <td>Good day to all from the independence we depar...</td>\n",
       "      <td>64.0</td>\n",
       "      <td>67.30</td>\n",
       "      <td>72.0</td>\n",
       "      <td>0.0</td>\n",
       "      <td>10.0</td>\n",
       "      <td>9.0</td>\n",
       "      <td>29.87</td>\n",
       "    </tr>\n",
       "    <tr>\n",
       "      <th>1079</th>\n",
       "      <td>2015-06-15</td>\n",
       "      <td>CHECKING IN.........</td>\n",
       "      <td>Good day to all from the independence we depar...</td>\n",
       "      <td>64.0</td>\n",
       "      <td>67.30</td>\n",
       "      <td>72.0</td>\n",
       "      <td>0.0</td>\n",
       "      <td>10.0</td>\n",
       "      <td>9.0</td>\n",
       "      <td>29.87</td>\n",
       "    </tr>\n",
       "    <tr>\n",
       "      <th>967</th>\n",
       "      <td>2015-10-23</td>\n",
       "      <td>Tunaholics are out.....</td>\n",
       "      <td>Yesterday we departed on our annual 10 day tun...</td>\n",
       "      <td>65.0</td>\n",
       "      <td>70.92</td>\n",
       "      <td>78.0</td>\n",
       "      <td>0.0</td>\n",
       "      <td>10.0</td>\n",
       "      <td>13.0</td>\n",
       "      <td>29.97</td>\n",
       "    </tr>\n",
       "    <tr>\n",
       "      <th>966</th>\n",
       "      <td>2015-10-23</td>\n",
       "      <td>Tunaholics are out.....</td>\n",
       "      <td>Yesterday we departed on our annual 10 day tun...</td>\n",
       "      <td>65.0</td>\n",
       "      <td>70.92</td>\n",
       "      <td>78.0</td>\n",
       "      <td>0.0</td>\n",
       "      <td>10.0</td>\n",
       "      <td>13.0</td>\n",
       "      <td>29.97</td>\n",
       "    </tr>\n",
       "  </tbody>\n",
       "</table>\n",
       "</div>"
      ],
      "text/plain": [
       "     date_posted                                    headline  \\\n",
       "2548  2007-08-30      Indy Sportfishing Fish Report 08-30-07   \n",
       "2547  2007-08-30      Indy Sportfishing Fish Report 08-30-07   \n",
       "2478  2007-12-02      Indy Sportfishing Fish Report 12-02-07   \n",
       "2477  2007-12-02      Indy Sportfishing Fish Report 12-02-07   \n",
       "2354  2008-08-26       Independence Sportfishing Fish Report   \n",
       "2353  2008-08-26       Independence Sportfishing Fish Report   \n",
       "2336  2008-10-03   Independence Fish Report for Oct. 3, 2008   \n",
       "2335  2008-10-03   Independence Fish Report for Oct. 3, 2008   \n",
       "2332  2008-10-06  Independence Fish Report for Oct. 06, 2008   \n",
       "2331  2008-10-06  Independence Fish Report for Oct. 06, 2008   \n",
       "2283  2008-12-05  Independence Fish Report for Dec. 05, 2008   \n",
       "2282  2008-12-05  Independence Fish Report for Dec. 05, 2008   \n",
       "1827  2011-09-09                                Indy Arrives   \n",
       "1826  2011-09-09                                Indy Arrives   \n",
       "1738  2012-04-17                        ANOTHER BANNER DAY!    \n",
       "1737  2012-04-17                        ANOTHER BANNER DAY!    \n",
       "1345  2013-11-14                 ANOTHER QUICK TURNAROUND...   \n",
       "1344  2013-11-14                 ANOTHER QUICK TURNAROUND...   \n",
       "1342  2013-11-17                                  UPDATE....   \n",
       "1341  2013-11-17                                  UPDATE....   \n",
       "1080  2015-06-15                        CHECKING IN.........   \n",
       "1079  2015-06-15                        CHECKING IN.........   \n",
       "967   2015-10-23                     Tunaholics are out.....   \n",
       "966   2015-10-23                     Tunaholics are out.....   \n",
       "\n",
       "                                              post_body  low_temp  avg_temp  \\\n",
       "2548  Here is the report for today We fished for alb...      71.0     74.35   \n",
       "2547  Here is the report for today We fished for alb...      71.0     74.35   \n",
       "2478  Good evening we had another great day at the b...      48.0     54.43   \n",
       "2477  Good evening we had another great day at the b...      48.0     54.43   \n",
       "2354  Good day heres an update from our trip so far ...      69.0     71.16   \n",
       "2353  Good day heres an update from our trip so far ...      69.0     71.16   \n",
       "2336  Well today we continued our hunt down into the...      66.0     68.45   \n",
       "2335  Well today we continued our hunt down into the...      66.0     68.45   \n",
       "2332  Hello Here is the final report for our trip To...      62.0     69.52   \n",
       "2331  Hello Here is the final report for our trip To...      62.0     69.52   \n",
       "2283  Hello again Today was well today was not good ...      54.0     61.09   \n",
       "2282  Hello again Today was well today was not good ...      54.0     61.09   \n",
       "1827  The Indy will dock at Point Loma Sportfishing ...      63.0     65.50   \n",
       "1826  The Indy will dock at Point Loma Sportfishing ...      63.0     65.50   \n",
       "1738  ANOTHER BANNER DAY Things are going well down ...      54.0     61.00   \n",
       "1737  ANOTHER BANNER DAY Things are going well down ...      54.0     61.00   \n",
       "1345  The Indy returned this morning with a beautifu...      60.0     65.24   \n",
       "1344  The Indy returned this morning with a beautifu...      60.0     65.24   \n",
       "1342  We have had a very pleasant ride down to the f...      58.0     62.63   \n",
       "1341  We have had a very pleasant ride down to the f...      58.0     62.63   \n",
       "1080  Good day to all from the independence we depar...      64.0     67.30   \n",
       "1079  Good day to all from the independence we depar...      64.0     67.30   \n",
       "967   Yesterday we departed on our annual 10 day tun...      65.0     70.92   \n",
       "966   Yesterday we departed on our annual 10 day tun...      65.0     70.92   \n",
       "\n",
       "      high_temp  inches_precip  miles_visible  max_wind  sea_pressure  \n",
       "2548       80.0            0.0           10.0       9.0         29.87  \n",
       "2547       80.0            0.0           10.0       9.0         29.87  \n",
       "2478       60.0            0.0           10.0      12.0         30.41  \n",
       "2477       60.0            0.0           10.0      12.0         30.41  \n",
       "2354       75.0            0.0           10.0       9.0         29.81  \n",
       "2353       75.0            0.0           10.0       9.0         29.81  \n",
       "2336       70.0            0.0           10.0      12.0         29.90  \n",
       "2335       70.0            0.0           10.0      12.0         29.90  \n",
       "2332       79.0            0.0           10.0      13.0         29.96  \n",
       "2331       79.0            0.0           10.0      13.0         29.96  \n",
       "2283       70.0            0.0           10.0       8.0         30.15  \n",
       "2282       70.0            0.0           10.0       8.0         30.15  \n",
       "1827       68.0            0.0           10.0      12.0         29.86  \n",
       "1826       68.0            0.0           10.0      12.0         29.86  \n",
       "1738       71.0            0.0           10.0      13.0         30.08  \n",
       "1737       71.0            0.0           10.0      13.0         30.08  \n",
       "1345       78.0            0.0           10.0      14.0         29.90  \n",
       "1344       78.0            0.0           10.0      14.0         29.90  \n",
       "1342       66.0            0.0           10.0      12.0         30.07  \n",
       "1341       66.0            0.0           10.0      12.0         30.07  \n",
       "1080       72.0            0.0           10.0       9.0         29.87  \n",
       "1079       72.0            0.0           10.0       9.0         29.87  \n",
       "967        78.0            0.0           10.0      13.0         29.97  \n",
       "966        78.0            0.0           10.0      13.0         29.97  "
      ]
     },
     "execution_count": 187,
     "metadata": {},
     "output_type": "execute_result"
    }
   ],
   "source": [
    "fishing_data.loc[fishing_data.duplicated(subset=['headline', 'post_body', 'date_posted'], keep=False)].sort_values(\"date_posted\")"
   ]
  },
  {
   "cell_type": "markdown",
   "metadata": {},
   "source": [
    "There are 13 duplicate posts that leaked into the data. We'll get rid of these so they don't skew any of our analysis."
   ]
  },
  {
   "cell_type": "code",
   "execution_count": 188,
   "metadata": {},
   "outputs": [
    {
     "data": {
      "text/html": [
       "<div>\n",
       "<style scoped>\n",
       "    .dataframe tbody tr th:only-of-type {\n",
       "        vertical-align: middle;\n",
       "    }\n",
       "\n",
       "    .dataframe tbody tr th {\n",
       "        vertical-align: top;\n",
       "    }\n",
       "\n",
       "    .dataframe thead th {\n",
       "        text-align: right;\n",
       "    }\n",
       "</style>\n",
       "<table border=\"1\" class=\"dataframe\">\n",
       "  <thead>\n",
       "    <tr style=\"text-align: right;\">\n",
       "      <th></th>\n",
       "      <th>date_posted</th>\n",
       "      <th>headline</th>\n",
       "      <th>post_body</th>\n",
       "      <th>low_temp</th>\n",
       "      <th>avg_temp</th>\n",
       "      <th>high_temp</th>\n",
       "      <th>inches_precip</th>\n",
       "      <th>miles_visible</th>\n",
       "      <th>max_wind</th>\n",
       "      <th>sea_pressure</th>\n",
       "    </tr>\n",
       "  </thead>\n",
       "  <tbody>\n",
       "    <tr>\n",
       "      <th>0</th>\n",
       "      <td>2020-12-17</td>\n",
       "      <td>ON THE HUNT</td>\n",
       "      <td>We were on the hunt for Yellowtail today but n...</td>\n",
       "      <td>46.0</td>\n",
       "      <td>57.34</td>\n",
       "      <td>64.0</td>\n",
       "      <td>0.0</td>\n",
       "      <td>10.0</td>\n",
       "      <td>10.0</td>\n",
       "      <td>30.08</td>\n",
       "    </tr>\n",
       "    <tr>\n",
       "      <th>1</th>\n",
       "      <td>2020-12-18</td>\n",
       "      <td>SCRATCHING AWAY</td>\n",
       "      <td>Searched for Yellowtail again today to find no...</td>\n",
       "      <td>52.0</td>\n",
       "      <td>58.04</td>\n",
       "      <td>66.0</td>\n",
       "      <td>0.0</td>\n",
       "      <td>10.0</td>\n",
       "      <td>9.0</td>\n",
       "      <td>30.23</td>\n",
       "    </tr>\n",
       "  </tbody>\n",
       "</table>\n",
       "</div>"
      ],
      "text/plain": [
       "  date_posted         headline  \\\n",
       "0  2020-12-17      ON THE HUNT   \n",
       "1  2020-12-18  SCRATCHING AWAY   \n",
       "\n",
       "                                           post_body  low_temp  avg_temp  \\\n",
       "0  We were on the hunt for Yellowtail today but n...      46.0     57.34   \n",
       "1  Searched for Yellowtail again today to find no...      52.0     58.04   \n",
       "\n",
       "   high_temp  inches_precip  miles_visible  max_wind  sea_pressure  \n",
       "0       64.0            0.0           10.0      10.0         30.08  \n",
       "1       66.0            0.0           10.0       9.0         30.23  "
      ]
     },
     "execution_count": 188,
     "metadata": {},
     "output_type": "execute_result"
    }
   ],
   "source": [
    "fishing_data = fishing_data.drop_duplicates().reset_index(drop=True)\n",
    "fishing_data.head(2)"
   ]
  },
  {
   "cell_type": "markdown",
   "metadata": {},
   "source": [
    "## Duplicate dates"
   ]
  },
  {
   "cell_type": "code",
   "execution_count": 189,
   "metadata": {},
   "outputs": [
    {
     "data": {
      "text/plain": [
       "2017-09-26    9\n",
       "2017-04-30    9\n",
       "2018-04-21    7\n",
       "2017-04-28    7\n",
       "2017-12-05    7\n",
       "             ..\n",
       "2014-07-10    2\n",
       "2019-07-10    2\n",
       "2014-07-13    2\n",
       "2013-08-15    2\n",
       "2007-07-29    2\n",
       "Name: date_posted, Length: 410, dtype: int64"
      ]
     },
     "execution_count": 189,
     "metadata": {},
     "output_type": "execute_result"
    }
   ],
   "source": [
    "# are there multiple posts for any days?\n",
    "post_counts = fishing_data.date_posted.value_counts()\n",
    "post_counts[post_counts >= 2]"
   ]
  },
  {
   "cell_type": "markdown",
   "metadata": {},
   "source": [
    "Is it concerning that dates are duplicated? Let's check one of the dates that has 9 posts."
   ]
  },
  {
   "cell_type": "code",
   "execution_count": 192,
   "metadata": {},
   "outputs": [
    {
     "data": {
      "text/html": [
       "<div>\n",
       "<style scoped>\n",
       "    .dataframe tbody tr th:only-of-type {\n",
       "        vertical-align: middle;\n",
       "    }\n",
       "\n",
       "    .dataframe tbody tr th {\n",
       "        vertical-align: top;\n",
       "    }\n",
       "\n",
       "    .dataframe thead th {\n",
       "        text-align: right;\n",
       "    }\n",
       "</style>\n",
       "<table border=\"1\" class=\"dataframe\">\n",
       "  <thead>\n",
       "    <tr style=\"text-align: right;\">\n",
       "      <th></th>\n",
       "      <th>date_posted</th>\n",
       "      <th>headline</th>\n",
       "      <th>post_body</th>\n",
       "      <th>low_temp</th>\n",
       "      <th>avg_temp</th>\n",
       "      <th>high_temp</th>\n",
       "      <th>inches_precip</th>\n",
       "      <th>miles_visible</th>\n",
       "      <th>max_wind</th>\n",
       "      <th>sea_pressure</th>\n",
       "    </tr>\n",
       "  </thead>\n",
       "  <tbody>\n",
       "    <tr>\n",
       "      <th>498</th>\n",
       "      <td>2017-09-26</td>\n",
       "      <td>Excellent Start Kimura 8 Day</td>\n",
       "      <td>We departed Sunday on our annual Gary Kimura 8...</td>\n",
       "      <td>63.0</td>\n",
       "      <td>69.92</td>\n",
       "      <td>78.0</td>\n",
       "      <td>0.0</td>\n",
       "      <td>10.0</td>\n",
       "      <td>10.0</td>\n",
       "      <td>29.82</td>\n",
       "    </tr>\n",
       "    <tr>\n",
       "      <th>499</th>\n",
       "      <td>2017-09-26</td>\n",
       "      <td>beautiful dorados today</td>\n",
       "      <td>nan</td>\n",
       "      <td>63.0</td>\n",
       "      <td>69.92</td>\n",
       "      <td>78.0</td>\n",
       "      <td>0.0</td>\n",
       "      <td>10.0</td>\n",
       "      <td>10.0</td>\n",
       "      <td>29.82</td>\n",
       "    </tr>\n",
       "    <tr>\n",
       "      <th>500</th>\n",
       "      <td>2017-09-26</td>\n",
       "      <td>beautiful yellowtail</td>\n",
       "      <td>nan</td>\n",
       "      <td>63.0</td>\n",
       "      <td>69.92</td>\n",
       "      <td>78.0</td>\n",
       "      <td>0.0</td>\n",
       "      <td>10.0</td>\n",
       "      <td>10.0</td>\n",
       "      <td>29.82</td>\n",
       "    </tr>\n",
       "    <tr>\n",
       "      <th>501</th>\n",
       "      <td>2017-09-26</td>\n",
       "      <td>happy camper</td>\n",
       "      <td>nan</td>\n",
       "      <td>63.0</td>\n",
       "      <td>69.92</td>\n",
       "      <td>78.0</td>\n",
       "      <td>0.0</td>\n",
       "      <td>10.0</td>\n",
       "      <td>10.0</td>\n",
       "      <td>29.82</td>\n",
       "    </tr>\n",
       "    <tr>\n",
       "      <th>502</th>\n",
       "      <td>2017-09-26</td>\n",
       "      <td>YELLOWTAIL BONANZA</td>\n",
       "      <td>nan</td>\n",
       "      <td>63.0</td>\n",
       "      <td>69.92</td>\n",
       "      <td>78.0</td>\n",
       "      <td>0.0</td>\n",
       "      <td>10.0</td>\n",
       "      <td>10.0</td>\n",
       "      <td>29.82</td>\n",
       "    </tr>\n",
       "    <tr>\n",
       "      <th>503</th>\n",
       "      <td>2017-09-26</td>\n",
       "      <td>Matt</td>\n",
       "      <td>Matt brings in a beautiful Yellowtail</td>\n",
       "      <td>63.0</td>\n",
       "      <td>69.92</td>\n",
       "      <td>78.0</td>\n",
       "      <td>0.0</td>\n",
       "      <td>10.0</td>\n",
       "      <td>10.0</td>\n",
       "      <td>29.82</td>\n",
       "    </tr>\n",
       "    <tr>\n",
       "      <th>504</th>\n",
       "      <td>2017-09-26</td>\n",
       "      <td>Alex</td>\n",
       "      <td>Nice yellow today</td>\n",
       "      <td>63.0</td>\n",
       "      <td>69.92</td>\n",
       "      <td>78.0</td>\n",
       "      <td>0.0</td>\n",
       "      <td>10.0</td>\n",
       "      <td>10.0</td>\n",
       "      <td>29.82</td>\n",
       "    </tr>\n",
       "    <tr>\n",
       "      <th>505</th>\n",
       "      <td>2017-09-26</td>\n",
       "      <td>Robert</td>\n",
       "      <td>Robert says Hello to all my friends</td>\n",
       "      <td>63.0</td>\n",
       "      <td>69.92</td>\n",
       "      <td>78.0</td>\n",
       "      <td>0.0</td>\n",
       "      <td>10.0</td>\n",
       "      <td>10.0</td>\n",
       "      <td>29.82</td>\n",
       "    </tr>\n",
       "    <tr>\n",
       "      <th>506</th>\n",
       "      <td>2017-09-26</td>\n",
       "      <td>trip 1722 Jackpot winners</td>\n",
       "      <td>First place Tim Brown 57 8 Second place Vince ...</td>\n",
       "      <td>63.0</td>\n",
       "      <td>69.92</td>\n",
       "      <td>78.0</td>\n",
       "      <td>0.0</td>\n",
       "      <td>10.0</td>\n",
       "      <td>10.0</td>\n",
       "      <td>29.82</td>\n",
       "    </tr>\n",
       "  </tbody>\n",
       "</table>\n",
       "</div>"
      ],
      "text/plain": [
       "    date_posted                      headline  \\\n",
       "498  2017-09-26  Excellent Start Kimura 8 Day   \n",
       "499  2017-09-26       beautiful dorados today   \n",
       "500  2017-09-26          beautiful yellowtail   \n",
       "501  2017-09-26                  happy camper   \n",
       "502  2017-09-26            YELLOWTAIL BONANZA   \n",
       "503  2017-09-26                          Matt   \n",
       "504  2017-09-26                          Alex   \n",
       "505  2017-09-26                        Robert   \n",
       "506  2017-09-26     trip 1722 Jackpot winners   \n",
       "\n",
       "                                             post_body  low_temp  avg_temp  \\\n",
       "498  We departed Sunday on our annual Gary Kimura 8...      63.0     69.92   \n",
       "499                                                nan      63.0     69.92   \n",
       "500                                                nan      63.0     69.92   \n",
       "501                                                nan      63.0     69.92   \n",
       "502                                                nan      63.0     69.92   \n",
       "503              Matt brings in a beautiful Yellowtail      63.0     69.92   \n",
       "504                                  Nice yellow today      63.0     69.92   \n",
       "505                Robert says Hello to all my friends      63.0     69.92   \n",
       "506  First place Tim Brown 57 8 Second place Vince ...      63.0     69.92   \n",
       "\n",
       "     high_temp  inches_precip  miles_visible  max_wind  sea_pressure  \n",
       "498       78.0            0.0           10.0      10.0         29.82  \n",
       "499       78.0            0.0           10.0      10.0         29.82  \n",
       "500       78.0            0.0           10.0      10.0         29.82  \n",
       "501       78.0            0.0           10.0      10.0         29.82  \n",
       "502       78.0            0.0           10.0      10.0         29.82  \n",
       "503       78.0            0.0           10.0      10.0         29.82  \n",
       "504       78.0            0.0           10.0      10.0         29.82  \n",
       "505       78.0            0.0           10.0      10.0         29.82  \n",
       "506       78.0            0.0           10.0      10.0         29.82  "
      ]
     },
     "execution_count": 192,
     "metadata": {},
     "output_type": "execute_result"
    }
   ],
   "source": [
    "sample_date = pd.Timestamp(datetime.date(2017, 9, 26))\n",
    "duplicate_date_example = fishing_data.loc[fishing_data.date_posted == sample_date]\n",
    "duplicate_date_example"
   ]
  },
  {
   "cell_type": "markdown",
   "metadata": {},
   "source": [
    "There seem to be days where the crew posts many times, sometimes without a post body. It's likely that these are accompanied by pictures on the actual site since the headlines are things like, `Matt brings in a beautiful Yellowtail`, though we didn't webscrape photos. More posts in a day may be an indicator of good fishing conditions. "
   ]
  },
  {
   "cell_type": "markdown",
   "metadata": {},
   "source": [
    "## When do posts happen?"
   ]
  },
  {
   "cell_type": "markdown",
   "metadata": {},
   "source": [
    "#### Let's see how posts are distributed by year"
   ]
  },
  {
   "cell_type": "code",
   "execution_count": 72,
   "metadata": {},
   "outputs": [
    {
     "data": {
      "text/plain": [
       "(Timestamp('2005-06-19 00:00:00'), Timestamp('2020-12-19 00:00:00'))"
      ]
     },
     "execution_count": 72,
     "metadata": {},
     "output_type": "execute_result"
    }
   ],
   "source": [
    "# What is the earliest post and the most recent post by date?\n",
    "sorted_dates = fishing_data.date_posted.sort_values()\n",
    "sorted_dates.iloc[0], sorted_dates.iloc[-1]"
   ]
  },
  {
   "cell_type": "code",
   "execution_count": 83,
   "metadata": {},
   "outputs": [],
   "source": [
    "# uncomment this to see just the numbers per year (useful for spotchecking the bar plot)\n",
    "# fishing_data.date_posted.dt.year.value_counts()"
   ]
  },
  {
   "cell_type": "code",
   "execution_count": 139,
   "metadata": {},
   "outputs": [
    {
     "data": {
      "image/png": "[encoded data removed]",
      "text/plain": [
       "<Figure size 432x288 with 1 Axes>"
      ]
     },
     "metadata": {
      "needs_background": "light"
     },
     "output_type": "display_data"
    }
   ],
   "source": [
    "time_hist_options = {\n",
    "    \"alpha\":  0.5,\n",
    "    \"rwidth\": 0.8,\n",
    "    \"bins\":   np.arange(2005, 2020 + 2),\n",
    "    \"align\":  \"left\"\n",
    "}\n",
    "plt.hist(fishing_data.date_posted.dt.year, **time_hist_options)\n",
    "plt.ylabel(\"Post Count\")\n",
    "plt.xticks(time_hist_options['bins'], rotation=45);"
   ]
  },
  {
   "cell_type": "markdown",
   "metadata": {},
   "source": [
    "Posts were fairly consistent in the late 2000s and 2010s, though this is clear dropoff in recent years. Drops in 2020 were almost certainly correlated with covid though there was an existing downward trend.\n",
    "\n",
    "Note: The average post per day is less than 1 for every year in the dataset. Because the crew didn't post every day, it's likely that good days are overrepresented."
   ]
  },
  {
   "cell_type": "markdown",
   "metadata": {},
   "source": [
    "#### What about the distribution by month? Is there seasonality to the posts?"
   ]
  },
  {
   "cell_type": "code",
   "execution_count": 84,
   "metadata": {},
   "outputs": [],
   "source": [
    "# uncomment this to see just the numbers per month (useful for spotchecking the bar plot)\n",
    "# fishing_data.date_posted.dt.month.value_counts()"
   ]
  },
  {
   "cell_type": "code",
   "execution_count": 142,
   "metadata": {},
   "outputs": [
    {
     "data": {
      "image/png": "[encoded data removed]",
      "text/plain": [
       "<Figure size 864x576 with 1 Axes>"
      ]
     },
     "metadata": {
      "needs_background": "light"
     },
     "output_type": "display_data"
    }
   ],
   "source": [
    "plt.figure(figsize=(12, 8))\n",
    "month_labels = [\"January\", \"February\", \"March\", \"April\", \"May\", \"June\", \n",
    "                \"July\", \"August\", \"September\", \"October\", \"November\", \"December\"]\n",
    "month_hist_options = {\n",
    "    \"alpha\":  0.5,\n",
    "    \"rwidth\": 0.8,\n",
    "    \"bins\":   np.arange(1, 12 + 2),\n",
    "    \"align\":  \"left\",\n",
    "    \"color\":  \"orange\"\n",
    "}\n",
    "plt.hist(fishing_data.date_posted.dt.month, **month_hist_options)\n",
    "plt.ylabel(\"Post Count\")\n",
    "plt.xticks(month_hist_options['bins'], labels=month_labels, rotation=45);\n",
    "\n",
    "\n",
    "# Custom fill patterns to emphasize seasons. Not super important\n",
    "plt.fill_between([2.5, 5.49], 500, alpha=0.1, color='green', label='Spring')\n",
    "plt.fill_between([5.5, 8.49], 500, alpha=0.1, color='red', label='Summer')\n",
    "plt.fill_between([8.5, 11.49], 500, alpha=0.1, color='orange', label='Fall')\n",
    "\n",
    "plt.fill_between([0, 2.49], 500, alpha=0.1, color='blue', label='Winter')\n",
    "plt.fill_between([11.5, 12.5], 500, alpha=0.1, color='blue')\n",
    "\n",
    "plt.xlim([0.5, 12.5])\n",
    "plt.ylim([0, 425])\n",
    "\n",
    "plt.annotate(\"Winter\", [1, 410])\n",
    "plt.annotate(\"Spring\", [3, 410])\n",
    "plt.annotate(\"Summer\", [6, 410])\n",
    "plt.annotate(\"Fall\", [9, 410])\n",
    "\n",
    "plt.title(\"Seasonality of Fishing Reports\");\n",
    "\n",
    "plt.savefig(\"post_seasonality.png\", dpi=500)"
   ]
  },
  {
   "cell_type": "markdown",
   "metadata": {},
   "source": [
    "Though posts aren't necessarily equivalent to business activity, this plot suggests that the fishing business may be more active in hotter months. This makes intuitive sense since we wouldn't expect people to be out in the rain or cold to catch fish, especially when the waters may be choppy or otherwise le."
   ]
  },
  {
   "cell_type": "markdown",
   "metadata": {},
   "source": [
    "### Rain patterns over the years"
   ]
  },
  {
   "cell_type": "code",
   "execution_count": 73,
   "metadata": {},
   "outputs": [
    {
     "data": {
      "image/png": "[encoded data removed]",
      "text/plain": [
       "<Figure size 432x288 with 1 Axes>"
      ]
     },
     "metadata": {
      "needs_background": "light"
     },
     "output_type": "display_data"
    }
   ],
   "source": [
    "plt.scatter(fishing_data.date_posted.values, fishing_data.inches_precip.values, alpha=0.3)\n",
    "plt.ylabel(\"Inches of precipitation\");"
   ]
  },
  {
   "cell_type": "markdown",
   "metadata": {},
   "source": [
    "Before 2014 there is no rain data. Either the site we scraped weather data from didn't have correct measurements of the rain or we got unlucky and none of the posts occurred on days where there was rain. Given that there aren't many posts during rainy months, the latter is possible. We shouldn't use rain for anything serious in our analysis."
   ]
  },
  {
   "cell_type": "markdown",
   "metadata": {},
   "source": [
    "## Daily Temperatures"
   ]
  },
  {
   "cell_type": "code",
   "execution_count": 179,
   "metadata": {},
   "outputs": [
    {
     "data": {
      "image/png": "[encoded data removed]",
      "text/plain": [
       "<Figure size 864x576 with 3 Axes>"
      ]
     },
     "metadata": {
      "needs_background": "light"
     },
     "output_type": "display_data"
    }
   ],
   "source": [
    "# thanks for the grid help: \n",
    "# https://stackoverflow.com/questions/37360568/python-organisation-of-3-subplots-with-matplotlib\n",
    "import matplotlib.gridspec as gridspec\n",
    "\n",
    "temp_plot_options = {\n",
    "    \"alpha\":  0.5,\n",
    "    \"rwidth\": 0.97\n",
    "}\n",
    "\n",
    "# Create 2x2 sub plots\n",
    "gs = gridspec.GridSpec(2, 2)\n",
    "\n",
    "plt.figure(figsize=(12, 8))\n",
    "ax = plt.subplot(gs[0, 0]) # row 0, col 0\n",
    "plt.suptitle(\"Daily Temperature Counts (Fahrenheit)\")\n",
    "\n",
    "plt.hist(fishing_data.low_temp, **temp_plot_options)\n",
    "plt.xlabel(\"Low Temperature (F)\")\n",
    "\n",
    "ax = plt.subplot(gs[0, 1]) # row 0, col 1\n",
    "plt.hist(fishing_data.high_temp, **temp_plot_options)\n",
    "plt.xlabel(\"High Temperature (F)\")\n",
    "\n",
    "ax = plt.subplot(gs[1, :]) # row 1, span all columns\n",
    "plt.hist(fishing_data.avg_temp, **temp_plot_options)\n",
    "plt.xlabel(\"Average Temperature (F)\");"
   ]
  },
  {
   "cell_type": "markdown",
   "metadata": {},
   "source": [
    "The daily low temperatures have outlier values near 0. San Diego doesn't randomly hit sub-freezing temperatures, skipping everything from 32 down to 0, so we can be sure these are errors in the weather site's data.\n",
    "\n",
    "As for the rest of the temperatures, the average and high look well-behaved. It may be worth looking for relationships between temperature and post content."
   ]
  },
  {
   "cell_type": "markdown",
   "metadata": {},
   "source": [
    "## What are the posts about?\n",
    "\n",
    "For a first pass, we can simply look at the top words used (ignoring filler words)"
   ]
  },
  {
   "cell_type": "code",
   "execution_count": 193,
   "metadata": {},
   "outputs": [],
   "source": [
    "# We'll ignore these words. They're too common to be useful\n",
    "stopwords = ['i', 'me', 'my', 'myself', 'we', 'our', 'ours', 'ourselves', 'you',\n",
    "       'your', 'yours', 'yourself', 'yourselves', 'he', 'him', 'his',\n",
    "       'himself', 'she', 'her', 'hers', 'herself', 'it', 'its', 'itself',\n",
    "       'they', 'them', 'their', 'theirs', 'themselves', 'what', 'which',\n",
    "       'who', 'whom', 'this', 'that', 'these', 'those', 'am', 'is', 'are',\n",
    "       'was', 'were', 'be', 'been', 'being', 'have', 'has', 'had',\n",
    "       'having', 'do', 'does', 'did', 'doing', 'a', 'an', 'the', 'and',\n",
    "       'but', 'if', 'or', 'because', 'as', 'until', 'while', 'of', 'at',\n",
    "       'by', 'for', 'with', 'about', 'against', 'between', 'into',\n",
    "       'through', 'during', 'before', 'after', 'above', 'below', 'to',\n",
    "       'from', 'up', 'down', 'in', 'out', 'on', 'off', 'over', 'under',\n",
    "       'again', 'further', 'then', 'once', 'here', 'there', 'when',\n",
    "       'where', 'why', 'how', 'all', 'any', 'both', 'each', 'few', 'more',\n",
    "       'most', 'other', 'some', 'such', 'no', 'nor', 'not', 'only', 'own',\n",
    "       'same', 'so', 'than', 'too', 'very', 's', 't', 'can', 'will',\n",
    "       'just', 'don', 'should', 'now']"
   ]
  },
  {
   "cell_type": "code",
   "execution_count": 194,
   "metadata": {},
   "outputs": [],
   "source": [
    "stopwords = set(stopwords)"
   ]
  },
  {
   "cell_type": "code",
   "execution_count": 195,
   "metadata": {},
   "outputs": [],
   "source": [
    "all_posts = \" \".join(fishing_data.post_body.values)"
   ]
  },
  {
   "cell_type": "code",
   "execution_count": 200,
   "metadata": {
    "scrolled": false
   },
   "outputs": [],
   "source": [
    "tokens = all_posts.lower().split()\n",
    "tokens = [t for t in tokens if t not in stopwords]\n",
    "\n",
    "n = 20\n",
    "top_n_words = pd.Series(tokens).value_counts().iloc[:n]"
   ]
  },
  {
   "cell_type": "code",
   "execution_count": 211,
   "metadata": {},
   "outputs": [
    {
     "data": {
      "image/png": "[encoded data removed]",
      "text/plain": [
       "<Figure size 864x576 with 1 Axes>"
      ]
     },
     "metadata": {
      "needs_background": "light"
     },
     "output_type": "display_data"
    }
   ],
   "source": [
    "plt.figure(figsize=(12, 8))\n",
    "\n",
    "plt.bar(top_n_words.index, top_n_words.values, alpha=0.6, color='orange')\n",
    "plt.xticks(rotation=30)\n",
    "\n",
    "plt.title(f\"Top {n} Words by Appearance in Posts\")\n",
    "plt.ylabel(\"Word Count\");"
   ]
  },
  {
   "cell_type": "markdown",
   "metadata": {},
   "source": [
    "With the stopwords removed, we get mostly unique words with distinct meanings. It's a good sign that `tuna`, `yellowtail`, and `yellowfin` appear in the top words since we are more likely to be able to extract something interesting from the text. Additionally, `pound` and `lb` appearing are indicators that some posts are likely discussing the size of their catches. "
   ]
  },
  {
   "cell_type": "markdown",
   "metadata": {},
   "source": [
    "# TODO: calculate pointwise mutual information of words and find interesting phrases\n",
    "# TODO: see if spacy can do better\n",
    "\n",
    "# TODO: Topic model and visualize topics\n",
    "# TODO: find a way to extract fish species and measure mentions"
   ]
  },
  {
   "cell_type": "code",
   "execution_count": 213,
   "metadata": {},
   "outputs": [],
   "source": [
    "minimum_chars = 5\n",
    "non_empty_posts = fishing_data.loc[fishing_data.loc[:, \"post_body\"].apply(lambda x: len(x.strip())) > minimum_chars]"
   ]
  },
  {
   "cell_type": "code",
   "execution_count": 216,
   "metadata": {},
   "outputs": [
    {
     "data": {
      "text/plain": [
       "((2759, 10), (2896, 10))"
      ]
     },
     "execution_count": 216,
     "metadata": {},
     "output_type": "execute_result"
    }
   ],
   "source": [
    "non_empty_posts.shape, fishing_data.shape"
   ]
  },
  {
   "cell_type": "markdown",
   "metadata": {},
   "source": [
    "Pointwise mutual information is defined as,\n",
    "\n",
    "$$PMI(i, j) = log_2\\frac{p(w_i, w_j)}{p(w_i)p(w_j)}$$\n",
    "\n",
    "To calculate this matrix, we need word counts to estimate the relevant probabilities."
   ]
  },
  {
   "cell_type": "code",
   "execution_count": 217,
   "metadata": {},
   "outputs": [],
   "source": [
    "from sklearn.feature_extraction.text import CountVectorizer"
   ]
  },
  {
   "cell_type": "code",
   "execution_count": 218,
   "metadata": {},
   "outputs": [],
   "source": [
    "vectorizer = CountVectorizer()"
   ]
  },
  {
   "cell_type": "code",
   "execution_count": 219,
   "metadata": {},
   "outputs": [],
   "source": [
    "vectorized_docs = vectorizer.fit_transform(non_empty_posts.post_body)"
   ]
  },
  {
   "cell_type": "code",
   "execution_count": 230,
   "metadata": {},
   "outputs": [
    {
     "data": {
      "text/plain": [
       "array(['00', '000', '00am', ..., 'zuckers', 'zuker', 'zuri'], dtype=object)"
      ]
     },
     "execution_count": 230,
     "metadata": {},
     "output_type": "execute_result"
    }
   ],
   "source": [
    "vocab = pd.Series(vectorizer.vocabulary_).sort_values().index.values\n",
    "vocab"
   ]
  },
  {
   "cell_type": "code",
   "execution_count": 238,
   "metadata": {},
   "outputs": [
    {
     "data": {
      "text/plain": [
       "array([[0, 0, 0, ..., 0, 0, 0],\n",
       "       [0, 0, 0, ..., 0, 0, 0],\n",
       "       [0, 0, 0, ..., 0, 0, 0],\n",
       "       ...,\n",
       "       [0, 0, 0, ..., 0, 0, 0],\n",
       "       [2, 0, 0, ..., 0, 0, 0],\n",
       "       [0, 0, 0, ..., 0, 0, 0]], dtype=int64)"
      ]
     },
     "execution_count": 238,
     "metadata": {},
     "output_type": "execute_result"
    }
   ],
   "source": [
    "document_wordcounts = np.array(vectorized_docs.todense())"
   ]
  },
  {
   "cell_type": "code",
   "execution_count": 266,
   "metadata": {},
   "outputs": [],
   "source": [
    "# compute cooccurrence. \n",
    "# This is extremely expensive. don't rerun if you can avoid it\n",
    "\n",
    "\n",
    "# masked_doc_matrix = document_wordcounts > 0\n",
    "# cooccurrence_matrix = np.zeros([len(vocab), len(vocab)])\n",
    "\n",
    "# for i in range(len(vocab)):\n",
    "#     word_i_occurrence = masked_doc_matrix[:, i]\n",
    "#     for j in range(i, len(vocab)):\n",
    "#         word_j_occurrence = masked_doc_matrix[:, j]\n",
    "#         shared_doc_count = (word_i_occurrence & word_j_occurrence).sum()\n",
    "        \n",
    "#         cooccurrence_matrix[i, j] = shared_doc_count\n",
    "#         cooccurrence_matrix[j, i] = shared_doc_count\n",
    "#     if i % 100 == 0:\n",
    "#         print(f\"finishing word {i}\")\n",
    "\n",
    "# np.save(\"cooccurrence.npy\", cooccurrence_matrix)"
   ]
  },
  {
   "cell_type": "code",
   "execution_count": 267,
   "metadata": {},
   "outputs": [
    {
     "data": {
      "text/plain": [
       "array([[42.,  1.,  2., ...,  0.,  0.,  2.],\n",
       "       [ 1., 14.,  0., ...,  0.,  0.,  2.],\n",
       "       [ 2.,  0., 12., ...,  0.,  0.,  0.],\n",
       "       ...,\n",
       "       [ 0.,  0.,  0., ...,  3.,  0.,  0.],\n",
       "       [ 0.,  0.,  0., ...,  0.,  2.,  0.],\n",
       "       [ 2.,  2.,  0., ...,  0.,  0., 16.]])"
      ]
     },
     "execution_count": 267,
     "metadata": {},
     "output_type": "execute_result"
    }
   ],
   "source": [
    "cooccurrence_matrix = np.load(\"cooccurrence.npy\")\n",
    "cooccurrence_matrix"
   ]
  },
  {
   "cell_type": "code",
   "execution_count": 272,
   "metadata": {},
   "outputs": [],
   "source": [
    "smoothing_factor = 1e-5\n",
    "cooccurrence_matrix += smoothing_factor"
   ]
  },
  {
   "cell_type": "code",
   "execution_count": 273,
   "metadata": {
    "scrolled": true
   },
   "outputs": [
    {
     "data": {
      "text/plain": [
       "array([[1.31452273e-02, 3.12984658e-04, 6.25966186e-04, ...,\n",
       "        3.12981528e-09, 3.12981528e-09, 6.25966186e-04],\n",
       "       [6.10105662e-04, 8.54139996e-03, 6.10099561e-09, ...,\n",
       "        6.10099561e-09, 6.10099561e-09, 1.22020522e-03],\n",
       "       [3.33848715e-03, 1.66923523e-08, 2.00308395e-02, ...,\n",
       "        1.66923523e-08, 1.66923523e-08, 1.66923523e-08],\n",
       "       ...,\n",
       "       [2.07867044e-08, 2.07867044e-08, 2.07867044e-08, ...,\n",
       "        6.23603211e-03, 2.07867044e-08, 2.07867044e-08],\n",
       "       [4.06377295e-08, 4.06377295e-08, 4.06377295e-08, ...,\n",
       "        4.06377295e-08, 8.12758654e-03, 4.06377295e-08],\n",
       "       [7.24883788e-04, 7.24883788e-04, 3.62440082e-09, ...,\n",
       "        3.62440082e-09, 3.62440082e-09, 5.79904494e-03]])"
      ]
     },
     "execution_count": 273,
     "metadata": {},
     "output_type": "execute_result"
    }
   ],
   "source": [
    "# TODO: this can be easily done in pure numpy but I dont remember the cleanest way\n",
    "joint_prob = np.array([row / row.sum() for row in cooccurrence_matrix])\n",
    "joint_prob"
   ]
  },
  {
   "cell_type": "code",
   "execution_count": 288,
   "metadata": {},
   "outputs": [
    {
     "data": {
      "text/plain": [
       "array([2.49652567e-04, 6.24131417e-05, 6.24131417e-05, ...,\n",
       "       1.24826283e-05, 8.32175223e-06, 9.57001506e-05])"
      ]
     },
     "execution_count": 288,
     "metadata": {},
     "output_type": "execute_result"
    }
   ],
   "source": [
    "word_frequencies = document_wordcounts.sum(axis=0)\n",
    "word_frequencies = word_frequencies / word_frequencies.sum()\n",
    "word_frequencies"
   ]
  },
  {
   "cell_type": "code",
   "execution_count": 289,
   "metadata": {},
   "outputs": [],
   "source": [
    "def pmi(i, j):\n",
    "    return np.log2(joint_prob[i, j]) - np.log2(word_frequencies[i]) - np.log2(word_frequencies[j])"
   ]
  },
  {
   "cell_type": "code",
   "execution_count": 291,
   "metadata": {},
   "outputs": [
    {
     "data": {
      "text/plain": [
       "17.686264178076826"
      ]
     },
     "execution_count": 291,
     "metadata": {},
     "output_type": "execute_result"
    }
   ],
   "source": [
    "pmi(0, 0)"
   ]
  },
  {
   "cell_type": "code",
   "execution_count": null,
   "metadata": {},
   "outputs": [],
   "source": []
  }
 ],
 "metadata": {
  "kernelspec": {
   "display_name": "sportfishing",
   "language": "python",
   "name": "sportfishing-env"
  },
  "language_info": {
   "codemirror_mode": {
    "name": "ipython",
    "version": 3
   },
   "file_extension": ".py",
   "mimetype": "text/x-python",
   "name": "python",
   "nbconvert_exporter": "python",
   "pygments_lexer": "ipython3",
   "version": "3.7.9"
  }
 },
 "nbformat": 4,
 "nbformat_minor": 2
}
