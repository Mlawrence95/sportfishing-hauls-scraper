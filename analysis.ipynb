{
 "cells": [
  {
   "cell_type": "code",
   "execution_count": 1,
   "metadata": {},
   "outputs": [],
   "source": [
    "import datetime\n",
    "import os\n",
    "import re\n",
    "import warnings\n",
    "\n",
    "import pandas as pd\n",
    "import numpy as np\n",
    "import matplotlib.pyplot as plt\n",
    "\n",
    "# from db_utils.db_queries import sql_all_reports_with_weather\n",
    "# from db_utils.mysql_db_connection import get_mysql_connection\n",
    "\n",
    "from webscraping.scrape_fishing_data import clean_string\n",
    "\n",
    "warnings.filterwarnings(\"ignore\")"
   ]
  },
  {
   "cell_type": "markdown",
   "metadata": {},
   "source": [
    "## Read and format the data"
   ]
  },
  {
   "cell_type": "code",
   "execution_count": 2,
   "metadata": {},
   "outputs": [],
   "source": [
    "fishing_data = pd.read_csv(\"./raw_fishing_data.csv\")"
   ]
  },
  {
   "cell_type": "code",
   "execution_count": 3,
   "metadata": {},
   "outputs": [
    {
     "data": {
      "text/html": [
       "<div>\n",
       "<style scoped>\n",
       "    .dataframe tbody tr th:only-of-type {\n",
       "        vertical-align: middle;\n",
       "    }\n",
       "\n",
       "    .dataframe tbody tr th {\n",
       "        vertical-align: top;\n",
       "    }\n",
       "\n",
       "    .dataframe thead th {\n",
       "        text-align: right;\n",
       "    }\n",
       "</style>\n",
       "<table border=\"1\" class=\"dataframe\">\n",
       "  <thead>\n",
       "    <tr style=\"text-align: right;\">\n",
       "      <th></th>\n",
       "      <th>date_posted</th>\n",
       "      <th>headline</th>\n",
       "      <th>post_body</th>\n",
       "      <th>low_temp</th>\n",
       "      <th>avg_temp</th>\n",
       "      <th>high_temp</th>\n",
       "      <th>inches_precip</th>\n",
       "      <th>miles_visible</th>\n",
       "      <th>max_wind</th>\n",
       "      <th>sea_pressure</th>\n",
       "    </tr>\n",
       "  </thead>\n",
       "  <tbody>\n",
       "    <tr>\n",
       "      <th>0</th>\n",
       "      <td>2020-12-17</td>\n",
       "      <td>ON THE HUNT</td>\n",
       "      <td>We were on the hunt for Yellowtail today but n...</td>\n",
       "      <td>46.0</td>\n",
       "      <td>57.34</td>\n",
       "      <td>64.0</td>\n",
       "      <td>0.0</td>\n",
       "      <td>10.0</td>\n",
       "      <td>10.0</td>\n",
       "      <td>30.08</td>\n",
       "    </tr>\n",
       "    <tr>\n",
       "      <th>1</th>\n",
       "      <td>2020-12-18</td>\n",
       "      <td>SCRATCHING AWAY</td>\n",
       "      <td>Searched for Yellowtail again today to find no...</td>\n",
       "      <td>52.0</td>\n",
       "      <td>58.04</td>\n",
       "      <td>66.0</td>\n",
       "      <td>0.0</td>\n",
       "      <td>10.0</td>\n",
       "      <td>9.0</td>\n",
       "      <td>30.23</td>\n",
       "    </tr>\n",
       "  </tbody>\n",
       "</table>\n",
       "</div>"
      ],
      "text/plain": [
       "  date_posted         headline  \\\n",
       "0  2020-12-17      ON THE HUNT   \n",
       "1  2020-12-18  SCRATCHING AWAY   \n",
       "\n",
       "                                           post_body  low_temp  avg_temp  \\\n",
       "0  We were on the hunt for Yellowtail today but n...      46.0     57.34   \n",
       "1  Searched for Yellowtail again today to find no...      52.0     58.04   \n",
       "\n",
       "   high_temp  inches_precip  miles_visible  max_wind  sea_pressure  \n",
       "0       64.0            0.0           10.0      10.0         30.08  \n",
       "1       66.0            0.0           10.0       9.0         30.23  "
      ]
     },
     "execution_count": 3,
     "metadata": {},
     "output_type": "execute_result"
    }
   ],
   "source": [
    "fishing_data.head(2)"
   ]
  },
  {
   "cell_type": "code",
   "execution_count": 4,
   "metadata": {},
   "outputs": [],
   "source": [
    "DATE_PATTERN = re.compile(r\"\\d+/\\d+/\\d+\")\n",
    "\n",
    "# match times like 3:30pm or 3:40 am\n",
    "TIME_PATTERN = re.compile(r\"\\d+:\\d+\\s*(pm|am)\", re.IGNORECASE)"
   ]
  },
  {
   "cell_type": "code",
   "execution_count": 5,
   "metadata": {},
   "outputs": [],
   "source": [
    "def replace_dates(post):\n",
    "    return DATE_PATTERN.sub(\"DATE__STAMP\", post)\n",
    "\n",
    "def replace_times(post):\n",
    "    return TIME_PATTERN.sub(\"TIME__STAMP\", post)"
   ]
  },
  {
   "cell_type": "code",
   "execution_count": 6,
   "metadata": {},
   "outputs": [
    {
     "data": {
      "text/plain": [
       "'does DATE__STAMP sound right? how about DATE__STAMP?'"
      ]
     },
     "execution_count": 6,
     "metadata": {},
     "output_type": "execute_result"
    }
   ],
   "source": [
    "replace_dates(\"does 3/10/2020 sound right? how about 2020/10/3?\")"
   ]
  },
  {
   "cell_type": "code",
   "execution_count": 7,
   "metadata": {},
   "outputs": [
    {
     "data": {
      "text/plain": [
       "'lets meet around TIME__STAMP. Wait, does TIME__STAMP work?'"
      ]
     },
     "execution_count": 7,
     "metadata": {},
     "output_type": "execute_result"
    }
   ],
   "source": [
    "replace_times(\"lets meet around 12:40PM. Wait, does 1:45 Am work?\")"
   ]
  },
  {
   "cell_type": "code",
   "execution_count": 8,
   "metadata": {},
   "outputs": [],
   "source": [
    "# convert the date to a date object for consistency in our analysis + make pandas happy\n",
    "fishing_data.loc[:, 'date_posted'] = pd.to_datetime(fishing_data.loc[:, 'date_posted'], format=\"%Y-%m-%d\", cache=True)\n",
    "\n",
    "# convert times and dates to a common value to reduce vocabulary size.\n",
    "fishing_data.loc[:, 'post_body'] = fishing_data.loc[:, 'post_body'].astype(str).apply(replace_dates)\n",
    "fishing_data.loc[:, 'post_body'] = fishing_data.loc[:, 'post_body'].astype(str).apply(replace_times)\n",
    "\n",
    "# clean punctuation from the post bodies. makes our lives harder and doesnt contribute much\n",
    "fishing_data.loc[:, 'post_body'] = fishing_data.loc[:, 'post_body'].astype(str).apply(clean_string)\n"
   ]
  },
  {
   "cell_type": "code",
   "execution_count": 9,
   "metadata": {},
   "outputs": [],
   "source": [
    "el_nino_years = [2002, 2003, 2004, 2005, 2006, 2007, 2009, 2010, 2014, 2015, 2016, 2018, 2019]"
   ]
  },
  {
   "cell_type": "code",
   "execution_count": 10,
   "metadata": {},
   "outputs": [],
   "source": [
    "fishing_data.loc[:, 'elnino'] = fishing_data.date_posted.dt.year.isin(el_nino_years)"
   ]
  },
  {
   "cell_type": "markdown",
   "metadata": {},
   "source": [
    "## Check for duplicate rows "
   ]
  },
  {
   "cell_type": "code",
   "execution_count": 11,
   "metadata": {
    "scrolled": true
   },
   "outputs": [
    {
     "data": {
      "text/html": [
       "<div>\n",
       "<style scoped>\n",
       "    .dataframe tbody tr th:only-of-type {\n",
       "        vertical-align: middle;\n",
       "    }\n",
       "\n",
       "    .dataframe tbody tr th {\n",
       "        vertical-align: top;\n",
       "    }\n",
       "\n",
       "    .dataframe thead th {\n",
       "        text-align: right;\n",
       "    }\n",
       "</style>\n",
       "<table border=\"1\" class=\"dataframe\">\n",
       "  <thead>\n",
       "    <tr style=\"text-align: right;\">\n",
       "      <th></th>\n",
       "      <th>date_posted</th>\n",
       "      <th>headline</th>\n",
       "      <th>post_body</th>\n",
       "      <th>low_temp</th>\n",
       "      <th>avg_temp</th>\n",
       "      <th>high_temp</th>\n",
       "      <th>inches_precip</th>\n",
       "      <th>miles_visible</th>\n",
       "      <th>max_wind</th>\n",
       "      <th>sea_pressure</th>\n",
       "      <th>elnino</th>\n",
       "    </tr>\n",
       "  </thead>\n",
       "  <tbody>\n",
       "    <tr>\n",
       "      <th>2548</th>\n",
       "      <td>2007-08-30</td>\n",
       "      <td>Indy Sportfishing Fish Report 08-30-07</td>\n",
       "      <td>Here is the report for today We fished for alb...</td>\n",
       "      <td>71.0</td>\n",
       "      <td>74.35</td>\n",
       "      <td>80.0</td>\n",
       "      <td>0.0</td>\n",
       "      <td>10.0</td>\n",
       "      <td>9.0</td>\n",
       "      <td>29.87</td>\n",
       "      <td>True</td>\n",
       "    </tr>\n",
       "    <tr>\n",
       "      <th>2547</th>\n",
       "      <td>2007-08-30</td>\n",
       "      <td>Indy Sportfishing Fish Report 08-30-07</td>\n",
       "      <td>Here is the report for today We fished for alb...</td>\n",
       "      <td>71.0</td>\n",
       "      <td>74.35</td>\n",
       "      <td>80.0</td>\n",
       "      <td>0.0</td>\n",
       "      <td>10.0</td>\n",
       "      <td>9.0</td>\n",
       "      <td>29.87</td>\n",
       "      <td>True</td>\n",
       "    </tr>\n",
       "    <tr>\n",
       "      <th>2478</th>\n",
       "      <td>2007-12-02</td>\n",
       "      <td>Indy Sportfishing Fish Report 12-02-07</td>\n",
       "      <td>Good evening we had another great day at the b...</td>\n",
       "      <td>48.0</td>\n",
       "      <td>54.43</td>\n",
       "      <td>60.0</td>\n",
       "      <td>0.0</td>\n",
       "      <td>10.0</td>\n",
       "      <td>12.0</td>\n",
       "      <td>30.41</td>\n",
       "      <td>True</td>\n",
       "    </tr>\n",
       "    <tr>\n",
       "      <th>2477</th>\n",
       "      <td>2007-12-02</td>\n",
       "      <td>Indy Sportfishing Fish Report 12-02-07</td>\n",
       "      <td>Good evening we had another great day at the b...</td>\n",
       "      <td>48.0</td>\n",
       "      <td>54.43</td>\n",
       "      <td>60.0</td>\n",
       "      <td>0.0</td>\n",
       "      <td>10.0</td>\n",
       "      <td>12.0</td>\n",
       "      <td>30.41</td>\n",
       "      <td>True</td>\n",
       "    </tr>\n",
       "    <tr>\n",
       "      <th>2354</th>\n",
       "      <td>2008-08-26</td>\n",
       "      <td>Independence Sportfishing Fish Report</td>\n",
       "      <td>Good day heres an update from our trip so far ...</td>\n",
       "      <td>69.0</td>\n",
       "      <td>71.16</td>\n",
       "      <td>75.0</td>\n",
       "      <td>0.0</td>\n",
       "      <td>10.0</td>\n",
       "      <td>9.0</td>\n",
       "      <td>29.81</td>\n",
       "      <td>False</td>\n",
       "    </tr>\n",
       "    <tr>\n",
       "      <th>2353</th>\n",
       "      <td>2008-08-26</td>\n",
       "      <td>Independence Sportfishing Fish Report</td>\n",
       "      <td>Good day heres an update from our trip so far ...</td>\n",
       "      <td>69.0</td>\n",
       "      <td>71.16</td>\n",
       "      <td>75.0</td>\n",
       "      <td>0.0</td>\n",
       "      <td>10.0</td>\n",
       "      <td>9.0</td>\n",
       "      <td>29.81</td>\n",
       "      <td>False</td>\n",
       "    </tr>\n",
       "    <tr>\n",
       "      <th>2336</th>\n",
       "      <td>2008-10-03</td>\n",
       "      <td>Independence Fish Report for Oct. 3, 2008</td>\n",
       "      <td>Well today we continued our hunt down into the...</td>\n",
       "      <td>66.0</td>\n",
       "      <td>68.45</td>\n",
       "      <td>70.0</td>\n",
       "      <td>0.0</td>\n",
       "      <td>10.0</td>\n",
       "      <td>12.0</td>\n",
       "      <td>29.90</td>\n",
       "      <td>False</td>\n",
       "    </tr>\n",
       "    <tr>\n",
       "      <th>2335</th>\n",
       "      <td>2008-10-03</td>\n",
       "      <td>Independence Fish Report for Oct. 3, 2008</td>\n",
       "      <td>Well today we continued our hunt down into the...</td>\n",
       "      <td>66.0</td>\n",
       "      <td>68.45</td>\n",
       "      <td>70.0</td>\n",
       "      <td>0.0</td>\n",
       "      <td>10.0</td>\n",
       "      <td>12.0</td>\n",
       "      <td>29.90</td>\n",
       "      <td>False</td>\n",
       "    </tr>\n",
       "    <tr>\n",
       "      <th>2332</th>\n",
       "      <td>2008-10-06</td>\n",
       "      <td>Independence Fish Report for Oct. 06, 2008</td>\n",
       "      <td>Hello Here is the final report for our trip To...</td>\n",
       "      <td>62.0</td>\n",
       "      <td>69.52</td>\n",
       "      <td>79.0</td>\n",
       "      <td>0.0</td>\n",
       "      <td>10.0</td>\n",
       "      <td>13.0</td>\n",
       "      <td>29.96</td>\n",
       "      <td>False</td>\n",
       "    </tr>\n",
       "    <tr>\n",
       "      <th>2331</th>\n",
       "      <td>2008-10-06</td>\n",
       "      <td>Independence Fish Report for Oct. 06, 2008</td>\n",
       "      <td>Hello Here is the final report for our trip To...</td>\n",
       "      <td>62.0</td>\n",
       "      <td>69.52</td>\n",
       "      <td>79.0</td>\n",
       "      <td>0.0</td>\n",
       "      <td>10.0</td>\n",
       "      <td>13.0</td>\n",
       "      <td>29.96</td>\n",
       "      <td>False</td>\n",
       "    </tr>\n",
       "    <tr>\n",
       "      <th>2283</th>\n",
       "      <td>2008-12-05</td>\n",
       "      <td>Independence Fish Report for Dec. 05, 2008</td>\n",
       "      <td>Hello again Today was well today was not good ...</td>\n",
       "      <td>54.0</td>\n",
       "      <td>61.09</td>\n",
       "      <td>70.0</td>\n",
       "      <td>0.0</td>\n",
       "      <td>10.0</td>\n",
       "      <td>8.0</td>\n",
       "      <td>30.15</td>\n",
       "      <td>False</td>\n",
       "    </tr>\n",
       "    <tr>\n",
       "      <th>2282</th>\n",
       "      <td>2008-12-05</td>\n",
       "      <td>Independence Fish Report for Dec. 05, 2008</td>\n",
       "      <td>Hello again Today was well today was not good ...</td>\n",
       "      <td>54.0</td>\n",
       "      <td>61.09</td>\n",
       "      <td>70.0</td>\n",
       "      <td>0.0</td>\n",
       "      <td>10.0</td>\n",
       "      <td>8.0</td>\n",
       "      <td>30.15</td>\n",
       "      <td>False</td>\n",
       "    </tr>\n",
       "    <tr>\n",
       "      <th>1826</th>\n",
       "      <td>2011-09-09</td>\n",
       "      <td>Indy Arrives</td>\n",
       "      <td>The Indy will dock at Point Loma Sportfishing ...</td>\n",
       "      <td>63.0</td>\n",
       "      <td>65.50</td>\n",
       "      <td>68.0</td>\n",
       "      <td>0.0</td>\n",
       "      <td>10.0</td>\n",
       "      <td>12.0</td>\n",
       "      <td>29.86</td>\n",
       "      <td>False</td>\n",
       "    </tr>\n",
       "    <tr>\n",
       "      <th>1827</th>\n",
       "      <td>2011-09-09</td>\n",
       "      <td>Indy Arrives</td>\n",
       "      <td>The Indy will dock at Point Loma Sportfishing ...</td>\n",
       "      <td>63.0</td>\n",
       "      <td>65.50</td>\n",
       "      <td>68.0</td>\n",
       "      <td>0.0</td>\n",
       "      <td>10.0</td>\n",
       "      <td>12.0</td>\n",
       "      <td>29.86</td>\n",
       "      <td>False</td>\n",
       "    </tr>\n",
       "    <tr>\n",
       "      <th>1738</th>\n",
       "      <td>2012-04-17</td>\n",
       "      <td>ANOTHER BANNER DAY!</td>\n",
       "      <td>ANOTHER BANNER DAY Things are going well down ...</td>\n",
       "      <td>54.0</td>\n",
       "      <td>61.00</td>\n",
       "      <td>71.0</td>\n",
       "      <td>0.0</td>\n",
       "      <td>10.0</td>\n",
       "      <td>13.0</td>\n",
       "      <td>30.08</td>\n",
       "      <td>False</td>\n",
       "    </tr>\n",
       "    <tr>\n",
       "      <th>1737</th>\n",
       "      <td>2012-04-17</td>\n",
       "      <td>ANOTHER BANNER DAY!</td>\n",
       "      <td>ANOTHER BANNER DAY Things are going well down ...</td>\n",
       "      <td>54.0</td>\n",
       "      <td>61.00</td>\n",
       "      <td>71.0</td>\n",
       "      <td>0.0</td>\n",
       "      <td>10.0</td>\n",
       "      <td>13.0</td>\n",
       "      <td>30.08</td>\n",
       "      <td>False</td>\n",
       "    </tr>\n",
       "    <tr>\n",
       "      <th>1345</th>\n",
       "      <td>2013-11-14</td>\n",
       "      <td>ANOTHER QUICK TURNAROUND.</td>\n",
       "      <td>The Indy returned this morning with a beautifu...</td>\n",
       "      <td>60.0</td>\n",
       "      <td>65.24</td>\n",
       "      <td>78.0</td>\n",
       "      <td>0.0</td>\n",
       "      <td>10.0</td>\n",
       "      <td>14.0</td>\n",
       "      <td>29.90</td>\n",
       "      <td>False</td>\n",
       "    </tr>\n",
       "    <tr>\n",
       "      <th>1344</th>\n",
       "      <td>2013-11-14</td>\n",
       "      <td>ANOTHER QUICK TURNAROUND.</td>\n",
       "      <td>The Indy returned this morning with a beautifu...</td>\n",
       "      <td>60.0</td>\n",
       "      <td>65.24</td>\n",
       "      <td>78.0</td>\n",
       "      <td>0.0</td>\n",
       "      <td>10.0</td>\n",
       "      <td>14.0</td>\n",
       "      <td>29.90</td>\n",
       "      <td>False</td>\n",
       "    </tr>\n",
       "    <tr>\n",
       "      <th>1342</th>\n",
       "      <td>2013-11-17</td>\n",
       "      <td>UPDATE.</td>\n",
       "      <td>We have had a very pleasant ride down to the f...</td>\n",
       "      <td>58.0</td>\n",
       "      <td>62.63</td>\n",
       "      <td>66.0</td>\n",
       "      <td>0.0</td>\n",
       "      <td>10.0</td>\n",
       "      <td>12.0</td>\n",
       "      <td>30.07</td>\n",
       "      <td>False</td>\n",
       "    </tr>\n",
       "    <tr>\n",
       "      <th>1341</th>\n",
       "      <td>2013-11-17</td>\n",
       "      <td>UPDATE.</td>\n",
       "      <td>We have had a very pleasant ride down to the f...</td>\n",
       "      <td>58.0</td>\n",
       "      <td>62.63</td>\n",
       "      <td>66.0</td>\n",
       "      <td>0.0</td>\n",
       "      <td>10.0</td>\n",
       "      <td>12.0</td>\n",
       "      <td>30.07</td>\n",
       "      <td>False</td>\n",
       "    </tr>\n",
       "    <tr>\n",
       "      <th>1080</th>\n",
       "      <td>2015-06-15</td>\n",
       "      <td>CHECKING IN.</td>\n",
       "      <td>Good day to all from the independence we depar...</td>\n",
       "      <td>64.0</td>\n",
       "      <td>67.30</td>\n",
       "      <td>72.0</td>\n",
       "      <td>0.0</td>\n",
       "      <td>10.0</td>\n",
       "      <td>9.0</td>\n",
       "      <td>29.87</td>\n",
       "      <td>True</td>\n",
       "    </tr>\n",
       "    <tr>\n",
       "      <th>1079</th>\n",
       "      <td>2015-06-15</td>\n",
       "      <td>CHECKING IN.</td>\n",
       "      <td>Good day to all from the independence we depar...</td>\n",
       "      <td>64.0</td>\n",
       "      <td>67.30</td>\n",
       "      <td>72.0</td>\n",
       "      <td>0.0</td>\n",
       "      <td>10.0</td>\n",
       "      <td>9.0</td>\n",
       "      <td>29.87</td>\n",
       "      <td>True</td>\n",
       "    </tr>\n",
       "  </tbody>\n",
       "</table>\n",
       "</div>"
      ],
      "text/plain": [
       "     date_posted                                    headline  \\\n",
       "2548  2007-08-30      Indy Sportfishing Fish Report 08-30-07   \n",
       "2547  2007-08-30      Indy Sportfishing Fish Report 08-30-07   \n",
       "2478  2007-12-02      Indy Sportfishing Fish Report 12-02-07   \n",
       "2477  2007-12-02      Indy Sportfishing Fish Report 12-02-07   \n",
       "2354  2008-08-26       Independence Sportfishing Fish Report   \n",
       "2353  2008-08-26       Independence Sportfishing Fish Report   \n",
       "2336  2008-10-03   Independence Fish Report for Oct. 3, 2008   \n",
       "2335  2008-10-03   Independence Fish Report for Oct. 3, 2008   \n",
       "2332  2008-10-06  Independence Fish Report for Oct. 06, 2008   \n",
       "2331  2008-10-06  Independence Fish Report for Oct. 06, 2008   \n",
       "2283  2008-12-05  Independence Fish Report for Dec. 05, 2008   \n",
       "2282  2008-12-05  Independence Fish Report for Dec. 05, 2008   \n",
       "1826  2011-09-09                                Indy Arrives   \n",
       "1827  2011-09-09                                Indy Arrives   \n",
       "1738  2012-04-17                        ANOTHER BANNER DAY!    \n",
       "1737  2012-04-17                        ANOTHER BANNER DAY!    \n",
       "1345  2013-11-14                  ANOTHER QUICK TURNAROUND.    \n",
       "1344  2013-11-14                  ANOTHER QUICK TURNAROUND.    \n",
       "1342  2013-11-17                                    UPDATE.    \n",
       "1341  2013-11-17                                    UPDATE.    \n",
       "1080  2015-06-15                               CHECKING IN.    \n",
       "1079  2015-06-15                               CHECKING IN.    \n",
       "\n",
       "                                              post_body  low_temp  avg_temp  \\\n",
       "2548  Here is the report for today We fished for alb...      71.0     74.35   \n",
       "2547  Here is the report for today We fished for alb...      71.0     74.35   \n",
       "2478  Good evening we had another great day at the b...      48.0     54.43   \n",
       "2477  Good evening we had another great day at the b...      48.0     54.43   \n",
       "2354  Good day heres an update from our trip so far ...      69.0     71.16   \n",
       "2353  Good day heres an update from our trip so far ...      69.0     71.16   \n",
       "2336  Well today we continued our hunt down into the...      66.0     68.45   \n",
       "2335  Well today we continued our hunt down into the...      66.0     68.45   \n",
       "2332  Hello Here is the final report for our trip To...      62.0     69.52   \n",
       "2331  Hello Here is the final report for our trip To...      62.0     69.52   \n",
       "2283  Hello again Today was well today was not good ...      54.0     61.09   \n",
       "2282  Hello again Today was well today was not good ...      54.0     61.09   \n",
       "1826  The Indy will dock at Point Loma Sportfishing ...      63.0     65.50   \n",
       "1827  The Indy will dock at Point Loma Sportfishing ...      63.0     65.50   \n",
       "1738  ANOTHER BANNER DAY Things are going well down ...      54.0     61.00   \n",
       "1737  ANOTHER BANNER DAY Things are going well down ...      54.0     61.00   \n",
       "1345  The Indy returned this morning with a beautifu...      60.0     65.24   \n",
       "1344  The Indy returned this morning with a beautifu...      60.0     65.24   \n",
       "1342  We have had a very pleasant ride down to the f...      58.0     62.63   \n",
       "1341  We have had a very pleasant ride down to the f...      58.0     62.63   \n",
       "1080  Good day to all from the independence we depar...      64.0     67.30   \n",
       "1079  Good day to all from the independence we depar...      64.0     67.30   \n",
       "\n",
       "      high_temp  inches_precip  miles_visible  max_wind  sea_pressure  elnino  \n",
       "2548       80.0            0.0           10.0       9.0         29.87    True  \n",
       "2547       80.0            0.0           10.0       9.0         29.87    True  \n",
       "2478       60.0            0.0           10.0      12.0         30.41    True  \n",
       "2477       60.0            0.0           10.0      12.0         30.41    True  \n",
       "2354       75.0            0.0           10.0       9.0         29.81   False  \n",
       "2353       75.0            0.0           10.0       9.0         29.81   False  \n",
       "2336       70.0            0.0           10.0      12.0         29.90   False  \n",
       "2335       70.0            0.0           10.0      12.0         29.90   False  \n",
       "2332       79.0            0.0           10.0      13.0         29.96   False  \n",
       "2331       79.0            0.0           10.0      13.0         29.96   False  \n",
       "2283       70.0            0.0           10.0       8.0         30.15   False  \n",
       "2282       70.0            0.0           10.0       8.0         30.15   False  \n",
       "1826       68.0            0.0           10.0      12.0         29.86   False  \n",
       "1827       68.0            0.0           10.0      12.0         29.86   False  \n",
       "1738       71.0            0.0           10.0      13.0         30.08   False  \n",
       "1737       71.0            0.0           10.0      13.0         30.08   False  \n",
       "1345       78.0            0.0           10.0      14.0         29.90   False  \n",
       "1344       78.0            0.0           10.0      14.0         29.90   False  \n",
       "1342       66.0            0.0           10.0      12.0         30.07   False  \n",
       "1341       66.0            0.0           10.0      12.0         30.07   False  \n",
       "1080       72.0            0.0           10.0       9.0         29.87    True  \n",
       "1079       72.0            0.0           10.0       9.0         29.87    True  "
      ]
     },
     "execution_count": 11,
     "metadata": {},
     "output_type": "execute_result"
    }
   ],
   "source": [
    "fishing_data.loc[fishing_data.duplicated(subset=['headline', 'post_body', 'date_posted'], keep=False)].sort_values(\"date_posted\")"
   ]
  },
  {
   "cell_type": "markdown",
   "metadata": {},
   "source": [
    "There are 13 duplicate posts that leaked into the data. We'll get rid of these so they don't skew any of our analysis."
   ]
  },
  {
   "cell_type": "code",
   "execution_count": 12,
   "metadata": {},
   "outputs": [
    {
     "data": {
      "text/html": [
       "<div>\n",
       "<style scoped>\n",
       "    .dataframe tbody tr th:only-of-type {\n",
       "        vertical-align: middle;\n",
       "    }\n",
       "\n",
       "    .dataframe tbody tr th {\n",
       "        vertical-align: top;\n",
       "    }\n",
       "\n",
       "    .dataframe thead th {\n",
       "        text-align: right;\n",
       "    }\n",
       "</style>\n",
       "<table border=\"1\" class=\"dataframe\">\n",
       "  <thead>\n",
       "    <tr style=\"text-align: right;\">\n",
       "      <th></th>\n",
       "      <th>date_posted</th>\n",
       "      <th>headline</th>\n",
       "      <th>post_body</th>\n",
       "      <th>low_temp</th>\n",
       "      <th>avg_temp</th>\n",
       "      <th>high_temp</th>\n",
       "      <th>inches_precip</th>\n",
       "      <th>miles_visible</th>\n",
       "      <th>max_wind</th>\n",
       "      <th>sea_pressure</th>\n",
       "      <th>elnino</th>\n",
       "    </tr>\n",
       "  </thead>\n",
       "  <tbody>\n",
       "    <tr>\n",
       "      <th>0</th>\n",
       "      <td>2020-12-17</td>\n",
       "      <td>ON THE HUNT</td>\n",
       "      <td>We were on the hunt for Yellowtail today but n...</td>\n",
       "      <td>46.0</td>\n",
       "      <td>57.34</td>\n",
       "      <td>64.0</td>\n",
       "      <td>0.0</td>\n",
       "      <td>10.0</td>\n",
       "      <td>10.0</td>\n",
       "      <td>30.08</td>\n",
       "      <td>False</td>\n",
       "    </tr>\n",
       "    <tr>\n",
       "      <th>1</th>\n",
       "      <td>2020-12-18</td>\n",
       "      <td>SCRATCHING AWAY</td>\n",
       "      <td>Searched for Yellowtail again today to find no...</td>\n",
       "      <td>52.0</td>\n",
       "      <td>58.04</td>\n",
       "      <td>66.0</td>\n",
       "      <td>0.0</td>\n",
       "      <td>10.0</td>\n",
       "      <td>9.0</td>\n",
       "      <td>30.23</td>\n",
       "      <td>False</td>\n",
       "    </tr>\n",
       "  </tbody>\n",
       "</table>\n",
       "</div>"
      ],
      "text/plain": [
       "  date_posted         headline  \\\n",
       "0  2020-12-17      ON THE HUNT   \n",
       "1  2020-12-18  SCRATCHING AWAY   \n",
       "\n",
       "                                           post_body  low_temp  avg_temp  \\\n",
       "0  We were on the hunt for Yellowtail today but n...      46.0     57.34   \n",
       "1  Searched for Yellowtail again today to find no...      52.0     58.04   \n",
       "\n",
       "   high_temp  inches_precip  miles_visible  max_wind  sea_pressure  elnino  \n",
       "0       64.0            0.0           10.0      10.0         30.08   False  \n",
       "1       66.0            0.0           10.0       9.0         30.23   False  "
      ]
     },
     "execution_count": 12,
     "metadata": {},
     "output_type": "execute_result"
    }
   ],
   "source": [
    "fishing_data = fishing_data.drop_duplicates().reset_index(drop=True)\n",
    "fishing_data.head(2)"
   ]
  },
  {
   "cell_type": "markdown",
   "metadata": {},
   "source": [
    "## Duplicate dates"
   ]
  },
  {
   "cell_type": "code",
   "execution_count": 13,
   "metadata": {},
   "outputs": [
    {
     "data": {
      "text/plain": [
       "2017-04-30    9\n",
       "2017-09-26    9\n",
       "2017-04-28    7\n",
       "2017-12-05    7\n",
       "2018-04-21    7\n",
       "             ..\n",
       "2008-10-27    2\n",
       "2011-06-16    2\n",
       "2009-12-08    2\n",
       "2011-08-12    2\n",
       "2014-08-28    2\n",
       "Name: date_posted, Length: 411, dtype: int64"
      ]
     },
     "execution_count": 13,
     "metadata": {},
     "output_type": "execute_result"
    }
   ],
   "source": [
    "# are there multiple posts for any days?\n",
    "post_counts = fishing_data.date_posted.value_counts()\n",
    "post_counts[post_counts >= 2]"
   ]
  },
  {
   "cell_type": "markdown",
   "metadata": {},
   "source": [
    "Is it concerning that dates are duplicated? Let's check one of the dates that has 9 posts."
   ]
  },
  {
   "cell_type": "code",
   "execution_count": 14,
   "metadata": {},
   "outputs": [
    {
     "data": {
      "text/html": [
       "<div>\n",
       "<style scoped>\n",
       "    .dataframe tbody tr th:only-of-type {\n",
       "        vertical-align: middle;\n",
       "    }\n",
       "\n",
       "    .dataframe tbody tr th {\n",
       "        vertical-align: top;\n",
       "    }\n",
       "\n",
       "    .dataframe thead th {\n",
       "        text-align: right;\n",
       "    }\n",
       "</style>\n",
       "<table border=\"1\" class=\"dataframe\">\n",
       "  <thead>\n",
       "    <tr style=\"text-align: right;\">\n",
       "      <th></th>\n",
       "      <th>date_posted</th>\n",
       "      <th>headline</th>\n",
       "      <th>post_body</th>\n",
       "      <th>low_temp</th>\n",
       "      <th>avg_temp</th>\n",
       "      <th>high_temp</th>\n",
       "      <th>inches_precip</th>\n",
       "      <th>miles_visible</th>\n",
       "      <th>max_wind</th>\n",
       "      <th>sea_pressure</th>\n",
       "      <th>elnino</th>\n",
       "    </tr>\n",
       "  </thead>\n",
       "  <tbody>\n",
       "    <tr>\n",
       "      <th>498</th>\n",
       "      <td>2017-09-26</td>\n",
       "      <td>Excellent Start Kimura 8 Day</td>\n",
       "      <td>We departed Sunday on our annual Gary Kimura 8...</td>\n",
       "      <td>63.0</td>\n",
       "      <td>69.92</td>\n",
       "      <td>78.0</td>\n",
       "      <td>0.0</td>\n",
       "      <td>10.0</td>\n",
       "      <td>10.0</td>\n",
       "      <td>29.82</td>\n",
       "      <td>False</td>\n",
       "    </tr>\n",
       "    <tr>\n",
       "      <th>499</th>\n",
       "      <td>2017-09-26</td>\n",
       "      <td>beautiful dorados today</td>\n",
       "      <td>nan</td>\n",
       "      <td>63.0</td>\n",
       "      <td>69.92</td>\n",
       "      <td>78.0</td>\n",
       "      <td>0.0</td>\n",
       "      <td>10.0</td>\n",
       "      <td>10.0</td>\n",
       "      <td>29.82</td>\n",
       "      <td>False</td>\n",
       "    </tr>\n",
       "    <tr>\n",
       "      <th>500</th>\n",
       "      <td>2017-09-26</td>\n",
       "      <td>beautiful yellowtail</td>\n",
       "      <td>nan</td>\n",
       "      <td>63.0</td>\n",
       "      <td>69.92</td>\n",
       "      <td>78.0</td>\n",
       "      <td>0.0</td>\n",
       "      <td>10.0</td>\n",
       "      <td>10.0</td>\n",
       "      <td>29.82</td>\n",
       "      <td>False</td>\n",
       "    </tr>\n",
       "    <tr>\n",
       "      <th>501</th>\n",
       "      <td>2017-09-26</td>\n",
       "      <td>happy camper</td>\n",
       "      <td>nan</td>\n",
       "      <td>63.0</td>\n",
       "      <td>69.92</td>\n",
       "      <td>78.0</td>\n",
       "      <td>0.0</td>\n",
       "      <td>10.0</td>\n",
       "      <td>10.0</td>\n",
       "      <td>29.82</td>\n",
       "      <td>False</td>\n",
       "    </tr>\n",
       "    <tr>\n",
       "      <th>502</th>\n",
       "      <td>2017-09-26</td>\n",
       "      <td>YELLOWTAIL BONANZA</td>\n",
       "      <td>nan</td>\n",
       "      <td>63.0</td>\n",
       "      <td>69.92</td>\n",
       "      <td>78.0</td>\n",
       "      <td>0.0</td>\n",
       "      <td>10.0</td>\n",
       "      <td>10.0</td>\n",
       "      <td>29.82</td>\n",
       "      <td>False</td>\n",
       "    </tr>\n",
       "    <tr>\n",
       "      <th>503</th>\n",
       "      <td>2017-09-26</td>\n",
       "      <td>Matt</td>\n",
       "      <td>Matt brings in a beautiful Yellowtail</td>\n",
       "      <td>63.0</td>\n",
       "      <td>69.92</td>\n",
       "      <td>78.0</td>\n",
       "      <td>0.0</td>\n",
       "      <td>10.0</td>\n",
       "      <td>10.0</td>\n",
       "      <td>29.82</td>\n",
       "      <td>False</td>\n",
       "    </tr>\n",
       "    <tr>\n",
       "      <th>504</th>\n",
       "      <td>2017-09-26</td>\n",
       "      <td>Alex</td>\n",
       "      <td>Nice yellow today</td>\n",
       "      <td>63.0</td>\n",
       "      <td>69.92</td>\n",
       "      <td>78.0</td>\n",
       "      <td>0.0</td>\n",
       "      <td>10.0</td>\n",
       "      <td>10.0</td>\n",
       "      <td>29.82</td>\n",
       "      <td>False</td>\n",
       "    </tr>\n",
       "    <tr>\n",
       "      <th>505</th>\n",
       "      <td>2017-09-26</td>\n",
       "      <td>Robert</td>\n",
       "      <td>Robert says Hello to all my friends</td>\n",
       "      <td>63.0</td>\n",
       "      <td>69.92</td>\n",
       "      <td>78.0</td>\n",
       "      <td>0.0</td>\n",
       "      <td>10.0</td>\n",
       "      <td>10.0</td>\n",
       "      <td>29.82</td>\n",
       "      <td>False</td>\n",
       "    </tr>\n",
       "    <tr>\n",
       "      <th>506</th>\n",
       "      <td>2017-09-26</td>\n",
       "      <td>trip 1722 Jackpot winners</td>\n",
       "      <td>First place Tim Brown 57 8 Second place Vince ...</td>\n",
       "      <td>63.0</td>\n",
       "      <td>69.92</td>\n",
       "      <td>78.0</td>\n",
       "      <td>0.0</td>\n",
       "      <td>10.0</td>\n",
       "      <td>10.0</td>\n",
       "      <td>29.82</td>\n",
       "      <td>False</td>\n",
       "    </tr>\n",
       "  </tbody>\n",
       "</table>\n",
       "</div>"
      ],
      "text/plain": [
       "    date_posted                      headline  \\\n",
       "498  2017-09-26  Excellent Start Kimura 8 Day   \n",
       "499  2017-09-26       beautiful dorados today   \n",
       "500  2017-09-26          beautiful yellowtail   \n",
       "501  2017-09-26                  happy camper   \n",
       "502  2017-09-26            YELLOWTAIL BONANZA   \n",
       "503  2017-09-26                          Matt   \n",
       "504  2017-09-26                          Alex   \n",
       "505  2017-09-26                        Robert   \n",
       "506  2017-09-26     trip 1722 Jackpot winners   \n",
       "\n",
       "                                             post_body  low_temp  avg_temp  \\\n",
       "498  We departed Sunday on our annual Gary Kimura 8...      63.0     69.92   \n",
       "499                                                nan      63.0     69.92   \n",
       "500                                                nan      63.0     69.92   \n",
       "501                                                nan      63.0     69.92   \n",
       "502                                                nan      63.0     69.92   \n",
       "503              Matt brings in a beautiful Yellowtail      63.0     69.92   \n",
       "504                                  Nice yellow today      63.0     69.92   \n",
       "505                Robert says Hello to all my friends      63.0     69.92   \n",
       "506  First place Tim Brown 57 8 Second place Vince ...      63.0     69.92   \n",
       "\n",
       "     high_temp  inches_precip  miles_visible  max_wind  sea_pressure  elnino  \n",
       "498       78.0            0.0           10.0      10.0         29.82   False  \n",
       "499       78.0            0.0           10.0      10.0         29.82   False  \n",
       "500       78.0            0.0           10.0      10.0         29.82   False  \n",
       "501       78.0            0.0           10.0      10.0         29.82   False  \n",
       "502       78.0            0.0           10.0      10.0         29.82   False  \n",
       "503       78.0            0.0           10.0      10.0         29.82   False  \n",
       "504       78.0            0.0           10.0      10.0         29.82   False  \n",
       "505       78.0            0.0           10.0      10.0         29.82   False  \n",
       "506       78.0            0.0           10.0      10.0         29.82   False  "
      ]
     },
     "execution_count": 14,
     "metadata": {},
     "output_type": "execute_result"
    }
   ],
   "source": [
    "sample_date = pd.Timestamp(datetime.date(2017, 9, 26))\n",
    "duplicate_date_example = fishing_data.loc[fishing_data.date_posted == sample_date]\n",
    "duplicate_date_example"
   ]
  },
  {
   "cell_type": "markdown",
   "metadata": {},
   "source": [
    "There seem to be days where the crew posts many times, sometimes without a post body. It's likely that these are accompanied by pictures on the actual site since the headlines are things like, `Matt brings in a beautiful Yellowtail`, though we didn't webscrape photos. More posts in a day may be an indicator of good fishing conditions. "
   ]
  },
  {
   "cell_type": "markdown",
   "metadata": {},
   "source": [
    "## When do posts happen?"
   ]
  },
  {
   "cell_type": "markdown",
   "metadata": {},
   "source": [
    "#### Let's see how posts are distributed by year"
   ]
  },
  {
   "cell_type": "code",
   "execution_count": 15,
   "metadata": {},
   "outputs": [
    {
     "data": {
      "text/plain": [
       "(Timestamp('2005-06-19 00:00:00'), Timestamp('2020-12-19 00:00:00'))"
      ]
     },
     "execution_count": 15,
     "metadata": {},
     "output_type": "execute_result"
    }
   ],
   "source": [
    "# What is the earliest post and the most recent post by date?\n",
    "sorted_dates = fishing_data.date_posted.sort_values()\n",
    "sorted_dates.iloc[0], sorted_dates.iloc[-1]"
   ]
  },
  {
   "cell_type": "code",
   "execution_count": 16,
   "metadata": {},
   "outputs": [],
   "source": [
    "# uncomment this to see just the numbers per year \n",
    "# (useful for spotchecking the bar plot since more plot options = room for error)\n",
    "\n",
    "# fishing_data.date_posted.dt.year.value_counts()"
   ]
  },
  {
   "cell_type": "code",
   "execution_count": 17,
   "metadata": {},
   "outputs": [
    {
     "data": {
      "image/png": "[encoded data removed]",
      "text/plain": [
       "<Figure size 432x288 with 1 Axes>"
      ]
     },
     "metadata": {
      "needs_background": "light"
     },
     "output_type": "display_data"
    }
   ],
   "source": [
    "time_hist_options = {\n",
    "    \"alpha\":  0.5,\n",
    "    \"rwidth\": 0.8,\n",
    "    \"bins\":   np.arange(2005, 2020 + 2),\n",
    "    \"align\":  \"left\"\n",
    "}\n",
    "plt.hist(fishing_data.date_posted.dt.year, **time_hist_options)\n",
    "plt.ylabel(\"Post Count\")\n",
    "plt.xticks(time_hist_options['bins'], rotation=45)\n",
    "plt.xlim([2004.5, 2020.5]);"
   ]
  },
  {
   "cell_type": "markdown",
   "metadata": {},
   "source": [
    "Posts were fairly consistent in the late 2000s and 2010s, though this is clear dropoff in recent years. Drops in 2020 were almost certainly correlated with covid though there was an existing downward trend.\n",
    "\n",
    "Note: The average post per day is less than 1 for every year in the dataset. Because the crew didn't post every day, it's likely that good days are overrepresented."
   ]
  },
  {
   "cell_type": "markdown",
   "metadata": {},
   "source": [
    "#### What about the distribution by month? Is there seasonality to the posts?"
   ]
  },
  {
   "cell_type": "code",
   "execution_count": 18,
   "metadata": {},
   "outputs": [
    {
     "data": {
      "image/png": "[encoded data removed]",
      "text/plain": [
       "<Figure size 864x576 with 1 Axes>"
      ]
     },
     "metadata": {
      "needs_background": "light"
     },
     "output_type": "display_data"
    }
   ],
   "source": [
    "plt.figure(figsize=(12, 8))\n",
    "month_labels = [\"January\", \"February\", \"March\", \"April\", \"May\", \"June\", \n",
    "                \"July\", \"August\", \"September\", \"October\", \"November\", \"December\"]\n",
    "\n",
    "month_hist_options = {\n",
    "    \"alpha\":  0.5,\n",
    "    \"color\":  \"orange\"\n",
    "}\n",
    "\n",
    "month_counts = fishing_data.date_posted.dt.month.value_counts().sort_index()\n",
    "\n",
    "plt.bar(month_counts.index, month_counts.values, **month_hist_options)\n",
    "plt.ylabel(\"Post Count\")\n",
    "plt.xticks(month_counts.index, labels=month_labels, rotation=45);\n",
    "\n",
    "\n",
    "# Custom fill patterns to emphasize seasons\n",
    "plt.fill_between([2.5, 5.49], 500,  alpha=0.1, color='green',  label='Spring')\n",
    "plt.fill_between([5.5, 8.49], 500,  alpha=0.1, color='red',    label='Summer')\n",
    "plt.fill_between([8.5, 11.49], 500, alpha=0.1, color='orange', label='Fall')\n",
    "plt.fill_between([0, 2.49], 500,    alpha=0.1, color='blue',   label='Winter')\n",
    "plt.fill_between([11.5, 12.5], 500, alpha=0.1, color='blue')\n",
    "\n",
    "plt.annotate(\"Winter\", [1, 410])\n",
    "plt.annotate(\"Spring\", [3, 410])\n",
    "plt.annotate(\"Summer\", [6, 410])\n",
    "plt.annotate(\"Fall\",   [9, 410])\n",
    "\n",
    "plt.title(\"Seasonality of Fishing Reports (2005 - 2020)\");\n",
    "plt.ylim([0, 425])\n",
    "plt.xlim([0.5, 12.5]);\n",
    "\n",
    "#plt.savefig(\"post_seasonality.png\", dpi=500);"
   ]
  },
  {
   "cell_type": "markdown",
   "metadata": {},
   "source": [
    "Though posts aren't necessarily equivalent to business activity, this plot suggests that the fishing business may be more active in hotter months. This makes intuitive sense since we wouldn't expect people to be out in the rain or cold to catch fish, especially when the waters may be choppy or otherwise le."
   ]
  },
  {
   "cell_type": "markdown",
   "metadata": {},
   "source": [
    "### Rain patterns over the years"
   ]
  },
  {
   "cell_type": "code",
   "execution_count": 23,
   "metadata": {},
   "outputs": [
    {
     "data": {
      "image/png": "[encoded data removed]",
      "text/plain": [
       "<Figure size 864x576 with 1 Axes>"
      ]
     },
     "metadata": {
      "needs_background": "light"
     },
     "output_type": "display_data"
    }
   ],
   "source": [
    "plt.figure(figsize=(12, 8))\n",
    "norm_years = fishing_data.loc[~fishing_data.elnino]\n",
    "nino_years = fishing_data.loc[fishing_data.elnino]\n",
    "\n",
    "plt.scatter(norm_years.date_posted.dt.year, norm_years.inches_precip, alpha=0.3, label='Normal Years')\n",
    "plt.scatter(nino_years.date_posted.dt.year, nino_years.inches_precip, alpha=0.3, label='El Nino Years')\n",
    "\n",
    "plt.ylabel(\"Inches of precipitation\");\n",
    "plt.legend();"
   ]
  },
  {
   "cell_type": "markdown",
   "metadata": {},
   "source": [
    "Before 2014 there is no rain data. Either the site we scraped weather data from didn't have correct measurements of the rain or we got unlucky and none of the posts occurred on days where there was rain. Given that there aren't many posts during rainy months, the latter is possible. We shouldn't use rain for anything serious in our analysis."
   ]
  },
  {
   "cell_type": "markdown",
   "metadata": {},
   "source": [
    "### El Nino Years\n",
    "\n",
    "I got these years from Wikipedia. There is no obvious difference in weather in El Niño years, so I likely won't use this variable for anything."
   ]
  },
  {
   "cell_type": "code",
   "execution_count": 20,
   "metadata": {},
   "outputs": [
    {
     "data": {
      "text/html": [
       "<div>\n",
       "<style scoped>\n",
       "    .dataframe tbody tr th:only-of-type {\n",
       "        vertical-align: middle;\n",
       "    }\n",
       "\n",
       "    .dataframe tbody tr th {\n",
       "        vertical-align: top;\n",
       "    }\n",
       "\n",
       "    .dataframe thead tr th {\n",
       "        text-align: left;\n",
       "    }\n",
       "\n",
       "    .dataframe thead tr:last-of-type th {\n",
       "        text-align: right;\n",
       "    }\n",
       "</style>\n",
       "<table border=\"1\" class=\"dataframe\">\n",
       "  <thead>\n",
       "    <tr>\n",
       "      <th></th>\n",
       "      <th colspan=\"2\" halign=\"left\">low_temp</th>\n",
       "      <th colspan=\"2\" halign=\"left\">avg_temp</th>\n",
       "      <th colspan=\"2\" halign=\"left\">high_temp</th>\n",
       "      <th colspan=\"2\" halign=\"left\">sea_pressure</th>\n",
       "    </tr>\n",
       "    <tr>\n",
       "      <th></th>\n",
       "      <th>mean</th>\n",
       "      <th>median</th>\n",
       "      <th>mean</th>\n",
       "      <th>median</th>\n",
       "      <th>mean</th>\n",
       "      <th>median</th>\n",
       "      <th>mean</th>\n",
       "      <th>median</th>\n",
       "    </tr>\n",
       "    <tr>\n",
       "      <th>elnino</th>\n",
       "      <th></th>\n",
       "      <th></th>\n",
       "      <th></th>\n",
       "      <th></th>\n",
       "      <th></th>\n",
       "      <th></th>\n",
       "      <th></th>\n",
       "      <th></th>\n",
       "    </tr>\n",
       "  </thead>\n",
       "  <tbody>\n",
       "    <tr>\n",
       "      <th>False</th>\n",
       "      <td>58.045872</td>\n",
       "      <td>62.0</td>\n",
       "      <td>65.561942</td>\n",
       "      <td>65.81</td>\n",
       "      <td>71.746942</td>\n",
       "      <td>72.0</td>\n",
       "      <td>29.982913</td>\n",
       "      <td>29.97</td>\n",
       "    </tr>\n",
       "    <tr>\n",
       "      <th>True</th>\n",
       "      <td>61.513531</td>\n",
       "      <td>63.0</td>\n",
       "      <td>66.545267</td>\n",
       "      <td>66.58</td>\n",
       "      <td>72.664569</td>\n",
       "      <td>72.0</td>\n",
       "      <td>29.989906</td>\n",
       "      <td>29.98</td>\n",
       "    </tr>\n",
       "  </tbody>\n",
       "</table>\n",
       "</div>"
      ],
      "text/plain": [
       "         low_temp          avg_temp         high_temp        sea_pressure  \\\n",
       "             mean median       mean median       mean median         mean   \n",
       "elnino                                                                      \n",
       "False   58.045872   62.0  65.561942  65.81  71.746942   72.0    29.982913   \n",
       "True    61.513531   63.0  66.545267  66.58  72.664569   72.0    29.989906   \n",
       "\n",
       "               \n",
       "       median  \n",
       "elnino         \n",
       "False   29.97  \n",
       "True    29.98  "
      ]
     },
     "execution_count": 20,
     "metadata": {},
     "output_type": "execute_result"
    }
   ],
   "source": [
    "fishing_data.groupby('elnino')[['low_temp', 'avg_temp', 'high_temp', 'sea_pressure']].agg(['mean', 'median'])"
   ]
  },
  {
   "cell_type": "markdown",
   "metadata": {},
   "source": [
    "## Daily Temperatures"
   ]
  },
  {
   "cell_type": "code",
   "execution_count": 24,
   "metadata": {},
   "outputs": [
    {
     "data": {
      "image/png": "[encoded data removed]",
      "text/plain": [
       "<Figure size 864x576 with 3 Axes>"
      ]
     },
     "metadata": {
      "needs_background": "light"
     },
     "output_type": "display_data"
    }
   ],
   "source": [
    "# thanks for the grid help: \n",
    "# https://stackoverflow.com/questions/37360568/python-organisation-of-3-subplots-with-matplotlib\n",
    "import matplotlib.gridspec as gridspec\n",
    "\n",
    "temp_plot_options = {\n",
    "    \"alpha\":  0.5,\n",
    "    \"rwidth\": 0.97\n",
    "}\n",
    "\n",
    "# Create 2x2 sub plots\n",
    "gs = gridspec.GridSpec(2, 2)\n",
    "\n",
    "plt.figure(figsize=(12, 8))\n",
    "ax = plt.subplot(gs[0, 0]) # row 0, col 0\n",
    "plt.suptitle(\"Daily Temperature Counts (Fahrenheit)\")\n",
    "\n",
    "plt.hist(fishing_data.low_temp, **temp_plot_options)\n",
    "plt.xlabel(\"Low Temperature (F)\")\n",
    "\n",
    "ax = plt.subplot(gs[0, 1]) # row 0, col 1\n",
    "plt.hist(fishing_data.high_temp, **temp_plot_options)\n",
    "plt.xlabel(\"High Temperature (F)\")\n",
    "\n",
    "ax = plt.subplot(gs[1, :]) # row 1, span all columns\n",
    "plt.hist(fishing_data.avg_temp, **temp_plot_options)\n",
    "plt.xlabel(\"Average Temperature (F)\");"
   ]
  },
  {
   "cell_type": "code",
   "execution_count": 26,
   "metadata": {
    "scrolled": true
   },
   "outputs": [
    {
     "data": {
      "text/plain": [
       "(     date_posted             headline  \\\n",
       " 0     2020-12-17          ON THE HUNT   \n",
       " 1     2020-12-18      SCRATCHING AWAY   \n",
       " 2     2020-12-16          GOOD ACTION   \n",
       " 3     2020-12-15             GOOD DAY   \n",
       " 4     2020-12-14            GOOD SIGN   \n",
       " ...          ...                  ...   \n",
       " 2827  2008-01-05      Toured the Boat   \n",
       " 2893  2020-12-19                  ETA   \n",
       " 2894  2020-08-25           GREAT TRIP   \n",
       " 2895  2017-12-20  AFTCO REPS COMMENTS   \n",
       " 2896  2017-04-26          Indy Update   \n",
       " \n",
       "                                               post_body  low_temp  avg_temp  \\\n",
       " 0     We were on the hunt for Yellowtail today but n...      46.0     57.34   \n",
       " 1     Searched for Yellowtail again today to find no...      52.0     58.04   \n",
       " 2     Another good day of fishing for the guys It wa...      43.0     56.38   \n",
       " 3     The guys had an awesome day pulling on Yellowf...      49.0     57.24   \n",
       " 4     Beautiful weather for the guys today Their are...      51.0     56.68   \n",
       " ...                                                 ...       ...       ...   \n",
       " 2827  Toured The Boat Theres some good quality tuna ...      54.0     55.40   \n",
       " 2893  The Independence will dock at Point Loma Sport...      43.0     56.67   \n",
       " 2894  What a trip the guys had Started our trip out ...      73.0     75.59   \n",
       " 2895  The trip started off at the bait receivers whe...      48.0     56.24   \n",
       " 2896  Improving for sure Well the saying goes it can...      59.0     64.46   \n",
       " \n",
       "       high_temp  inches_precip  miles_visible  max_wind  sea_pressure  elnino  \n",
       " 0          64.0           0.00           10.0      10.0         30.08   False  \n",
       " 1          66.0           0.00           10.0       9.0         30.23   False  \n",
       " 2          72.0           0.00           10.0       9.0         30.17   False  \n",
       " 3          68.0           0.03           10.0       9.0         30.21   False  \n",
       " 4          64.0           0.00           10.0      10.0         30.12   False  \n",
       " ...         ...            ...            ...       ...           ...     ...  \n",
       " 2827       57.0           0.00           10.0      25.0         30.03   False  \n",
       " 2893       70.0           0.00           10.0      14.0         30.28   False  \n",
       " 2894       80.0           0.00           10.0      14.0         29.84   False  \n",
       " 2895       63.0           0.00           10.0      12.0         30.17   False  \n",
       " 2896       70.0           0.00           10.0      14.0         29.92   False  \n",
       " \n",
       " [1308 rows x 11 columns],\n",
       "      date_posted                      headline  \\\n",
       " 108   2019-12-30  DECENT BLUEFIN FISHING & ETA   \n",
       " 109   2019-12-29                    GOOD TIMES   \n",
       " 110   2019-12-15          TRIP 1929 JP WINNERS   \n",
       " 111   2019-12-13  ETA for  Saturday 12.14.2019   \n",
       " 112   2019-12-11                  HEADING HOME   \n",
       " ...          ...                           ...   \n",
       " 2888  2006-06-01           Big Benitos Busters   \n",
       " 2889  2006-05-27                Indy Does Five   \n",
       " 2890  2006-02-11           Strasser Loads Indy   \n",
       " 2891  2006-01-23                  How About 82   \n",
       " 2892  2006-01-03              Had Some Weather   \n",
       " \n",
       "                                               post_body  low_temp  avg_temp  \\\n",
       " 108   Finished off the trip this morning with some d...      52.0     56.88   \n",
       " 109   Aftco 5 day after Christmas trip is in full sw...      46.0     55.08   \n",
       " 110   We are welcomed back with 11 fish over 200 lb ...      53.0     60.18   \n",
       " 111   Good morning Friends Family and Anglers I want...      53.0     58.74   \n",
       " 112   We finished up down below here and we are maki...      50.0     58.30   \n",
       " ...                                                 ...       ...       ...   \n",
       " 2888  Owner skipper Mark Pisano docked his Independe...      64.0     65.33   \n",
       " 2889  Jeff DuBuys docked Independence May 27 after a...      61.0     63.44   \n",
       " 2890  Owner skipper Paul Strasser docked Independenc...      50.0     56.86   \n",
       " 2891  Independence arrived at Pt Loma Sportfishing d...      45.0     57.61   \n",
       " 2892  Independence arrived at Pt Loma Sportfishing J...      50.0     55.57   \n",
       " \n",
       "       high_temp  inches_precip  miles_visible  max_wind  sea_pressure  elnino  \n",
       " 108        63.0            0.0           10.0      10.0         30.03    True  \n",
       " 109        62.0            0.0           10.0       9.0         30.21    True  \n",
       " 110        65.0            0.0           10.0      15.0         30.10    True  \n",
       " 111        67.0            0.0           10.0       8.0         30.15    True  \n",
       " 112        66.0            0.0           10.0      12.0         30.21    True  \n",
       " ...         ...            ...            ...       ...           ...     ...  \n",
       " 2888       66.0            0.0           10.0      10.0         29.97    True  \n",
       " 2889       66.0            0.0           10.0      14.0         29.90    True  \n",
       " 2890       68.0            0.0            6.0      12.0         30.25    True  \n",
       " 2891       68.0            0.0           10.0      12.0         30.05    True  \n",
       " 2892       61.0            0.0           10.0      20.0         30.23    True  \n",
       " \n",
       " [1589 rows x 11 columns])"
      ]
     },
     "execution_count": 26,
     "metadata": {},
     "output_type": "execute_result"
    }
   ],
   "source": [
    "norm_years, nino_years"
   ]
  },
  {
   "cell_type": "code",
   "execution_count": 31,
   "metadata": {},
   "outputs": [
    {
     "data": {
      "image/png": "[encoded data removed]",
      "text/plain": [
       "<Figure size 864x576 with 3 Axes>"
      ]
     },
     "metadata": {
      "needs_background": "light"
     },
     "output_type": "display_data"
    }
   ],
   "source": [
    "# thanks for the grid help: \n",
    "# https://stackoverflow.com/questions/37360568/python-organisation-of-3-subplots-with-matplotlib\n",
    "import matplotlib.gridspec as gridspec\n",
    "\n",
    "temp_plot_options = {\n",
    "    \"alpha\":  0.5,\n",
    "    \"rwidth\": 0.97\n",
    "}\n",
    "\n",
    "# Create 2x2 sub plots\n",
    "gs = gridspec.GridSpec(2, 2)\n",
    "\n",
    "plt.figure(figsize=(12, 8))\n",
    "ax = plt.subplot(gs[0, 0]) # row 0, col 0\n",
    "plt.suptitle(\"Daily Temperature Counts (Fahrenheit)\")\n",
    "\n",
    "plt.hist(norm_years.low_temp, **temp_plot_options, label='Normal Years')\n",
    "plt.hist(nino_years.low_temp, **temp_plot_options, label='El Nino')\n",
    "plt.xlabel(\"Low Temperature (F)\")\n",
    "plt.legend();\n",
    "\n",
    "ax = plt.subplot(gs[0, 1]) # row 0, col 1\n",
    "plt.hist(norm_years.high_temp, **temp_plot_options, label='Normal Years')\n",
    "plt.hist(nino_years.high_temp, **temp_plot_options, label='El Nino')\n",
    "plt.xlabel(\"High Temperature (F)\")\n",
    "plt.legend();\n",
    "\n",
    "ax = plt.subplot(gs[1, :]) # row 1, span all columns\n",
    "plt.hist(norm_years.avg_temp, **temp_plot_options, label='Normal Years')\n",
    "plt.hist(nino_years.avg_temp, **temp_plot_options, label='El Nino')\n",
    "plt.xlabel(\"Average Temperature (F)\")\n",
    "plt.legend();"
   ]
  },
  {
   "cell_type": "markdown",
   "metadata": {},
   "source": [
    "The daily low temperatures have outlier values near 0. San Diego doesn't randomly hit sub-freezing temperatures, skipping everything from 32 down to 0, so we can be sure these are errors in the weather site's data.\n",
    "\n",
    "As for the rest of the temperatures, the average and high look well-behaved. It may be worth looking for relationships between temperature and post content."
   ]
  },
  {
   "cell_type": "markdown",
   "metadata": {},
   "source": [
    "## Annual weather data"
   ]
  },
  {
   "cell_type": "code",
   "execution_count": 32,
   "metadata": {
    "scrolled": false
   },
   "outputs": [
    {
     "data": {
      "text/html": [
       "<div>\n",
       "<style scoped>\n",
       "    .dataframe tbody tr th:only-of-type {\n",
       "        vertical-align: middle;\n",
       "    }\n",
       "\n",
       "    .dataframe tbody tr th {\n",
       "        vertical-align: top;\n",
       "    }\n",
       "\n",
       "    .dataframe thead tr th {\n",
       "        text-align: left;\n",
       "    }\n",
       "\n",
       "    .dataframe thead tr:last-of-type th {\n",
       "        text-align: right;\n",
       "    }\n",
       "</style>\n",
       "<table border=\"1\" class=\"dataframe\">\n",
       "  <thead>\n",
       "    <tr>\n",
       "      <th></th>\n",
       "      <th colspan=\"2\" halign=\"left\">low_temp</th>\n",
       "      <th colspan=\"2\" halign=\"left\">avg_temp</th>\n",
       "      <th colspan=\"2\" halign=\"left\">high_temp</th>\n",
       "      <th colspan=\"2\" halign=\"left\">sea_pressure</th>\n",
       "    </tr>\n",
       "    <tr>\n",
       "      <th></th>\n",
       "      <th>mean</th>\n",
       "      <th>median</th>\n",
       "      <th>mean</th>\n",
       "      <th>median</th>\n",
       "      <th>mean</th>\n",
       "      <th>median</th>\n",
       "      <th>mean</th>\n",
       "      <th>median</th>\n",
       "    </tr>\n",
       "    <tr>\n",
       "      <th>date_posted</th>\n",
       "      <th></th>\n",
       "      <th></th>\n",
       "      <th></th>\n",
       "      <th></th>\n",
       "      <th></th>\n",
       "      <th></th>\n",
       "      <th></th>\n",
       "      <th></th>\n",
       "    </tr>\n",
       "  </thead>\n",
       "  <tbody>\n",
       "    <tr>\n",
       "      <th>2005</th>\n",
       "      <td>58.153846</td>\n",
       "      <td>57.0</td>\n",
       "      <td>61.473077</td>\n",
       "      <td>60.480</td>\n",
       "      <td>66.076923</td>\n",
       "      <td>65.0</td>\n",
       "      <td>30.043846</td>\n",
       "      <td>30.08</td>\n",
       "    </tr>\n",
       "    <tr>\n",
       "      <th>2006</th>\n",
       "      <td>57.438356</td>\n",
       "      <td>54.0</td>\n",
       "      <td>62.851370</td>\n",
       "      <td>60.070</td>\n",
       "      <td>69.534247</td>\n",
       "      <td>68.0</td>\n",
       "      <td>30.050959</td>\n",
       "      <td>30.04</td>\n",
       "    </tr>\n",
       "    <tr>\n",
       "      <th>2007</th>\n",
       "      <td>61.014085</td>\n",
       "      <td>62.0</td>\n",
       "      <td>65.169953</td>\n",
       "      <td>65.780</td>\n",
       "      <td>70.342723</td>\n",
       "      <td>71.0</td>\n",
       "      <td>29.973568</td>\n",
       "      <td>29.96</td>\n",
       "    </tr>\n",
       "    <tr>\n",
       "      <th>2008</th>\n",
       "      <td>59.972093</td>\n",
       "      <td>60.0</td>\n",
       "      <td>65.314279</td>\n",
       "      <td>66.740</td>\n",
       "      <td>71.497674</td>\n",
       "      <td>73.0</td>\n",
       "      <td>29.977721</td>\n",
       "      <td>29.96</td>\n",
       "    </tr>\n",
       "    <tr>\n",
       "      <th>2009</th>\n",
       "      <td>58.583851</td>\n",
       "      <td>61.0</td>\n",
       "      <td>64.285714</td>\n",
       "      <td>64.620</td>\n",
       "      <td>70.372671</td>\n",
       "      <td>71.0</td>\n",
       "      <td>29.989752</td>\n",
       "      <td>29.97</td>\n",
       "    </tr>\n",
       "    <tr>\n",
       "      <th>2010</th>\n",
       "      <td>58.454082</td>\n",
       "      <td>60.5</td>\n",
       "      <td>63.353878</td>\n",
       "      <td>64.330</td>\n",
       "      <td>69.321429</td>\n",
       "      <td>69.0</td>\n",
       "      <td>30.001071</td>\n",
       "      <td>29.99</td>\n",
       "    </tr>\n",
       "    <tr>\n",
       "      <th>2011</th>\n",
       "      <td>56.357934</td>\n",
       "      <td>61.0</td>\n",
       "      <td>63.977638</td>\n",
       "      <td>64.810</td>\n",
       "      <td>69.752768</td>\n",
       "      <td>70.0</td>\n",
       "      <td>29.987823</td>\n",
       "      <td>29.96</td>\n",
       "    </tr>\n",
       "    <tr>\n",
       "      <th>2012</th>\n",
       "      <td>56.509709</td>\n",
       "      <td>62.0</td>\n",
       "      <td>65.601990</td>\n",
       "      <td>65.105</td>\n",
       "      <td>71.339806</td>\n",
       "      <td>71.0</td>\n",
       "      <td>29.985097</td>\n",
       "      <td>29.97</td>\n",
       "    </tr>\n",
       "    <tr>\n",
       "      <th>2013</th>\n",
       "      <td>52.493274</td>\n",
       "      <td>60.0</td>\n",
       "      <td>64.687085</td>\n",
       "      <td>65.240</td>\n",
       "      <td>70.708520</td>\n",
       "      <td>71.0</td>\n",
       "      <td>29.984484</td>\n",
       "      <td>29.97</td>\n",
       "    </tr>\n",
       "    <tr>\n",
       "      <th>2014</th>\n",
       "      <td>64.580808</td>\n",
       "      <td>66.0</td>\n",
       "      <td>69.753636</td>\n",
       "      <td>70.565</td>\n",
       "      <td>75.878788</td>\n",
       "      <td>76.0</td>\n",
       "      <td>29.966919</td>\n",
       "      <td>29.97</td>\n",
       "    </tr>\n",
       "    <tr>\n",
       "      <th>2015</th>\n",
       "      <td>63.541872</td>\n",
       "      <td>66.0</td>\n",
       "      <td>68.935468</td>\n",
       "      <td>70.040</td>\n",
       "      <td>75.206897</td>\n",
       "      <td>76.0</td>\n",
       "      <td>29.975714</td>\n",
       "      <td>29.95</td>\n",
       "    </tr>\n",
       "    <tr>\n",
       "      <th>2016</th>\n",
       "      <td>61.672986</td>\n",
       "      <td>63.0</td>\n",
       "      <td>66.755355</td>\n",
       "      <td>67.630</td>\n",
       "      <td>73.355450</td>\n",
       "      <td>73.0</td>\n",
       "      <td>30.008673</td>\n",
       "      <td>30.00</td>\n",
       "    </tr>\n",
       "    <tr>\n",
       "      <th>2017</th>\n",
       "      <td>62.335689</td>\n",
       "      <td>63.0</td>\n",
       "      <td>67.250459</td>\n",
       "      <td>67.290</td>\n",
       "      <td>73.883392</td>\n",
       "      <td>74.0</td>\n",
       "      <td>29.972721</td>\n",
       "      <td>29.95</td>\n",
       "    </tr>\n",
       "    <tr>\n",
       "      <th>2018</th>\n",
       "      <td>63.701657</td>\n",
       "      <td>65.0</td>\n",
       "      <td>68.871436</td>\n",
       "      <td>68.670</td>\n",
       "      <td>75.497238</td>\n",
       "      <td>75.0</td>\n",
       "      <td>29.992873</td>\n",
       "      <td>29.98</td>\n",
       "    </tr>\n",
       "    <tr>\n",
       "      <th>2019</th>\n",
       "      <td>62.014286</td>\n",
       "      <td>63.0</td>\n",
       "      <td>66.773857</td>\n",
       "      <td>66.710</td>\n",
       "      <td>72.821429</td>\n",
       "      <td>73.0</td>\n",
       "      <td>29.983429</td>\n",
       "      <td>29.97</td>\n",
       "    </tr>\n",
       "    <tr>\n",
       "      <th>2020</th>\n",
       "      <td>61.536364</td>\n",
       "      <td>64.0</td>\n",
       "      <td>67.303636</td>\n",
       "      <td>68.480</td>\n",
       "      <td>74.518182</td>\n",
       "      <td>74.5</td>\n",
       "      <td>29.999909</td>\n",
       "      <td>29.99</td>\n",
       "    </tr>\n",
       "  </tbody>\n",
       "</table>\n",
       "</div>"
      ],
      "text/plain": [
       "              low_temp          avg_temp          high_temp         \\\n",
       "                  mean median       mean  median       mean median   \n",
       "date_posted                                                          \n",
       "2005         58.153846   57.0  61.473077  60.480  66.076923   65.0   \n",
       "2006         57.438356   54.0  62.851370  60.070  69.534247   68.0   \n",
       "2007         61.014085   62.0  65.169953  65.780  70.342723   71.0   \n",
       "2008         59.972093   60.0  65.314279  66.740  71.497674   73.0   \n",
       "2009         58.583851   61.0  64.285714  64.620  70.372671   71.0   \n",
       "2010         58.454082   60.5  63.353878  64.330  69.321429   69.0   \n",
       "2011         56.357934   61.0  63.977638  64.810  69.752768   70.0   \n",
       "2012         56.509709   62.0  65.601990  65.105  71.339806   71.0   \n",
       "2013         52.493274   60.0  64.687085  65.240  70.708520   71.0   \n",
       "2014         64.580808   66.0  69.753636  70.565  75.878788   76.0   \n",
       "2015         63.541872   66.0  68.935468  70.040  75.206897   76.0   \n",
       "2016         61.672986   63.0  66.755355  67.630  73.355450   73.0   \n",
       "2017         62.335689   63.0  67.250459  67.290  73.883392   74.0   \n",
       "2018         63.701657   65.0  68.871436  68.670  75.497238   75.0   \n",
       "2019         62.014286   63.0  66.773857  66.710  72.821429   73.0   \n",
       "2020         61.536364   64.0  67.303636  68.480  74.518182   74.5   \n",
       "\n",
       "            sea_pressure         \n",
       "                    mean median  \n",
       "date_posted                      \n",
       "2005           30.043846  30.08  \n",
       "2006           30.050959  30.04  \n",
       "2007           29.973568  29.96  \n",
       "2008           29.977721  29.96  \n",
       "2009           29.989752  29.97  \n",
       "2010           30.001071  29.99  \n",
       "2011           29.987823  29.96  \n",
       "2012           29.985097  29.97  \n",
       "2013           29.984484  29.97  \n",
       "2014           29.966919  29.97  \n",
       "2015           29.975714  29.95  \n",
       "2016           30.008673  30.00  \n",
       "2017           29.972721  29.95  \n",
       "2018           29.992873  29.98  \n",
       "2019           29.983429  29.97  \n",
       "2020           29.999909  29.99  "
      ]
     },
     "execution_count": 32,
     "metadata": {},
     "output_type": "execute_result"
    }
   ],
   "source": [
    "fishing_data.groupby(fishing_data.date_posted.dt.year)[['low_temp', 'avg_temp', 'high_temp', 'sea_pressure']].agg(['mean', 'median'])"
   ]
  },
  {
   "cell_type": "markdown",
   "metadata": {},
   "source": [
    "## What are the posts about?\n",
    "\n",
    "For a first pass, we can simply look at the top words used (ignoring filler words)"
   ]
  },
  {
   "cell_type": "code",
   "execution_count": 34,
   "metadata": {},
   "outputs": [],
   "source": [
    "# We'll ignore these words. They're too common to be useful\n",
    "stopwords = ['i', 'me', 'my', 'myself', 'we', 'our', 'ours', 'ourselves', 'you',\n",
    "           'your', 'yours', 'yourself', 'yourselves', 'he', 'him', 'his',\n",
    "           'himself', 'she', 'her', 'hers', 'herself', 'it', 'its', 'itself',\n",
    "           'they', 'them', 'their', 'theirs', 'themselves', 'what', 'which',\n",
    "           'who', 'whom', 'this', 'that', 'these', 'those', 'am', 'is', 'are',\n",
    "           'was', 'were', 'be', 'been', 'being', 'have', 'has', 'had',\n",
    "           'having', 'do', 'does', 'did', 'doing', 'a', 'an', 'the', 'and',\n",
    "           'but', 'if', 'or', 'because', 'as', 'until', 'while', 'of', 'at',\n",
    "           'by', 'for', 'with', 'about', 'against', 'between', 'into',\n",
    "           'through', 'during', 'before', 'after', 'above', 'below', 'to',\n",
    "           'from', 'up', 'down', 'in', 'out', 'on', 'off', 'over', 'under',\n",
    "           'again', 'further', 'then', 'once', 'here', 'there', 'when',\n",
    "           'where', 'why', 'how', 'all', 'any', 'both', 'each', 'few', 'more',\n",
    "           'most', 'other', 'some', 'such', 'no', 'nor', 'not', 'only', 'own',\n",
    "           'same', 'so', 'than', 'too', 'very', 's', 't', 'can', 'will',\n",
    "           'just', 'don', 'should', 'now']\n",
    "\n",
    "stopwords = set(stopwords)"
   ]
  },
  {
   "cell_type": "code",
   "execution_count": 35,
   "metadata": {},
   "outputs": [],
   "source": [
    "all_posts = \" \".join(fishing_data.post_body.values)\n",
    "\n",
    "tokens = all_posts.lower().split()\n",
    "tokens = [t for t in tokens if t not in stopwords]"
   ]
  },
  {
   "cell_type": "code",
   "execution_count": 36,
   "metadata": {},
   "outputs": [
    {
     "data": {
      "image/png": "[encoded data removed]",
      "text/plain": [
       "<Figure size 864x576 with 1 Axes>"
      ]
     },
     "metadata": {
      "needs_background": "light"
     },
     "output_type": "display_data"
    }
   ],
   "source": [
    "n = 20\n",
    "top_n_words = pd.Series(tokens).value_counts().iloc[:n]\n",
    "\n",
    "plt.figure(figsize=(12, 8))\n",
    "\n",
    "plt.bar(top_n_words.index, top_n_words.values, alpha=0.6, color='orange')\n",
    "plt.xticks(rotation=30)\n",
    "\n",
    "plt.title(f\"Top {n} Words by Appearance in Posts\")\n",
    "plt.ylabel(\"Word Count\");"
   ]
  },
  {
   "cell_type": "markdown",
   "metadata": {},
   "source": [
    "## Top Words in Fishing Reports\n",
    "\n",
    "With the stopwords removed, we get mostly unique words with distinct meanings. It's a good sign that `tuna`, `yellowtail`, and `yellowfin` appear in the top words since we are more likely to be able to extract something interesting from the text. Additionally, `pound` and `lb` appearing are indicators that some posts are likely discussing the size of their catches. \n",
    "\n",
    "Given the top words look interesting, it may be worth looking for common phrases as well. We'll use a package called `gensim` to find these, but let's take a look at some of the math that's used under the hood to extract phrases. One way to think about phrase extraction is to think about common phrases as a collection of words that appear with each other by more than random chance. For example, the phrase \"fishing is cool\" is much less distinct than the phrase, \"yellowfin tuna\". \n",
    "\n",
    "\"Yellowfin tuna\" is a distinct phrase since the two words appear together frequently and they form a set of words that has a specific meaning together than individually. We'd like a sytematic way to find such phrases. But how? A mathematical way to approach this problem is to look at the *Pointwise Mutual Information* of word pairs.\n",
    "\n",
    "### Beyond Single Words: Phrase Finding with Pointwise Mutual Information (PMI)\n",
    "\n",
    "Roughly, PMI in the context of phrase finding can be thought of as measuring how associated two words are. It takes into account how often they appear altogether and compares this value to how often they appear together.\n",
    "\n",
    "We define PMI as,\n",
    "\n",
    "$$PMI(i, j) = log_2\\frac{p(w_i, w_j)}{p(w_i)p(w_j)}$$\n",
    "\n",
    "Where $i$ and $j$ are the indices of two words of interest, $p(w_i, w_j)$ is the probability of the two words occurring together, and $p(w_i)$ and $p(w_j)$ are the overall probabilities of the words occurring on any document (sometimes called the word frequency).\n",
    "\n",
    "\n",
    "#### Limiting cases: two words are independent (not phrases)\n",
    "\n",
    "We can expand the PMI formula using Bayes' rule like,\n",
    "\n",
    "$$PMI(i, j) = log_2\\frac{p(w_i|w_j)p(w_j)}{p(w_i)p(w_j)} = log_2\\frac{p(w_i|w_j)}{p(w_i)}$$\n",
    "\n",
    "This is interesting because if $w_i$ and $w_j$ are independent, then $p(w_i|w_j) = p(w_i)$, so the calculation is simple,\n",
    "\n",
    "$$PMI(i, j) = log_2\\frac{p(w_i|w_j)}{p(w_i)} = log_2\\frac{p(w_i)}{p(w_i)} = log_2 1 = 0$$\n",
    "\n",
    "#### Limiting cases: two words always cooccur (extreme case of phrases)\n",
    "\n",
    "If the words always occur together, say 99% of the time, then $p(w_i|w_j) \\approx 0.99 $. Let's imagine the words themselves are relatively uncommon, so their individual frequency may be something like, $p(w_i) \\approx \\frac{1}{10,000}$. \n",
    "\n",
    "Expanding the PMI calculation,\n",
    "\n",
    "$$PMI(i, j) = log_2\\frac{p(w_i|w_j)}{p(w_i)} = log_2\\frac{0.99}{\\frac{1}{10,000}} \\approx log_2 10,000 \\approx 13.3 $$\n",
    "\n",
    "\n",
    "\n",
    "\n",
    "#### High PMI -> likely to be a phrase, low PMI -> words probably aren't phrases \n",
    "\n",
    "In the two extreme cases, we see that independent words have a PMI of 0, while words that occur together all the time have a large PMI (13.3 in our example). This idea underpins a common strategy to find phrases. We will avoid reinventing the wheel, but keep this in mind as we move forward - there is no magic to the calculations we do. \n",
    "\n",
    "\n",
    "## Let's see if Gensim can find any interesting phrases"
   ]
  },
  {
   "cell_type": "markdown",
   "metadata": {},
   "source": [
    "Referencing this thorough article on [topic modeling with Gensim](https://www.machinelearningplus.com/nlp/topic-modeling-gensim-python/#9createbigramandtrigrammodels), we can get phrases from our text fairly simply. We'll start by dropping empty posts and doing light processing on the posts to make them into lists of words."
   ]
  },
  {
   "cell_type": "code",
   "execution_count": null,
   "metadata": {},
   "outputs": [],
   "source": [
    "minimum_chars = 5\n",
    "non_empty_posts = fishing_data.loc[fishing_data.loc[:, \"post_body\"].apply(lambda x: len(x.strip())) > minimum_chars]"
   ]
  },
  {
   "cell_type": "code",
   "execution_count": null,
   "metadata": {
    "scrolled": true
   },
   "outputs": [],
   "source": [
    "split_docs = list(fishing_data.post_body.apply(lambda post: post.lower().split()).values)\n",
    "print(\"Example documents: \\n\", split_docs[:2])"
   ]
  },
  {
   "cell_type": "markdown",
   "metadata": {},
   "source": [
    "Here we set up the code to find phrases in our documents. Notice that scoring parameter is [`npmi`](https://en.wikipedia.org/wiki/Pointwise_mutual_information#Normalized_pointwise_mutual_information_(npmi)). It's basically the same as the PMI we talked about before, though normalized to have scores in the range [-1, 1]. A higher threshold means that it takes more for words to get merged into phrases, thus there will be less of them. This can be tuned for your problem, but I'll run with 0.5."
   ]
  },
  {
   "cell_type": "code",
   "execution_count": null,
   "metadata": {},
   "outputs": [],
   "source": [
    "import gensim"
   ]
  },
  {
   "cell_type": "code",
   "execution_count": null,
   "metadata": {},
   "outputs": [],
   "source": [
    "phrase_options = {\n",
    "    \"scoring\": \"npmi\",\n",
    "    \"threshold\": 0.5,\n",
    "    \"common_terms\": stopwords\n",
    "}\n",
    "\n",
    "# Build the bigram and trigram models\n",
    "bigram  = gensim.models.Phrases(split_docs, min_count=5, **phrase_options) # higher threshold fewer phrases.\n",
    "trigram = gensim.models.Phrases(bigram[split_docs], **phrase_options)  \n",
    "\n",
    "# Faster way to get a sentence clubbed as a trigram/bigram\n",
    "bigram_mod  = gensim.models.phrases.Phraser(bigram)\n",
    "trigram_mod = gensim.models.phrases.Phraser(trigram)"
   ]
  },
  {
   "cell_type": "code",
   "execution_count": null,
   "metadata": {},
   "outputs": [],
   "source": [
    "def apply_phraser_to_doc(doc):\n",
    "    \"\"\"\n",
    "    given a list of strings like,\n",
    "    \n",
    "    ['hi', 'how', 'are', 'you']\n",
    "    \n",
    "    returns the same list with any phrases merged together via a \"_\" character (gensim default).\n",
    "    \n",
    "    PS: will combine up to ~4 words together, though it can go higher depending on stopword usage\n",
    "    \"\"\"\n",
    "    return trigram_mod[bigram_mod[doc]]"
   ]
  },
  {
   "cell_type": "code",
   "execution_count": null,
   "metadata": {},
   "outputs": [],
   "source": [
    "# what phrases are in the first post?\n",
    "[word for word in apply_phraser_to_doc(split_docs[0]) if \"_\" in word]"
   ]
  },
  {
   "cell_type": "markdown",
   "metadata": {},
   "source": [
    "## Inspecting the phrases \n",
    "\n",
    "Now that we have a way to extract common phrases, let's count all of the phrases that showed up."
   ]
  },
  {
   "cell_type": "code",
   "execution_count": null,
   "metadata": {},
   "outputs": [],
   "source": [
    "split_phrased_docs = [apply_phraser_to_doc(doc) for doc in split_docs]"
   ]
  },
  {
   "cell_type": "code",
   "execution_count": null,
   "metadata": {},
   "outputs": [],
   "source": [
    "joined_phrased_docs = [\" \".join(doc) for doc in split_phrased_docs]"
   ]
  },
  {
   "cell_type": "code",
   "execution_count": null,
   "metadata": {},
   "outputs": [],
   "source": [
    "# combine every post into one, split it into words, then keep the phrases\n",
    "all_tokens = \" \".join(joined_phrased_docs).split()\n",
    "\n",
    "all_phrases = [word for word in all_tokens if \"_\" in word]"
   ]
  },
  {
   "cell_type": "code",
   "execution_count": null,
   "metadata": {},
   "outputs": [],
   "source": [
    "n = 40\n",
    "top_n_phrases = pd.Series(all_phrases).value_counts().iloc[:n]\n",
    "\n",
    "plt.figure(figsize=(14, 10))\n",
    "\n",
    "plt.barh(top_n_phrases.index, top_n_phrases.values, color='yellowgreen')\n",
    "plt.gca().invert_yaxis() # prefer decreasing order of the bars\n",
    "\n",
    "plt.title(f\"Top {n} Phrases (from {len(non_empty_posts)} posts)\")\n",
    "plt.xlabel(\"Phrase Count\")\n",
    "\n",
    "plt.grid(axis='x');"
   ]
  },
  {
   "cell_type": "markdown",
   "metadata": {},
   "source": [
    "## What do these phrases mean?\n",
    "\n",
    "For some phrases, the meaning is clear. `bluefin_tuna` and `yellowfin_tuna` at the top are clear indications that \n",
    "San Diego's reputation as a hotbed for tuna fishing hold true. For others, it may be useful to read a few posts and understand the context of the phrase.\n",
    "\n",
    "We'll define a helper function to print a few examples of the more mysterious phrases in their original context."
   ]
  },
  {
   "cell_type": "code",
   "execution_count": null,
   "metadata": {},
   "outputs": [],
   "source": [
    "def print_phrase_with_context(phrase, num_docs):\n",
    "    \"\"\"\n",
    "    prints the first `num_docs` documents with the phrase highlighted\n",
    "    \n",
    "    phrase: str, \"_\" delimiter removed\n",
    "    \"\"\"\n",
    "    containing_posts = non_empty_posts.loc[non_empty_posts.post_body.apply(lambda post: phrase in post.lower()), \"post_body\"].values\n",
    "    \n",
    "    color_code = \"\\x1b[43;1m\" # ANSI highlight background with yellow. ugly but draws the eye well\n",
    "    for i, post in enumerate(containing_posts[:num_docs]):\n",
    "        print(f\"Example {i + 1}:\")\n",
    "        print(post.lower().replace(phrase, f\"{color_code}{phrase}\\x1b[0m\"), \"\\n\")"
   ]
  },
  {
   "cell_type": "markdown",
   "metadata": {},
   "source": [
    "#### Phrase analysis: `indy_crew`\n",
    "\n",
    "Seems to simply be part of the signature of the crew when they create a post. One of the boats is called the Independence, so this is shorthand."
   ]
  },
  {
   "cell_type": "code",
   "execution_count": null,
   "metadata": {},
   "outputs": [],
   "source": [
    "print_phrase_with_context(\"indy crew\", num_docs=3)"
   ]
  },
  {
   "cell_type": "markdown",
   "metadata": {},
   "source": [
    "#### Phrase analysis: `second_place`\n",
    "looks like a phrase that comes up in discussing the results of fishing trips, where an individual's haul gives them a placement in a trip-wide fishing contest. Neat!\n",
    "\n",
    "Note: we stripped all punctuation in an early step to make processing steps easier. This likely explains why some of the sentences are hard to read at times. This is a choice that can be experimented with, but I'll hold my ground for now."
   ]
  },
  {
   "cell_type": "code",
   "execution_count": null,
   "metadata": {},
   "outputs": [],
   "source": [
    "print_phrase_with_context(\"second place\", num_docs=3)"
   ]
  },
  {
   "cell_type": "markdown",
   "metadata": {},
   "source": [
    "#### Phrase analysis: `pound_range`\n",
    "\n",
    "A common part of the fishing reports is the sizes of fish that were being caught. These types of posts may be a useful way to extract fishing conditions in later analysis."
   ]
  },
  {
   "cell_type": "code",
   "execution_count": null,
   "metadata": {},
   "outputs": [],
   "source": [
    "print_phrase_with_context(\"pound range\", num_docs=3)"
   ]
  },
  {
   "cell_type": "markdown",
   "metadata": {},
   "source": [
    "## Phrases are interesting but they don't provide the whole picture.\n",
    "\n",
    "# TODO: rewrite this\n",
    "Perhaps what would be better is to explore how the phrases and other words are used to understand the types of conversations that happen in a more systematic way. One option for doing this is to run a topic model on the posts. \n",
    "\n",
    "## Topic Modeling\n",
    "Topic models are a class of generative language models where you suppose that each post is a mixture of topics. A topic is a distribution over words, thus allowing you to quantify questions like, \"What words are likely to be spoken given that the topic of conversation is \"weather conditions at sea\". There are many topic models out there, but the original was Latent Dirichlet Allocation (LDA). \n",
    "\n",
    "LDA has a rich history and is still being developed into derivative models to this day, but let's keep it simple with this approximate idea: LDA is matrix factorization that takes a matrix of words counts on all of our posts and return 2 matrices: a topic distribution for each post, and a word distribution for each topic. \n",
    "\n",
    "\n",
    "\n",
    "## Cleaning the Data \n",
    "\n",
    "To get the most out of topic models when you're using them to explore some texts, it helps to clean the input to emphasize patterns of language that you're interested in observing. For example, there are many words in the English language that act as a glue to piece together the words we really care about. Many of these words are in our previous stopword list. We can remove them from our topic model so that the patterns that are found can be among words and phrases that have more meaning than the uninteresting `and`, `of`, and `but`-type of words."
   ]
  },
  {
   "cell_type": "code",
   "execution_count": null,
   "metadata": {},
   "outputs": [],
   "source": [
    "# dataset = split_phrased_docs"
   ]
  },
  {
   "cell_type": "code",
   "execution_count": null,
   "metadata": {},
   "outputs": [],
   "source": [
    "def remove_stopwords(split_text):\n",
    "    return list(filter(lambda word: word not in stopwords, split_text))\n",
    "\n",
    "# remove_stopwords does exactly what it sounds like\n",
    "remove_stopwords(['hello', 'and', 'but', 'of', 'world'])"
   ]
  },
  {
   "cell_type": "code",
   "execution_count": null,
   "metadata": {},
   "outputs": [],
   "source": [
    "# clean stopwords\n",
    "# apply the function to every post\n",
    "clean_dataset = list(map(remove_stopwords, split_phrased_docs))\n",
    "\n",
    "# remove empty or short posts\n",
    "# filter removes short posts\n",
    "minimum_words = 5\n",
    "clean_dataset = list(filter(lambda split_post: len(split_post) > minimum_words, clean_dataset))"
   ]
  },
  {
   "cell_type": "code",
   "execution_count": null,
   "metadata": {},
   "outputs": [],
   "source": [
    "original_sizes = np.array(list(map(len, split_phrased_docs)))\n",
    "clean_sizes    = np.array(list(map(len, clean_dataset)))\n",
    "\n",
    "plt.figure(figsize=(12, 8))\n",
    "\n",
    "count_plot_config = {\n",
    "    \"alpha\": 0.3,\n",
    "    \"bins\": 20,\n",
    "    \"density\": True\n",
    "}\n",
    "\n",
    "# necessary to avoid taking the log of 0 if there are empty posts\n",
    "# spoiler: there are empty posts\n",
    "smoothing_factor = 1\n",
    "\n",
    "plt.hist(np.log10(original_sizes + smoothing_factor), label=\"Original\", **count_plot_config);\n",
    "plt.hist(np.log10(clean_sizes    + smoothing_factor), label=\"No stopwords\", **count_plot_config);\n",
    "\n",
    "plt.xlim([0, 3.5])\n",
    "plt.xlabel(\"Word Count (Log10)\")\n",
    "plt.ylabel(\"Density\")\n",
    "plt.title(\"Distribution of Post Sizes Before and After Cleaning\")\n",
    "plt.legend();"
   ]
  },
  {
   "cell_type": "markdown",
   "metadata": {},
   "source": [
    "### TODO: There should be a note here explaining why this is useful"
   ]
  },
  {
   "cell_type": "code",
   "execution_count": null,
   "metadata": {},
   "outputs": [],
   "source": [
    "clean_dataset[0]"
   ]
  },
  {
   "cell_type": "markdown",
   "metadata": {},
   "source": [
    "## Setting up the Topic Model - Asymmetric LDA\n"
   ]
  },
  {
   "cell_type": "code",
   "execution_count": null,
   "metadata": {},
   "outputs": [],
   "source": [
    "import gensim\n",
    "import gensim.corpora as corpora"
   ]
  },
  {
   "cell_type": "code",
   "execution_count": null,
   "metadata": {},
   "outputs": [],
   "source": [
    "# Create Dictionary\n",
    "id2word = corpora.Dictionary(clean_dataset)\n",
    "\n",
    "# Term Document Frequency\n",
    "corpus = [id2word.doc2bow(text) for text in clean_dataset]"
   ]
  },
  {
   "cell_type": "code",
   "execution_count": null,
   "metadata": {},
   "outputs": [],
   "source": [
    "n_topics = 20"
   ]
  },
  {
   "cell_type": "code",
   "execution_count": null,
   "metadata": {},
   "outputs": [],
   "source": [
    "lda_model = gensim.models.ldamodel.LdaModel(corpus=corpus,\n",
    "                                           id2word=id2word,\n",
    "                                           num_topics=n_topics, \n",
    "                                           random_state=12321,\n",
    "                                           update_every=1,\n",
    "                                           chunksize=100,\n",
    "                                           passes=20,\n",
    "                                           alpha='auto',\n",
    "                                           per_word_topics=True)"
   ]
  },
  {
   "cell_type": "markdown",
   "metadata": {},
   "source": [
    "## TODO: Explain this plot and give context. Is this learned or is it set? Provide interpretation"
   ]
  },
  {
   "cell_type": "code",
   "execution_count": null,
   "metadata": {},
   "outputs": [],
   "source": [
    "topic_prior = lda_model.alpha\n",
    "topic_prior /= topic_prior.sum()\n",
    "\n",
    "plt.bar(np.arange(n_topics), topic_prior)\n",
    "plt.xlabel(\"Topic\")\n",
    "plt.ylabel(\"Mixture weight\")\n",
    "\n",
    "plt.title(\"Prior on Topic Mixture Per Post\");"
   ]
  },
  {
   "cell_type": "code",
   "execution_count": null,
   "metadata": {},
   "outputs": [],
   "source": [
    "vocab = [word for key, word in id2word.items()]"
   ]
  },
  {
   "cell_type": "code",
   "execution_count": null,
   "metadata": {},
   "outputs": [],
   "source": [
    "topic_df = pd.DataFrame(lda_model.get_topics())\n",
    "topic_df.columns = vocab\n",
    "topic_df.head(2)"
   ]
  },
  {
   "cell_type": "code",
   "execution_count": null,
   "metadata": {},
   "outputs": [],
   "source": [
    "import pyLDAvis\n",
    "import pyLDAvis.gensim\n",
    "\n",
    "pyLDAvis.enable_notebook()"
   ]
  },
  {
   "cell_type": "code",
   "execution_count": null,
   "metadata": {},
   "outputs": [],
   "source": [
    "vis = pyLDAvis.gensim.prepare(lda_model, corpus, id2word)\n",
    "vis"
   ]
  },
  {
   "cell_type": "code",
   "execution_count": null,
   "metadata": {},
   "outputs": [],
   "source": [
    "# from pyLDAvis import save_html\n",
    "\n",
    "# save_html(vis, \"lda_viz_2.html\")"
   ]
  },
  {
   "cell_type": "markdown",
   "metadata": {},
   "source": [
    "# TODO: Use topic matrix like word vectors. Use word similarity to find fish names?\n",
    "# TODO: documents that have high theta values for interesting topics?\n",
    "# TODO: find a way to extract fish species and measure mentions\n",
    "# TODO: weather vs post content"
   ]
  },
  {
   "cell_type": "markdown",
   "metadata": {},
   "source": [
    "conda install -c conda-forge spacy\n",
    "conda install -c conda-forge spacy-lookups-data\n",
    "python -m spacy download en_core_web_sm\n",
    "python -m spacy download en_core_web_lg"
   ]
  },
  {
   "cell_type": "markdown",
   "metadata": {},
   "source": [
    "# What can we learn from the data if we use look at word embeddings and entity types?"
   ]
  },
  {
   "cell_type": "code",
   "execution_count": null,
   "metadata": {},
   "outputs": [],
   "source": [
    "import spacy\n",
    "\n",
    "nlp = spacy.load(\"en_core_web_lg\")\n",
    "\n",
    "def print_doc_with_context(texts):\n",
    "    for doc in nlp.pipe(texts, disable=[\"tagger\", \"parser\"]):\n",
    "        # Do something with the doc here\n",
    "        print([(ent.text, ent.label_) for ent in doc.ents])"
   ]
  },
  {
   "cell_type": "code",
   "execution_count": null,
   "metadata": {},
   "outputs": [],
   "source": [
    "doc_num = 2\n",
    "print_doc_with_context(fishing_data.post_body[doc_num:doc_num + 1])"
   ]
  },
  {
   "cell_type": "code",
   "execution_count": null,
   "metadata": {},
   "outputs": [],
   "source": [
    "OOV_words  = set()\n",
    "fish_names = set()"
   ]
  },
  {
   "cell_type": "code",
   "execution_count": null,
   "metadata": {},
   "outputs": [],
   "source": [
    "for doc in nlp.pipe(fishing_data.post_body, disable=[\"parser\"]):\n",
    "    for tok in doc:\n",
    "        if tok.is_oov:\n",
    "            OOV_words.update({str(tok).lower()})\n",
    "            continue\n",
    "        # is this word semantically similar to yellowtail? keep it for further checks\n",
    "        if tok.similarity(nlp.vocab[\"Yellowtail\"]) >= 0.40:\n",
    "            fish_names.update({str(tok).lower()})\n",
    "            #print(tok.lemma_, tok.ent_type_, )"
   ]
  },
  {
   "cell_type": "markdown",
   "metadata": {},
   "source": [
    "Out of vocabulary words (OOV) are those the model hasn't seen in training. Tracking these words from our own corpus is a great way to find jargon and misspellings. The more notable ones will be corrected by handle or added to a jargon mapping so we can explicitly convert the jargon to a more common phrase."
   ]
  },
  {
   "cell_type": "code",
   "execution_count": null,
   "metadata": {
    "scrolled": true
   },
   "outputs": [],
   "source": [
    "OOV_words"
   ]
  },
  {
   "cell_type": "code",
   "execution_count": null,
   "metadata": {},
   "outputs": [],
   "source": [
    "jargon_fishnames = {\n",
    "    \"yft\":  \"yellowfin tuna\",\n",
    "    \"reds\": \"red snapper/red cod\",\n",
    "    \"bft\":  \"bluefin tuna\",\n",
    "    \"ling\": \"lingcod\",\n",
    "    \"yella\":   \"yellowtail tuna\",\n",
    "    \"yellas\":  \"yellowtail tuna\",\n",
    "    \"flyline\": \"live bait\",\n",
    "    \"albies\":  \"albacore tuna\",\n",
    "    \"bassing\": \"bass fishing\",\n",
    "    \"schoolie\": \"small fish that swim in groups\",\n",
    "    \"wsb\":      \"white sea bass\" ,\n",
    "    \"rockfishing\": \"fishing for rockfish\",\n",
    "    \"skippie\": \"skipjack\", # bait fish\n",
    "    \"skippy\":  \"skipjack\",\n",
    "    \"pargo\":   \"red snapper\",\n",
    "    \"scad\": \"mackerel\"\n",
    "}\n",
    "\n",
    "\n",
    "jargon_other = {\n",
    "    \"alijos\":  \"alijos rocks\",\n",
    "    \"avet 2sp\": \"avet LX sp fishing reel\",\n",
    "    \"bigguns\": \"big ones\",\n",
    "    \"xxh\": \"xxh fishing reel\",\n",
    "    \"kelps\":   \"kelp paddies\",\n",
    "    \"Yellatailin\":   \"catching yellowtail\",\n",
    "    \"yellowtailin\":  \"catching yellowtail\",\n",
    "    \"yellowtailing\": \"catching yellowtail\"\n",
    "}\n",
    "\n",
    "# combine jargon fish names with fish names found via word embeddings\n",
    "fish_names |= set(jargon_fishnames.keys())"
   ]
  },
  {
   "cell_type": "code",
   "execution_count": null,
   "metadata": {
    "scrolled": true
   },
   "outputs": [],
   "source": [
    "fish_names"
   ]
  },
  {
   "cell_type": "code",
   "execution_count": null,
   "metadata": {},
   "outputs": [],
   "source": [
    "pattern = re.compile(fr\"(\\d+)?\\W+(\\d+)?\\W+(lb|pound)\\W+({'|'.join(fish_names)})\")\n",
    "pattern"
   ]
  },
  {
   "cell_type": "code",
   "execution_count": null,
   "metadata": {},
   "outputs": [],
   "source": [
    "def extract_fish_weights(phrase: str):\n",
    "    return [[f\"{x[0]}.{x[1]}\", x[3]] for x in pattern.findall(phrase)]"
   ]
  },
  {
   "cell_type": "code",
   "execution_count": null,
   "metadata": {
    "scrolled": true
   },
   "outputs": [],
   "source": [
    "fishing_data.post_body[:50].apply(extract_fish_weights)"
   ]
  },
  {
   "cell_type": "code",
   "execution_count": null,
   "metadata": {},
   "outputs": [],
   "source": [
    "# cases:\n",
    "# 20 25 pound tuna: 20 - 25 pound fish\n",
    "# (, 42, lb, bluefin): 42 lb fish\n",
    "# (39, 6, lb, bluefin): 39.6 lb fish or 39 different 6lb fish?"
   ]
  },
  {
   "cell_type": "code",
   "execution_count": null,
   "metadata": {},
   "outputs": [],
   "source": [
    "fishing_data.post_body[5]"
   ]
  },
  {
   "cell_type": "code",
   "execution_count": null,
   "metadata": {},
   "outputs": [],
   "source": [
    "print_phrase_with_context(\"yft\", num_docs=5)"
   ]
  },
  {
   "cell_type": "code",
   "execution_count": null,
   "metadata": {},
   "outputs": [],
   "source": [
    "extract_fish_weights( \"1 jeff friesen 33 5 lb yft 2 matt fettig 32 5 lb yft 3 brandy anderson kevin abshear 30 0 lb bft \")"
   ]
  },
  {
   "cell_type": "code",
   "execution_count": null,
   "metadata": {},
   "outputs": [],
   "source": [
    "extract_fish_weights('first willy scharfen 58 6 lb yft second chris johnson 49 8 lb yft third brett goldberg 46 8 lb wahoo congratulations to all looking forward to seeing you next year matt indy crew ')"
   ]
  },
  {
   "cell_type": "code",
   "execution_count": null,
   "metadata": {},
   "outputs": [],
   "source": [
    "d1, d2, weight, fish = ('', 42, 'lb', 'bluefin')"
   ]
  },
  {
   "cell_type": "code",
   "execution_count": null,
   "metadata": {},
   "outputs": [],
   "source": [
    "def bin_fish_sizes(tup):\n",
    "    # looks like: ('39', '6', 'lb', 'bluefin')\n",
    "    if len(tup) <= 2:\n",
    "        return []\n",
    "    d1, d2, weight, fish = tup\n",
    "    \n",
    "    if d1.strip() == '':\n",
    "        out = {\n",
    "            'case': 'nearest_pound',\n",
    "            'value': d2,\n",
    "        }\n",
    "    elif (len(str(d2)) >= len(str(d1))) and (int(d2) > int(d1)):\n",
    "        # case: 20 25 pound tuna: 20 - 25 pound fish\n",
    "        out = {\n",
    "            'case': 'range',\n",
    "            'value': f\"{d1}-{d2}\",\n",
    "        }\n",
    "\n",
    "    else:\n",
    "        # TODO: how can we tell if this is  10 5 lb fish or a single 10.5 lb fish?\n",
    "        out = {\n",
    "            'case': 'precise',\n",
    "            'value': f\"{d1}.{d2}\",\n",
    "        }\n",
    "    out['species'] = fish\n",
    "    out['metric'] = weight\n",
    "    return out"
   ]
  },
  {
   "cell_type": "code",
   "execution_count": null,
   "metadata": {},
   "outputs": [],
   "source": [
    "fish_mentions = fishing_data.post_body.apply(lambda x: list(map(bin_fish_sizes, pattern.findall(x))))\n",
    "fish_mentions"
   ]
  },
  {
   "cell_type": "code",
   "execution_count": null,
   "metadata": {},
   "outputs": [],
   "source": [
    "algo_hits = fish_mentions.loc[fish_mentions.apply(lambda x: x != [])]\n",
    "algo_hits"
   ]
  },
  {
   "cell_type": "code",
   "execution_count": null,
   "metadata": {},
   "outputs": [],
   "source": [
    "samples = []\n",
    "\n",
    "for i in range(30, 50):\n",
    "    samples += [algo_hits.iloc[i]]\n",
    "samples"
   ]
  },
  {
   "cell_type": "markdown",
   "metadata": {},
   "source": [
    "# TODO: get counts of each fish mention. \n",
    "# Try to group jargon fish names with their actual name"
   ]
  },
  {
   "cell_type": "code",
   "execution_count": null,
   "metadata": {
    "scrolled": true
   },
   "outputs": [],
   "source": [
    "for f in fish_names:\n",
    "    fishing_data.loc[:, f] = fishing_data.post_body.str.count(f)"
   ]
  },
  {
   "cell_type": "code",
   "execution_count": null,
   "metadata": {
    "scrolled": true
   },
   "outputs": [],
   "source": [
    "fishing_data[list(fish_names)].sum(axis=0).sort_values(ascending=False)[:15]"
   ]
  },
  {
   "cell_type": "code",
   "execution_count": null,
   "metadata": {},
   "outputs": [],
   "source": [
    "# fishing_data.groupby(fishing_data.date_posted.dt.month)[['bluefin', 'yellowtail', 'grouper']].sum().plot()\n",
    "fishing_data.groupby(fishing_data.date_posted.dt.month)['dorado'].sum().plot(figsize=(12, 8))\n",
    "# plt.xticks(labels=month_labels, rotation=45);\n",
    "plt.legend([])"
   ]
  },
  {
   "cell_type": "code",
   "execution_count": null,
   "metadata": {},
   "outputs": [],
   "source": [
    "# fishing_data.groupby(fishing_data.date_posted.dt.month)[['bluefin', 'yellowtail', 'grouper']].sum().plot()\n",
    "fishing_data.groupby(fishing_data.date_posted.dt.month)[list(fish_names)].sum().plot(figsize=(12, 8))\n",
    "# plt.xticks(labels=month_labels, rotation=45);\n",
    "plt.legend([])"
   ]
  },
  {
   "cell_type": "code",
   "execution_count": null,
   "metadata": {
    "scrolled": true
   },
   "outputs": [],
   "source": [
    "fishing_data"
   ]
  },
  {
   "cell_type": "code",
   "execution_count": null,
   "metadata": {},
   "outputs": [],
   "source": []
  }
 ],
 "metadata": {
  "kernelspec": {
   "display_name": "Machine learning sandbox",
   "language": "python",
   "name": "data-science-environment"
  },
  "language_info": {
   "codemirror_mode": {
    "name": "ipython",
    "version": 3
   },
   "file_extension": ".py",
   "mimetype": "text/x-python",
   "name": "python",
   "nbconvert_exporter": "python",
   "pygments_lexer": "ipython3",
   "version": "3.7.6"
  }
 },
 "nbformat": 4,
 "nbformat_minor": 2
}
